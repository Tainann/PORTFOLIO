{
 "cells": [
  {
   "cell_type": "markdown",
   "metadata": {},
   "source": [
    "# ALGORITMO GENÉTICO PARA OTIMIZAR CAMPANHAS DE MARKETING"
   ]
  },
  {
   "cell_type": "markdown",
   "metadata": {},
   "source": [
    "Uma empresa de comércio eletrônico quer maximizar o lucro de suas campanhas de marketing. Para isso, ela pode investir em diferentes canais de marketing: TikTok, Facebook, Instagram, Email Marketing, Influenciadores Digitais e YouTube.\n",
    "\n",
    "Objetivo: Distribuir o orçamento de marketing de forma a maximizar o lucro, considerando o custo por conversão, o número esperado de conversões por $1000 e o lucro por conversão. TODOS OS DADOS SÃO FICTÍCIOS.\n",
    "\n",
    "Neste código, implementei elitismo e crossover juntos. O elitismo foi feito para selecionar os n melhores indivíduos de uma geração x e passar automaticamente estes indivíduos para a próxima geração (x+1). No crossover, todos os indivíduos da geração x, inclusive os que foram selecionados para a próxima geração (x+1), participaram do sorteio para serem pais pelo método da roleta viciada. Assim, passo os melhores indivíduos para a próxima geração e ainda garanto no crossover poder ter genes bons de algum cromossomo que tem a maior parte dos genes ruins, ou seja, há maior diversidade por não eliminar os cromossomos \"ruins\" antes do crossover, permitindo preservar algumas características deles para as próximas gerações."
   ]
  },
  {
   "cell_type": "code",
   "execution_count": 37,
   "metadata": {},
   "outputs": [
    {
     "data": {
      "text/html": [
       "<div>\n",
       "<style scoped>\n",
       "    .dataframe tbody tr th:only-of-type {\n",
       "        vertical-align: middle;\n",
       "    }\n",
       "\n",
       "    .dataframe tbody tr th {\n",
       "        vertical-align: top;\n",
       "    }\n",
       "\n",
       "    .dataframe thead th {\n",
       "        text-align: right;\n",
       "    }\n",
       "</style>\n",
       "<table border=\"1\" class=\"dataframe\">\n",
       "  <thead>\n",
       "    <tr style=\"text-align: right;\">\n",
       "      <th></th>\n",
       "      <th>Canal</th>\n",
       "      <th>Custo por Conversão ($)</th>\n",
       "      <th>Conversões Estimadas por $1000</th>\n",
       "      <th>Receita Média por Conversão ($)</th>\n",
       "      <th>Lucro Médio por Conversão ($)</th>\n",
       "      <th>Orçamento Máximo Disponível ($)</th>\n",
       "    </tr>\n",
       "  </thead>\n",
       "  <tbody>\n",
       "    <tr>\n",
       "      <th>0</th>\n",
       "      <td>TikTok</td>\n",
       "      <td>55</td>\n",
       "      <td>18</td>\n",
       "      <td>80</td>\n",
       "      <td>25</td>\n",
       "      <td>45000</td>\n",
       "    </tr>\n",
       "    <tr>\n",
       "      <th>1</th>\n",
       "      <td>Facebook</td>\n",
       "      <td>60</td>\n",
       "      <td>17</td>\n",
       "      <td>90</td>\n",
       "      <td>30</td>\n",
       "      <td>40000</td>\n",
       "    </tr>\n",
       "    <tr>\n",
       "      <th>2</th>\n",
       "      <td>Instagram</td>\n",
       "      <td>70</td>\n",
       "      <td>15</td>\n",
       "      <td>100</td>\n",
       "      <td>30</td>\n",
       "      <td>30000</td>\n",
       "    </tr>\n",
       "    <tr>\n",
       "      <th>3</th>\n",
       "      <td>Email Marketing</td>\n",
       "      <td>40</td>\n",
       "      <td>25</td>\n",
       "      <td>50</td>\n",
       "      <td>10</td>\n",
       "      <td>20000</td>\n",
       "    </tr>\n",
       "    <tr>\n",
       "      <th>4</th>\n",
       "      <td>Influenciadores Digitais</td>\n",
       "      <td>100</td>\n",
       "      <td>10</td>\n",
       "      <td>150</td>\n",
       "      <td>50</td>\n",
       "      <td>25000</td>\n",
       "    </tr>\n",
       "    <tr>\n",
       "      <th>5</th>\n",
       "      <td>YouTube</td>\n",
       "      <td>65</td>\n",
       "      <td>16</td>\n",
       "      <td>95</td>\n",
       "      <td>30</td>\n",
       "      <td>35000</td>\n",
       "    </tr>\n",
       "  </tbody>\n",
       "</table>\n",
       "</div>"
      ],
      "text/plain": [
       "                      Canal  Custo por Conversão ($)  \\\n",
       "0                    TikTok                       55   \n",
       "1                  Facebook                       60   \n",
       "2                 Instagram                       70   \n",
       "3           Email Marketing                       40   \n",
       "4  Influenciadores Digitais                      100   \n",
       "5                   YouTube                       65   \n",
       "\n",
       "   Conversões Estimadas por $1000  Receita Média por Conversão ($)  \\\n",
       "0                              18                               80   \n",
       "1                              17                               90   \n",
       "2                              15                              100   \n",
       "3                              25                               50   \n",
       "4                              10                              150   \n",
       "5                              16                               95   \n",
       "\n",
       "   Lucro Médio por Conversão ($)  Orçamento Máximo Disponível ($)  \n",
       "0                             25                            45000  \n",
       "1                             30                            40000  \n",
       "2                             30                            30000  \n",
       "3                             10                            20000  \n",
       "4                             50                            25000  \n",
       "5                             30                            35000  "
      ]
     },
     "metadata": {},
     "output_type": "display_data"
    }
   ],
   "source": [
    "import pandas as pd\n",
    "import random\n",
    "import matplotlib.pyplot as plt\n",
    "\n",
    "# Dados fictícios \n",
    "data = {\n",
    "    'Canal': ['TikTok', 'Facebook', 'Instagram', 'Email Marketing', 'Influenciadores Digitais', 'YouTube'],\n",
    "    'Custo por Conversão ($)': [55, 60, 70, 40, 100, 65],\n",
    "    'Conversões Estimadas por $1000': [18, 17, 15, 25, 10, 16],\n",
    "    'Receita Média por Conversão ($)': [80, 90, 100, 50, 150, 95],\n",
    "    'Lucro Médio por Conversão ($)': [25, 30, 30, 10, 50, 30],\n",
    "    'Orçamento Máximo Disponível ($)': [45000, 40000, 30000, 20000, 25000, 35000]\n",
    "}\n",
    "\n",
    "# Criar DataFrame\n",
    "df = pd.DataFrame(data)\n",
    "\n",
    "# Exibir DataFrame\n",
    "display(df)"
   ]
  },
  {
   "cell_type": "markdown",
   "metadata": {},
   "source": [
    "### Gera indivíduo\n",
    "\n",
    "Os indivíduos serão listas com 6 valores (genes), cada um indicando os investimentos em um tipo de campanha de marketing."
   ]
  },
  {
   "cell_type": "code",
   "execution_count": 38,
   "metadata": {},
   "outputs": [],
   "source": [
    "def cromossomo(tamanho_crom):\n",
    "    cromossomo = []\n",
    "    while True:\n",
    "        cromossomo = []\n",
    "        for i in range(tamanho_crom):\n",
    "            cromossomo.append(round(random.uniform(0,45000), 2))\n",
    "            \n",
    "        if cromossomo[0] <= 45000 and cromossomo[1] <=40000 and cromossomo[2] <=30000 and cromossomo[3] <=20000 and cromossomo[4] <=25000 and cromossomo[5] <=35000:\n",
    "            return cromossomo"
   ]
  },
  {
   "cell_type": "code",
   "execution_count": 39,
   "metadata": {},
   "outputs": [
    {
     "data": {
      "text/plain": [
       "[1576.1, 32472.1, 10282.32, 10167.9, 12419.87, 2244.96]"
      ]
     },
     "execution_count": 39,
     "metadata": {},
     "output_type": "execute_result"
    }
   ],
   "source": [
    "cromossomo(6)"
   ]
  },
  {
   "cell_type": "markdown",
   "metadata": {},
   "source": [
    "Gera população"
   ]
  },
  {
   "cell_type": "code",
   "execution_count": 40,
   "metadata": {},
   "outputs": [],
   "source": [
    "def gerar_populacao(tamanho_pop, tamanho_crom):\n",
    "    populacao = []\n",
    "\n",
    "    for i in range(tamanho_pop):\n",
    "        crom = cromossomo(tamanho_crom)\n",
    "        populacao.append(crom)\n",
    "\n",
    "    return populacao"
   ]
  },
  {
   "cell_type": "code",
   "execution_count": 41,
   "metadata": {},
   "outputs": [
    {
     "data": {
      "text/plain": [
       "[[18941.51, 11297.17, 5078.04, 3007.62, 2900.45, 974.96],\n",
       " [5035.05, 1456.92, 6508.57, 6812.66, 18518.03, 7982.05],\n",
       " [2804.93, 627.43, 15154.68, 3563.77, 5554.01, 9865.49],\n",
       " [26330.24, 19183.06, 16406.63, 13947.53, 8228.74, 11723.67],\n",
       " [4833.22, 11457.91, 20838.53, 14714.51, 14855.35, 27867.74],\n",
       " [40622.54, 22704.38, 23063.72, 14588.7, 14907.34, 2291.64],\n",
       " [545.02, 18818.63, 28614.55, 17807.9, 3881.55, 12411.39],\n",
       " [30971.97, 23449.69, 19989.2, 16013.42, 11710.85, 20620.65],\n",
       " [2084.91, 24864.76, 18906.74, 18627.52, 224.53, 21604.4],\n",
       " [36765.31, 13825.34, 15341.83, 1291.1, 20072.25, 10327.37]]"
      ]
     },
     "execution_count": 41,
     "metadata": {},
     "output_type": "execute_result"
    }
   ],
   "source": [
    "gerar_populacao(10, 6)"
   ]
  },
  {
   "cell_type": "markdown",
   "metadata": {},
   "source": [
    "Função fitness"
   ]
  },
  {
   "cell_type": "code",
   "execution_count": 42,
   "metadata": {},
   "outputs": [],
   "source": [
    "def fitness(cromossomo):\n",
    "    lucro = 0\n",
    "\n",
    "    if cromossomo[0] > 45000 or cromossomo[1] > 40000 or cromossomo[2] > 30000 or cromossomo[3] > 20000 or cromossomo[4] > 25000 or cromossomo[5] > 35000:\n",
    "        return 1\n",
    "    else:\n",
    "        for indice, valor in enumerate(cromossomo):\n",
    "            lucro += valor/1000 * df.iloc[indice]['Conversões Estimadas por $1000'] * df.iloc[indice]['Lucro Médio por Conversão ($)']\n",
    "\n",
    "    return lucro\n"
   ]
  },
  {
   "cell_type": "code",
   "execution_count": 43,
   "metadata": {},
   "outputs": [
    {
     "name": "stdout",
     "output_type": "stream",
     "text": [
      "[907.49, 25536.91, 25565.19, 6678.87, 12814.03, 8541.45]\n",
      "[907.49, 50000, 25565.19, 6678.87, 12814.03, 8541.45]\n",
      "37113.158599999995\n",
      "1\n"
     ]
    }
   ],
   "source": [
    "c = cromossomo(6)\n",
    "lucro1 = fitness(c)\n",
    "print(c)\n",
    "c[1] = 50000\n",
    "\n",
    "lucro2 = fitness(c)\n",
    "print(c)\n",
    "\n",
    "print(lucro1)\n",
    "print(lucro2)"
   ]
  },
  {
   "cell_type": "markdown",
   "metadata": {},
   "source": [
    "Melhor indivíduo"
   ]
  },
  {
   "cell_type": "code",
   "execution_count": 44,
   "metadata": {},
   "outputs": [],
   "source": [
    "def seleciona_melhor(populacao):\n",
    "    melhor_cromosomo = populacao[0]\n",
    "    melhor_lucro = fitness(melhor_cromosomo)\n",
    "    for i in range(1, len(populacao)):\n",
    "        if melhor_lucro < fitness(populacao[i]):\n",
    "                melhor_cromosomo = populacao[i]\n",
    "                melhor_lucro = fitness(populacao[i])\n",
    "\n",
    "    return melhor_lucro, melhor_cromosomo"
   ]
  },
  {
   "cell_type": "code",
   "execution_count": 45,
   "metadata": {},
   "outputs": [
    {
     "name": "stdout",
     "output_type": "stream",
     "text": [
      "(65274.683699999994, [38950.2, 27524.34, 24451.4, 19218.17, 10728.71, 26120.11])\n"
     ]
    }
   ],
   "source": [
    "print(seleciona_melhor(gerar_populacao(10, 6)))"
   ]
  },
  {
   "cell_type": "markdown",
   "metadata": {},
   "source": [
    "Elitismo"
   ]
  },
  {
   "cell_type": "code",
   "execution_count": 46,
   "metadata": {},
   "outputs": [],
   "source": [
    "# Selecionando os n melhores indivíduos que quero que continuem na próxima geração\n",
    "\n",
    "def elitismo(populacao, nMelhores):\n",
    "    avaliados = [(fitness(cromossomo), cromossomo) for cromossomo in populacao]\n",
    "    ordenados = sorted(avaliados, reverse=True)\n",
    "    escolhidos = [cromossomo for _, cromossomo in ordenados[:nMelhores]]\n",
    "\n",
    "    return escolhidos\n"
   ]
  },
  {
   "cell_type": "code",
   "execution_count": 47,
   "metadata": {},
   "outputs": [
    {
     "name": "stdout",
     "output_type": "stream",
     "text": [
      "[36015.17, 18263.89, 21555.12, 16221.44, 18060.24, 21580.13]\n",
      "[44996.04, 14580.25, 13451.74, 8815.16, 22369.63, 23769.97]\n",
      "[36750.26, 28563.44, 6930.59, 17738.12, 22901.33, 5136.76]\n",
      "[20270.6, 39512.59, 25641.75, 7420.12, 6509.01, 8007.06]\n"
     ]
    }
   ],
   "source": [
    "escolhidos = elitismo(gerar_populacao(10, 6), 4)\n",
    "\n",
    "for i in escolhidos:\n",
    "    print(i)"
   ]
  },
  {
   "cell_type": "markdown",
   "metadata": {},
   "source": [
    "Seleção dos pais pela roleta viciada"
   ]
  },
  {
   "cell_type": "code",
   "execution_count": 48,
   "metadata": {},
   "outputs": [],
   "source": [
    "def soma_avaliacoes(populacao):\n",
    "    soma_avalicao = 0\n",
    "    for individuo in populacao:\n",
    "        soma_avalicao += fitness(individuo)\n",
    "    return soma_avalicao\n",
    "\n",
    "\n",
    "def seleciona_pai(soma_avaliacao, populacao):\n",
    "    pai = -1 # nao selecionou nenhum individuo ainda\n",
    "    valor_sorteado = random.random() * soma_avaliacao # Simula a roleta sendo girada\n",
    "    soma = 0\n",
    "    i = 0\n",
    "    # Os inviduos menos aptos tem nota 1, então dificilmente serão escolhidos na roleta\n",
    "    while i < len(populacao) and soma < valor_sorteado:\n",
    "        soma += fitness(populacao[i])\n",
    "        pai += 1\n",
    "        i += 1\n",
    "    return pai\n",
    "    "
   ]
  },
  {
   "cell_type": "markdown",
   "metadata": {},
   "source": [
    "Crossover"
   ]
  },
  {
   "cell_type": "code",
   "execution_count": 49,
   "metadata": {},
   "outputs": [],
   "source": [
    "def crossover(pai1, pai2):\n",
    "    ponto_crossover = random.randint(0, len(pai1) - 1)  # Escolhe um ponto de crossover\n",
    "    filho = []\n",
    "    filho = [0.6 * pai1[i] + 0.4 * pai2[i] if i < ponto_crossover else 0.4 * pai1[i] + 0.6 * pai2[i] for i in range(len(pai1))]\n",
    "    return filho\n"
   ]
  },
  {
   "cell_type": "markdown",
   "metadata": {},
   "source": [
    "Mutação"
   ]
  },
  {
   "cell_type": "code",
   "execution_count": 50,
   "metadata": {},
   "outputs": [],
   "source": [
    "def mutacao(cromossomo, taxa_mutacao):\n",
    "        \n",
    "        for i in range(len(cromossomo)):\n",
    "            if random.random() < taxa_mutacao:\n",
    "                if random.random() < 0.5:\n",
    "                    cromossomo[i] *= 1.1\n",
    "                else:\n",
    "                    cromossomo[i] *= 0.9\n",
    "\n",
    "        return cromossomo"
   ]
  },
  {
   "cell_type": "markdown",
   "metadata": {},
   "source": [
    "Restaurando o tamanho da população"
   ]
  },
  {
   "cell_type": "code",
   "execution_count": 51,
   "metadata": {},
   "outputs": [],
   "source": [
    "def nova_populacao(populacao, taxa_mutacao, nMelhores, pai1, pai2):\n",
    "    # O elitismo é aplicado para selecionar o melhor indivíduo e gerar n clones dele\n",
    "    # O crossover é aplicado selecionando indivíduos entre toda a populaçao atual\n",
    "    nova_populacao = elitismo(populacao, nMelhores)\n",
    "\n",
    "    while len(nova_populacao) < len(populacao):\n",
    "        novo_cromo = crossover(pai1, pai2)\n",
    "        nova_populacao.append(mutacao(novo_cromo, taxa_mutacao))\n",
    "\n",
    "    return nova_populacao\n"
   ]
  },
  {
   "cell_type": "markdown",
   "metadata": {},
   "source": [
    "## EXECUÇÃO DO ALGORITMO"
   ]
  },
  {
   "cell_type": "code",
   "execution_count": 52,
   "metadata": {},
   "outputs": [],
   "source": [
    "def alg_genetico(geracoes, tamanho_pop):\n",
    "    melhores = []\n",
    "    nova_pop = []\n",
    "    pop = gerar_populacao(tamanho_pop,6) # Criando 10 cromossomos com 6 genes\n",
    "    melhores.append(seleciona_melhor(pop))\n",
    "    \n",
    "    for i in range(geracoes):\n",
    "        soma_avaliacao = soma_avaliacoes(pop)\n",
    "        pai1 = seleciona_pai(soma_avaliacao, pop)\n",
    "        pai2 = seleciona_pai(soma_avaliacao, pop)\n",
    "        nova_pop = nova_populacao(pop, 0.1, round(tamanho_pop*0.15), pop[pai1], pop[pai2])\n",
    "        melhores.append(seleciona_melhor(nova_pop))\n",
    "        pop = nova_pop\n",
    "    \n",
    "    return melhores"
   ]
  },
  {
   "cell_type": "code",
   "execution_count": 53,
   "metadata": {},
   "outputs": [
    {
     "data": {
      "image/png": "[encoded data removed]",
      "text/plain": [
       "<Figure size 640x480 with 1 Axes>"
      ]
     },
     "metadata": {},
     "output_type": "display_data"
    }
   ],
   "source": [
    "# Execução do algoritmo\n",
    "melhores = alg_genetico(500, 50)\n",
    "\n",
    "# Extração dos valores de lucro dos melhores cromossomos\n",
    "lucros = [lucro for lucro, cromossomo in melhores]\n",
    "\n",
    "# Criação do gráfico de linhas\n",
    "plt.plot(lucros)\n",
    "plt.xlabel('Gerações')\n",
    "plt.ylabel('Lucro')\n",
    "plt.title('Evolução do Lucro ao Longo das Gerações')\n",
    "plt.grid(True)\n",
    "plt.show()"
   ]
  },
  {
   "cell_type": "code",
   "execution_count": 54,
   "metadata": {},
   "outputs": [
    {
     "data": {
      "text/plain": [
       "(86259.77003918565,\n",
       " [43989.49982563952,\n",
       "  39485.23718357716,\n",
       "  28616.945565142843,\n",
       "  19262.305860818917,\n",
       "  24837.89558520394,\n",
       "  33780.98831646361])"
      ]
     },
     "execution_count": 54,
     "metadata": {},
     "output_type": "execute_result"
    }
   ],
   "source": [
    "max(melhores)"
   ]
  }
 ],
 "metadata": {
  "kernelspec": {
   "display_name": "Python 3",
   "language": "python",
   "name": "python3"
  },
  "language_info": {
   "codemirror_mode": {
    "name": "ipython",
    "version": 3
   },
   "file_extension": ".py",
   "mimetype": "text/x-python",
   "name": "python",
   "nbconvert_exporter": "python",
   "pygments_lexer": "ipython3",
   "version": "3.12.1"
  }
 },
 "nbformat": 4,
 "nbformat_minor": 2
}
