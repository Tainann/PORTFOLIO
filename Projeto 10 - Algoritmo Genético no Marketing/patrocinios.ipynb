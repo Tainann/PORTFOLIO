{
 "cells": [
  {
   "cell_type": "markdown",
   "metadata": {},
   "source": [
    "# ALGORITMO GENÉTICO PARA OTIMIZAR CAMPANHAS DE MARKETING"
   ]
  },
  {
   "cell_type": "markdown",
   "metadata": {},
   "source": [
    "Uma empresa de comércio eletrônico quer maximizar o lucro de suas campanhas de marketing. Para isso, ela pode investir em diferentes canais de marketing: TikTok, Facebook, Instagram, Email Marketing, Influenciadores Digitais e YouTube.\n",
    "\n",
    "O valor máximo que a empresa quer destinar para as campanhas de marketing é R$ 150000,00.\n",
    "\n",
    "Objetivo: Distribuir o orçamento de marketing de forma a maximizar o lucro, considerando o custo por conversão, o número esperado de conversões por $1000 e o lucro por conversão. TODOS OS DADOS SÃO FICTÍCIOS.\n",
    "\n",
    "Neste código, implementei elitismo e roleta viciada juntos. O elitismo foi feito para selecionar o melhor indivíduo de uma geração x e passar automaticamente ele para a próxima geração (x+1). No crossover, todos os indivíduos da geração x, inclusive o que foi selecionado para a próxima geração (x+1), participaram do sorteio para serem pais pelo método da roleta viciada. Assim, passo o melhor indivíduo encontrado até então (o melhor global) para a próxima geração e ainda garanto no crossover poder ter genes bons de algum cromossomo que tem a maior parte dos genes ruins, ou seja, há maior diversidade por não eliminar os cromossomos \"ruins\" antes do crossover, permitindo preservar algumas características deles para as próximas gerações."
   ]
  },
  {
   "cell_type": "code",
   "execution_count": 8,
   "metadata": {},
   "outputs": [
    {
     "data": {
      "text/html": [
       "<div>\n",
       "<style scoped>\n",
       "    .dataframe tbody tr th:only-of-type {\n",
       "        vertical-align: middle;\n",
       "    }\n",
       "\n",
       "    .dataframe tbody tr th {\n",
       "        vertical-align: top;\n",
       "    }\n",
       "\n",
       "    .dataframe thead th {\n",
       "        text-align: right;\n",
       "    }\n",
       "</style>\n",
       "<table border=\"1\" class=\"dataframe\">\n",
       "  <thead>\n",
       "    <tr style=\"text-align: right;\">\n",
       "      <th></th>\n",
       "      <th>Canal</th>\n",
       "      <th>Custo por Conversão ($)</th>\n",
       "      <th>Conversões Estimadas por $1000</th>\n",
       "      <th>Receita Média por Conversão ($)</th>\n",
       "      <th>Lucro Médio por Conversão ($)</th>\n",
       "      <th>Orçamento Máximo Disponível ($)</th>\n",
       "    </tr>\n",
       "  </thead>\n",
       "  <tbody>\n",
       "    <tr>\n",
       "      <th>0</th>\n",
       "      <td>TikTok</td>\n",
       "      <td>55</td>\n",
       "      <td>18</td>\n",
       "      <td>80</td>\n",
       "      <td>25</td>\n",
       "      <td>45000</td>\n",
       "    </tr>\n",
       "    <tr>\n",
       "      <th>1</th>\n",
       "      <td>Facebook</td>\n",
       "      <td>60</td>\n",
       "      <td>17</td>\n",
       "      <td>90</td>\n",
       "      <td>30</td>\n",
       "      <td>40000</td>\n",
       "    </tr>\n",
       "    <tr>\n",
       "      <th>2</th>\n",
       "      <td>Instagram</td>\n",
       "      <td>70</td>\n",
       "      <td>15</td>\n",
       "      <td>100</td>\n",
       "      <td>30</td>\n",
       "      <td>30000</td>\n",
       "    </tr>\n",
       "    <tr>\n",
       "      <th>3</th>\n",
       "      <td>Email Marketing</td>\n",
       "      <td>40</td>\n",
       "      <td>25</td>\n",
       "      <td>50</td>\n",
       "      <td>10</td>\n",
       "      <td>20000</td>\n",
       "    </tr>\n",
       "    <tr>\n",
       "      <th>4</th>\n",
       "      <td>Influenciadores Digitais</td>\n",
       "      <td>100</td>\n",
       "      <td>10</td>\n",
       "      <td>150</td>\n",
       "      <td>50</td>\n",
       "      <td>25000</td>\n",
       "    </tr>\n",
       "    <tr>\n",
       "      <th>5</th>\n",
       "      <td>YouTube</td>\n",
       "      <td>65</td>\n",
       "      <td>16</td>\n",
       "      <td>95</td>\n",
       "      <td>30</td>\n",
       "      <td>35000</td>\n",
       "    </tr>\n",
       "  </tbody>\n",
       "</table>\n",
       "</div>"
      ],
      "text/plain": [
       "                      Canal  Custo por Conversão ($)  \\\n",
       "0                    TikTok                       55   \n",
       "1                  Facebook                       60   \n",
       "2                 Instagram                       70   \n",
       "3           Email Marketing                       40   \n",
       "4  Influenciadores Digitais                      100   \n",
       "5                   YouTube                       65   \n",
       "\n",
       "   Conversões Estimadas por $1000  Receita Média por Conversão ($)  \\\n",
       "0                              18                               80   \n",
       "1                              17                               90   \n",
       "2                              15                              100   \n",
       "3                              25                               50   \n",
       "4                              10                              150   \n",
       "5                              16                               95   \n",
       "\n",
       "   Lucro Médio por Conversão ($)  Orçamento Máximo Disponível ($)  \n",
       "0                             25                            45000  \n",
       "1                             30                            40000  \n",
       "2                             30                            30000  \n",
       "3                             10                            20000  \n",
       "4                             50                            25000  \n",
       "5                             30                            35000  "
      ]
     },
     "metadata": {},
     "output_type": "display_data"
    }
   ],
   "source": [
    "import pandas as pd\n",
    "import random\n",
    "import matplotlib.pyplot as plt\n",
    "\n",
    "# Dados fictícios \n",
    "data = {\n",
    "    'Canal': ['TikTok', 'Facebook', 'Instagram', 'Email Marketing', 'Influenciadores Digitais', 'YouTube'],\n",
    "    'Custo por Conversão ($)': [55, 60, 70, 40, 100, 65],\n",
    "    'Conversões Estimadas por $1000': [18, 17, 15, 25, 10, 16],\n",
    "    'Receita Média por Conversão ($)': [80, 90, 100, 50, 150, 95],\n",
    "    'Lucro Médio por Conversão ($)': [25, 30, 30, 10, 50, 30],\n",
    "    'Orçamento Máximo Disponível ($)': [45000, 40000, 30000, 20000, 25000, 35000]\n",
    "}\n",
    "\n",
    "# Criar DataFrame\n",
    "df = pd.DataFrame(data)\n",
    "\n",
    "# Exibir DataFrame\n",
    "display(df)"
   ]
  },
  {
   "cell_type": "markdown",
   "metadata": {},
   "source": [
    "### Gera indivíduo\n",
    "\n",
    "Os indivíduos serão listas com 6 valores (genes), cada um indicando os investimentos em um tipo de campanha de marketing."
   ]
  },
  {
   "cell_type": "code",
   "execution_count": 9,
   "metadata": {},
   "outputs": [],
   "source": [
    "def cromossomo(tamanho_crom):\n",
    "    cromossomo = []\n",
    "    while True:\n",
    "        cromossomo = []\n",
    "        for i in range(tamanho_crom):\n",
    "            cromossomo.append(round(random.uniform(0,45000), 2))\n",
    "        soma = sum(cromossomo)\n",
    "        if cromossomo[0] <= 45000 and cromossomo[1] <=40000 and cromossomo[2] <=30000 \\\n",
    "            and cromossomo[3] <=20000 and cromossomo[4] <=25000 \\\n",
    "            and cromossomo[5] <=35000 and soma <= 150000:\n",
    "            return cromossomo"
   ]
  },
  {
   "cell_type": "code",
   "execution_count": 24,
   "metadata": {},
   "outputs": [
    {
     "data": {
      "text/plain": [
       "[25518.9, 2405.94, 19762.12, 5403.77, 7966.21, 27712.15]"
      ]
     },
     "execution_count": 24,
     "metadata": {},
     "output_type": "execute_result"
    }
   ],
   "source": [
    "cromossomo(6)"
   ]
  },
  {
   "cell_type": "markdown",
   "metadata": {},
   "source": [
    "Gera população"
   ]
  },
  {
   "cell_type": "code",
   "execution_count": 11,
   "metadata": {},
   "outputs": [],
   "source": [
    "def gerar_populacao(tamanho_pop, tamanho_crom):\n",
    "    populacao = []\n",
    "\n",
    "    for i in range(tamanho_pop):\n",
    "        crom = cromossomo(tamanho_crom)\n",
    "        populacao.append(crom)\n",
    "\n",
    "    return populacao"
   ]
  },
  {
   "cell_type": "code",
   "execution_count": 26,
   "metadata": {},
   "outputs": [
    {
     "data": {
      "text/plain": [
       "[[5597.78, 4001.21, 17682.29, 12975.85, 22183.33, 20491.61],\n",
       " [13344.09, 34242.15, 2664.55, 2857.97, 19915.24, 15320.61],\n",
       " [26478.15, 37770.92, 19995.02, 17391.31, 4722.39, 12796.07],\n",
       " [22824.49, 25707.02, 25860.46, 11174.15, 4045.77, 8706.91],\n",
       " [34365.14, 38349.42, 1533.96, 4679.73, 9370.06, 28607.77],\n",
       " [30695.6, 434.62, 18252.81, 5136.89, 6038.9, 3878.35],\n",
       " [22375.99, 13968.01, 5814.96, 11325.56, 4966.64, 1725.72],\n",
       " [19429.92, 35053.65, 24916.97, 15066.91, 2732.75, 10578.49],\n",
       " [27859.8, 28213.71, 28430.96, 15228.12, 21761.81, 6238.58],\n",
       " [44339.07, 39973.16, 27008.57, 5442.87, 105.15, 652.23]]"
      ]
     },
     "execution_count": 26,
     "metadata": {},
     "output_type": "execute_result"
    }
   ],
   "source": [
    "gerar_populacao(10, 6)"
   ]
  },
  {
   "cell_type": "markdown",
   "metadata": {},
   "source": [
    "Função fitness"
   ]
  },
  {
   "cell_type": "code",
   "execution_count": 13,
   "metadata": {},
   "outputs": [],
   "source": [
    "def fitness(cromossomo):\n",
    "    lucro = 0\n",
    "    soma = sum(cromossomo)\n",
    "    if cromossomo[0] > 45000 or cromossomo[1] > 40000 or cromossomo[2] > 30000 or \\\n",
    "        cromossomo[3] > 20000 or cromossomo[4] > 25000 \\\n",
    "        or cromossomo[5] > 35000 or soma > 150000:\n",
    "        return 1\n",
    "    else:\n",
    "        for indice, valor in enumerate(cromossomo):\n",
    "            lucro += valor/1000 * df.iloc[indice]['Conversões Estimadas por $1000'] * df.iloc[indice]['Lucro Médio por Conversão ($)']\n",
    "\n",
    "    return lucro\n"
   ]
  },
  {
   "cell_type": "code",
   "execution_count": 14,
   "metadata": {},
   "outputs": [
    {
     "name": "stdout",
     "output_type": "stream",
     "text": [
      "[5499.16, 15761.04, 4505.51, 3106.19, 24064.18, 11738.34]\n",
      "[5499.16, 50000, 4505.51, 3106.19, 24064.18, 11738.34]\n",
      "30983.272600000004\n",
      "1\n"
     ]
    }
   ],
   "source": [
    "c = cromossomo(6)\n",
    "lucro1 = fitness(c)\n",
    "print(c)\n",
    "c[1] = 50000\n",
    "\n",
    "lucro2 = fitness(c)\n",
    "print(c)\n",
    "\n",
    "print(lucro1)\n",
    "print(lucro2)"
   ]
  },
  {
   "cell_type": "markdown",
   "metadata": {},
   "source": [
    "Melhor indivíduo"
   ]
  },
  {
   "cell_type": "code",
   "execution_count": 15,
   "metadata": {},
   "outputs": [],
   "source": [
    "def seleciona_melhor(populacao):\n",
    "    melhor_cromosomo = populacao[0]\n",
    "    melhor_lucro = fitness(melhor_cromosomo)\n",
    "    for i in range(1, len(populacao)):\n",
    "        if melhor_lucro < fitness(populacao[i]):\n",
    "                melhor_cromosomo = populacao[i]\n",
    "                melhor_lucro = fitness(populacao[i])\n",
    "\n",
    "    return melhor_lucro, melhor_cromosomo"
   ]
  },
  {
   "cell_type": "code",
   "execution_count": 16,
   "metadata": {},
   "outputs": [
    {
     "name": "stdout",
     "output_type": "stream",
     "text": [
      "(49865.980299999996, [15987.59, 24447.72, 3781.35, 18633.11, 17398.81, 31549.87])\n"
     ]
    }
   ],
   "source": [
    "print(seleciona_melhor(gerar_populacao(10, 6)))"
   ]
  },
  {
   "cell_type": "markdown",
   "metadata": {},
   "source": [
    "Seleção dos pais pela roleta viciada"
   ]
  },
  {
   "cell_type": "code",
   "execution_count": 17,
   "metadata": {},
   "outputs": [],
   "source": [
    "def soma_avaliacoes(populacao):\n",
    "    soma_avalicao = 0\n",
    "    for individuo in populacao:\n",
    "        soma_avalicao += fitness(individuo)\n",
    "    return soma_avalicao\n",
    "\n",
    "\n",
    "def seleciona_pai(soma_avaliacao, populacao):\n",
    "    pai = -1 # nao selecionou nenhum individuo ainda\n",
    "    valor_sorteado = random.random() * soma_avaliacao # Simula a roleta sendo girada\n",
    "    soma = 0\n",
    "    i = 0\n",
    "    # Os inviduos menos aptos tem nota 1, então dificilmente serão escolhidos na roleta\n",
    "    while i < len(populacao) and soma < valor_sorteado:\n",
    "        soma += fitness(populacao[i])\n",
    "        pai += 1\n",
    "        i += 1\n",
    "    return pai\n",
    "    "
   ]
  },
  {
   "cell_type": "markdown",
   "metadata": {},
   "source": [
    "Crossover"
   ]
  },
  {
   "cell_type": "code",
   "execution_count": 18,
   "metadata": {},
   "outputs": [],
   "source": [
    "def crossover(pai1, pai2):\n",
    "    ponto_crossover = random.randint(0, len(pai1) - 1)  # Escolhe um ponto de crossover\n",
    "    filho = []\n",
    "    filho = [0.6 * pai1[i] + 0.4 * pai2[i] if i < ponto_crossover else 0.4 * pai1[i] + 0.6 * pai2[i] for i in range(len(pai1))]\n",
    "    return filho\n"
   ]
  },
  {
   "cell_type": "markdown",
   "metadata": {},
   "source": [
    "Mutação"
   ]
  },
  {
   "cell_type": "code",
   "execution_count": 19,
   "metadata": {},
   "outputs": [],
   "source": [
    "def mutacao(cromossomo, taxa_mutacao):\n",
    "        \n",
    "        for i in range(len(cromossomo)):\n",
    "            if random.random() < taxa_mutacao:\n",
    "                if random.random() < 0.5:\n",
    "                    cromossomo[i] *= 1.1\n",
    "                else:\n",
    "                    cromossomo[i] *= 0.9\n",
    "\n",
    "        return cromossomo"
   ]
  },
  {
   "cell_type": "markdown",
   "metadata": {},
   "source": [
    "Restaurando o tamanho da população"
   ]
  },
  {
   "cell_type": "code",
   "execution_count": 20,
   "metadata": {},
   "outputs": [],
   "source": [
    "def nova_populacao(populacao, taxa_mutacao, nMelhores, soma_avaliacao, melhor_cromo):\n",
    "    # O crossover é aplicado selecionando indivíduos entre toda a populaçao atual\n",
    "    nova_pop = [melhor_cromo]\n",
    "\n",
    "    while len(nova_pop) < len(populacao):\n",
    "        pai1 = seleciona_pai(soma_avaliacao, populacao)\n",
    "        pai2 = seleciona_pai(soma_avaliacao, populacao)\n",
    "        novo_cromo = crossover(populacao[pai1], populacao[pai2])\n",
    "        nova_pop.append(mutacao(novo_cromo, taxa_mutacao))\n",
    "\n",
    "    return nova_pop\n"
   ]
  },
  {
   "cell_type": "markdown",
   "metadata": {},
   "source": [
    "## EXECUÇÃO DO ALGORITMO"
   ]
  },
  {
   "cell_type": "code",
   "execution_count": 21,
   "metadata": {},
   "outputs": [],
   "source": [
    "def alg_genetico(geracoes, tamanho_pop):\n",
    "    melhores = []\n",
    "    nova_pop = []\n",
    "    pop = gerar_populacao(tamanho_pop,6) # Criando 10 cromossomos com 6 genes\n",
    "    melhor_geral = seleciona_melhor(pop)\n",
    "    melhores.append(melhor_geral)\n",
    "    \n",
    "    for i in range(geracoes):\n",
    "        soma_avaliacao = soma_avaliacoes(pop)\n",
    "        nova_pop = nova_populacao(pop, 0.1, round(tamanho_pop*0.15), soma_avaliacao, melhor_geral[1])\n",
    "        melhor_geral = seleciona_melhor(nova_pop)\n",
    "        print(f'Geração {i+1}: {melhor_geral}\\n')\n",
    "        melhores.append(melhor_geral)\n",
    "        pop = nova_pop\n",
    "    \n",
    "    return melhores"
   ]
  },
  {
   "cell_type": "code",
   "execution_count": 28,
   "metadata": {},
   "outputs": [
    {
     "name": "stdout",
     "output_type": "stream",
     "text": [
      "Geração 1: (59911.336299999995, [29766.25, 25678.57, 16027.78, 12019.91, 15592.57, 32097.27])\n",
      "\n",
      "Geração 2: (59911.336299999995, [29766.25, 25678.57, 16027.78, 12019.91, 15592.57, 32097.27])\n",
      "\n",
      "Geração 3: (59911.336299999995, [29766.25, 25678.57, 16027.78, 12019.91, 15592.57, 32097.27])\n",
      "\n",
      "Geração 4: (59911.336299999995, [29766.25, 25678.57, 16027.78, 12019.91, 15592.57, 32097.27])\n",
      "\n",
      "Geração 5: (59911.336299999995, [29766.25, 25678.57, 16027.78, 12019.91, 15592.57, 32097.27])\n",
      "\n",
      "Geração 6: (59911.336299999995, [29766.25, 25678.57, 16027.78, 12019.91, 15592.57, 32097.27])\n",
      "\n",
      "Geração 7: (59911.336299999995, [29766.25, 25678.57, 16027.78, 12019.91, 15592.57, 32097.27])\n",
      "\n",
      "Geração 8: (59911.336299999995, [29766.25, 25678.57, 16027.78, 12019.91, 15592.57, 32097.27])\n",
      "\n",
      "Geração 9: (59911.336299999995, [29766.25, 25678.57, 16027.78, 12019.91, 15592.57, 32097.27])\n",
      "\n",
      "Geração 10: (59911.336299999995, [29766.25, 25678.57, 16027.78, 12019.91, 15592.57, 32097.27])\n",
      "\n",
      "Geração 11: (59911.336299999995, [29766.25, 25678.57, 16027.78, 12019.91, 15592.57, 32097.27])\n",
      "\n",
      "Geração 12: (59911.336299999995, [29766.25, 25678.57, 16027.78, 12019.91, 15592.57, 32097.27])\n",
      "\n",
      "Geração 13: (59911.336299999995, [29766.25, 25678.57, 16027.78, 12019.91, 15592.57, 32097.27])\n",
      "\n",
      "Geração 14: (59911.336299999995, [29766.25, 25678.57, 16027.78, 12019.91, 15592.57, 32097.27])\n",
      "\n",
      "Geração 15: (59911.336299999995, [29766.25, 25678.57, 16027.78, 12019.91, 15592.57, 32097.27])\n",
      "\n",
      "Geração 16: (59911.336299999995, [29766.25, 25678.57, 16027.78, 12019.91, 15592.57, 32097.27])\n",
      "\n",
      "Geração 17: (59911.336299999995, [29766.25, 25678.57, 16027.78, 12019.91, 15592.57, 32097.27])\n",
      "\n",
      "Geração 18: (59911.336299999995, [29766.25, 25678.57, 16027.78, 12019.91, 15592.57, 32097.27])\n",
      "\n",
      "Geração 19: (59911.336299999995, [29766.25, 25678.57, 16027.78, 12019.91, 15592.57, 32097.27])\n",
      "\n",
      "Geração 20: (59911.336299999995, [29766.25, 25678.57, 16027.78, 12019.91, 15592.57, 32097.27])\n",
      "\n",
      "Geração 21: (59911.336299999995, [29766.25, 25678.57, 16027.78, 12019.91, 15592.57, 32097.27])\n",
      "\n",
      "Geração 22: (59911.336299999995, [29766.25, 25678.57, 16027.78, 12019.91, 15592.57, 32097.27])\n",
      "\n",
      "Geração 23: (59911.336299999995, [29766.25, 25678.57, 16027.78, 12019.91, 15592.57, 32097.27])\n",
      "\n",
      "Geração 24: (59911.336299999995, [29766.25, 25678.57, 16027.78, 12019.91, 15592.57, 32097.27])\n",
      "\n",
      "Geração 25: (59911.336299999995, [29766.25, 25678.57, 16027.78, 12019.91, 15592.57, 32097.27])\n",
      "\n",
      "Geração 26: (60173.64270129301, [30531.861191974596, 24798.699043577053, 15425.611518424676, 11840.880515036937, 15314.733027508406, 33808.03505599085])\n",
      "\n",
      "Geração 27: (60173.64270129301, [30531.861191974596, 24798.699043577053, 15425.611518424676, 11840.880515036937, 15314.733027508406, 33808.03505599085])\n",
      "\n",
      "Geração 28: (60173.64270129301, [30531.861191974596, 24798.699043577053, 15425.611518424676, 11840.880515036937, 15314.733027508406, 33808.03505599085])\n",
      "\n",
      "Geração 29: (60173.64270129301, [30531.861191974596, 24798.699043577053, 15425.611518424676, 11840.880515036937, 15314.733027508406, 33808.03505599085])\n",
      "\n",
      "Geração 30: (60173.64270129301, [30531.861191974596, 24798.699043577053, 15425.611518424676, 11840.880515036937, 15314.733027508406, 33808.03505599085])\n",
      "\n",
      "Geração 31: (60601.026936809416, [30495.49969832124, 26726.49853230529, 15212.251156235236, 11700.322424131806, 15337.927694480411, 32933.29239064615])\n",
      "\n",
      "Geração 32: (60660.79688295674, [31809.622906946344, 24548.612783159424, 17224.022507341826, 12228.329933421144, 15438.813472835354, 31873.69730696416])\n",
      "\n",
      "Geração 33: (60660.79688295674, [31809.622906946344, 24548.612783159424, 17224.022507341826, 12228.329933421144, 15438.813472835354, 31873.69730696416])\n",
      "\n",
      "Geração 34: (60660.79688295674, [31809.622906946344, 24548.612783159424, 17224.022507341826, 12228.329933421144, 15438.813472835354, 31873.69730696416])\n",
      "\n",
      "Geração 35: (60971.79769417025, [32145.802910511655, 24602.769897211343, 16153.659518599847, 11523.536456228212, 18217.21683679061, 30625.28004383322])\n",
      "\n",
      "Geração 36: (60971.79769417025, [32145.802910511655, 24602.769897211343, 16153.659518599847, 11523.536456228212, 18217.21683679061, 30625.28004383322])\n",
      "\n",
      "Geração 37: (61417.61965840624, [29387.43142140448, 27524.06910264213, 15904.943810526906, 11527.974362391105, 15232.402370273972, 34376.20997073932])\n",
      "\n",
      "Geração 38: (61417.61965840624, [29387.43142140448, 27524.06910264213, 15904.943810526906, 11527.974362391105, 15232.402370273972, 34376.20997073932])\n",
      "\n",
      "Geração 39: (61905.69358935108, [29929.523397784942, 25488.112456963983, 19149.27385096565, 11318.779414800214, 15639.326007599318, 33691.54086846246])\n",
      "\n",
      "Geração 40: (61905.69358935108, [29929.523397784942, 25488.112456963983, 19149.27385096565, 11318.779414800214, 15639.326007599318, 33691.54086846246])\n",
      "\n",
      "Geração 41: (61905.69358935108, [29929.523397784942, 25488.112456963983, 19149.27385096565, 11318.779414800214, 15639.326007599318, 33691.54086846246])\n",
      "\n",
      "Geração 42: (61905.69358935108, [29929.523397784942, 25488.112456963983, 19149.27385096565, 11318.779414800214, 15639.326007599318, 33691.54086846246])\n",
      "\n",
      "Geração 43: (61905.69358935108, [29929.523397784942, 25488.112456963983, 19149.27385096565, 11318.779414800214, 15639.326007599318, 33691.54086846246])\n",
      "\n",
      "Geração 44: (62037.310934423396, [29511.388738998023, 25930.521266184067, 18670.719606077815, 11481.284305599125, 15590.69741205619, 34302.3469811615])\n",
      "\n",
      "Geração 45: (62037.310934423396, [29511.388738998023, 25930.521266184067, 18670.719606077815, 11481.284305599125, 15590.69741205619, 34302.3469811615])\n",
      "\n",
      "Geração 46: (63236.70897454779, [28856.01108712944, 30010.34453576476, 17649.791971125196, 11490.527136439854, 15566.211338859435, 34058.50923240313])\n",
      "\n",
      "Geração 47: (63602.63921532935, [30024.9229428666, 28099.9304621095, 18688.113647484846, 11812.719289021854, 17082.815642556772, 33033.79285512814])\n",
      "\n",
      "Geração 48: (63602.63921532935, [30024.9229428666, 28099.9304621095, 18688.113647484846, 11812.719289021854, 17082.815642556772, 33033.79285512814])\n",
      "\n",
      "Geração 49: (63602.63921532935, [30024.9229428666, 28099.9304621095, 18688.113647484846, 11812.719289021854, 17082.815642556772, 33033.79285512814])\n",
      "\n",
      "Geração 50: (63602.63921532935, [30024.9229428666, 28099.9304621095, 18688.113647484846, 11812.719289021854, 17082.815642556772, 33033.79285512814])\n",
      "\n",
      "Geração 51: (63602.63921532935, [30024.9229428666, 28099.9304621095, 18688.113647484846, 11812.719289021854, 17082.815642556772, 33033.79285512814])\n",
      "\n",
      "Geração 52: (63602.63921532935, [30024.9229428666, 28099.9304621095, 18688.113647484846, 11812.719289021854, 17082.815642556772, 33033.79285512814])\n",
      "\n",
      "Geração 53: (63602.63921532935, [30024.9229428666, 28099.9304621095, 18688.113647484846, 11812.719289021854, 17082.815642556772, 33033.79285512814])\n",
      "\n",
      "Geração 54: (63602.63921532935, [30024.9229428666, 28099.9304621095, 18688.113647484846, 11812.719289021854, 17082.815642556772, 33033.79285512814])\n",
      "\n",
      "Geração 55: (63602.63921532935, [30024.9229428666, 28099.9304621095, 18688.113647484846, 11812.719289021854, 17082.815642556772, 33033.79285512814])\n",
      "\n",
      "Geração 56: (63602.63921532935, [30024.9229428666, 28099.9304621095, 18688.113647484846, 11812.719289021854, 17082.815642556772, 33033.79285512814])\n",
      "\n",
      "Geração 57: (63602.63921532935, [30024.9229428666, 28099.9304621095, 18688.113647484846, 11812.719289021854, 17082.815642556772, 33033.79285512814])\n",
      "\n",
      "Geração 58: (63602.63921532935, [30024.9229428666, 28099.9304621095, 18688.113647484846, 11812.719289021854, 17082.815642556772, 33033.79285512814])\n",
      "\n",
      "Geração 59: (63602.63921532935, [30024.9229428666, 28099.9304621095, 18688.113647484846, 11812.719289021854, 17082.815642556772, 33033.79285512814])\n",
      "\n",
      "Geração 60: (63622.200120429865, [30129.60238226412, 30535.125237060834, 17934.498357978096, 11443.652592888582, 16450.867406169007, 31946.029302319148])\n",
      "\n",
      "Geração 61: (64028.66285364091, [34212.87225829787, 27150.886513558253, 17309.425191173785, 11718.9245649761, 16935.832161407787, 32497.978453158416])\n",
      "\n",
      "Geração 62: (66056.62194401753, [32579.56430788437, 31355.04020325522, 19452.916000382014, 11553.76138172359, 16644.85330826452, 32166.808962654854])\n",
      "\n",
      "Geração 63: (66056.62194401753, [32579.56430788437, 31355.04020325522, 19452.916000382014, 11553.76138172359, 16644.85330826452, 32166.808962654854])\n",
      "\n",
      "Geração 64: (66056.62194401753, [32579.56430788437, 31355.04020325522, 19452.916000382014, 11553.76138172359, 16644.85330826452, 32166.808962654854])\n",
      "\n",
      "Geração 65: (66056.62194401753, [32579.56430788437, 31355.04020325522, 19452.916000382014, 11553.76138172359, 16644.85330826452, 32166.808962654854])\n",
      "\n",
      "Geração 66: (66056.62194401753, [32579.56430788437, 31355.04020325522, 19452.916000382014, 11553.76138172359, 16644.85330826452, 32166.808962654854])\n",
      "\n",
      "Geração 67: (66056.62194401753, [32579.56430788437, 31355.04020325522, 19452.916000382014, 11553.76138172359, 16644.85330826452, 32166.808962654854])\n",
      "\n",
      "Geração 68: (66056.62194401753, [32579.56430788437, 31355.04020325522, 19452.916000382014, 11553.76138172359, 16644.85330826452, 32166.808962654854])\n",
      "\n",
      "Geração 69: (66887.06743816276, [35467.82551044614, 33101.12739344939, 19612.507524122648, 11314.723289797555, 13915.51199145445, 32151.887049522928])\n",
      "\n",
      "Geração 70: (66887.06743816276, [35467.82551044614, 33101.12739344939, 19612.507524122648, 11314.723289797555, 13915.51199145445, 32151.887049522928])\n",
      "\n",
      "Geração 71: (66887.06743816276, [35467.82551044614, 33101.12739344939, 19612.507524122648, 11314.723289797555, 13915.51199145445, 32151.887049522928])\n",
      "\n",
      "Geração 72: (67355.02946493647, [34298.760957825354, 31924.9101167666, 21141.37798205552, 11407.046498926838, 15148.694950083573, 32706.57017222003])\n",
      "\n",
      "Geração 73: (67550.78963550086, [35000.19968939783, 32042.531844434878, 19258.741828639508, 12537.5955958153, 15971.29383998455, 32651.101859950315])\n",
      "\n",
      "Geração 74: (67550.78963550086, [35000.19968939783, 32042.531844434878, 19258.741828639508, 12537.5955958153, 15971.29383998455, 32651.101859950315])\n",
      "\n",
      "Geração 75: (67550.78963550086, [35000.19968939783, 32042.531844434878, 19258.741828639508, 12537.5955958153, 15971.29383998455, 32651.101859950315])\n",
      "\n",
      "Geração 76: (67550.78963550086, [35000.19968939783, 32042.531844434878, 19258.741828639508, 12537.5955958153, 15971.29383998455, 32651.101859950315])\n",
      "\n",
      "Geração 77: (67550.78963550086, [35000.19968939783, 32042.531844434878, 19258.741828639508, 12537.5955958153, 15971.29383998455, 32651.101859950315])\n",
      "\n",
      "Geração 78: (67550.78963550086, [35000.19968939783, 32042.531844434878, 19258.741828639508, 12537.5955958153, 15971.29383998455, 32651.101859950315])\n",
      "\n",
      "Geração 79: (67550.78963550086, [35000.19968939783, 32042.531844434878, 19258.741828639508, 12537.5955958153, 15971.29383998455, 32651.101859950315])\n",
      "\n",
      "Geração 80: (67550.78963550086, [35000.19968939783, 32042.531844434878, 19258.741828639508, 12537.5955958153, 15971.29383998455, 32651.101859950315])\n",
      "\n",
      "Geração 81: (68213.70272653954, [35011.18478756828, 31910.232316229594, 21172.82342422643, 12467.333358347434, 15852.488931843263, 32528.33905092985])\n",
      "\n",
      "Geração 82: (68213.70272653954, [35011.18478756828, 31910.232316229594, 21172.82342422643, 12467.333358347434, 15852.488931843263, 32528.33905092985])\n",
      "\n",
      "Geração 83: (68213.70272653954, [35011.18478756828, 31910.232316229594, 21172.82342422643, 12467.333358347434, 15852.488931843263, 32528.33905092985])\n",
      "\n",
      "Geração 84: (68213.70272653954, [35011.18478756828, 31910.232316229594, 21172.82342422643, 12467.333358347434, 15852.488931843263, 32528.33905092985])\n",
      "\n",
      "Geração 85: (68213.70272653954, [35011.18478756828, 31910.232316229594, 21172.82342422643, 12467.333358347434, 15852.488931843263, 32528.33905092985])\n",
      "\n",
      "Geração 86: (68213.70272653954, [35011.18478756828, 31910.232316229594, 21172.82342422643, 12467.333358347434, 15852.488931843263, 32528.33905092985])\n",
      "\n",
      "Geração 87: (68213.70272653954, [35011.18478756828, 31910.232316229594, 21172.82342422643, 12467.333358347434, 15852.488931843263, 32528.33905092985])\n",
      "\n",
      "Geração 88: (68352.19365602436, [34620.47139936575, 31576.36648912805, 22435.177552216595, 13446.132611838668, 15471.732803305937, 32241.260757800766])\n",
      "\n",
      "Geração 89: (68352.19365602436, [34620.47139936575, 31576.36648912805, 22435.177552216595, 13446.132611838668, 15471.732803305937, 32241.260757800766])\n",
      "\n",
      "Geração 90: (68352.19365602436, [34620.47139936575, 31576.36648912805, 22435.177552216595, 13446.132611838668, 15471.732803305937, 32241.260757800766])\n",
      "\n",
      "Geração 91: (68352.19365602436, [34620.47139936575, 31576.36648912805, 22435.177552216595, 13446.132611838668, 15471.732803305937, 32241.260757800766])\n",
      "\n",
      "Geração 92: (68352.19365602436, [34620.47139936575, 31576.36648912805, 22435.177552216595, 13446.132611838668, 15471.732803305937, 32241.260757800766])\n",
      "\n",
      "Geração 93: (68352.19365602436, [34620.47139936575, 31576.36648912805, 22435.177552216595, 13446.132611838668, 15471.732803305937, 32241.260757800766])\n",
      "\n",
      "Geração 94: (68352.19365602436, [34620.47139936575, 31576.36648912805, 22435.177552216595, 13446.132611838668, 15471.732803305937, 32241.260757800766])\n",
      "\n",
      "Geração 95: (68373.69043465427, [37822.77747550579, 31999.03285513686, 21567.265943337858, 12584.522774684494, 13974.419074328207, 31656.92481087419])\n",
      "\n",
      "Geração 96: (68566.02908955414, [34673.89318667786, 34143.90633951455, 20608.56058510048, 11782.821661916223, 16115.304482069067, 31817.03125539142])\n",
      "\n",
      "Geração 97: (68566.02908955414, [34673.89318667786, 34143.90633951455, 20608.56058510048, 11782.821661916223, 16115.304482069067, 31817.03125539142])\n",
      "\n",
      "Geração 98: (68566.02908955414, [34673.89318667786, 34143.90633951455, 20608.56058510048, 11782.821661916223, 16115.304482069067, 31817.03125539142])\n",
      "\n",
      "Geração 99: (68566.02908955414, [34673.89318667786, 34143.90633951455, 20608.56058510048, 11782.821661916223, 16115.304482069067, 31817.03125539142])\n",
      "\n",
      "Geração 100: (68790.88652831699, [35668.52185308475, 36249.26424591906, 20598.35831679118, 11987.500627752068, 15715.119090449994, 29435.897883939757])\n",
      "\n"
     ]
    },
    {
     "data": {
      "image/png": "[encoded data removed]",
      "text/plain": [
       "<Figure size 640x480 with 1 Axes>"
      ]
     },
     "metadata": {},
     "output_type": "display_data"
    }
   ],
   "source": [
    "# Execução do algoritmo\n",
    "melhores = alg_genetico(100, 20)\n",
    "\n",
    "# Extração dos valores de lucro dos melhores cromossomos\n",
    "lucros = [lucro for lucro, cromossomo in melhores]\n",
    "\n",
    "# Criação do gráfico de linhas\n",
    "plt.plot(lucros)\n",
    "plt.xlabel('Gerações')\n",
    "plt.ylabel('Lucro')\n",
    "plt.title('Evolução do Lucro ao Longo das Gerações')\n",
    "plt.grid(True)\n",
    "plt.show()"
   ]
  },
  {
   "cell_type": "code",
   "execution_count": 23,
   "metadata": {},
   "outputs": [
    {
     "data": {
      "text/plain": [
       "(69906.81304242939,\n",
       " [37695.6650547258,\n",
       "  38370.9080700625,\n",
       "  8277.441281032792,\n",
       "  9913.024315528664,\n",
       "  22875.257881322395,\n",
       "  32778.88970013082])"
      ]
     },
     "execution_count": 23,
     "metadata": {},
     "output_type": "execute_result"
    }
   ],
   "source": [
    "max(melhores)"
   ]
  }
 ],
 "metadata": {
  "kernelspec": {
   "display_name": "Python 3",
   "language": "python",
   "name": "python3"
  },
  "language_info": {
   "codemirror_mode": {
    "name": "ipython",
    "version": 3
   },
   "file_extension": ".py",
   "mimetype": "text/x-python",
   "name": "python",
   "nbconvert_exporter": "python",
   "pygments_lexer": "ipython3",
   "version": "3.12.1"
  }
 },
 "nbformat": 4,
 "nbformat_minor": 2
}
