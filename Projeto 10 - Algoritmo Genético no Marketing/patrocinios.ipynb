{
 "cells": [
  {
   "cell_type": "markdown",
   "metadata": {},
   "source": [
    "# ALGORITMO GENÉTICO PARA OTIMIZAR CAMPANHAS DE MARKETING"
   ]
  },
  {
   "cell_type": "markdown",
   "metadata": {},
   "source": [
    "Uma empresa de comércio eletrônico quer maximizar o lucro de suas campanhas de marketing. Para isso, ela pode investir em diferentes canais de marketing: TikTok, Facebook, Instagram, Email Marketing, Influenciadores Digitais e YouTube.\n",
    "\n",
    "Objetivo: Distribuir o orçamento de marketing de forma a maximizar o lucro, considerando o custo por conversão, o número esperado de conversões por $1000 e o lucro por conversão. TODOS OS DADOS SÃO FICTÍCIOS.\n",
    "\n",
    "Neste código, implementei elitismo e crossover juntos. O elitismo foi feito para selecionar os n melhores indivíduos de uma geração x e passar automaticamente estes indivíduos para a próxima geração (x+1). No crossover, todos os indivíduos da geração x, inclusive os que foram selecionados para a próxima geração (x+1), participaram do sorteio para serem pais pelo método da roleta viciada. Assim, passo os melhores indivíduos para a próxima geração e ainda garanto no crossover poder ter genes bons de algum cromossomo que tem a maior parte dos genes ruins, ou seja, há maior diversidade por não eliminar os cromossomos \"ruins\" antes do crossover, permitindo preservar algumas características deles para as próximas gerações."
   ]
  },
  {
   "cell_type": "code",
   "execution_count": 55,
   "metadata": {},
   "outputs": [
    {
     "data": {
      "text/html": [
       "<div>\n",
       "<style scoped>\n",
       "    .dataframe tbody tr th:only-of-type {\n",
       "        vertical-align: middle;\n",
       "    }\n",
       "\n",
       "    .dataframe tbody tr th {\n",
       "        vertical-align: top;\n",
       "    }\n",
       "\n",
       "    .dataframe thead th {\n",
       "        text-align: right;\n",
       "    }\n",
       "</style>\n",
       "<table border=\"1\" class=\"dataframe\">\n",
       "  <thead>\n",
       "    <tr style=\"text-align: right;\">\n",
       "      <th></th>\n",
       "      <th>Canal</th>\n",
       "      <th>Custo por Conversão ($)</th>\n",
       "      <th>Conversões Estimadas por $1000</th>\n",
       "      <th>Receita Média por Conversão ($)</th>\n",
       "      <th>Lucro Médio por Conversão ($)</th>\n",
       "      <th>Orçamento Máximo Disponível ($)</th>\n",
       "    </tr>\n",
       "  </thead>\n",
       "  <tbody>\n",
       "    <tr>\n",
       "      <th>0</th>\n",
       "      <td>TikTok</td>\n",
       "      <td>55</td>\n",
       "      <td>18</td>\n",
       "      <td>80</td>\n",
       "      <td>25</td>\n",
       "      <td>45000</td>\n",
       "    </tr>\n",
       "    <tr>\n",
       "      <th>1</th>\n",
       "      <td>Facebook</td>\n",
       "      <td>60</td>\n",
       "      <td>17</td>\n",
       "      <td>90</td>\n",
       "      <td>30</td>\n",
       "      <td>40000</td>\n",
       "    </tr>\n",
       "    <tr>\n",
       "      <th>2</th>\n",
       "      <td>Instagram</td>\n",
       "      <td>70</td>\n",
       "      <td>15</td>\n",
       "      <td>100</td>\n",
       "      <td>30</td>\n",
       "      <td>30000</td>\n",
       "    </tr>\n",
       "    <tr>\n",
       "      <th>3</th>\n",
       "      <td>Email Marketing</td>\n",
       "      <td>40</td>\n",
       "      <td>25</td>\n",
       "      <td>50</td>\n",
       "      <td>10</td>\n",
       "      <td>20000</td>\n",
       "    </tr>\n",
       "    <tr>\n",
       "      <th>4</th>\n",
       "      <td>Influenciadores Digitais</td>\n",
       "      <td>100</td>\n",
       "      <td>10</td>\n",
       "      <td>150</td>\n",
       "      <td>50</td>\n",
       "      <td>25000</td>\n",
       "    </tr>\n",
       "    <tr>\n",
       "      <th>5</th>\n",
       "      <td>YouTube</td>\n",
       "      <td>65</td>\n",
       "      <td>16</td>\n",
       "      <td>95</td>\n",
       "      <td>30</td>\n",
       "      <td>35000</td>\n",
       "    </tr>\n",
       "  </tbody>\n",
       "</table>\n",
       "</div>"
      ],
      "text/plain": [
       "                      Canal  Custo por Conversão ($)  \\\n",
       "0                    TikTok                       55   \n",
       "1                  Facebook                       60   \n",
       "2                 Instagram                       70   \n",
       "3           Email Marketing                       40   \n",
       "4  Influenciadores Digitais                      100   \n",
       "5                   YouTube                       65   \n",
       "\n",
       "   Conversões Estimadas por $1000  Receita Média por Conversão ($)  \\\n",
       "0                              18                               80   \n",
       "1                              17                               90   \n",
       "2                              15                              100   \n",
       "3                              25                               50   \n",
       "4                              10                              150   \n",
       "5                              16                               95   \n",
       "\n",
       "   Lucro Médio por Conversão ($)  Orçamento Máximo Disponível ($)  \n",
       "0                             25                            45000  \n",
       "1                             30                            40000  \n",
       "2                             30                            30000  \n",
       "3                             10                            20000  \n",
       "4                             50                            25000  \n",
       "5                             30                            35000  "
      ]
     },
     "metadata": {},
     "output_type": "display_data"
    }
   ],
   "source": [
    "import pandas as pd\n",
    "import random\n",
    "import matplotlib.pyplot as plt\n",
    "\n",
    "# Dados fictícios \n",
    "data = {\n",
    "    'Canal': ['TikTok', 'Facebook', 'Instagram', 'Email Marketing', 'Influenciadores Digitais', 'YouTube'],\n",
    "    'Custo por Conversão ($)': [55, 60, 70, 40, 100, 65],\n",
    "    'Conversões Estimadas por $1000': [18, 17, 15, 25, 10, 16],\n",
    "    'Receita Média por Conversão ($)': [80, 90, 100, 50, 150, 95],\n",
    "    'Lucro Médio por Conversão ($)': [25, 30, 30, 10, 50, 30],\n",
    "    'Orçamento Máximo Disponível ($)': [45000, 40000, 30000, 20000, 25000, 35000]\n",
    "}\n",
    "\n",
    "# Criar DataFrame\n",
    "df = pd.DataFrame(data)\n",
    "\n",
    "# Exibir DataFrame\n",
    "display(df)"
   ]
  },
  {
   "cell_type": "markdown",
   "metadata": {},
   "source": [
    "### Gera indivíduo\n",
    "\n",
    "Os indivíduos serão listas com 6 valores (genes), cada um indicando os investimentos em um tipo de campanha de marketing."
   ]
  },
  {
   "cell_type": "code",
   "execution_count": 56,
   "metadata": {},
   "outputs": [],
   "source": [
    "def cromossomo(tamanho_crom):\n",
    "    cromossomo = []\n",
    "    while True:\n",
    "        cromossomo = []\n",
    "        for i in range(tamanho_crom):\n",
    "            cromossomo.append(round(random.uniform(0,45000), 2))\n",
    "            \n",
    "        if cromossomo[0] <= 45000 and cromossomo[1] <=40000 and cromossomo[2] <=30000 and cromossomo[3] <=20000 and cromossomo[4] <=25000 and cromossomo[5] <=35000:\n",
    "            return cromossomo"
   ]
  },
  {
   "cell_type": "code",
   "execution_count": 57,
   "metadata": {},
   "outputs": [
    {
     "data": {
      "text/plain": [
       "[40365.05, 1466.85, 13205.34, 9669.5, 15870.26, 29184.1]"
      ]
     },
     "execution_count": 57,
     "metadata": {},
     "output_type": "execute_result"
    }
   ],
   "source": [
    "cromossomo(6)"
   ]
  },
  {
   "cell_type": "markdown",
   "metadata": {},
   "source": [
    "Gera população"
   ]
  },
  {
   "cell_type": "code",
   "execution_count": 58,
   "metadata": {},
   "outputs": [],
   "source": [
    "def gerar_populacao(tamanho_pop, tamanho_crom):\n",
    "    populacao = []\n",
    "\n",
    "    for i in range(tamanho_pop):\n",
    "        crom = cromossomo(tamanho_crom)\n",
    "        populacao.append(crom)\n",
    "\n",
    "    return populacao"
   ]
  },
  {
   "cell_type": "code",
   "execution_count": 59,
   "metadata": {},
   "outputs": [
    {
     "data": {
      "text/plain": [
       "[[38614.17, 30399.63, 20018.78, 14542.59, 18044.54, 17685.24],\n",
       " [36057.07, 35532.85, 4374.43, 18273.41, 14870.69, 13998.03],\n",
       " [3688.45, 20480.88, 20877.51, 3824.04, 2039.13, 10091.87],\n",
       " [43020.11, 31496.7, 25687.38, 8350.02, 446.97, 27633.78],\n",
       " [41483.92, 31521.89, 25364.97, 13399.19, 23130.98, 13345.66],\n",
       " [42598.09, 29838.21, 14754.48, 19523.87, 16441.77, 4265.43],\n",
       " [27868.73, 11482.23, 22719.3, 18641.33, 1140.86, 8015.14],\n",
       " [9067.69, 15505.0, 12192.56, 4771.27, 12221.49, 32218.78],\n",
       " [43520.73, 15054.65, 12568.0, 12265.91, 13643.3, 12527.02],\n",
       " [28990.73, 24921.19, 14305.97, 9210.23, 19513.75, 11357.17]]"
      ]
     },
     "execution_count": 59,
     "metadata": {},
     "output_type": "execute_result"
    }
   ],
   "source": [
    "gerar_populacao(10, 6)"
   ]
  },
  {
   "cell_type": "markdown",
   "metadata": {},
   "source": [
    "Função fitness"
   ]
  },
  {
   "cell_type": "code",
   "execution_count": 60,
   "metadata": {},
   "outputs": [],
   "source": [
    "def fitness(cromossomo):\n",
    "    lucro = 0\n",
    "\n",
    "    if cromossomo[0] > 45000 or cromossomo[1] > 40000 or cromossomo[2] > 30000 or cromossomo[3] > 20000 or cromossomo[4] > 25000 or cromossomo[5] > 35000:\n",
    "        return 1\n",
    "    else:\n",
    "        for indice, valor in enumerate(cromossomo):\n",
    "            lucro += valor/1000 * df.iloc[indice]['Conversões Estimadas por $1000'] * df.iloc[indice]['Lucro Médio por Conversão ($)']\n",
    "\n",
    "    return lucro\n"
   ]
  },
  {
   "cell_type": "code",
   "execution_count": 61,
   "metadata": {},
   "outputs": [
    {
     "name": "stdout",
     "output_type": "stream",
     "text": [
      "[32008.6, 26828.58, 15039.07, 3545.36, 9984.81, 29425.19]\n",
      "[32008.6, 50000, 15039.07, 3545.36, 9984.81, 29425.19]\n",
      "54856.86349999999\n",
      "1\n"
     ]
    }
   ],
   "source": [
    "c = cromossomo(6)\n",
    "lucro1 = fitness(c)\n",
    "print(c)\n",
    "c[1] = 50000\n",
    "\n",
    "lucro2 = fitness(c)\n",
    "print(c)\n",
    "\n",
    "print(lucro1)\n",
    "print(lucro2)"
   ]
  },
  {
   "cell_type": "markdown",
   "metadata": {},
   "source": [
    "Melhor indivíduo"
   ]
  },
  {
   "cell_type": "code",
   "execution_count": 62,
   "metadata": {},
   "outputs": [],
   "source": [
    "def seleciona_melhor(populacao):\n",
    "    melhor_cromosomo = populacao[0]\n",
    "    melhor_lucro = fitness(melhor_cromosomo)\n",
    "    for i in range(1, len(populacao)):\n",
    "        if melhor_lucro < fitness(populacao[i]):\n",
    "                melhor_cromosomo = populacao[i]\n",
    "                melhor_lucro = fitness(populacao[i])\n",
    "\n",
    "    return melhor_lucro, melhor_cromosomo"
   ]
  },
  {
   "cell_type": "code",
   "execution_count": 63,
   "metadata": {},
   "outputs": [
    {
     "name": "stdout",
     "output_type": "stream",
     "text": [
      "(65111.7926, [26776.81, 23627.43, 24372.1, 18833.04, 23366.29, 28444.56])\n"
     ]
    }
   ],
   "source": [
    "print(seleciona_melhor(gerar_populacao(10, 6)))"
   ]
  },
  {
   "cell_type": "markdown",
   "metadata": {},
   "source": [
    "Elitismo"
   ]
  },
  {
   "cell_type": "code",
   "execution_count": 64,
   "metadata": {},
   "outputs": [],
   "source": [
    "# Selecionando os n melhores indivíduos que quero que continuem na próxima geração\n",
    "\n",
    "def elitismo(populacao, nMelhores):\n",
    "    avaliados = [(fitness(cromossomo), cromossomo) for cromossomo in populacao]\n",
    "    ordenados = sorted(avaliados, reverse=True)\n",
    "    escolhidos = [cromossomo for _, cromossomo in ordenados[:nMelhores]]\n",
    "\n",
    "    return escolhidos\n"
   ]
  },
  {
   "cell_type": "code",
   "execution_count": 65,
   "metadata": {},
   "outputs": [
    {
     "name": "stdout",
     "output_type": "stream",
     "text": [
      "[29224.94, 34465.45, 28512.18, 14164.73, 4188.43, 19502.35]\n",
      "[22592.79, 23733.76, 28846.35, 13825.07, 13419.82, 22850.87]\n",
      "[38002.86, 9177.47, 18571.64, 10230.59, 8760.18, 26037.98]\n",
      "[28864.95, 36195.67, 7026.34, 12582.24, 9426.92, 4960.71]\n"
     ]
    }
   ],
   "source": [
    "escolhidos = elitismo(gerar_populacao(10, 6), 4)\n",
    "\n",
    "for i in escolhidos:\n",
    "    print(i)"
   ]
  },
  {
   "cell_type": "markdown",
   "metadata": {},
   "source": [
    "Seleção dos pais pela roleta viciada"
   ]
  },
  {
   "cell_type": "code",
   "execution_count": 66,
   "metadata": {},
   "outputs": [],
   "source": [
    "def soma_avaliacoes(populacao):\n",
    "    soma_avalicao = 0\n",
    "    for individuo in populacao:\n",
    "        soma_avalicao += fitness(individuo)\n",
    "    return soma_avalicao\n",
    "\n",
    "\n",
    "def seleciona_pai(soma_avaliacao, populacao):\n",
    "    pai = -1 # nao selecionou nenhum individuo ainda\n",
    "    valor_sorteado = random.random() * soma_avaliacao # Simula a roleta sendo girada\n",
    "    soma = 0\n",
    "    i = 0\n",
    "    # Os inviduos menos aptos tem nota 1, então dificilmente serão escolhidos na roleta\n",
    "    while i < len(populacao) and soma < valor_sorteado:\n",
    "        soma += fitness(populacao[i])\n",
    "        pai += 1\n",
    "        i += 1\n",
    "    return pai\n",
    "    "
   ]
  },
  {
   "cell_type": "markdown",
   "metadata": {},
   "source": [
    "Crossover"
   ]
  },
  {
   "cell_type": "code",
   "execution_count": 67,
   "metadata": {},
   "outputs": [],
   "source": [
    "def crossover(pai1, pai2):\n",
    "    ponto_crossover = random.randint(0, len(pai1) - 1)  # Escolhe um ponto de crossover\n",
    "    filho = []\n",
    "    filho = [0.6 * pai1[i] + 0.4 * pai2[i] if i < ponto_crossover else 0.4 * pai1[i] + 0.6 * pai2[i] for i in range(len(pai1))]\n",
    "    return filho\n"
   ]
  },
  {
   "cell_type": "markdown",
   "metadata": {},
   "source": [
    "Mutação"
   ]
  },
  {
   "cell_type": "code",
   "execution_count": 68,
   "metadata": {},
   "outputs": [],
   "source": [
    "def mutacao(cromossomo, taxa_mutacao):\n",
    "        \n",
    "        for i in range(len(cromossomo)):\n",
    "            if random.random() < taxa_mutacao:\n",
    "                if random.random() < 0.5:\n",
    "                    cromossomo[i] *= 1.1\n",
    "                else:\n",
    "                    cromossomo[i] *= 0.9\n",
    "\n",
    "        return cromossomo"
   ]
  },
  {
   "cell_type": "markdown",
   "metadata": {},
   "source": [
    "Restaurando o tamanho da população"
   ]
  },
  {
   "cell_type": "code",
   "execution_count": 69,
   "metadata": {},
   "outputs": [],
   "source": [
    "def nova_populacao(populacao, taxa_mutacao, nMelhores, pai1, pai2):\n",
    "    # O elitismo é aplicado para selecionar o melhor indivíduo e gerar n clones dele\n",
    "    # O crossover é aplicado selecionando indivíduos entre toda a populaçao atual\n",
    "    nova_populacao = elitismo(populacao, nMelhores)\n",
    "\n",
    "    while len(nova_populacao) < len(populacao):\n",
    "        novo_cromo = crossover(pai1, pai2)\n",
    "        nova_populacao.append(mutacao(novo_cromo, taxa_mutacao))\n",
    "\n",
    "    return nova_populacao\n"
   ]
  },
  {
   "cell_type": "markdown",
   "metadata": {},
   "source": [
    "## EXECUÇÃO DO ALGORITMO"
   ]
  },
  {
   "cell_type": "code",
   "execution_count": 70,
   "metadata": {},
   "outputs": [],
   "source": [
    "def alg_genetico(geracoes, tamanho_pop):\n",
    "    melhores = []\n",
    "    nova_pop = []\n",
    "    pop = gerar_populacao(tamanho_pop,6) # Criando 10 cromossomos com 6 genes\n",
    "    melhores.append(seleciona_melhor(pop))\n",
    "    print(pop)\n",
    "    \n",
    "    for i in range(geracoes):\n",
    "        soma_avaliacao = soma_avaliacoes(pop)\n",
    "        pai1 = seleciona_pai(soma_avaliacao, pop)\n",
    "        pai2 = seleciona_pai(soma_avaliacao, pop)\n",
    "        nova_pop = nova_populacao(pop, 0.1, round(tamanho_pop*0.15), pop[pai1], pop[pai2])\n",
    "        melhores.append(seleciona_melhor(nova_pop))\n",
    "        pop = nova_pop\n",
    "    \n",
    "    return melhores"
   ]
  },
  {
   "cell_type": "code",
   "execution_count": 71,
   "metadata": {},
   "outputs": [
    {
     "name": "stdout",
     "output_type": "stream",
     "text": [
      "[[23984.2, 22536.06, 1748.18, 15425.51, 4091.89, 33616.02], [7094.23, 12318.86, 25645.33, 15543.76, 3770.31, 5548.07], [2788.09, 34007.28, 26379.16, 8437.24, 15203.51, 26199.96], [18188.87, 5961.75, 5442.09, 7729.94, 12266.18, 704.66], [1023.43, 2839.97, 22991.7, 8178.35, 19505.03, 12806.1], [4126.42, 23598.75, 13040.59, 7129.97, 24827.13, 12160.54], [564.34, 7598.56, 2180.17, 6085.1, 22930.96, 34898.87], [17579.76, 37311.8, 29619.58, 6416.69, 16171.15, 23575.72], [9177.58, 23516.88, 17408.07, 989.91, 3166.32, 19645.47], [6983.96, 14241.48, 5304.12, 15522.38, 13928.89, 11403.52], [1261.47, 3304.81, 4894.34, 9202.77, 10653.69, 18085.15], [10628.08, 29333.5, 24999.09, 16072.72, 17306.7, 25068.85], [40121.4, 10709.55, 5675.91, 19634.63, 19954.94, 28472.05], [37547.08, 38830.7, 8760.56, 19317.31, 21165.5, 23693.5], [23643.92, 18530.9, 25400.89, 18688.42, 3403.43, 32649.85], [11993.45, 371.35, 193.49, 14493.86, 19947.25, 9414.14], [5641.06, 5464.79, 17117.5, 12359.61, 16528.48, 27156.62], [7647.75, 7803.59, 19620.55, 6502.24, 23583.47, 27725.01], [21238.35, 26665.47, 14692.57, 415.79, 23338.65, 27573.6], [23972.69, 4575.16, 3715.3, 13270.18, 22400.67, 27341.65], [22222.09, 32467.68, 26802.94, 19691.58, 13016.78, 14630.41], [30321.63, 27902.49, 2527.14, 4377.0, 10657.37, 19826.76], [774.46, 23318.99, 6970.69, 19290.74, 10594.86, 9550.05], [37120.19, 16816.57, 6806.1, 12683.69, 24100.68, 3506.02], [424.61, 22081.59, 23832.92, 7627.7, 20077.04, 20546.32], [26458.71, 26866.18, 20253.45, 3708.32, 3456.11, 23826.15], [37830.12, 5735.85, 21863.55, 18622.27, 20697.29, 29515.2], [1795.09, 19828.35, 10610.57, 3372.71, 15179.75, 13581.14], [14706.95, 159.0, 18577.11, 4547.92, 10603.59, 4744.63], [41205.48, 9365.03, 8976.76, 15577.12, 5444.78, 33619.17], [32251.45, 3148.19, 13747.68, 11233.87, 5161.91, 34299.64], [9194.14, 19656.01, 6519.89, 11859.87, 18239.91, 13643.33], [40621.64, 1049.34, 6711.53, 4918.63, 20271.19, 23862.64], [29374.88, 34823.12, 13997.02, 11103.41, 2189.56, 18925.91], [44209.1, 1874.13, 4829.28, 2224.41, 4470.95, 2824.7], [13114.22, 38762.9, 8994.43, 1679.97, 11980.31, 29685.38], [17043.97, 14202.4, 23032.29, 2114.28, 16237.82, 25050.13], [32369.9, 29652.31, 25359.1, 8230.23, 10876.44, 9209.55], [11602.79, 12133.89, 13721.24, 9204.38, 5625.83, 16364.14], [6990.09, 20535.85, 16384.22, 2799.59, 17190.48, 22739.7], [18834.54, 33710.47, 5195.71, 1342.18, 12798.45, 7282.68], [38561.47, 39419.12, 16791.2, 4134.44, 16682.0, 456.06], [18266.88, 6847.27, 1288.24, 8189.58, 10617.51, 8382.01], [18479.13, 29575.33, 16214.22, 6007.38, 19672.52, 28346.46], [24056.91, 15294.58, 20681.67, 18277.8, 4090.63, 6387.41], [18364.33, 3695.64, 17314.37, 790.67, 17931.17, 15402.15], [35917.85, 28736.33, 1329.38, 3251.55, 3581.86, 31742.33], [43661.11, 19991.97, 22775.34, 8154.63, 5312.74, 10560.19], [42097.21, 2394.45, 291.31, 5975.44, 20479.71, 9448.51], [30905.49, 5165.66, 27043.39, 3138.36, 21414.55, 23510.68]]"
     ]
    },
    {
     "name": "stdout",
     "output_type": "stream",
     "text": [
      "\n"
     ]
    },
    {
     "data": {
      "image/png": "[encoded data removed]",
      "text/plain": [
       "<Figure size 640x480 with 1 Axes>"
      ]
     },
     "metadata": {},
     "output_type": "display_data"
    }
   ],
   "source": [
    "# Execução do algoritmo\n",
    "melhores = alg_genetico(500, 50)\n",
    "\n",
    "# Extração dos valores de lucro dos melhores cromossomos\n",
    "lucros = [lucro for lucro, cromossomo in melhores]\n",
    "\n",
    "# Criação do gráfico de linhas\n",
    "plt.plot(lucros)\n",
    "plt.xlabel('Gerações')\n",
    "plt.ylabel('Lucro')\n",
    "plt.title('Evolução do Lucro ao Longo das Gerações')\n",
    "plt.grid(True)\n",
    "plt.show()"
   ]
  },
  {
   "cell_type": "code",
   "execution_count": 72,
   "metadata": {},
   "outputs": [
    {
     "data": {
      "text/plain": [
       "(86395.1167193695,\n",
       " [44274.91740219857,\n",
       "  38705.36285437741,\n",
       "  29440.666158615164,\n",
       "  19748.96528664161,\n",
       "  23839.961404123555,\n",
       "  34637.80632822637])"
      ]
     },
     "execution_count": 72,
     "metadata": {},
     "output_type": "execute_result"
    }
   ],
   "source": [
    "max(melhores)"
   ]
  }
 ],
 "metadata": {
  "kernelspec": {
   "display_name": "Python 3",
   "language": "python",
   "name": "python3"
  },
  "language_info": {
   "codemirror_mode": {
    "name": "ipython",
    "version": 3
   },
   "file_extension": ".py",
   "mimetype": "text/x-python",
   "name": "python",
   "nbconvert_exporter": "python",
   "pygments_lexer": "ipython3",
   "version": "3.12.1"
  }
 },
 "nbformat": 4,
 "nbformat_minor": 2
}
