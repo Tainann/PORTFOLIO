{
 "cells": [
  {
   "cell_type": "code",
   "execution_count": 6,
   "metadata": {},
   "outputs": [],
   "source": [
    "import nbformat\n",
    "from nbclient import NotebookClient\n",
    "\n",
    "# Defina quantas vezes você deseja executar o notebook\n",
    "quantidade_execucoes = 100  # Por exemplo, execute 5 vezes\n",
    "\n",
    "# Caminho para o notebook que você deseja executar\n",
    "notebook_path = 'roteamento_veiculos.ipynb'\n",
    "\n",
    "# Loop para executar o notebook várias vezes\n",
    "for _ in range(quantidade_execucoes):\n",
    "    # Cria um cliente do notebook\n",
    "    client = NotebookClient(nbformat.read(notebook_path, as_version=4))\n",
    "    \n",
    "    # Executa o notebook\n",
    "    execution = client.execute()\n",
    "\n",
    "    # Salvar o notebook modificado se necessário\n",
    "    nbformat.write(client.nb, notebook_path)\n"
   ]
  }
 ],
 "metadata": {
  "kernelspec": {
   "display_name": "Python 3",
   "language": "python",
   "name": "python3"
  },
  "language_info": {
   "codemirror_mode": {
    "name": "ipython",
    "version": 3
   },
   "file_extension": ".py",
   "mimetype": "text/x-python",
   "name": "python",
   "nbconvert_exporter": "python",
   "pygments_lexer": "ipython3",
   "version": "3.12.1"
  }
 },
 "nbformat": 4,
 "nbformat_minor": 2
}
