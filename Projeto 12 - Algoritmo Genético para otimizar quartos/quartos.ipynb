{
 "cells": [
  {
   "cell_type": "markdown",
   "metadata": {},
   "source": [
    "# ALGORITMO GENÉTICO PARA OTIMIZAR SATISFAÇÃO EM DORMITÓRIO\n",
    "\n",
    "### TODOS OS DADOS SÃO FICTÍCIOS. O OBJETIVO É APENAS MOSTRAR A APLICABILIDADE DOS ALGORITMOS GENÉTICOS.\n",
    "\n",
    "O objetivo é otimizar a organização dos móveis em cada quarto para assim aumentar a satisfação dos estudantes. Todos os quartos terão os mesmos móveis, ou seja, o melhor cromossomo será a solução para todos os quartos. \n",
    "\n",
    "Cada quarto deve ter, no mínimo, uma cama e uma mesa de estudo. Além disso, a quantidade de luzes adicionais não pode passar de 4 e a quantidade de cadeiras deve ser sempre igual à quantidade de camas.\n",
    "\n",
    "Dados do Problema:\n",
    "\n",
    "Dormitórios:\n",
    "    Número de quartos (N): 10\n",
    "    Área de cada quarto (A_i): 20 metros quadrados\n",
    "    \n",
    "Recursos Disponíveis:\n",
    "\n",
    "    Camas:\n",
    "        Ocupa: 3 metros quadrados\n",
    "        Custo: R$ 500\n",
    "        Satisfação: 10 pontos por cama\n",
    "\n",
    "    Mesas de estudo:\n",
    "        Ocupa: 2 metros quadrados\n",
    "        Custo: R$ 300\n",
    "        Satisfação: 8 pontos por mesa\n",
    "\n",
    "    Armários:\n",
    "        Ocupa: 1.5 metros quadrados\n",
    "        Custo: R$ 200\n",
    "        Satisfação: 6 pontos por armário\n",
    "\n",
    "    Cadeiras:\n",
    "        Ocupa: 1 metro quadrado\n",
    "        Custo: R$ 100\n",
    "        Satisfação: 4 pontos por cadeira\n",
    "\n",
    "    Luzes adicionais:\n",
    "        Ocupa: 0 metros quadrados (desprezível)\n",
    "        Custo: R$ 50 por unidade\n",
    "        Satisfação: 3 pontos por unidade\n",
    "        Limite: 4 por quarto\n",
    "\n",
    "Orçamento Total:\n",
    "\n",
    "    R$ 50.000"
   ]
  },
  {
   "cell_type": "code",
   "execution_count": 311,
   "metadata": {},
   "outputs": [],
   "source": [
    "import pandas as pd\n",
    "import random\n",
    "import matplotlib.pyplot as plt\n",
    "import numpy as np"
   ]
  },
  {
   "cell_type": "markdown",
   "metadata": {},
   "source": [
    "Gera indivíduo"
   ]
  },
  {
   "cell_type": "code",
   "execution_count": 312,
   "metadata": {},
   "outputs": [],
   "source": [
    "def cromossomo(tamanho_crom):\n",
    "    cromossomo = []\n",
    "    for i in range(tamanho_crom):\n",
    "        if random.random() < 0.5:\n",
    "            cromossomo.append(\"0\")\n",
    "        else:\n",
    "            cromossomo.append(\"1\")\n",
    "        \n",
    "    return cromossomo"
   ]
  },
  {
   "cell_type": "code",
   "execution_count": 313,
   "metadata": {},
   "outputs": [
    {
     "name": "stdout",
     "output_type": "stream",
     "text": [
      "['0', '1', '1', '0', '1', '1', '0', '1', '0', '1', '1', '1', '1', '1', '0', '1']\n"
     ]
    }
   ],
   "source": [
    "print(cromossomo(16))"
   ]
  },
  {
   "cell_type": "markdown",
   "metadata": {},
   "source": [
    "Gera população"
   ]
  },
  {
   "cell_type": "code",
   "execution_count": 314,
   "metadata": {},
   "outputs": [],
   "source": [
    "def gerar_populacao(tamanho_pop, tamanho_crom):\n",
    "    populacao = []\n",
    "\n",
    "    for i in range(tamanho_pop):\n",
    "        crom = cromossomo(tamanho_crom)\n",
    "        populacao.append(crom)\n",
    "\n",
    "    return populacao"
   ]
  },
  {
   "cell_type": "code",
   "execution_count": 315,
   "metadata": {},
   "outputs": [
    {
     "data": {
      "text/plain": [
       "[['0', '1', '0', '0', '0', '0', '0', '1', '1', '0', '1', '1', '0', '1', '1'],\n",
       " ['1', '1', '0', '0', '1', '0', '1', '1', '0', '0', '1', '1', '1', '0', '1'],\n",
       " ['1', '1', '0', '1', '0', '1', '0', '1', '0', '0', '1', '0', '0', '0', '0'],\n",
       " ['1', '1', '1', '1', '0', '1', '0', '0', '0', '0', '1', '0', '1', '1', '1'],\n",
       " ['0', '1', '1', '0', '1', '1', '1', '1', '1', '0', '1', '1', '1', '1', '0'],\n",
       " ['1', '1', '0', '0', '1', '0', '0', '1', '0', '0', '1', '1', '0', '1', '1'],\n",
       " ['0', '0', '0', '0', '1', '1', '1', '1', '0', '0', '1', '0', '0', '0', '1'],\n",
       " ['0', '1', '0', '1', '1', '0', '0', '1', '0', '1', '0', '1', '0', '1', '0'],\n",
       " ['1', '1', '0', '1', '0', '0', '1', '1', '1', '0', '1', '1', '1', '0', '1'],\n",
       " ['1', '1', '0', '0', '0', '1', '1', '1', '0', '0', '1', '0', '0', '1', '1']]"
      ]
     },
     "execution_count": 315,
     "metadata": {},
     "output_type": "execute_result"
    }
   ],
   "source": [
    "gerar_populacao(10, 15)"
   ]
  },
  {
   "cell_type": "markdown",
   "metadata": {},
   "source": [
    "Divide o cromossomo"
   ]
  },
  {
   "cell_type": "code",
   "execution_count": 316,
   "metadata": {},
   "outputs": [],
   "source": [
    "def variaveis(cromossomo, tam_subgrupo): # Quebra o cromossomo em subgrupos do tamanho de tam_subgrupo\n",
    "    subgrupos = []\n",
    "    valor = []\n",
    "    for i in range(1, len(cromossomo)+1):\n",
    "        valor.append(cromossomo[i-1]) \n",
    "        if i % tam_subgrupo == 0:\n",
    "            subgrupos.append(valor)\n",
    "            valor = []\n",
    "\n",
    "    return subgrupos\n",
    "\n"
   ]
  },
  {
   "cell_type": "code",
   "execution_count": 317,
   "metadata": {},
   "outputs": [
    {
     "data": {
      "text/plain": [
       "[['1', '1', '0'],\n",
       " ['0', '0', '0'],\n",
       " ['0', '0', '0'],\n",
       " ['1', '1', '0'],\n",
       " ['0', '1', '1']]"
      ]
     },
     "execution_count": 317,
     "metadata": {},
     "output_type": "execute_result"
    }
   ],
   "source": [
    "variaveis(cromossomo(15), 3)"
   ]
  },
  {
   "cell_type": "markdown",
   "metadata": {},
   "source": [
    "Convertendo a variável para decimal"
   ]
  },
  {
   "cell_type": "code",
   "execution_count": 318,
   "metadata": {},
   "outputs": [],
   "source": [
    "def converte_para_decimal(variaveis):\n",
    "    convertidos = []\n",
    "\n",
    "    for i in variaveis:\n",
    "        variavel_concatenada = ''.join(i)\n",
    "        convertidos.append(int(variavel_concatenada, 2))\n",
    "\n",
    "    return np.array(convertidos)\n"
   ]
  },
  {
   "cell_type": "code",
   "execution_count": 319,
   "metadata": {},
   "outputs": [
    {
     "name": "stdout",
     "output_type": "stream",
     "text": [
      "['1', '1', '0', '1', '0', '0', '0', '1', '1', '0', '0', '1', '1', '1', '1']\n"
     ]
    },
    {
     "data": {
      "text/plain": [
       "array([6, 4, 3, 1, 7])"
      ]
     },
     "execution_count": 319,
     "metadata": {},
     "output_type": "execute_result"
    }
   ],
   "source": [
    "c = cromossomo(15)\n",
    "print(c)\n",
    "converte_para_decimal(variaveis(c, 3))"
   ]
  },
  {
   "cell_type": "markdown",
   "metadata": {},
   "source": [
    "Fitness"
   ]
  },
  {
   "cell_type": "code",
   "execution_count": 321,
   "metadata": {},
   "outputs": [],
   "source": [
    "def fitness(crom):\n",
    "    satisfacao = 0\n",
    "    espaco_ocupado = 3*crom[0] + 2*crom[1] + 1.5*crom[2] + 1*crom[3]\n",
    "    custo_total = (500*crom[0] + 300*crom[1] + 200*crom[2] + 100*crom[3] + 50*crom[4])*10\n",
    "    \n",
    "    if (espaco_ocupado > 20 or custo_total > 50000 or \n",
    "        crom[0] < 1 or crom[1] < 1 or crom[0] != crom[3] or crom[4] > 4):\n",
    "        # Penalização proporcional ao excesso\n",
    "        satisfacao = 0.1\n",
    "    else:\n",
    "        satisfacao = 10*crom[0] + 8*crom[1] + 6*crom[2] + 4*crom[3] + 3*crom[4]\n",
    "    \n",
    "    return satisfacao\n"
   ]
  },
  {
   "cell_type": "code",
   "execution_count": 322,
   "metadata": {},
   "outputs": [
    {
     "name": "stdout",
     "output_type": "stream",
     "text": [
      "['1', '1', '1', '1', '1', '0', '0', '1', '0', '0', '1', '0', '1', '0', '1']\n"
     ]
    },
    {
     "data": {
      "text/plain": [
       "0.1"
      ]
     },
     "execution_count": 322,
     "metadata": {},
     "output_type": "execute_result"
    }
   ],
   "source": [
    "c = cromossomo(15)\n",
    "print(c)\n",
    "subgrupos = variaveis(c, 3)\n",
    "convertidos = converte_para_decimal(subgrupos)\n",
    "fitness(convertidos)"
   ]
  },
  {
   "cell_type": "markdown",
   "metadata": {},
   "source": [
    "Seleciona o melhor indivíduo"
   ]
  },
  {
   "cell_type": "code",
   "execution_count": 323,
   "metadata": {},
   "outputs": [],
   "source": [
    "def seleciona_melhor(populacao, tam_subgrupo):\n",
    "    melhor_cromosomo = populacao[0]\n",
    "    subgrupos = variaveis(melhor_cromosomo, tam_subgrupo)\n",
    "    maior_valor = fitness(converte_para_decimal(subgrupos))\n",
    "    for i in range(1, len(populacao)):\n",
    "        subgrupos = variaveis(populacao[i], tam_subgrupo)\n",
    "        valor_atual = fitness(converte_para_decimal(subgrupos))\n",
    "        if maior_valor < valor_atual:\n",
    "            melhor_cromosomo = populacao[i]\n",
    "            maior_valor = valor_atual\n",
    "\n",
    "    return maior_valor, melhor_cromosomo"
   ]
  },
  {
   "cell_type": "code",
   "execution_count": 324,
   "metadata": {},
   "outputs": [
    {
     "data": {
      "text/plain": [
       "(0.1,\n",
       " ['1', '0', '1', '1', '0', '0', '0', '0', '1', '0', '0', '0', '1', '0', '0'])"
      ]
     },
     "execution_count": 324,
     "metadata": {},
     "output_type": "execute_result"
    }
   ],
   "source": [
    "seleciona_melhor(gerar_populacao(10, 15), 3)"
   ]
  },
  {
   "cell_type": "markdown",
   "metadata": {},
   "source": [
    "Selecionando os n melhores que irão passar para a próxima geração"
   ]
  },
  {
   "cell_type": "code",
   "execution_count": 325,
   "metadata": {},
   "outputs": [],
   "source": [
    "# Selecionando os n melhores indivíduos que quero que continuem na próxima geração\n",
    "\n",
    "def elitismo(populacao, nMelhores, tam_subgrupo):\n",
    "    avaliados = [(fitness(converte_para_decimal(variaveis(cromossomo, tam_subgrupo))), cromossomo) for cromossomo in populacao]\n",
    "    ordenados = sorted(avaliados, reverse=True)\n",
    "    escolhidos = [cromossomo for _, cromossomo in ordenados[:nMelhores]]\n",
    "\n",
    "    return escolhidos"
   ]
  },
  {
   "cell_type": "markdown",
   "metadata": {},
   "source": [
    "Seleção dos pais pela roleta viciada"
   ]
  },
  {
   "cell_type": "code",
   "execution_count": 326,
   "metadata": {},
   "outputs": [],
   "source": [
    "def soma_avaliacoes(populacao, tam_subgrupo):\n",
    "    soma_avalicao = 0\n",
    "    for individuo in populacao:\n",
    "        subgrupos = variaveis(individuo, tam_subgrupo)\n",
    "        soma_avalicao += fitness(converte_para_decimal(subgrupos)) # Realizando soma direta\n",
    "    return soma_avalicao\n",
    "\n",
    "\n",
    "def seleciona_pai(soma_avaliacao, populacao, tam_subgrupo):\n",
    "    pai = -1 # nao selecionou nenhum individuo ainda\n",
    "    valor_sorteado = random.random() * soma_avaliacao # Simula a roleta sendo girada\n",
    "    soma = 0\n",
    "    i = 0\n",
    "    \n",
    "    while i < len(populacao) and soma < valor_sorteado:\n",
    "        subgrupos = variaveis(populacao[i], tam_subgrupo)\n",
    "        soma += fitness(converte_para_decimal(subgrupos))\n",
    "        pai += 1\n",
    "        i += 1\n",
    "    return pai\n",
    "    "
   ]
  },
  {
   "cell_type": "markdown",
   "metadata": {},
   "source": [
    "Crossover"
   ]
  },
  {
   "cell_type": "code",
   "execution_count": 327,
   "metadata": {},
   "outputs": [],
   "source": [
    "def crossover(pai1, pai2):\n",
    "    ponto_crossover = random.randint(0, len(pai1) - 1)  # Escolhe um ponto de crossover\n",
    "    filho = pai2[0:ponto_crossover] + pai1[ponto_crossover:]\n",
    "\n",
    "    return filho\n"
   ]
  },
  {
   "cell_type": "markdown",
   "metadata": {},
   "source": [
    "Mutação"
   ]
  },
  {
   "cell_type": "code",
   "execution_count": 328,
   "metadata": {},
   "outputs": [],
   "source": [
    "def mutacao(cromossomo, taxa_mutacao):\n",
    "    for i in range(len(cromossomo)):\n",
    "        if random.random() < taxa_mutacao:\n",
    "            if cromossomo[i] == '1':\n",
    "                cromossomo[i] = '0'\n",
    "            else:\n",
    "                cromossomo[i] = '1'\n",
    "\n",
    "    return cromossomo"
   ]
  },
  {
   "cell_type": "markdown",
   "metadata": {},
   "source": [
    "Restaurando o tamanho da população"
   ]
  },
  {
   "cell_type": "code",
   "execution_count": 329,
   "metadata": {},
   "outputs": [],
   "source": [
    "def nova_populacao(populacao, taxa_mutacao, nMelhores, soma_avalicao, tam_subgrupo):\n",
    "    # O elitismo é aplicado para selecionar o melhor indivíduo e gerar n clones dele\n",
    "    # O crossover é aplicado selecionando indivíduos entre toda a populaçao atual\n",
    "    nova_populacao = elitismo(populacao, nMelhores, tam_subgrupo)\n",
    "\n",
    "    while len(nova_populacao) < len(populacao):\n",
    "        pai1 = seleciona_pai(soma_avalicao, populacao, tam_subgrupo)\n",
    "        pai2 = seleciona_pai(soma_avalicao, populacao, tam_subgrupo)\n",
    "        novo_cromo = crossover(populacao[pai1], populacao[pai2])\n",
    "        nova_populacao.append(mutacao(novo_cromo, taxa_mutacao))\n",
    "\n",
    "    return nova_populacao"
   ]
  },
  {
   "cell_type": "markdown",
   "metadata": {},
   "source": [
    "### EXECUÇÃO DO ALGORITMO"
   ]
  },
  {
   "cell_type": "code",
   "execution_count": 330,
   "metadata": {},
   "outputs": [],
   "source": [
    "def alg_genetico(geracoes, tamanho_pop, tamanho_crom, taxa_mutacao, tam_subgrupo):\n",
    "    melhores = []\n",
    "    nova_pop = []\n",
    "    pop = gerar_populacao(tamanho_pop,tamanho_crom) # Criando cromossomos\n",
    "    melhores.append(seleciona_melhor(pop, tam_subgrupo))\n",
    "    \n",
    "    for i in range(geracoes):\n",
    "        soma_avaliacao = soma_avaliacoes(pop, tam_subgrupo)\n",
    "        nova_pop = nova_populacao(pop, taxa_mutacao, round(tamanho_pop*0.15), soma_avaliacao, tam_subgrupo)\n",
    "        melhores.append(seleciona_melhor(nova_pop, tam_subgrupo))\n",
    "        pop = nova_pop\n",
    "    \n",
    "    return melhores"
   ]
  },
  {
   "cell_type": "code",
   "execution_count": 333,
   "metadata": {},
   "outputs": [
    {
     "data": {
      "image/png": "[encoded data removed]",
      "text/plain": [
       "<Figure size 640x480 with 1 Axes>"
      ]
     },
     "metadata": {},
     "output_type": "display_data"
    }
   ],
   "source": [
    "# Execução do algoritmo\n",
    "melhores = alg_genetico(150, 40, 15, 0.1, 3)\n",
    "\n",
    "# Extração dos valores de lucro dos melhores cromossomos\n",
    "satis = [satis for satis, cromossomo in melhores]\n",
    "\n",
    "# Criação do gráfico de linhas\n",
    "plt.plot(satis)\n",
    "plt.title('Satisfação ao Longo das Gerações')\n",
    "plt.xlabel('Gerações')\n",
    "plt.ylabel('Satisfação')\n",
    "plt.grid(True)\n",
    "plt.show()"
   ]
  },
  {
   "cell_type": "code",
   "execution_count": 332,
   "metadata": {},
   "outputs": [
    {
     "name": "stdout",
     "output_type": "stream",
     "text": [
      "90\n",
      "['0', '0', '1', '1', '0', '1', '1', '0', '0', '0', '0', '1', '1', '0', '0']\n",
      "[1 5 4 1 4]\n",
      "20.0 3100\n"
     ]
    }
   ],
   "source": [
    "maximo = max(melhores)\n",
    "max_funcao = maximo[0]\n",
    "print(max_funcao)\n",
    "max_crom = maximo[1]\n",
    "print(max_crom)\n",
    "max_convertido = converte_para_decimal(variaveis(max_crom, 3))\n",
    "print(max_convertido)\n",
    "espaco_ocupado = 3*max_convertido[0] + 2*max_convertido[1] + 1.5*max_convertido[2] + max_convertido[3]\n",
    "custo_total = 500*max_convertido[0] + 300*max_convertido[1] + 200*max_convertido[2] + 100*max_convertido[3] + 50*max_convertido[4]\n",
    "print(espaco_ocupado, custo_total)\n"
   ]
  }
 ],
 "metadata": {
  "kernelspec": {
   "display_name": "Python 3",
   "language": "python",
   "name": "python3"
  },
  "language_info": {
   "codemirror_mode": {
    "name": "ipython",
    "version": 3
   },
   "file_extension": ".py",
   "mimetype": "text/x-python",
   "name": "python",
   "nbconvert_exporter": "python",
   "pygments_lexer": "ipython3",
   "version": "3.12.1"
  }
 },
 "nbformat": 4,
 "nbformat_minor": 2
}
