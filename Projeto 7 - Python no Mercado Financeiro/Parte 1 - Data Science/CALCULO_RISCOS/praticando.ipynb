{
 "cells": [
  {
   "cell_type": "code",
   "execution_count": 1,
   "metadata": {},
   "outputs": [],
   "source": [
    "import pandas as pd\n",
    "import numpy as np\n",
    "import math\n",
    "import matplotlib.pyplot as plt\n",
    "import seaborn as sns\n",
    "from scipy import stats"
   ]
  },
  {
   "cell_type": "code",
   "execution_count": 2,
   "metadata": {},
   "outputs": [
    {
     "data": {
      "text/html": [
       "<div>\n",
       "<style scoped>\n",
       "    .dataframe tbody tr th:only-of-type {\n",
       "        vertical-align: middle;\n",
       "    }\n",
       "\n",
       "    .dataframe tbody tr th {\n",
       "        vertical-align: top;\n",
       "    }\n",
       "\n",
       "    .dataframe thead th {\n",
       "        text-align: right;\n",
       "    }\n",
       "</style>\n",
       "<table border=\"1\" class=\"dataframe\">\n",
       "  <thead>\n",
       "    <tr style=\"text-align: right;\">\n",
       "      <th></th>\n",
       "      <th>Date</th>\n",
       "      <th>AMBEV</th>\n",
       "      <th>ODONTOPREV</th>\n",
       "      <th>VIVO</th>\n",
       "      <th>PETROBRAS</th>\n",
       "      <th>BBRASIL</th>\n",
       "      <th>BOVA</th>\n",
       "    </tr>\n",
       "  </thead>\n",
       "  <tbody>\n",
       "    <tr>\n",
       "      <th>0</th>\n",
       "      <td>2015-01-02</td>\n",
       "      <td>16.020000</td>\n",
       "      <td>8.518181</td>\n",
       "      <td>37.820000</td>\n",
       "      <td>9.000000</td>\n",
       "      <td>11.325000</td>\n",
       "      <td>47.259998</td>\n",
       "    </tr>\n",
       "    <tr>\n",
       "      <th>1</th>\n",
       "      <td>2015-01-05</td>\n",
       "      <td>15.730000</td>\n",
       "      <td>8.745454</td>\n",
       "      <td>37.070000</td>\n",
       "      <td>8.270000</td>\n",
       "      <td>11.090000</td>\n",
       "      <td>46.320000</td>\n",
       "    </tr>\n",
       "    <tr>\n",
       "      <th>2</th>\n",
       "      <td>2015-01-06</td>\n",
       "      <td>16.330000</td>\n",
       "      <td>8.681818</td>\n",
       "      <td>36.150002</td>\n",
       "      <td>8.060000</td>\n",
       "      <td>11.245000</td>\n",
       "      <td>46.580002</td>\n",
       "    </tr>\n",
       "    <tr>\n",
       "      <th>3</th>\n",
       "      <td>2015-01-07</td>\n",
       "      <td>16.559999</td>\n",
       "      <td>8.809090</td>\n",
       "      <td>37.389999</td>\n",
       "      <td>8.450000</td>\n",
       "      <td>11.740000</td>\n",
       "      <td>48.150002</td>\n",
       "    </tr>\n",
       "    <tr>\n",
       "      <th>4</th>\n",
       "      <td>2015-01-08</td>\n",
       "      <td>16.540001</td>\n",
       "      <td>8.781818</td>\n",
       "      <td>38.910000</td>\n",
       "      <td>9.020000</td>\n",
       "      <td>11.780000</td>\n",
       "      <td>48.509998</td>\n",
       "    </tr>\n",
       "    <tr>\n",
       "      <th>...</th>\n",
       "      <td>...</td>\n",
       "      <td>...</td>\n",
       "      <td>...</td>\n",
       "      <td>...</td>\n",
       "      <td>...</td>\n",
       "      <td>...</td>\n",
       "      <td>...</td>\n",
       "    </tr>\n",
       "    <tr>\n",
       "      <th>2314</th>\n",
       "      <td>2024-04-24</td>\n",
       "      <td>12.040000</td>\n",
       "      <td>11.050000</td>\n",
       "      <td>47.900002</td>\n",
       "      <td>43.270000</td>\n",
       "      <td>27.500000</td>\n",
       "      <td>120.970001</td>\n",
       "    </tr>\n",
       "    <tr>\n",
       "      <th>2315</th>\n",
       "      <td>2024-04-25</td>\n",
       "      <td>12.020000</td>\n",
       "      <td>11.540000</td>\n",
       "      <td>47.689999</td>\n",
       "      <td>44.250000</td>\n",
       "      <td>27.379999</td>\n",
       "      <td>120.910004</td>\n",
       "    </tr>\n",
       "    <tr>\n",
       "      <th>2316</th>\n",
       "      <td>2024-04-26</td>\n",
       "      <td>12.010000</td>\n",
       "      <td>11.690000</td>\n",
       "      <td>48.000000</td>\n",
       "      <td>43.750000</td>\n",
       "      <td>27.379999</td>\n",
       "      <td>122.830002</td>\n",
       "    </tr>\n",
       "    <tr>\n",
       "      <th>2317</th>\n",
       "      <td>2024-04-29</td>\n",
       "      <td>12.100000</td>\n",
       "      <td>11.960000</td>\n",
       "      <td>47.930000</td>\n",
       "      <td>44.540001</td>\n",
       "      <td>27.549999</td>\n",
       "      <td>123.769997</td>\n",
       "    </tr>\n",
       "    <tr>\n",
       "      <th>2318</th>\n",
       "      <td>2024-04-30</td>\n",
       "      <td>12.170000</td>\n",
       "      <td>11.980000</td>\n",
       "      <td>47.849998</td>\n",
       "      <td>44.230000</td>\n",
       "      <td>27.469999</td>\n",
       "      <td>122.300003</td>\n",
       "    </tr>\n",
       "  </tbody>\n",
       "</table>\n",
       "<p>2319 rows × 7 columns</p>\n",
       "</div>"
      ],
      "text/plain": [
       "            Date      AMBEV  ODONTOPREV       VIVO  PETROBRAS    BBRASIL  \\\n",
       "0     2015-01-02  16.020000    8.518181  37.820000   9.000000  11.325000   \n",
       "1     2015-01-05  15.730000    8.745454  37.070000   8.270000  11.090000   \n",
       "2     2015-01-06  16.330000    8.681818  36.150002   8.060000  11.245000   \n",
       "3     2015-01-07  16.559999    8.809090  37.389999   8.450000  11.740000   \n",
       "4     2015-01-08  16.540001    8.781818  38.910000   9.020000  11.780000   \n",
       "...          ...        ...         ...        ...        ...        ...   \n",
       "2314  2024-04-24  12.040000   11.050000  47.900002  43.270000  27.500000   \n",
       "2315  2024-04-25  12.020000   11.540000  47.689999  44.250000  27.379999   \n",
       "2316  2024-04-26  12.010000   11.690000  48.000000  43.750000  27.379999   \n",
       "2317  2024-04-29  12.100000   11.960000  47.930000  44.540001  27.549999   \n",
       "2318  2024-04-30  12.170000   11.980000  47.849998  44.230000  27.469999   \n",
       "\n",
       "            BOVA  \n",
       "0      47.259998  \n",
       "1      46.320000  \n",
       "2      46.580002  \n",
       "3      48.150002  \n",
       "4      48.509998  \n",
       "...          ...  \n",
       "2314  120.970001  \n",
       "2315  120.910004  \n",
       "2316  122.830002  \n",
       "2317  123.769997  \n",
       "2318  122.300003  \n",
       "\n",
       "[2319 rows x 7 columns]"
      ]
     },
     "execution_count": 2,
     "metadata": {},
     "output_type": "execute_result"
    }
   ],
   "source": [
    "dataset = pd.read_csv('acoes_ex.csv')\n",
    "dataset"
   ]
  },
  {
   "cell_type": "markdown",
   "metadata": {},
   "source": [
    "CALCULOS DOS RETORNOS ANUAIS"
   ]
  },
  {
   "cell_type": "code",
   "execution_count": 3,
   "metadata": {},
   "outputs": [
    {
     "data": {
      "text/html": [
       "<div>\n",
       "<style scoped>\n",
       "    .dataframe tbody tr th:only-of-type {\n",
       "        vertical-align: middle;\n",
       "    }\n",
       "\n",
       "    .dataframe tbody tr th {\n",
       "        vertical-align: top;\n",
       "    }\n",
       "\n",
       "    .dataframe thead th {\n",
       "        text-align: right;\n",
       "    }\n",
       "</style>\n",
       "<table border=\"1\" class=\"dataframe\">\n",
       "  <thead>\n",
       "    <tr style=\"text-align: right;\">\n",
       "      <th></th>\n",
       "      <th>AMBEV</th>\n",
       "      <th>ODONTOPREV</th>\n",
       "      <th>VIVO</th>\n",
       "      <th>PETROBRAS</th>\n",
       "      <th>BBRASIL</th>\n",
       "      <th>BOVA</th>\n",
       "    </tr>\n",
       "  </thead>\n",
       "  <tbody>\n",
       "    <tr>\n",
       "      <th>count</th>\n",
       "      <td>2319.000000</td>\n",
       "      <td>2319.000000</td>\n",
       "      <td>2319.000000</td>\n",
       "      <td>2319.000000</td>\n",
       "      <td>2319.000000</td>\n",
       "      <td>2292.000000</td>\n",
       "    </tr>\n",
       "    <tr>\n",
       "      <th>mean</th>\n",
       "      <td>16.905653</td>\n",
       "      <td>11.794318</td>\n",
       "      <td>42.386300</td>\n",
       "      <td>23.861574</td>\n",
       "      <td>17.425248</td>\n",
       "      <td>86.480615</td>\n",
       "    </tr>\n",
       "    <tr>\n",
       "      <th>std</th>\n",
       "      <td>2.648044</td>\n",
       "      <td>1.901666</td>\n",
       "      <td>5.461489</td>\n",
       "      <td>9.184323</td>\n",
       "      <td>5.375518</td>\n",
       "      <td>25.215621</td>\n",
       "    </tr>\n",
       "    <tr>\n",
       "      <th>min</th>\n",
       "      <td>11.030000</td>\n",
       "      <td>8.130000</td>\n",
       "      <td>28.980000</td>\n",
       "      <td>5.910000</td>\n",
       "      <td>6.350000</td>\n",
       "      <td>36.450001</td>\n",
       "    </tr>\n",
       "    <tr>\n",
       "      <th>25%</th>\n",
       "      <td>14.710000</td>\n",
       "      <td>10.338181</td>\n",
       "      <td>38.250000</td>\n",
       "      <td>15.705000</td>\n",
       "      <td>14.210000</td>\n",
       "      <td>62.567500</td>\n",
       "    </tr>\n",
       "    <tr>\n",
       "      <th>50%</th>\n",
       "      <td>17.200001</td>\n",
       "      <td>11.690909</td>\n",
       "      <td>42.130001</td>\n",
       "      <td>24.520000</td>\n",
       "      <td>16.695000</td>\n",
       "      <td>93.079998</td>\n",
       "    </tr>\n",
       "    <tr>\n",
       "      <th>75%</th>\n",
       "      <td>18.870001</td>\n",
       "      <td>13.040908</td>\n",
       "      <td>45.705000</td>\n",
       "      <td>30.549999</td>\n",
       "      <td>21.525001</td>\n",
       "      <td>107.982502</td>\n",
       "    </tr>\n",
       "    <tr>\n",
       "      <th>max</th>\n",
       "      <td>24.270000</td>\n",
       "      <td>16.754545</td>\n",
       "      <td>56.740002</td>\n",
       "      <td>44.540001</td>\n",
       "      <td>29.799999</td>\n",
       "      <td>130.389999</td>\n",
       "    </tr>\n",
       "  </tbody>\n",
       "</table>\n",
       "</div>"
      ],
      "text/plain": [
       "             AMBEV   ODONTOPREV         VIVO    PETROBRAS      BBRASIL  \\\n",
       "count  2319.000000  2319.000000  2319.000000  2319.000000  2319.000000   \n",
       "mean     16.905653    11.794318    42.386300    23.861574    17.425248   \n",
       "std       2.648044     1.901666     5.461489     9.184323     5.375518   \n",
       "min      11.030000     8.130000    28.980000     5.910000     6.350000   \n",
       "25%      14.710000    10.338181    38.250000    15.705000    14.210000   \n",
       "50%      17.200001    11.690909    42.130001    24.520000    16.695000   \n",
       "75%      18.870001    13.040908    45.705000    30.549999    21.525001   \n",
       "max      24.270000    16.754545    56.740002    44.540001    29.799999   \n",
       "\n",
       "              BOVA  \n",
       "count  2292.000000  \n",
       "mean     86.480615  \n",
       "std      25.215621  \n",
       "min      36.450001  \n",
       "25%      62.567500  \n",
       "50%      93.079998  \n",
       "75%     107.982502  \n",
       "max     130.389999  "
      ]
     },
     "execution_count": 3,
     "metadata": {},
     "output_type": "execute_result"
    }
   ],
   "source": [
    "dataset.describe()"
   ]
  },
  {
   "cell_type": "markdown",
   "metadata": {},
   "source": [
    "CÁLCULOS COM TODAS AS ACÕES - RISCO MÉDIO ANUAL"
   ]
  },
  {
   "cell_type": "code",
   "execution_count": 4,
   "metadata": {},
   "outputs": [
    {
     "data": {
      "text/html": [
       "<div>\n",
       "<style scoped>\n",
       "    .dataframe tbody tr th:only-of-type {\n",
       "        vertical-align: middle;\n",
       "    }\n",
       "\n",
       "    .dataframe tbody tr th {\n",
       "        vertical-align: top;\n",
       "    }\n",
       "\n",
       "    .dataframe thead th {\n",
       "        text-align: right;\n",
       "    }\n",
       "</style>\n",
       "<table border=\"1\" class=\"dataframe\">\n",
       "  <thead>\n",
       "    <tr style=\"text-align: right;\">\n",
       "      <th></th>\n",
       "      <th>AMBEV</th>\n",
       "      <th>ODONTOPREV</th>\n",
       "      <th>VIVO</th>\n",
       "      <th>PETROBRAS</th>\n",
       "      <th>BBRASIL</th>\n",
       "      <th>BOVA</th>\n",
       "    </tr>\n",
       "  </thead>\n",
       "  <tbody>\n",
       "    <tr>\n",
       "      <th>0</th>\n",
       "      <td>16.020000</td>\n",
       "      <td>8.518181</td>\n",
       "      <td>37.820000</td>\n",
       "      <td>9.000000</td>\n",
       "      <td>11.325000</td>\n",
       "      <td>47.259998</td>\n",
       "    </tr>\n",
       "    <tr>\n",
       "      <th>1</th>\n",
       "      <td>15.730000</td>\n",
       "      <td>8.745454</td>\n",
       "      <td>37.070000</td>\n",
       "      <td>8.270000</td>\n",
       "      <td>11.090000</td>\n",
       "      <td>46.320000</td>\n",
       "    </tr>\n",
       "    <tr>\n",
       "      <th>2</th>\n",
       "      <td>16.330000</td>\n",
       "      <td>8.681818</td>\n",
       "      <td>36.150002</td>\n",
       "      <td>8.060000</td>\n",
       "      <td>11.245000</td>\n",
       "      <td>46.580002</td>\n",
       "    </tr>\n",
       "    <tr>\n",
       "      <th>3</th>\n",
       "      <td>16.559999</td>\n",
       "      <td>8.809090</td>\n",
       "      <td>37.389999</td>\n",
       "      <td>8.450000</td>\n",
       "      <td>11.740000</td>\n",
       "      <td>48.150002</td>\n",
       "    </tr>\n",
       "    <tr>\n",
       "      <th>4</th>\n",
       "      <td>16.540001</td>\n",
       "      <td>8.781818</td>\n",
       "      <td>38.910000</td>\n",
       "      <td>9.020000</td>\n",
       "      <td>11.780000</td>\n",
       "      <td>48.509998</td>\n",
       "    </tr>\n",
       "    <tr>\n",
       "      <th>...</th>\n",
       "      <td>...</td>\n",
       "      <td>...</td>\n",
       "      <td>...</td>\n",
       "      <td>...</td>\n",
       "      <td>...</td>\n",
       "      <td>...</td>\n",
       "    </tr>\n",
       "    <tr>\n",
       "      <th>2314</th>\n",
       "      <td>12.040000</td>\n",
       "      <td>11.050000</td>\n",
       "      <td>47.900002</td>\n",
       "      <td>43.270000</td>\n",
       "      <td>27.500000</td>\n",
       "      <td>120.970001</td>\n",
       "    </tr>\n",
       "    <tr>\n",
       "      <th>2315</th>\n",
       "      <td>12.020000</td>\n",
       "      <td>11.540000</td>\n",
       "      <td>47.689999</td>\n",
       "      <td>44.250000</td>\n",
       "      <td>27.379999</td>\n",
       "      <td>120.910004</td>\n",
       "    </tr>\n",
       "    <tr>\n",
       "      <th>2316</th>\n",
       "      <td>12.010000</td>\n",
       "      <td>11.690000</td>\n",
       "      <td>48.000000</td>\n",
       "      <td>43.750000</td>\n",
       "      <td>27.379999</td>\n",
       "      <td>122.830002</td>\n",
       "    </tr>\n",
       "    <tr>\n",
       "      <th>2317</th>\n",
       "      <td>12.100000</td>\n",
       "      <td>11.960000</td>\n",
       "      <td>47.930000</td>\n",
       "      <td>44.540001</td>\n",
       "      <td>27.549999</td>\n",
       "      <td>123.769997</td>\n",
       "    </tr>\n",
       "    <tr>\n",
       "      <th>2318</th>\n",
       "      <td>12.170000</td>\n",
       "      <td>11.980000</td>\n",
       "      <td>47.849998</td>\n",
       "      <td>44.230000</td>\n",
       "      <td>27.469999</td>\n",
       "      <td>122.300003</td>\n",
       "    </tr>\n",
       "  </tbody>\n",
       "</table>\n",
       "<p>2319 rows × 6 columns</p>\n",
       "</div>"
      ],
      "text/plain": [
       "          AMBEV  ODONTOPREV       VIVO  PETROBRAS    BBRASIL        BOVA\n",
       "0     16.020000    8.518181  37.820000   9.000000  11.325000   47.259998\n",
       "1     15.730000    8.745454  37.070000   8.270000  11.090000   46.320000\n",
       "2     16.330000    8.681818  36.150002   8.060000  11.245000   46.580002\n",
       "3     16.559999    8.809090  37.389999   8.450000  11.740000   48.150002\n",
       "4     16.540001    8.781818  38.910000   9.020000  11.780000   48.509998\n",
       "...         ...         ...        ...        ...        ...         ...\n",
       "2314  12.040000   11.050000  47.900002  43.270000  27.500000  120.970001\n",
       "2315  12.020000   11.540000  47.689999  44.250000  27.379999  120.910004\n",
       "2316  12.010000   11.690000  48.000000  43.750000  27.379999  122.830002\n",
       "2317  12.100000   11.960000  47.930000  44.540001  27.549999  123.769997\n",
       "2318  12.170000   11.980000  47.849998  44.230000  27.469999  122.300003\n",
       "\n",
       "[2319 rows x 6 columns]"
      ]
     },
     "execution_count": 4,
     "metadata": {},
     "output_type": "execute_result"
    }
   ],
   "source": [
    "dataset.drop(labels = ['Date'], axis=1, inplace=True)\n",
    "dataset"
   ]
  },
  {
   "cell_type": "code",
   "execution_count": 5,
   "metadata": {},
   "outputs": [
    {
     "data": {
      "text/html": [
       "<div>\n",
       "<style scoped>\n",
       "    .dataframe tbody tr th:only-of-type {\n",
       "        vertical-align: middle;\n",
       "    }\n",
       "\n",
       "    .dataframe tbody tr th {\n",
       "        vertical-align: top;\n",
       "    }\n",
       "\n",
       "    .dataframe thead th {\n",
       "        text-align: right;\n",
       "    }\n",
       "</style>\n",
       "<table border=\"1\" class=\"dataframe\">\n",
       "  <thead>\n",
       "    <tr style=\"text-align: right;\">\n",
       "      <th></th>\n",
       "      <th>AMBEV</th>\n",
       "      <th>ODONTOPREV</th>\n",
       "      <th>VIVO</th>\n",
       "      <th>PETROBRAS</th>\n",
       "      <th>BBRASIL</th>\n",
       "      <th>BOVA</th>\n",
       "    </tr>\n",
       "  </thead>\n",
       "  <tbody>\n",
       "    <tr>\n",
       "      <th>0</th>\n",
       "      <td>NaN</td>\n",
       "      <td>NaN</td>\n",
       "      <td>NaN</td>\n",
       "      <td>NaN</td>\n",
       "      <td>NaN</td>\n",
       "      <td>NaN</td>\n",
       "    </tr>\n",
       "    <tr>\n",
       "      <th>1</th>\n",
       "      <td>-0.018102</td>\n",
       "      <td>0.026681</td>\n",
       "      <td>-0.019831</td>\n",
       "      <td>-0.081111</td>\n",
       "      <td>-0.020751</td>\n",
       "      <td>-0.019890</td>\n",
       "    </tr>\n",
       "    <tr>\n",
       "      <th>2</th>\n",
       "      <td>0.038144</td>\n",
       "      <td>-0.007276</td>\n",
       "      <td>-0.024818</td>\n",
       "      <td>-0.025393</td>\n",
       "      <td>0.013977</td>\n",
       "      <td>0.005613</td>\n",
       "    </tr>\n",
       "    <tr>\n",
       "      <th>3</th>\n",
       "      <td>0.014084</td>\n",
       "      <td>0.014660</td>\n",
       "      <td>0.034301</td>\n",
       "      <td>0.048387</td>\n",
       "      <td>0.044020</td>\n",
       "      <td>0.033705</td>\n",
       "    </tr>\n",
       "    <tr>\n",
       "      <th>4</th>\n",
       "      <td>-0.001208</td>\n",
       "      <td>-0.003096</td>\n",
       "      <td>0.040653</td>\n",
       "      <td>0.067456</td>\n",
       "      <td>0.003407</td>\n",
       "      <td>0.007477</td>\n",
       "    </tr>\n",
       "    <tr>\n",
       "      <th>...</th>\n",
       "      <td>...</td>\n",
       "      <td>...</td>\n",
       "      <td>...</td>\n",
       "      <td>...</td>\n",
       "      <td>...</td>\n",
       "      <td>...</td>\n",
       "    </tr>\n",
       "    <tr>\n",
       "      <th>2314</th>\n",
       "      <td>0.015177</td>\n",
       "      <td>0.010979</td>\n",
       "      <td>-0.007048</td>\n",
       "      <td>-0.004372</td>\n",
       "      <td>-0.003623</td>\n",
       "      <td>-0.003624</td>\n",
       "    </tr>\n",
       "    <tr>\n",
       "      <th>2315</th>\n",
       "      <td>-0.001661</td>\n",
       "      <td>0.044344</td>\n",
       "      <td>-0.004384</td>\n",
       "      <td>0.022648</td>\n",
       "      <td>-0.004364</td>\n",
       "      <td>-0.000496</td>\n",
       "    </tr>\n",
       "    <tr>\n",
       "      <th>2316</th>\n",
       "      <td>-0.000832</td>\n",
       "      <td>0.012998</td>\n",
       "      <td>0.006500</td>\n",
       "      <td>-0.011299</td>\n",
       "      <td>0.000000</td>\n",
       "      <td>0.015880</td>\n",
       "    </tr>\n",
       "    <tr>\n",
       "      <th>2317</th>\n",
       "      <td>0.007494</td>\n",
       "      <td>0.023097</td>\n",
       "      <td>-0.001458</td>\n",
       "      <td>0.018057</td>\n",
       "      <td>0.006209</td>\n",
       "      <td>0.007653</td>\n",
       "    </tr>\n",
       "    <tr>\n",
       "      <th>2318</th>\n",
       "      <td>0.005785</td>\n",
       "      <td>0.001672</td>\n",
       "      <td>-0.001669</td>\n",
       "      <td>-0.006960</td>\n",
       "      <td>-0.002904</td>\n",
       "      <td>-0.011877</td>\n",
       "    </tr>\n",
       "  </tbody>\n",
       "</table>\n",
       "<p>2319 rows × 6 columns</p>\n",
       "</div>"
      ],
      "text/plain": [
       "         AMBEV  ODONTOPREV      VIVO  PETROBRAS   BBRASIL      BOVA\n",
       "0          NaN         NaN       NaN        NaN       NaN       NaN\n",
       "1    -0.018102    0.026681 -0.019831  -0.081111 -0.020751 -0.019890\n",
       "2     0.038144   -0.007276 -0.024818  -0.025393  0.013977  0.005613\n",
       "3     0.014084    0.014660  0.034301   0.048387  0.044020  0.033705\n",
       "4    -0.001208   -0.003096  0.040653   0.067456  0.003407  0.007477\n",
       "...        ...         ...       ...        ...       ...       ...\n",
       "2314  0.015177    0.010979 -0.007048  -0.004372 -0.003623 -0.003624\n",
       "2315 -0.001661    0.044344 -0.004384   0.022648 -0.004364 -0.000496\n",
       "2316 -0.000832    0.012998  0.006500  -0.011299  0.000000  0.015880\n",
       "2317  0.007494    0.023097 -0.001458   0.018057  0.006209  0.007653\n",
       "2318  0.005785    0.001672 -0.001669  -0.006960 -0.002904 -0.011877\n",
       "\n",
       "[2319 rows x 6 columns]"
      ]
     },
     "execution_count": 5,
     "metadata": {},
     "output_type": "execute_result"
    }
   ],
   "source": [
    "taxas_retorno = (dataset / dataset.shift(1)) - 1\n",
    "taxas_retorno"
   ]
  },
  {
   "cell_type": "code",
   "execution_count": 6,
   "metadata": {},
   "outputs": [
    {
     "data": {
      "text/plain": [
       "AMBEV         1.687744\n",
       "ODONTOPREV    2.022461\n",
       "VIVO          1.809923\n",
       "PETROBRAS     3.095668\n",
       "BBRASIL       2.622938\n",
       "BOVA          1.573823\n",
       "dtype: float64"
      ]
     },
     "execution_count": 6,
     "metadata": {},
     "output_type": "execute_result"
    }
   ],
   "source": [
    "taxas_retorno.std() * 100\n",
    "\n",
    "# MENOR DESVIO INDICA MENOR RISCO"
   ]
  },
  {
   "cell_type": "code",
   "execution_count": 7,
   "metadata": {},
   "outputs": [
    {
     "data": {
      "text/plain": [
       "AMBEV         0.264712\n",
       "ODONTOPREV    0.317211\n",
       "VIVO          0.283875\n",
       "PETROBRAS     0.485537\n",
       "BBRASIL       0.411392\n",
       "BOVA          0.246845\n",
       "dtype: float64"
      ]
     },
     "execution_count": 7,
     "metadata": {},
     "output_type": "execute_result"
    }
   ],
   "source": [
    "# ABAIXO ESTÁ O RISCO MEDIO ANUAL\n",
    "taxas_retorno.std() * math.sqrt(246) # ANUALIZAR"
   ]
  },
  {
   "cell_type": "markdown",
   "metadata": {},
   "source": [
    "CORRELAÇÃO, COVARIÂNCIA"
   ]
  },
  {
   "cell_type": "code",
   "execution_count": 8,
   "metadata": {},
   "outputs": [
    {
     "data": {
      "text/html": [
       "<div>\n",
       "<style scoped>\n",
       "    .dataframe tbody tr th:only-of-type {\n",
       "        vertical-align: middle;\n",
       "    }\n",
       "\n",
       "    .dataframe tbody tr th {\n",
       "        vertical-align: top;\n",
       "    }\n",
       "\n",
       "    .dataframe thead th {\n",
       "        text-align: right;\n",
       "    }\n",
       "</style>\n",
       "<table border=\"1\" class=\"dataframe\">\n",
       "  <thead>\n",
       "    <tr style=\"text-align: right;\">\n",
       "      <th></th>\n",
       "      <th>AMBEV</th>\n",
       "      <th>ODONTOPREV</th>\n",
       "      <th>VIVO</th>\n",
       "      <th>PETROBRAS</th>\n",
       "      <th>BBRASIL</th>\n",
       "      <th>BOVA</th>\n",
       "    </tr>\n",
       "  </thead>\n",
       "  <tbody>\n",
       "    <tr>\n",
       "      <th>AMBEV</th>\n",
       "      <td>0.000285</td>\n",
       "      <td>0.000065</td>\n",
       "      <td>0.000095</td>\n",
       "      <td>0.000173</td>\n",
       "      <td>0.000175</td>\n",
       "      <td>0.000149</td>\n",
       "    </tr>\n",
       "    <tr>\n",
       "      <th>ODONTOPREV</th>\n",
       "      <td>0.000065</td>\n",
       "      <td>0.000409</td>\n",
       "      <td>0.000077</td>\n",
       "      <td>0.000128</td>\n",
       "      <td>0.000136</td>\n",
       "      <td>0.000112</td>\n",
       "    </tr>\n",
       "    <tr>\n",
       "      <th>VIVO</th>\n",
       "      <td>0.000095</td>\n",
       "      <td>0.000077</td>\n",
       "      <td>0.000328</td>\n",
       "      <td>0.000168</td>\n",
       "      <td>0.000164</td>\n",
       "      <td>0.000124</td>\n",
       "    </tr>\n",
       "    <tr>\n",
       "      <th>PETROBRAS</th>\n",
       "      <td>0.000173</td>\n",
       "      <td>0.000128</td>\n",
       "      <td>0.000168</td>\n",
       "      <td>0.000958</td>\n",
       "      <td>0.000480</td>\n",
       "      <td>0.000354</td>\n",
       "    </tr>\n",
       "    <tr>\n",
       "      <th>BBRASIL</th>\n",
       "      <td>0.000175</td>\n",
       "      <td>0.000136</td>\n",
       "      <td>0.000164</td>\n",
       "      <td>0.000480</td>\n",
       "      <td>0.000688</td>\n",
       "      <td>0.000320</td>\n",
       "    </tr>\n",
       "    <tr>\n",
       "      <th>BOVA</th>\n",
       "      <td>0.000149</td>\n",
       "      <td>0.000112</td>\n",
       "      <td>0.000124</td>\n",
       "      <td>0.000354</td>\n",
       "      <td>0.000320</td>\n",
       "      <td>0.000248</td>\n",
       "    </tr>\n",
       "  </tbody>\n",
       "</table>\n",
       "</div>"
      ],
      "text/plain": [
       "               AMBEV  ODONTOPREV      VIVO  PETROBRAS   BBRASIL      BOVA\n",
       "AMBEV       0.000285    0.000065  0.000095   0.000173  0.000175  0.000149\n",
       "ODONTOPREV  0.000065    0.000409  0.000077   0.000128  0.000136  0.000112\n",
       "VIVO        0.000095    0.000077  0.000328   0.000168  0.000164  0.000124\n",
       "PETROBRAS   0.000173    0.000128  0.000168   0.000958  0.000480  0.000354\n",
       "BBRASIL     0.000175    0.000136  0.000164   0.000480  0.000688  0.000320\n",
       "BOVA        0.000149    0.000112  0.000124   0.000354  0.000320  0.000248"
      ]
     },
     "execution_count": 8,
     "metadata": {},
     "output_type": "execute_result"
    }
   ],
   "source": [
    "# Indica se variam juntos, um grau de similaridade\n",
    "taxas_retorno.cov()"
   ]
  },
  {
   "cell_type": "code",
   "execution_count": 9,
   "metadata": {},
   "outputs": [
    {
     "data": {
      "text/html": [
       "<div>\n",
       "<style scoped>\n",
       "    .dataframe tbody tr th:only-of-type {\n",
       "        vertical-align: middle;\n",
       "    }\n",
       "\n",
       "    .dataframe tbody tr th {\n",
       "        vertical-align: top;\n",
       "    }\n",
       "\n",
       "    .dataframe thead th {\n",
       "        text-align: right;\n",
       "    }\n",
       "</style>\n",
       "<table border=\"1\" class=\"dataframe\">\n",
       "  <thead>\n",
       "    <tr style=\"text-align: right;\">\n",
       "      <th></th>\n",
       "      <th>AMBEV</th>\n",
       "      <th>ODONTOPREV</th>\n",
       "      <th>VIVO</th>\n",
       "      <th>PETROBRAS</th>\n",
       "      <th>BBRASIL</th>\n",
       "      <th>BOVA</th>\n",
       "    </tr>\n",
       "  </thead>\n",
       "  <tbody>\n",
       "    <tr>\n",
       "      <th>AMBEV</th>\n",
       "      <td>1.000000</td>\n",
       "      <td>0.189528</td>\n",
       "      <td>0.311110</td>\n",
       "      <td>0.331778</td>\n",
       "      <td>0.394682</td>\n",
       "      <td>0.558476</td>\n",
       "    </tr>\n",
       "    <tr>\n",
       "      <th>ODONTOPREV</th>\n",
       "      <td>0.189528</td>\n",
       "      <td>1.000000</td>\n",
       "      <td>0.209613</td>\n",
       "      <td>0.204100</td>\n",
       "      <td>0.255449</td>\n",
       "      <td>0.348905</td>\n",
       "    </tr>\n",
       "    <tr>\n",
       "      <th>VIVO</th>\n",
       "      <td>0.311110</td>\n",
       "      <td>0.209613</td>\n",
       "      <td>1.000000</td>\n",
       "      <td>0.299532</td>\n",
       "      <td>0.345075</td>\n",
       "      <td>0.432388</td>\n",
       "    </tr>\n",
       "    <tr>\n",
       "      <th>PETROBRAS</th>\n",
       "      <td>0.331778</td>\n",
       "      <td>0.204100</td>\n",
       "      <td>0.299532</td>\n",
       "      <td>1.000000</td>\n",
       "      <td>0.591742</td>\n",
       "      <td>0.722359</td>\n",
       "    </tr>\n",
       "    <tr>\n",
       "      <th>BBRASIL</th>\n",
       "      <td>0.394682</td>\n",
       "      <td>0.255449</td>\n",
       "      <td>0.345075</td>\n",
       "      <td>0.591742</td>\n",
       "      <td>1.000000</td>\n",
       "      <td>0.773119</td>\n",
       "    </tr>\n",
       "    <tr>\n",
       "      <th>BOVA</th>\n",
       "      <td>0.558476</td>\n",
       "      <td>0.348905</td>\n",
       "      <td>0.432388</td>\n",
       "      <td>0.722359</td>\n",
       "      <td>0.773119</td>\n",
       "      <td>1.000000</td>\n",
       "    </tr>\n",
       "  </tbody>\n",
       "</table>\n",
       "</div>"
      ],
      "text/plain": [
       "               AMBEV  ODONTOPREV      VIVO  PETROBRAS   BBRASIL      BOVA\n",
       "AMBEV       1.000000    0.189528  0.311110   0.331778  0.394682  0.558476\n",
       "ODONTOPREV  0.189528    1.000000  0.209613   0.204100  0.255449  0.348905\n",
       "VIVO        0.311110    0.209613  1.000000   0.299532  0.345075  0.432388\n",
       "PETROBRAS   0.331778    0.204100  0.299532   1.000000  0.591742  0.722359\n",
       "BBRASIL     0.394682    0.255449  0.345075   0.591742  1.000000  0.773119\n",
       "BOVA        0.558476    0.348905  0.432388   0.722359  0.773119  1.000000"
      ]
     },
     "execution_count": 9,
     "metadata": {},
     "output_type": "execute_result"
    }
   ],
   "source": [
    "# Indica a correlação entre as variaveis\n",
    "# Indice de correlaçao varia entre -1 e 1\n",
    "taxas_retorno.corr()"
   ]
  },
  {
   "cell_type": "code",
   "execution_count": 10,
   "metadata": {},
   "outputs": [
    {
     "data": {
      "text/plain": [
       "<Axes: >"
      ]
     },
     "execution_count": 10,
     "metadata": {},
     "output_type": "execute_result"
    },
    {
     "data": {
      "image/png": "[encoded data removed]",
      "text/plain": [
       "<Figure size 800x800 with 2 Axes>"
      ]
     },
     "metadata": {},
     "output_type": "display_data"
    }
   ],
   "source": [
    "plt.figure(figsize=(8,8))\n",
    "sns.heatmap(taxas_retorno.corr(), annot=True)\n"
   ]
  },
  {
   "cell_type": "markdown",
   "metadata": {},
   "source": [
    "CALCULANDO A VOLATILIDADE DE TODA A CARTEIRA"
   ]
  },
  {
   "cell_type": "code",
   "execution_count": 11,
   "metadata": {},
   "outputs": [],
   "source": [
    "pesos1 = np.array([0.2, 0.2, 0.2, 0.2, 0.2, 0.0])"
   ]
  },
  {
   "cell_type": "code",
   "execution_count": 12,
   "metadata": {},
   "outputs": [
    {
     "data": {
      "text/html": [
       "<div>\n",
       "<style scoped>\n",
       "    .dataframe tbody tr th:only-of-type {\n",
       "        vertical-align: middle;\n",
       "    }\n",
       "\n",
       "    .dataframe tbody tr th {\n",
       "        vertical-align: top;\n",
       "    }\n",
       "\n",
       "    .dataframe thead th {\n",
       "        text-align: right;\n",
       "    }\n",
       "</style>\n",
       "<table border=\"1\" class=\"dataframe\">\n",
       "  <thead>\n",
       "    <tr style=\"text-align: right;\">\n",
       "      <th></th>\n",
       "      <th>AMBEV</th>\n",
       "      <th>ODONTOPREV</th>\n",
       "      <th>VIVO</th>\n",
       "      <th>PETROBRAS</th>\n",
       "      <th>BBRASIL</th>\n",
       "      <th>BOVA</th>\n",
       "    </tr>\n",
       "  </thead>\n",
       "  <tbody>\n",
       "    <tr>\n",
       "      <th>AMBEV</th>\n",
       "      <td>0.070073</td>\n",
       "      <td>0.015915</td>\n",
       "      <td>0.023378</td>\n",
       "      <td>0.042643</td>\n",
       "      <td>0.042981</td>\n",
       "      <td>0.036539</td>\n",
       "    </tr>\n",
       "    <tr>\n",
       "      <th>ODONTOPREV</th>\n",
       "      <td>0.015915</td>\n",
       "      <td>0.100623</td>\n",
       "      <td>0.018875</td>\n",
       "      <td>0.031435</td>\n",
       "      <td>0.033336</td>\n",
       "      <td>0.027460</td>\n",
       "    </tr>\n",
       "    <tr>\n",
       "      <th>VIVO</th>\n",
       "      <td>0.023378</td>\n",
       "      <td>0.018875</td>\n",
       "      <td>0.080585</td>\n",
       "      <td>0.041285</td>\n",
       "      <td>0.040299</td>\n",
       "      <td>0.030443</td>\n",
       "    </tr>\n",
       "    <tr>\n",
       "      <th>PETROBRAS</th>\n",
       "      <td>0.042643</td>\n",
       "      <td>0.031435</td>\n",
       "      <td>0.041285</td>\n",
       "      <td>0.235746</td>\n",
       "      <td>0.118198</td>\n",
       "      <td>0.086987</td>\n",
       "    </tr>\n",
       "    <tr>\n",
       "      <th>BBRASIL</th>\n",
       "      <td>0.042981</td>\n",
       "      <td>0.033336</td>\n",
       "      <td>0.040299</td>\n",
       "      <td>0.118198</td>\n",
       "      <td>0.169243</td>\n",
       "      <td>0.078794</td>\n",
       "    </tr>\n",
       "    <tr>\n",
       "      <th>BOVA</th>\n",
       "      <td>0.036539</td>\n",
       "      <td>0.027460</td>\n",
       "      <td>0.030443</td>\n",
       "      <td>0.086987</td>\n",
       "      <td>0.078794</td>\n",
       "      <td>0.060932</td>\n",
       "    </tr>\n",
       "  </tbody>\n",
       "</table>\n",
       "</div>"
      ],
      "text/plain": [
       "               AMBEV  ODONTOPREV      VIVO  PETROBRAS   BBRASIL      BOVA\n",
       "AMBEV       0.070073    0.015915  0.023378   0.042643  0.042981  0.036539\n",
       "ODONTOPREV  0.015915    0.100623  0.018875   0.031435  0.033336  0.027460\n",
       "VIVO        0.023378    0.018875  0.080585   0.041285  0.040299  0.030443\n",
       "PETROBRAS   0.042643    0.031435  0.041285   0.235746  0.118198  0.086987\n",
       "BBRASIL     0.042981    0.033336  0.040299   0.118198  0.169243  0.078794\n",
       "BOVA        0.036539    0.027460  0.030443   0.086987  0.078794  0.060932"
      ]
     },
     "execution_count": 12,
     "metadata": {},
     "output_type": "execute_result"
    }
   ],
   "source": [
    "taxas_retorno.cov() * 246"
   ]
  },
  {
   "cell_type": "code",
   "execution_count": 13,
   "metadata": {},
   "outputs": [
    {
     "data": {
      "text/plain": [
       "array([0.03899787, 0.04003658, 0.04088465, 0.09386123, 0.08081138,\n",
       "       0.05204471])"
      ]
     },
     "execution_count": 13,
     "metadata": {},
     "output_type": "execute_result"
    }
   ],
   "source": [
    "np.dot(taxas_retorno.cov() * 246, pesos1)"
   ]
  },
  {
   "cell_type": "code",
   "execution_count": 14,
   "metadata": {},
   "outputs": [
    {
     "data": {
      "text/plain": [
       "0.058918339855530646"
      ]
     },
     "execution_count": 14,
     "metadata": {},
     "output_type": "execute_result"
    }
   ],
   "source": [
    "import numpy as np\n",
    "\n",
    "# Calcule a matriz de covariância das taxas de retorno\n",
    "covariance_matrix = taxas_retorno.cov()\n",
    "\n",
    "# Calcule a variância do portfólio usando a fórmula de portfólio\n",
    "variancia_portfolio1 = np.dot(np.dot(pesos1, covariance_matrix * 246), pesos1)\n",
    "variancia_portfolio1"
   ]
  },
  {
   "cell_type": "code",
   "execution_count": 15,
   "metadata": {},
   "outputs": [
    {
     "data": {
      "text/plain": [
       "0.2427310030785739"
      ]
     },
     "execution_count": 15,
     "metadata": {},
     "output_type": "execute_result"
    }
   ],
   "source": [
    "volatiidade_portfolio1 = math.sqrt(variancia_portfolio1)\n",
    "volatiidade_portfolio1\n",
    "# Pode multiplicar por 100 para achar em pocentagem já que no cálculo do RS não foi multiplicado por 100. O que não pode é multiplicar duas vezes"
   ]
  },
  {
   "cell_type": "code",
   "execution_count": 16,
   "metadata": {},
   "outputs": [],
   "source": [
    "pesos2 = np.array([0.0, 0.0, 0.0, 0.0, 0.0, 1])"
   ]
  },
  {
   "cell_type": "code",
   "execution_count": 17,
   "metadata": {},
   "outputs": [
    {
     "data": {
      "text/plain": [
       "0.060932230671096495"
      ]
     },
     "execution_count": 17,
     "metadata": {},
     "output_type": "execute_result"
    }
   ],
   "source": [
    "covariance_matrix = taxas_retorno.cov()\n",
    "\n",
    "# Calcule a variância do portfólio usando a fórmula de portfólio\n",
    "variancia_portfolio2 = np.dot(np.dot(pesos2, covariance_matrix * 246), pesos2)\n",
    "variancia_portfolio2"
   ]
  },
  {
   "cell_type": "code",
   "execution_count": 18,
   "metadata": {},
   "outputs": [
    {
     "data": {
      "text/plain": [
       "0.2468445475822719"
      ]
     },
     "execution_count": 18,
     "metadata": {},
     "output_type": "execute_result"
    }
   ],
   "source": [
    "# BOVA TEVE VOLATILIDADE UM POUCO MAIOR ATÉ 01/05/2024\n",
    "volatiidade_portfolio2 = math.sqrt(variancia_portfolio2)\n",
    "volatiidade_portfolio2"
   ]
  },
  {
   "cell_type": "markdown",
   "metadata": {},
   "source": [
    "RISCO SISTEMÁTICO E NÃO SISTEMÁTICO"
   ]
  },
  {
   "cell_type": "code",
   "execution_count": 19,
   "metadata": {},
   "outputs": [],
   "source": [
    "# RISCO SISTEMÁTICO DEPENDE DE EVENTOS EXTERNOS À EMPRESA\n",
    "# N SIST. É ESPECÍFICO DA EMPRESA"
   ]
  },
  {
   "cell_type": "code",
   "execution_count": 20,
   "metadata": {},
   "outputs": [
    {
     "data": {
      "text/plain": [
       "AMBEV         0.000285\n",
       "ODONTOPREV    0.000409\n",
       "VIVO          0.000328\n",
       "PETROBRAS     0.000958\n",
       "BBRASIL       0.000688\n",
       "BOVA          0.000248\n",
       "dtype: float64"
      ]
     },
     "execution_count": 20,
     "metadata": {},
     "output_type": "execute_result"
    }
   ],
   "source": [
    "taxas_retorno.var() # Variancia é como os dados variam em relação à média"
   ]
  },
  {
   "cell_type": "code",
   "execution_count": 21,
   "metadata": {},
   "outputs": [
    {
     "data": {
      "text/plain": [
       "AMBEV         0.070073\n",
       "ODONTOPREV    0.100623\n",
       "VIVO          0.080585\n",
       "PETROBRAS     0.235746\n",
       "BBRASIL       0.169243\n",
       "BOVA          0.060932\n",
       "dtype: float64"
      ]
     },
     "execution_count": 21,
     "metadata": {},
     "output_type": "execute_result"
    }
   ],
   "source": [
    "taxas_retorno.var() * 246"
   ]
  },
  {
   "cell_type": "code",
   "execution_count": 22,
   "metadata": {},
   "outputs": [
    {
     "data": {
      "text/plain": [
       "AMBEV         0.014015\n",
       "ODONTOPREV    0.020125\n",
       "VIVO          0.016117\n",
       "PETROBRAS     0.047149\n",
       "BBRASIL       0.033849\n",
       "BOVA          0.000000\n",
       "dtype: float64"
      ]
     },
     "execution_count": 22,
     "metadata": {},
     "output_type": "execute_result"
    }
   ],
   "source": [
    "variancia_pesos1 = (taxas_retorno.var() * 246) * pesos1\n",
    "variancia_pesos1"
   ]
  },
  {
   "cell_type": "code",
   "execution_count": 23,
   "metadata": {},
   "outputs": [
    {
     "name": "stderr",
     "output_type": "stream",
     "text": [
      "C:\\Users\\tdw07\\AppData\\Local\\Temp\\ipykernel_5844\\1463896755.py:1: FutureWarning: Series.__getitem__ treating keys as positions is deprecated. In a future version, integer keys will always be treated as labels (consistent with DataFrame behavior). To access a value by position, use `ser.iloc[pos]`\n",
      "  sub1 = variancia_pesos1[0] - variancia_pesos1[1] - variancia_pesos1[2] - variancia_pesos1[3] - variancia_pesos1[4] - variancia_pesos1[5]\n"
     ]
    },
    {
     "data": {
      "text/plain": [
       "-0.10322480359805089"
      ]
     },
     "execution_count": 23,
     "metadata": {},
     "output_type": "execute_result"
    }
   ],
   "source": [
    "sub1 = variancia_pesos1[0] - variancia_pesos1[1] - variancia_pesos1[2] - variancia_pesos1[3] - variancia_pesos1[4] - variancia_pesos1[5]\n",
    "sub1"
   ]
  },
  {
   "cell_type": "code",
   "execution_count": 24,
   "metadata": {},
   "outputs": [
    {
     "data": {
      "text/plain": [
       "0.16214314345358155"
      ]
     },
     "execution_count": 24,
     "metadata": {},
     "output_type": "execute_result"
    }
   ],
   "source": [
    "risco_nao_sistematico1 = (variancia_portfolio1 - sub1)\n",
    "risco_nao_sistematico1"
   ]
  },
  {
   "cell_type": "code",
   "execution_count": 25,
   "metadata": {},
   "outputs": [
    {
     "data": {
      "text/plain": [
       "AMBEV         0.000000\n",
       "ODONTOPREV    0.000000\n",
       "VIVO          0.000000\n",
       "PETROBRAS     0.000000\n",
       "BBRASIL       0.000000\n",
       "BOVA          0.060932\n",
       "dtype: float64"
      ]
     },
     "execution_count": 25,
     "metadata": {},
     "output_type": "execute_result"
    }
   ],
   "source": [
    "variancia_pesos2 = (taxas_retorno.var() * 246) * pesos2\n",
    "variancia_pesos2"
   ]
  },
  {
   "cell_type": "code",
   "execution_count": 26,
   "metadata": {},
   "outputs": [
    {
     "name": "stderr",
     "output_type": "stream",
     "text": [
      "C:\\Users\\tdw07\\AppData\\Local\\Temp\\ipykernel_5844\\4294234593.py:1: FutureWarning: Series.__getitem__ treating keys as positions is deprecated. In a future version, integer keys will always be treated as labels (consistent with DataFrame behavior). To access a value by position, use `ser.iloc[pos]`\n",
      "  sub2 = variancia_pesos2[0] - variancia_pesos2[1] - variancia_pesos2[2] - variancia_pesos2[3] - variancia_pesos2[4] - variancia_pesos2[5]\n"
     ]
    },
    {
     "data": {
      "text/plain": [
       "-0.060932230671096654"
      ]
     },
     "execution_count": 26,
     "metadata": {},
     "output_type": "execute_result"
    }
   ],
   "source": [
    "sub2 = variancia_pesos2[0] - variancia_pesos2[1] - variancia_pesos2[2] - variancia_pesos2[3] - variancia_pesos2[4] - variancia_pesos2[5]\n",
    "sub2"
   ]
  },
  {
   "cell_type": "code",
   "execution_count": 27,
   "metadata": {},
   "outputs": [
    {
     "data": {
      "text/plain": [
       "0.12186446134219314"
      ]
     },
     "execution_count": 27,
     "metadata": {},
     "output_type": "execute_result"
    }
   ],
   "source": [
    "risco_nao_sistematico2 = (variancia_portfolio2 - sub2)\n",
    "risco_nao_sistematico2\n",
    "\n",
    "# Risco na BOVA foi menor até o dia 01/05/2024"
   ]
  },
  {
   "cell_type": "code",
   "execution_count": null,
   "metadata": {},
   "outputs": [],
   "source": []
  },
  {
   "cell_type": "code",
   "execution_count": null,
   "metadata": {},
   "outputs": [],
   "source": []
  }
 ],
 "metadata": {
  "kernelspec": {
   "display_name": "Python 3",
   "language": "python",
   "name": "python3"
  },
  "language_info": {
   "codemirror_mode": {
    "name": "ipython",
    "version": 3
   },
   "file_extension": ".py",
   "mimetype": "text/x-python",
   "name": "python",
   "nbconvert_exporter": "python",
   "pygments_lexer": "ipython3",
   "version": "3.12.1"
  }
 },
 "nbformat": 4,
 "nbformat_minor": 2
}
