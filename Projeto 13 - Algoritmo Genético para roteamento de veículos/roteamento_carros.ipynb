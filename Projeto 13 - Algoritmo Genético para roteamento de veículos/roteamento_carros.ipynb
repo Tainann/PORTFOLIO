{
 "cells": [
  {
   "cell_type": "markdown",
   "metadata": {},
   "source": [
    "# ALGORITMO GENÉTICO PARA OTIMIZAR ROTEAMENTO DE VEÍCULOS DE ENTREGA\n",
    "\n",
    "### TODOS OS DADOS SÃO FICTÍCIOS. O INTUITO É APENAS MOSTRAR A APLICABILIDADE DOS ALGORITMOS GENÉTICOS.\n",
    "\n",
    "Restrições:\n",
    "\n",
    "- Cada cliente deve ser atendido exatamente uma vez.\n",
    "    \n",
    "- A soma das demandas dos clientes em qualquer rota não pode exceder a capacidade do veículo."
   ]
  },
  {
   "cell_type": "code",
   "execution_count": 1074,
   "metadata": {},
   "outputs": [],
   "source": [
    "import pandas as pd\n",
    "import random\n",
    "import matplotlib.pyplot as plt\n",
    "import numpy as np"
   ]
  },
  {
   "cell_type": "code",
   "execution_count": 1075,
   "metadata": {},
   "outputs": [
    {
     "name": "stdout",
     "output_type": "stream",
     "text": [
      "Tabela de Demandas:\n"
     ]
    },
    {
     "data": {
      "text/html": [
       "<div>\n",
       "<style scoped>\n",
       "    .dataframe tbody tr th:only-of-type {\n",
       "        vertical-align: middle;\n",
       "    }\n",
       "\n",
       "    .dataframe tbody tr th {\n",
       "        vertical-align: top;\n",
       "    }\n",
       "\n",
       "    .dataframe thead th {\n",
       "        text-align: right;\n",
       "    }\n",
       "</style>\n",
       "<table border=\"1\" class=\"dataframe\">\n",
       "  <thead>\n",
       "    <tr style=\"text-align: right;\">\n",
       "      <th></th>\n",
       "      <th>Cliente</th>\n",
       "      <th>Demanda (unidades)</th>\n",
       "    </tr>\n",
       "  </thead>\n",
       "  <tbody>\n",
       "    <tr>\n",
       "      <th>0</th>\n",
       "      <td>0</td>\n",
       "      <td>0</td>\n",
       "    </tr>\n",
       "    <tr>\n",
       "      <th>1</th>\n",
       "      <td>1</td>\n",
       "      <td>15</td>\n",
       "    </tr>\n",
       "    <tr>\n",
       "      <th>2</th>\n",
       "      <td>2</td>\n",
       "      <td>20</td>\n",
       "    </tr>\n",
       "    <tr>\n",
       "      <th>3</th>\n",
       "      <td>3</td>\n",
       "      <td>25</td>\n",
       "    </tr>\n",
       "    <tr>\n",
       "      <th>4</th>\n",
       "      <td>4</td>\n",
       "      <td>10</td>\n",
       "    </tr>\n",
       "    <tr>\n",
       "      <th>5</th>\n",
       "      <td>5</td>\n",
       "      <td>15</td>\n",
       "    </tr>\n",
       "    <tr>\n",
       "      <th>6</th>\n",
       "      <td>6</td>\n",
       "      <td>25</td>\n",
       "    </tr>\n",
       "    <tr>\n",
       "      <th>7</th>\n",
       "      <td>7</td>\n",
       "      <td>15</td>\n",
       "    </tr>\n",
       "    <tr>\n",
       "      <th>8</th>\n",
       "      <td>8</td>\n",
       "      <td>20</td>\n",
       "    </tr>\n",
       "    <tr>\n",
       "      <th>9</th>\n",
       "      <td>9</td>\n",
       "      <td>10</td>\n",
       "    </tr>\n",
       "    <tr>\n",
       "      <th>10</th>\n",
       "      <td>10</td>\n",
       "      <td>25</td>\n",
       "    </tr>\n",
       "    <tr>\n",
       "      <th>11</th>\n",
       "      <td>11</td>\n",
       "      <td>10</td>\n",
       "    </tr>\n",
       "    <tr>\n",
       "      <th>12</th>\n",
       "      <td>12</td>\n",
       "      <td>20</td>\n",
       "    </tr>\n",
       "    <tr>\n",
       "      <th>13</th>\n",
       "      <td>13</td>\n",
       "      <td>15</td>\n",
       "    </tr>\n",
       "    <tr>\n",
       "      <th>14</th>\n",
       "      <td>14</td>\n",
       "      <td>10</td>\n",
       "    </tr>\n",
       "    <tr>\n",
       "      <th>15</th>\n",
       "      <td>15</td>\n",
       "      <td>20</td>\n",
       "    </tr>\n",
       "  </tbody>\n",
       "</table>\n",
       "</div>"
      ],
      "text/plain": [
       "    Cliente  Demanda (unidades)\n",
       "0         0                   0\n",
       "1         1                  15\n",
       "2         2                  20\n",
       "3         3                  25\n",
       "4         4                  10\n",
       "5         5                  15\n",
       "6         6                  25\n",
       "7         7                  15\n",
       "8         8                  20\n",
       "9         9                  10\n",
       "10       10                  25\n",
       "11       11                  10\n",
       "12       12                  20\n",
       "13       13                  15\n",
       "14       14                  10\n",
       "15       15                  20"
      ]
     },
     "metadata": {},
     "output_type": "display_data"
    },
    {
     "name": "stdout",
     "output_type": "stream",
     "text": [
      "Matriz de Distâncias:\n"
     ]
    },
    {
     "data": {
      "text/html": [
       "<div>\n",
       "<style scoped>\n",
       "    .dataframe tbody tr th:only-of-type {\n",
       "        vertical-align: middle;\n",
       "    }\n",
       "\n",
       "    .dataframe tbody tr th {\n",
       "        vertical-align: top;\n",
       "    }\n",
       "\n",
       "    .dataframe thead th {\n",
       "        text-align: right;\n",
       "    }\n",
       "</style>\n",
       "<table border=\"1\" class=\"dataframe\">\n",
       "  <thead>\n",
       "    <tr style=\"text-align: right;\">\n",
       "      <th></th>\n",
       "      <th>0</th>\n",
       "      <th>1</th>\n",
       "      <th>2</th>\n",
       "      <th>3</th>\n",
       "      <th>4</th>\n",
       "      <th>5</th>\n",
       "      <th>6</th>\n",
       "      <th>7</th>\n",
       "      <th>8</th>\n",
       "      <th>9</th>\n",
       "      <th>10</th>\n",
       "      <th>11</th>\n",
       "      <th>12</th>\n",
       "      <th>13</th>\n",
       "      <th>14</th>\n",
       "      <th>15</th>\n",
       "    </tr>\n",
       "  </thead>\n",
       "  <tbody>\n",
       "    <tr>\n",
       "      <th>0</th>\n",
       "      <td>0</td>\n",
       "      <td>10</td>\n",
       "      <td>20</td>\n",
       "      <td>30</td>\n",
       "      <td>25</td>\n",
       "      <td>35</td>\n",
       "      <td>40</td>\n",
       "      <td>50</td>\n",
       "      <td>45</td>\n",
       "      <td>55</td>\n",
       "      <td>60</td>\n",
       "      <td>65</td>\n",
       "      <td>70</td>\n",
       "      <td>75</td>\n",
       "      <td>80</td>\n",
       "      <td>85</td>\n",
       "    </tr>\n",
       "    <tr>\n",
       "      <th>1</th>\n",
       "      <td>10</td>\n",
       "      <td>0</td>\n",
       "      <td>15</td>\n",
       "      <td>25</td>\n",
       "      <td>20</td>\n",
       "      <td>30</td>\n",
       "      <td>35</td>\n",
       "      <td>45</td>\n",
       "      <td>40</td>\n",
       "      <td>50</td>\n",
       "      <td>55</td>\n",
       "      <td>60</td>\n",
       "      <td>65</td>\n",
       "      <td>70</td>\n",
       "      <td>75</td>\n",
       "      <td>80</td>\n",
       "    </tr>\n",
       "    <tr>\n",
       "      <th>2</th>\n",
       "      <td>20</td>\n",
       "      <td>15</td>\n",
       "      <td>0</td>\n",
       "      <td>10</td>\n",
       "      <td>5</td>\n",
       "      <td>15</td>\n",
       "      <td>20</td>\n",
       "      <td>30</td>\n",
       "      <td>25</td>\n",
       "      <td>35</td>\n",
       "      <td>40</td>\n",
       "      <td>45</td>\n",
       "      <td>50</td>\n",
       "      <td>55</td>\n",
       "      <td>60</td>\n",
       "      <td>65</td>\n",
       "    </tr>\n",
       "    <tr>\n",
       "      <th>3</th>\n",
       "      <td>30</td>\n",
       "      <td>25</td>\n",
       "      <td>10</td>\n",
       "      <td>0</td>\n",
       "      <td>10</td>\n",
       "      <td>5</td>\n",
       "      <td>15</td>\n",
       "      <td>25</td>\n",
       "      <td>20</td>\n",
       "      <td>30</td>\n",
       "      <td>35</td>\n",
       "      <td>40</td>\n",
       "      <td>45</td>\n",
       "      <td>50</td>\n",
       "      <td>55</td>\n",
       "      <td>60</td>\n",
       "    </tr>\n",
       "    <tr>\n",
       "      <th>4</th>\n",
       "      <td>25</td>\n",
       "      <td>20</td>\n",
       "      <td>5</td>\n",
       "      <td>10</td>\n",
       "      <td>0</td>\n",
       "      <td>10</td>\n",
       "      <td>5</td>\n",
       "      <td>15</td>\n",
       "      <td>10</td>\n",
       "      <td>20</td>\n",
       "      <td>25</td>\n",
       "      <td>30</td>\n",
       "      <td>35</td>\n",
       "      <td>40</td>\n",
       "      <td>45</td>\n",
       "      <td>50</td>\n",
       "    </tr>\n",
       "    <tr>\n",
       "      <th>5</th>\n",
       "      <td>35</td>\n",
       "      <td>30</td>\n",
       "      <td>15</td>\n",
       "      <td>5</td>\n",
       "      <td>10</td>\n",
       "      <td>0</td>\n",
       "      <td>10</td>\n",
       "      <td>5</td>\n",
       "      <td>15</td>\n",
       "      <td>10</td>\n",
       "      <td>20</td>\n",
       "      <td>25</td>\n",
       "      <td>30</td>\n",
       "      <td>35</td>\n",
       "      <td>40</td>\n",
       "      <td>45</td>\n",
       "    </tr>\n",
       "    <tr>\n",
       "      <th>6</th>\n",
       "      <td>40</td>\n",
       "      <td>35</td>\n",
       "      <td>20</td>\n",
       "      <td>15</td>\n",
       "      <td>5</td>\n",
       "      <td>10</td>\n",
       "      <td>0</td>\n",
       "      <td>10</td>\n",
       "      <td>5</td>\n",
       "      <td>15</td>\n",
       "      <td>10</td>\n",
       "      <td>20</td>\n",
       "      <td>25</td>\n",
       "      <td>30</td>\n",
       "      <td>35</td>\n",
       "      <td>40</td>\n",
       "    </tr>\n",
       "    <tr>\n",
       "      <th>7</th>\n",
       "      <td>50</td>\n",
       "      <td>45</td>\n",
       "      <td>30</td>\n",
       "      <td>25</td>\n",
       "      <td>15</td>\n",
       "      <td>5</td>\n",
       "      <td>10</td>\n",
       "      <td>0</td>\n",
       "      <td>10</td>\n",
       "      <td>5</td>\n",
       "      <td>15</td>\n",
       "      <td>10</td>\n",
       "      <td>20</td>\n",
       "      <td>25</td>\n",
       "      <td>30</td>\n",
       "      <td>35</td>\n",
       "    </tr>\n",
       "    <tr>\n",
       "      <th>8</th>\n",
       "      <td>45</td>\n",
       "      <td>40</td>\n",
       "      <td>25</td>\n",
       "      <td>20</td>\n",
       "      <td>10</td>\n",
       "      <td>15</td>\n",
       "      <td>5</td>\n",
       "      <td>10</td>\n",
       "      <td>0</td>\n",
       "      <td>10</td>\n",
       "      <td>5</td>\n",
       "      <td>15</td>\n",
       "      <td>10</td>\n",
       "      <td>20</td>\n",
       "      <td>25</td>\n",
       "      <td>30</td>\n",
       "    </tr>\n",
       "    <tr>\n",
       "      <th>9</th>\n",
       "      <td>55</td>\n",
       "      <td>50</td>\n",
       "      <td>35</td>\n",
       "      <td>30</td>\n",
       "      <td>20</td>\n",
       "      <td>10</td>\n",
       "      <td>15</td>\n",
       "      <td>5</td>\n",
       "      <td>10</td>\n",
       "      <td>0</td>\n",
       "      <td>10</td>\n",
       "      <td>5</td>\n",
       "      <td>15</td>\n",
       "      <td>10</td>\n",
       "      <td>20</td>\n",
       "      <td>25</td>\n",
       "    </tr>\n",
       "    <tr>\n",
       "      <th>10</th>\n",
       "      <td>60</td>\n",
       "      <td>55</td>\n",
       "      <td>40</td>\n",
       "      <td>35</td>\n",
       "      <td>25</td>\n",
       "      <td>20</td>\n",
       "      <td>10</td>\n",
       "      <td>15</td>\n",
       "      <td>5</td>\n",
       "      <td>10</td>\n",
       "      <td>0</td>\n",
       "      <td>10</td>\n",
       "      <td>5</td>\n",
       "      <td>15</td>\n",
       "      <td>10</td>\n",
       "      <td>20</td>\n",
       "    </tr>\n",
       "    <tr>\n",
       "      <th>11</th>\n",
       "      <td>65</td>\n",
       "      <td>60</td>\n",
       "      <td>45</td>\n",
       "      <td>40</td>\n",
       "      <td>30</td>\n",
       "      <td>25</td>\n",
       "      <td>20</td>\n",
       "      <td>10</td>\n",
       "      <td>15</td>\n",
       "      <td>5</td>\n",
       "      <td>10</td>\n",
       "      <td>0</td>\n",
       "      <td>10</td>\n",
       "      <td>5</td>\n",
       "      <td>15</td>\n",
       "      <td>10</td>\n",
       "    </tr>\n",
       "    <tr>\n",
       "      <th>12</th>\n",
       "      <td>70</td>\n",
       "      <td>65</td>\n",
       "      <td>50</td>\n",
       "      <td>45</td>\n",
       "      <td>35</td>\n",
       "      <td>30</td>\n",
       "      <td>25</td>\n",
       "      <td>20</td>\n",
       "      <td>10</td>\n",
       "      <td>15</td>\n",
       "      <td>5</td>\n",
       "      <td>10</td>\n",
       "      <td>0</td>\n",
       "      <td>10</td>\n",
       "      <td>5</td>\n",
       "      <td>15</td>\n",
       "    </tr>\n",
       "    <tr>\n",
       "      <th>13</th>\n",
       "      <td>75</td>\n",
       "      <td>70</td>\n",
       "      <td>55</td>\n",
       "      <td>50</td>\n",
       "      <td>40</td>\n",
       "      <td>35</td>\n",
       "      <td>30</td>\n",
       "      <td>25</td>\n",
       "      <td>20</td>\n",
       "      <td>10</td>\n",
       "      <td>15</td>\n",
       "      <td>5</td>\n",
       "      <td>10</td>\n",
       "      <td>0</td>\n",
       "      <td>10</td>\n",
       "      <td>5</td>\n",
       "    </tr>\n",
       "    <tr>\n",
       "      <th>14</th>\n",
       "      <td>80</td>\n",
       "      <td>75</td>\n",
       "      <td>60</td>\n",
       "      <td>55</td>\n",
       "      <td>45</td>\n",
       "      <td>40</td>\n",
       "      <td>35</td>\n",
       "      <td>30</td>\n",
       "      <td>25</td>\n",
       "      <td>20</td>\n",
       "      <td>10</td>\n",
       "      <td>15</td>\n",
       "      <td>5</td>\n",
       "      <td>10</td>\n",
       "      <td>0</td>\n",
       "      <td>10</td>\n",
       "    </tr>\n",
       "    <tr>\n",
       "      <th>15</th>\n",
       "      <td>85</td>\n",
       "      <td>80</td>\n",
       "      <td>65</td>\n",
       "      <td>60</td>\n",
       "      <td>50</td>\n",
       "      <td>45</td>\n",
       "      <td>40</td>\n",
       "      <td>35</td>\n",
       "      <td>30</td>\n",
       "      <td>25</td>\n",
       "      <td>20</td>\n",
       "      <td>10</td>\n",
       "      <td>15</td>\n",
       "      <td>5</td>\n",
       "      <td>10</td>\n",
       "      <td>0</td>\n",
       "    </tr>\n",
       "  </tbody>\n",
       "</table>\n",
       "</div>"
      ],
      "text/plain": [
       "    0   1   2   3   4   5   6   7   8   9   10  11  12  13  14  15\n",
       "0    0  10  20  30  25  35  40  50  45  55  60  65  70  75  80  85\n",
       "1   10   0  15  25  20  30  35  45  40  50  55  60  65  70  75  80\n",
       "2   20  15   0  10   5  15  20  30  25  35  40  45  50  55  60  65\n",
       "3   30  25  10   0  10   5  15  25  20  30  35  40  45  50  55  60\n",
       "4   25  20   5  10   0  10   5  15  10  20  25  30  35  40  45  50\n",
       "5   35  30  15   5  10   0  10   5  15  10  20  25  30  35  40  45\n",
       "6   40  35  20  15   5  10   0  10   5  15  10  20  25  30  35  40\n",
       "7   50  45  30  25  15   5  10   0  10   5  15  10  20  25  30  35\n",
       "8   45  40  25  20  10  15   5  10   0  10   5  15  10  20  25  30\n",
       "9   55  50  35  30  20  10  15   5  10   0  10   5  15  10  20  25\n",
       "10  60  55  40  35  25  20  10  15   5  10   0  10   5  15  10  20\n",
       "11  65  60  45  40  30  25  20  10  15   5  10   0  10   5  15  10\n",
       "12  70  65  50  45  35  30  25  20  10  15   5  10   0  10   5  15\n",
       "13  75  70  55  50  40  35  30  25  20  10  15   5  10   0  10   5\n",
       "14  80  75  60  55  45  40  35  30  25  20  10  15   5  10   0  10\n",
       "15  85  80  65  60  50  45  40  35  30  25  20  10  15   5  10   0"
      ]
     },
     "metadata": {},
     "output_type": "display_data"
    }
   ],
   "source": [
    "# Tabela de demandas dos clientes\n",
    "demandas_data = {\n",
    "    'Cliente': list(range(0, 16)),\n",
    "    'Demanda (unidades)': [0, 15, 20, 25, 10, 15, 25, 15, 20, 10, 25, 10, 20, 15, 10, 20]\n",
    "}\n",
    "demandas = pd.DataFrame(demandas_data)\n",
    "\n",
    "# Exibir a tabela de demandas\n",
    "print(\"Tabela de Demandas:\")\n",
    "display(demandas)\n",
    "\n",
    "# Matriz de distâncias\n",
    "distances_data = [\n",
    "    [0, 10, 20, 30, 25, 35, 40, 50, 45, 55, 60, 65, 70, 75, 80, 85],\n",
    "    [10, 0, 15, 25, 20, 30, 35, 45, 40, 50, 55, 60, 65, 70, 75, 80],\n",
    "    [20, 15, 0, 10, 5, 15, 20, 30, 25, 35, 40, 45, 50, 55, 60, 65],\n",
    "    [30, 25, 10, 0, 10, 5, 15, 25, 20, 30, 35, 40, 45, 50, 55, 60],\n",
    "    [25, 20, 5, 10, 0, 10, 5, 15, 10, 20, 25, 30, 35, 40, 45, 50],\n",
    "    [35, 30, 15, 5, 10, 0, 10, 5, 15, 10, 20, 25, 30, 35, 40, 45],\n",
    "    [40, 35, 20, 15, 5, 10, 0, 10, 5, 15, 10, 20, 25, 30, 35, 40],\n",
    "    [50, 45, 30, 25, 15, 5, 10, 0, 10, 5, 15, 10, 20, 25, 30, 35],\n",
    "    [45, 40, 25, 20, 10, 15, 5, 10, 0, 10, 5, 15, 10, 20, 25, 30],\n",
    "    [55, 50, 35, 30, 20, 10, 15, 5, 10, 0, 10, 5, 15, 10, 20, 25],\n",
    "    [60, 55, 40, 35, 25, 20, 10, 15, 5, 10, 0, 10, 5, 15, 10, 20],\n",
    "    [65, 60, 45, 40, 30, 25, 20, 10, 15, 5, 10, 0, 10, 5, 15, 10],\n",
    "    [70, 65, 50, 45, 35, 30, 25, 20, 10, 15, 5, 10, 0, 10, 5, 15],\n",
    "    [75, 70, 55, 50, 40, 35, 30, 25, 20, 10, 15, 5, 10, 0, 10, 5],\n",
    "    [80, 75, 60, 55, 45, 40, 35, 30, 25, 20, 10, 15, 5, 10, 0, 10],\n",
    "    [85, 80, 65, 60, 50, 45, 40, 35, 30, 25, 20, 10, 15, 5, 10, 0]\n",
    "]\n",
    "\n",
    "# Criando um DataFrame para a matriz de distâncias\n",
    "distances = pd.DataFrame(distances_data, columns=list(range(16)), index=list(range(16)))\n",
    "\n",
    "# Exibir a matriz de distâncias\n",
    "print(\"Matriz de Distâncias:\")\n",
    "display(distances)"
   ]
  },
  {
   "cell_type": "markdown",
   "metadata": {},
   "source": [
    "Gera indivíduo"
   ]
  },
  {
   "cell_type": "code",
   "execution_count": 1076,
   "metadata": {},
   "outputs": [],
   "source": [
    "def cromossomo(tamanho_crom, tam_subgrupo):\n",
    "    posicao = 0\n",
    "    cromossomo = [0] * tamanho_crom\n",
    "    clientes_possiveis = [i for i in range(tam_subgrupo)]\n",
    "    for i in range(len(clientes_possiveis)):\n",
    "        sorteio = random.random()\n",
    "        if sorteio < 0.25:\n",
    "            cromossomo[posicao] = 1\n",
    "        elif sorteio < 0.5:\n",
    "            cromossomo[posicao+16] = 1\n",
    "        elif sorteio < 0.75:\n",
    "            cromossomo[posicao+32] = 1\n",
    "        else:\n",
    "            cromossomo[posicao+48] = 1\n",
    "        posicao += 1\n",
    "    \n",
    "    cromossomo[0] = cromossomo[16] = cromossomo[32] = cromossomo[48] = 1\n",
    "        \n",
    "    return cromossomo"
   ]
  },
  {
   "cell_type": "code",
   "execution_count": 1077,
   "metadata": {},
   "outputs": [
    {
     "name": "stdout",
     "output_type": "stream",
     "text": [
      "[1, 1, 1, 0, 0, 0, 0, 1, 1, 0, 0, 0, 0, 0, 0, 0, 1, 0, 0, 1, 1, 0, 0, 0, 0, 1, 0, 1, 0, 0, 0, 0, 1, 0, 0, 0, 0, 0, 0, 0, 0, 0, 1, 0, 1, 1, 0, 1, 1, 0, 0, 0, 0, 1, 1, 0, 0, 0, 0, 0, 0, 0, 1, 0]\n"
     ]
    }
   ],
   "source": [
    "print(cromossomo(64, 16))"
   ]
  },
  {
   "cell_type": "markdown",
   "metadata": {},
   "source": [
    "Gera população"
   ]
  },
  {
   "cell_type": "code",
   "execution_count": 1078,
   "metadata": {},
   "outputs": [],
   "source": [
    "def gerar_populacao(tamanho_pop, tamanho_crom, tam_subgrupo):\n",
    "    populacao = []\n",
    "\n",
    "    for i in range(tamanho_pop):\n",
    "        crom = cromossomo(tamanho_crom, tam_subgrupo)\n",
    "        populacao.append(crom)\n",
    "\n",
    "    return populacao"
   ]
  },
  {
   "cell_type": "code",
   "execution_count": 1079,
   "metadata": {},
   "outputs": [
    {
     "name": "stdout",
     "output_type": "stream",
     "text": [
      "[[1, 0, 0, 0, 0, 0, 0, 0, 0, 1, 1, 1, 0, 0, 0, 0, 1, 0, 0, 0, 1, 0, 0, 0, 0, 0, 0, 0, 0, 0, 0, 1, 1, 0, 0, 1, 0, 1, 1, 1, 0, 0, 0, 0, 1, 0, 0, 0, 1, 1, 1, 0, 0, 0, 0, 0, 1, 0, 0, 0, 0, 1, 1, 0], [1, 1, 1, 0, 0, 0, 0, 0, 0, 0, 1, 0, 1, 1, 0, 0, 1, 0, 0, 0, 1, 0, 1, 0, 0, 1, 0, 1, 0, 0, 0, 0, 1, 0, 0, 0, 0, 1, 0, 1, 1, 0, 0, 0, 0, 0, 0, 0, 1, 0, 0, 1, 0, 0, 0, 0, 0, 0, 0, 0, 0, 0, 1, 1], [1, 1, 0, 0, 0, 1, 0, 0, 0, 1, 0, 0, 0, 0, 1, 1, 1, 0, 0, 0, 0, 0, 0, 1, 0, 0, 0, 1, 0, 1, 0, 0, 1, 0, 0, 0, 1, 0, 0, 0, 1, 0, 1, 0, 1, 0, 0, 0, 1, 0, 1, 1, 0, 0, 1, 0, 0, 0, 0, 0, 0, 0, 0, 0], [1, 0, 1, 0, 0, 0, 0, 0, 0, 0, 0, 0, 0, 0, 0, 0, 1, 1, 0, 1, 0, 0, 0, 0, 1, 1, 1, 0, 0, 1, 0, 0, 1, 0, 0, 0, 0, 0, 0, 0, 0, 0, 0, 1, 1, 0, 0, 0, 1, 0, 0, 0, 1, 1, 1, 1, 0, 0, 0, 0, 0, 0, 1, 1], [1, 0, 1, 1, 0, 0, 1, 1, 0, 0, 0, 0, 0, 1, 0, 0, 1, 0, 0, 0, 0, 0, 0, 0, 1, 0, 1, 0, 1, 0, 1, 0, 1, 0, 0, 0, 0, 1, 0, 0, 0, 0, 0, 0, 0, 0, 0, 0, 1, 1, 0, 0, 1, 0, 0, 0, 0, 1, 0, 1, 0, 0, 0, 1], [1, 0, 0, 1, 0, 0, 0, 0, 1, 0, 0, 0, 0, 0, 0, 1, 1, 0, 0, 0, 1, 0, 0, 1, 0, 0, 0, 0, 0, 0, 1, 0, 1, 0, 0, 0, 0, 1, 1, 0, 0, 0, 1, 0, 0, 0, 0, 0, 1, 1, 1, 0, 0, 0, 0, 0, 0, 1, 0, 1, 1, 1, 0, 0], [1, 0, 0, 0, 0, 0, 0, 0, 1, 0, 0, 0, 0, 1, 0, 0, 1, 1, 0, 0, 0, 1, 0, 0, 0, 0, 1, 0, 0, 0, 1, 0, 1, 0, 1, 1, 0, 0, 1, 1, 0, 1, 0, 1, 0, 0, 0, 1, 1, 0, 0, 0, 1, 0, 0, 0, 0, 0, 0, 0, 1, 0, 0, 0], [1, 1, 0, 0, 1, 0, 0, 1, 0, 0, 1, 0, 0, 0, 0, 1, 1, 0, 0, 1, 0, 0, 0, 0, 0, 0, 0, 0, 0, 1, 0, 0, 1, 0, 1, 0, 0, 1, 0, 0, 0, 0, 0, 1, 0, 0, 1, 0, 1, 0, 0, 0, 0, 0, 1, 0, 1, 1, 0, 0, 1, 0, 0, 0], [1, 0, 0, 0, 0, 1, 0, 0, 0, 1, 1, 0, 0, 0, 0, 0, 1, 0, 0, 0, 0, 0, 0, 1, 0, 0, 0, 0, 0, 0, 1, 0, 1, 0, 0, 1, 0, 0, 1, 0, 0, 0, 0, 1, 1, 0, 0, 1, 1, 1, 1, 0, 1, 0, 0, 0, 1, 0, 0, 0, 0, 1, 0, 0], [1, 0, 0, 1, 1, 0, 0, 1, 0, 1, 1, 0, 0, 0, 0, 0, 1, 0, 0, 0, 0, 1, 1, 0, 1, 0, 0, 0, 0, 1, 1, 0, 1, 0, 0, 0, 0, 0, 0, 0, 0, 0, 0, 1, 0, 0, 0, 0, 1, 1, 1, 0, 0, 0, 0, 0, 0, 0, 0, 0, 1, 0, 0, 1]]\n"
     ]
    }
   ],
   "source": [
    "print(gerar_populacao(10, 64, 16))"
   ]
  },
  {
   "cell_type": "markdown",
   "metadata": {},
   "source": [
    "Divide o cromossomo"
   ]
  },
  {
   "cell_type": "code",
   "execution_count": 1080,
   "metadata": {},
   "outputs": [],
   "source": [
    "def variaveis(cromossomo, tam_subgrupo): # Quebra o cromossomo em subgrupos do tamanho de tam_subgrupo\n",
    "    subgrupos = []\n",
    "    valor = []\n",
    "    for i in range(1, len(cromossomo)+1):\n",
    "        valor.append(cromossomo[i-1]) \n",
    "        if i % tam_subgrupo == 0:\n",
    "            subgrupos.append(valor)\n",
    "            valor = []\n",
    "\n",
    "    return subgrupos\n",
    "\n"
   ]
  },
  {
   "cell_type": "code",
   "execution_count": 1081,
   "metadata": {},
   "outputs": [
    {
     "data": {
      "text/plain": [
       "[[1, 0, 0, 0, 0, 0, 0, 1, 0, 1, 0, 0, 1, 0, 0, 0],\n",
       " [1, 1, 1, 0, 0, 0, 0, 0, 0, 0, 0, 0, 0, 1, 0, 1],\n",
       " [1, 0, 0, 1, 0, 0, 1, 0, 0, 0, 0, 1, 0, 0, 1, 0],\n",
       " [1, 0, 0, 0, 1, 1, 0, 0, 1, 0, 1, 0, 0, 0, 0, 0]]"
      ]
     },
     "execution_count": 1081,
     "metadata": {},
     "output_type": "execute_result"
    }
   ],
   "source": [
    "variaveis(cromossomo(64, 16), 16)"
   ]
  },
  {
   "cell_type": "markdown",
   "metadata": {},
   "source": [
    "Fitness"
   ]
  },
  {
   "cell_type": "code",
   "execution_count": 1082,
   "metadata": {},
   "outputs": [],
   "source": [
    "def fitness(subgrupos):\n",
    "    dist_total = 0\n",
    "    espaco_ocupado = 0\n",
    "    ultimo_k = 0\n",
    "    \n",
    "    # Verificar se apenas uma lista tem valor 1 na posição i\n",
    "    for i, (a, b, c, d) in enumerate(zip(subgrupos[0], subgrupos[1], subgrupos[2], subgrupos[3])):\n",
    "        num_ones = sum([a, b, c, d])  # Soma os valores na posição i de cada lista\n",
    "        if i == 0:\n",
    "            if num_ones != 4: # Todos os 4 carros devem partir da distribuidora\n",
    "                dist_total = 10000000\n",
    "                return dist_total\n",
    "        \n",
    "        if i != 0:\n",
    "            if num_ones != 1:\n",
    "                dist_total = 10000000\n",
    "                return dist_total\n",
    "\n",
    "    for subgrupo in subgrupos:\n",
    "        for cliente in subgrupo:\n",
    "            if cliente == 1:\n",
    "                espaco_ocupado += demandas.iloc[cliente, 1]\n",
    "        if espaco_ocupado > 100:\n",
    "            dist_total = 10000000\n",
    "            return dist_total\n",
    "        espaco_ocupado = 0\n",
    "    \n",
    "    for subgrupo in subgrupos:\n",
    "        for i in range(len(subgrupo)):\n",
    "            if subgrupo[i] == 1:\n",
    "                for k in range(i + 1, len(subgrupo)):  # Começar de i+1 para evitar contar a mesma posição\n",
    "                    if subgrupo[k] == 1:\n",
    "                        dist_total += distances.iloc[i, k]\n",
    "                        break\n",
    "    dist_total += distances.iloc[0, ultimo_k] # Considerando o percurso da volta até a distribuidora\n",
    "    return dist_total\n"
   ]
  },
  {
   "cell_type": "code",
   "execution_count": 1083,
   "metadata": {},
   "outputs": [
    {
     "name": "stdout",
     "output_type": "stream",
     "text": [
      "[1, 0, 0, 0, 0, 0, 0, 1, 0, 0, 1, 0, 0, 0, 0, 0, 1, 0, 0, 0, 0, 0, 0, 0, 0, 0, 0, 0, 0, 0, 0, 1, 1, 1, 1, 1, 0, 0, 1, 0, 0, 0, 0, 1, 1, 0, 0, 0, 1, 0, 0, 0, 1, 1, 0, 0, 1, 1, 0, 0, 0, 1, 1, 0]\n",
      "[[1, 0, 0, 0, 0, 0, 0, 1, 0, 0, 1, 0, 0, 0, 0, 0], [1, 0, 0, 0, 0, 0, 0, 0, 0, 0, 0, 0, 0, 0, 0, 1], [1, 1, 1, 1, 0, 0, 1, 0, 0, 0, 0, 1, 1, 0, 0, 0], [1, 0, 0, 0, 1, 1, 0, 0, 1, 1, 0, 0, 0, 1, 1, 0]]\n"
     ]
    },
    {
     "data": {
      "text/plain": [
       "10000000"
      ]
     },
     "execution_count": 1083,
     "metadata": {},
     "output_type": "execute_result"
    }
   ],
   "source": [
    "c = cromossomo(64, 16)\n",
    "print(c)\n",
    "subgrupos = variaveis(c, 16)\n",
    "print(subgrupos)\n",
    "fitness(subgrupos)"
   ]
  },
  {
   "cell_type": "markdown",
   "metadata": {},
   "source": [
    "Seleciona o melhor indivíduo"
   ]
  },
  {
   "cell_type": "code",
   "execution_count": 1084,
   "metadata": {},
   "outputs": [],
   "source": [
    "def seleciona_melhor(populacao, tam_subgrupo):\n",
    "    melhor_cromosomo = populacao[0]\n",
    "    subgrupos = variaveis(melhor_cromosomo, tam_subgrupo)\n",
    "    menor_valor = fitness(subgrupos)\n",
    "    for i in range(1, len(populacao)):\n",
    "        subgrupos = variaveis(populacao[i], tam_subgrupo)\n",
    "        valor_atual = fitness(subgrupos)\n",
    "        if menor_valor > valor_atual:\n",
    "            melhor_cromosomo = populacao[i]\n",
    "            menor_valor = valor_atual\n",
    "\n",
    "    return menor_valor, melhor_cromosomo"
   ]
  },
  {
   "cell_type": "code",
   "execution_count": 1085,
   "metadata": {},
   "outputs": [
    {
     "name": "stdout",
     "output_type": "stream",
     "text": [
      "(220, [1, 0, 0, 0, 1, 0, 0, 1, 0, 0, 0, 0, 0, 1, 1, 0, 1, 0, 0, 1, 0, 0, 1, 0, 0, 1, 0, 1, 0, 0, 0, 1, 1, 0, 1, 0, 0, 1, 0, 0, 1, 0, 1, 0, 1, 0, 0, 0, 1, 1, 0, 0, 0, 0, 0, 0, 0, 0, 0, 0, 0, 0, 0, 0])\n"
     ]
    }
   ],
   "source": [
    "print(seleciona_melhor(gerar_populacao(10, 64, 16), 16))"
   ]
  },
  {
   "cell_type": "markdown",
   "metadata": {},
   "source": [
    "Selecionando os n melhores que irão passar para a próxima geração"
   ]
  },
  {
   "cell_type": "code",
   "execution_count": 1086,
   "metadata": {},
   "outputs": [],
   "source": [
    "# Selecionando os n melhores indivíduos que quero que continuem na próxima geração\n",
    "\n",
    "def elitismo(populacao, nMelhores, tam_subgrupo):\n",
    "    avaliados = [(fitness(variaveis(cromossomo, tam_subgrupo)), cromossomo) for cromossomo in populacao]\n",
    "    ordenados = sorted(avaliados, reverse=False)\n",
    "    escolhidos = [cromossomo for _, cromossomo in ordenados[:nMelhores]]\n",
    "\n",
    "    return escolhidos"
   ]
  },
  {
   "cell_type": "markdown",
   "metadata": {},
   "source": [
    "Seleção dos pais pela roleta viciada"
   ]
  },
  {
   "cell_type": "code",
   "execution_count": 1087,
   "metadata": {},
   "outputs": [],
   "source": [
    "def soma_avaliacoes(populacao, tam_subgrupo):\n",
    "    soma_avalicao = 0\n",
    "    for individuo in populacao:\n",
    "        subgrupos = variaveis(individuo, tam_subgrupo)\n",
    "        soma_avalicao += 1/(fitness(subgrupos)) # Soma inversa para valorizar os menores resultados\n",
    "    return soma_avalicao\n",
    "\n",
    "def seleciona_pai(soma_avaliacao, populacao, tam_subgrupo):\n",
    "    pai = -1 # nao selecionou nenhum individuo ainda\n",
    "    valor_sorteado = random.random() * soma_avaliacao # Simula a roleta sendo girada\n",
    "    soma = 0\n",
    "    i = 0\n",
    "    \n",
    "    while i < len(populacao) and soma < valor_sorteado:\n",
    "        subgrupos = variaveis(populacao[i], tam_subgrupo)\n",
    "        soma += 1/(fitness(subgrupos))\n",
    "        pai += 1\n",
    "        i += 1\n",
    "    return pai\n",
    "    "
   ]
  },
  {
   "cell_type": "markdown",
   "metadata": {},
   "source": [
    "Crossover"
   ]
  },
  {
   "cell_type": "code",
   "execution_count": 1088,
   "metadata": {},
   "outputs": [],
   "source": [
    "def crossover(cromo_pai1, cromo_pai2, tam_subgrupo):\n",
    "    # Desempacotamento e criação de novas listas (partes do cromossomo dos pais)\n",
    "    part1_cromo_pai1 = cromo_pai1[0:tam_subgrupo]\n",
    "    part2_cromo_pai1 = cromo_pai1[tam_subgrupo:2*tam_subgrupo]\n",
    "    part3_cromo_pai1 = cromo_pai1[2*tam_subgrupo:3*tam_subgrupo]\n",
    "    part4_cromo_pai1 = cromo_pai1[3*tam_subgrupo:len(cromo_pai1)]\n",
    "\n",
    "    part1_cromo_pai2 = cromo_pai2[0:tam_subgrupo]\n",
    "    part2_cromo_pai2 = cromo_pai2[tam_subgrupo:2*tam_subgrupo]\n",
    "    part3_cromo_pai2 = cromo_pai2[2*tam_subgrupo:3*tam_subgrupo]\n",
    "    part4_cromo_pai2 = cromo_pai2[3*tam_subgrupo:len(cromo_pai2)]\n",
    "\n",
    "    # Escolhe um ponto de crossover\n",
    "    ponto_crossover = random.randint(0, tam_subgrupo - 1)\n",
    "\n",
    "    # Cria os segmentos do filho aplicando o crossover nos pares de segmentos dos pais\n",
    "    part1_filho = part1_cromo_pai2[0:ponto_crossover] + part1_cromo_pai1[ponto_crossover:]\n",
    "    part2_filho = part2_cromo_pai2[0:ponto_crossover] + part2_cromo_pai1[ponto_crossover:]\n",
    "    part3_filho = part3_cromo_pai2[0:ponto_crossover] + part3_cromo_pai1[ponto_crossover:]\n",
    "    part4_filho = part4_cromo_pai2[0:ponto_crossover] + part4_cromo_pai1[ponto_crossover:]\n",
    "\n",
    "    # Combina todos os segmentos para formar o cromossomo do filho\n",
    "    filho = part1_filho + part2_filho + part3_filho + part4_filho\n",
    "\n",
    "    return filho\n"
   ]
  },
  {
   "cell_type": "markdown",
   "metadata": {},
   "source": [
    "Mutação"
   ]
  },
  {
   "cell_type": "code",
   "execution_count": 1089,
   "metadata": {},
   "outputs": [],
   "source": [
    "def mutacao(cromossomo, taxa_mutacao):\n",
    "    for i in range(len(cromossomo)):\n",
    "        if random.random() < taxa_mutacao:\n",
    "            if cromossomo[i] == 1:\n",
    "                cromossomo[i] = 0\n",
    "            else:\n",
    "                cromossomo[i] = 1\n",
    "\n",
    "    return cromossomo"
   ]
  },
  {
   "cell_type": "markdown",
   "metadata": {},
   "source": [
    "Restaurando o tamanho da população"
   ]
  },
  {
   "cell_type": "code",
   "execution_count": 1090,
   "metadata": {},
   "outputs": [],
   "source": [
    "def nova_populacao(populacao, taxa_mutacao, nMelhores, soma_avalicao, tam_subgrupo):\n",
    "    # O elitismo é aplicado para selecionar o melhor indivíduo e gerar n clones dele\n",
    "    # O crossover é aplicado selecionando indivíduos entre toda a populaçao atual\n",
    "    nova_populacao = elitismo(populacao, nMelhores, tam_subgrupo)\n",
    "\n",
    "    while len(nova_populacao) < len(populacao):\n",
    "        pai1 = seleciona_pai(soma_avalicao, populacao, tam_subgrupo)\n",
    "        pai2 = seleciona_pai(soma_avalicao, populacao, tam_subgrupo)\n",
    "        novo_cromo = crossover(populacao[pai1], populacao[pai2], tam_subgrupo)\n",
    "        nova_populacao.append(mutacao(novo_cromo, taxa_mutacao))\n",
    "\n",
    "    return nova_populacao"
   ]
  },
  {
   "cell_type": "markdown",
   "metadata": {},
   "source": [
    "### EXECUÇÃO DO ALGORITMO"
   ]
  },
  {
   "cell_type": "code",
   "execution_count": 1091,
   "metadata": {},
   "outputs": [],
   "source": [
    "def alg_genetico(geracoes, tamanho_pop, tamanho_crom, taxa_mutacao, tam_subgrupo):\n",
    "    melhores = []\n",
    "    nova_pop = []\n",
    "    pop = gerar_populacao(tamanho_pop,tamanho_crom, tam_subgrupo) # Criando cromossomos\n",
    "    melhores.append(seleciona_melhor(pop, tam_subgrupo))\n",
    "    \n",
    "    for i in range(geracoes):\n",
    "        soma_avaliacao = soma_avaliacoes(pop, tam_subgrupo)\n",
    "        nova_pop = nova_populacao(pop, taxa_mutacao, round(tamanho_pop*0.15), soma_avaliacao, tam_subgrupo)\n",
    "        melhores.append(seleciona_melhor(nova_pop, tam_subgrupo))\n",
    "        pop = nova_pop\n",
    "    \n",
    "    return melhores"
   ]
  },
  {
   "cell_type": "code",
   "execution_count": 1092,
   "metadata": {},
   "outputs": [
    {
     "data": {
      "image/png": "[encoded data removed]",
      "text/plain": [
       "<Figure size 640x480 with 1 Axes>"
      ]
     },
     "metadata": {},
     "output_type": "display_data"
    }
   ],
   "source": [
    "# Execução do algoritmo\n",
    "melhores = alg_genetico(200, 30, 64, 0.1, 16)\n",
    "\n",
    "# Extração dos valores de lucro dos melhores cromossomos\n",
    "notas = [notas for notas, cromossomo in melhores]\n",
    "\n",
    "# Criação do gráfico de linhas\n",
    "plt.plot(notas)\n",
    "plt.title('Distância total ao Longo das Gerações')\n",
    "plt.xlabel('Gerações')\n",
    "plt.ylabel('Notas')\n",
    "plt.grid(True)\n",
    "plt.show()"
   ]
  },
  {
   "cell_type": "code",
   "execution_count": 1093,
   "metadata": {},
   "outputs": [
    {
     "name": "stdout",
     "output_type": "stream",
     "text": [
      "215\n",
      "[1, 1, 0, 0, 0, 0, 0, 0, 0, 0, 0, 0, 0, 0, 0, 0, 1, 0, 0, 0, 1, 0, 0, 1, 0, 1, 1, 0, 0, 0, 1, 0, 1, 0, 0, 1, 0, 1, 1, 0, 0, 0, 0, 0, 1, 0, 0, 0, 1, 0, 1, 0, 0, 0, 0, 0, 1, 0, 0, 1, 0, 1, 0, 1]\n"
     ]
    }
   ],
   "source": [
    "minimo = min(melhores)\n",
    "min_nota = minimo[0]\n",
    "print(min_nota)\n",
    "min_crom = minimo[1]\n",
    "print(min_crom)\n",
    "\n",
    "\n"
   ]
  },
  {
   "cell_type": "code",
   "execution_count": 1094,
   "metadata": {},
   "outputs": [
    {
     "name": "stdout",
     "output_type": "stream",
     "text": [
      "[1, 1, 0, 0, 0, 0, 0, 0, 0, 0, 0, 0, 0, 0, 0, 0]\n",
      "[1, 0, 0, 0, 1, 0, 0, 1, 0, 1, 1, 0, 0, 0, 1, 0]\n",
      "[1, 0, 0, 1, 0, 1, 1, 0, 0, 0, 0, 0, 1, 0, 0, 0]\n",
      "[1, 0, 1, 0, 0, 0, 0, 0, 1, 0, 0, 1, 0, 1, 0, 1]\n"
     ]
    }
   ],
   "source": [
    "# Supondo que variaveis(min_crom, 16) retorna 4 listas de bits\n",
    "p1, p2, p3, p4 = variaveis(min_crom, 16)\n",
    "\n",
    "print(p1)\n",
    "print(p2)\n",
    "print(p3)\n",
    "print(p4)\n",
    "\n"
   ]
  }
 ],
 "metadata": {
  "kernelspec": {
   "display_name": "Python 3",
   "language": "python",
   "name": "python3"
  },
  "language_info": {
   "codemirror_mode": {
    "name": "ipython",
    "version": 3
   },
   "file_extension": ".py",
   "mimetype": "text/x-python",
   "name": "python",
   "nbconvert_exporter": "python",
   "pygments_lexer": "ipython3",
   "version": "3.12.1"
  }
 },
 "nbformat": 4,
 "nbformat_minor": 2
}
