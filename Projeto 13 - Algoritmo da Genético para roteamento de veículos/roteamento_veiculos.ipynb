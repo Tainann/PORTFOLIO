{
 "cells": [
  {
   "cell_type": "markdown",
   "metadata": {},
   "source": [
    "# ALGORITMO GENÉTICO PARA OTIMIZAR ROTEAMENTO DE TRANSPORTE DE HIDROGÊNIO VERDE\n",
    "\n",
    "### TODOS OS DADOS SÃO DE http://vrp.galgos.inf.puc-rio.br/index.php/en/.\n",
    "\n",
    "### ESTE ALGORITMO IRÁ BUSCAR UMA SOLUÇÃO ÓTIMA PARA O ROTEAMENTO DE VEÍCULOS QUE DEVEM TRANSPORTAR HIDROGÊNIO VERDE.\n",
    "\n",
    "### 31 PONTOS DE ENTREGA QUE DEVEM SER ATENDIDOS PELOS 5 VEÍCULOS DA DISTRIBUIDORA.\n",
    "\n",
    "### O OBJETIVO FINAL É ACHAR UMA SOLUÇÃO EM QUE OS VEÍCULOS JUNTOS PERCORRAM A MENOR DISTÂNCIA POSSÍVEL, LEVANDO EM CONTA TAMBÉM O PERCURSO DE VOLTA DELES PARA A DISTRIBUIDORA.\n",
    "\n",
    "Restrições:\n",
    "\n",
    "- Cada ponto de entrega deve ser atendido exatamente uma vez (deve receber apenas um veículo).\n",
    "    \n",
    "- A soma das demandas dos clientes em qualquer rota não pode exceder a capacidade de cada veículo (100 kg).\n",
    "\n",
    "\n",
    "Importante:\n",
    "- A geração inicial é gerada de forma aleatória.\n",
    "- A geração seguinte será composta pelos melhores indivíduos da geração anterior e por filhos vindos da roleta viciada, além\n",
    "de novos cromossomos gerados de forma aleatória.\n",
    "- O ponto de distribuição 0 significa a distribuidora de hidrogênio."
   ]
  },
  {
   "cell_type": "code",
   "execution_count": 1,
   "metadata": {},
   "outputs": [],
   "source": [
    "import pandas as pd\n",
    "import random\n",
    "import matplotlib.pyplot as plt\n",
    "import numpy as np\n",
    "import math\n",
    "import plotly.graph_objects as go\n",
    "import copy\n",
    "from sklearn.cluster import KMeans\n",
    "from sklearn.metrics import silhouette_score"
   ]
  },
  {
   "cell_type": "code",
   "execution_count": 2,
   "metadata": {},
   "outputs": [
    {
     "name": "stdout",
     "output_type": "stream",
     "text": [
      "Tabela de Demandas:\n"
     ]
    },
    {
     "data": {
      "text/html": [
       "<div>\n",
       "<style scoped>\n",
       "    .dataframe tbody tr th:only-of-type {\n",
       "        vertical-align: middle;\n",
       "    }\n",
       "\n",
       "    .dataframe tbody tr th {\n",
       "        vertical-align: top;\n",
       "    }\n",
       "\n",
       "    .dataframe thead th {\n",
       "        text-align: right;\n",
       "    }\n",
       "</style>\n",
       "<table border=\"1\" class=\"dataframe\">\n",
       "  <thead>\n",
       "    <tr style=\"text-align: right;\">\n",
       "      <th></th>\n",
       "      <th>Cliente</th>\n",
       "      <th>Demanda (unidades)</th>\n",
       "    </tr>\n",
       "  </thead>\n",
       "  <tbody>\n",
       "    <tr>\n",
       "      <th>0</th>\n",
       "      <td>0</td>\n",
       "      <td>0</td>\n",
       "    </tr>\n",
       "    <tr>\n",
       "      <th>1</th>\n",
       "      <td>1</td>\n",
       "      <td>25</td>\n",
       "    </tr>\n",
       "    <tr>\n",
       "      <th>2</th>\n",
       "      <td>2</td>\n",
       "      <td>3</td>\n",
       "    </tr>\n",
       "    <tr>\n",
       "      <th>3</th>\n",
       "      <td>3</td>\n",
       "      <td>13</td>\n",
       "    </tr>\n",
       "    <tr>\n",
       "      <th>4</th>\n",
       "      <td>4</td>\n",
       "      <td>17</td>\n",
       "    </tr>\n",
       "    <tr>\n",
       "      <th>5</th>\n",
       "      <td>5</td>\n",
       "      <td>16</td>\n",
       "    </tr>\n",
       "    <tr>\n",
       "      <th>6</th>\n",
       "      <td>6</td>\n",
       "      <td>9</td>\n",
       "    </tr>\n",
       "    <tr>\n",
       "      <th>7</th>\n",
       "      <td>7</td>\n",
       "      <td>22</td>\n",
       "    </tr>\n",
       "    <tr>\n",
       "      <th>8</th>\n",
       "      <td>8</td>\n",
       "      <td>10</td>\n",
       "    </tr>\n",
       "    <tr>\n",
       "      <th>9</th>\n",
       "      <td>9</td>\n",
       "      <td>16</td>\n",
       "    </tr>\n",
       "    <tr>\n",
       "      <th>10</th>\n",
       "      <td>10</td>\n",
       "      <td>8</td>\n",
       "    </tr>\n",
       "    <tr>\n",
       "      <th>11</th>\n",
       "      <td>11</td>\n",
       "      <td>3</td>\n",
       "    </tr>\n",
       "    <tr>\n",
       "      <th>12</th>\n",
       "      <td>12</td>\n",
       "      <td>16</td>\n",
       "    </tr>\n",
       "    <tr>\n",
       "      <th>13</th>\n",
       "      <td>13</td>\n",
       "      <td>16</td>\n",
       "    </tr>\n",
       "    <tr>\n",
       "      <th>14</th>\n",
       "      <td>14</td>\n",
       "      <td>10</td>\n",
       "    </tr>\n",
       "    <tr>\n",
       "      <th>15</th>\n",
       "      <td>15</td>\n",
       "      <td>24</td>\n",
       "    </tr>\n",
       "    <tr>\n",
       "      <th>16</th>\n",
       "      <td>16</td>\n",
       "      <td>16</td>\n",
       "    </tr>\n",
       "    <tr>\n",
       "      <th>17</th>\n",
       "      <td>17</td>\n",
       "      <td>15</td>\n",
       "    </tr>\n",
       "    <tr>\n",
       "      <th>18</th>\n",
       "      <td>18</td>\n",
       "      <td>14</td>\n",
       "    </tr>\n",
       "    <tr>\n",
       "      <th>19</th>\n",
       "      <td>19</td>\n",
       "      <td>5</td>\n",
       "    </tr>\n",
       "    <tr>\n",
       "      <th>20</th>\n",
       "      <td>20</td>\n",
       "      <td>12</td>\n",
       "    </tr>\n",
       "    <tr>\n",
       "      <th>21</th>\n",
       "      <td>21</td>\n",
       "      <td>2</td>\n",
       "    </tr>\n",
       "    <tr>\n",
       "      <th>22</th>\n",
       "      <td>22</td>\n",
       "      <td>18</td>\n",
       "    </tr>\n",
       "    <tr>\n",
       "      <th>23</th>\n",
       "      <td>23</td>\n",
       "      <td>20</td>\n",
       "    </tr>\n",
       "    <tr>\n",
       "      <th>24</th>\n",
       "      <td>24</td>\n",
       "      <td>15</td>\n",
       "    </tr>\n",
       "    <tr>\n",
       "      <th>25</th>\n",
       "      <td>25</td>\n",
       "      <td>8</td>\n",
       "    </tr>\n",
       "    <tr>\n",
       "      <th>26</th>\n",
       "      <td>26</td>\n",
       "      <td>22</td>\n",
       "    </tr>\n",
       "    <tr>\n",
       "      <th>27</th>\n",
       "      <td>27</td>\n",
       "      <td>15</td>\n",
       "    </tr>\n",
       "    <tr>\n",
       "      <th>28</th>\n",
       "      <td>28</td>\n",
       "      <td>10</td>\n",
       "    </tr>\n",
       "    <tr>\n",
       "      <th>29</th>\n",
       "      <td>29</td>\n",
       "      <td>13</td>\n",
       "    </tr>\n",
       "    <tr>\n",
       "      <th>30</th>\n",
       "      <td>30</td>\n",
       "      <td>19</td>\n",
       "    </tr>\n",
       "  </tbody>\n",
       "</table>\n",
       "</div>"
      ],
      "text/plain": [
       "    Cliente  Demanda (unidades)\n",
       "0         0                   0\n",
       "1         1                  25\n",
       "2         2                   3\n",
       "3         3                  13\n",
       "4         4                  17\n",
       "5         5                  16\n",
       "6         6                   9\n",
       "7         7                  22\n",
       "8         8                  10\n",
       "9         9                  16\n",
       "10       10                   8\n",
       "11       11                   3\n",
       "12       12                  16\n",
       "13       13                  16\n",
       "14       14                  10\n",
       "15       15                  24\n",
       "16       16                  16\n",
       "17       17                  15\n",
       "18       18                  14\n",
       "19       19                   5\n",
       "20       20                  12\n",
       "21       21                   2\n",
       "22       22                  18\n",
       "23       23                  20\n",
       "24       24                  15\n",
       "25       25                   8\n",
       "26       26                  22\n",
       "27       27                  15\n",
       "28       28                  10\n",
       "29       29                  13\n",
       "30       30                  19"
      ]
     },
     "metadata": {},
     "output_type": "display_data"
    },
    {
     "data": {
      "application/vnd.plotly.v1+json": {
       "config": {
        "plotlyServerURL": "https://plot.ly"
       },
       "data": [
        {
         "hoverinfo": "text",
         "marker": {
          "color": [
           "blue",
           "red",
           "red",
           "red",
           "red",
           "red",
           "red",
           "red",
           "red",
           "red",
           "red",
           "red",
           "red",
           "red",
           "red",
           "red",
           "red",
           "red",
           "red",
           "red",
           "red",
           "red",
           "red",
           "red",
           "red",
           "red",
           "red",
           "red",
           "red",
           "red",
           "red"
          ],
          "size": 10
         },
         "mode": "markers",
         "text": [
          "Cliente: 0<br>Demanda: 0",
          "Cliente: 1<br>Demanda: 25",
          "Cliente: 2<br>Demanda: 3",
          "Cliente: 3<br>Demanda: 13",
          "Cliente: 4<br>Demanda: 17",
          "Cliente: 5<br>Demanda: 16",
          "Cliente: 6<br>Demanda: 9",
          "Cliente: 7<br>Demanda: 22",
          "Cliente: 8<br>Demanda: 10",
          "Cliente: 9<br>Demanda: 16",
          "Cliente: 10<br>Demanda: 8",
          "Cliente: 11<br>Demanda: 3",
          "Cliente: 12<br>Demanda: 16",
          "Cliente: 13<br>Demanda: 16",
          "Cliente: 14<br>Demanda: 10",
          "Cliente: 15<br>Demanda: 24",
          "Cliente: 16<br>Demanda: 16",
          "Cliente: 17<br>Demanda: 15",
          "Cliente: 18<br>Demanda: 14",
          "Cliente: 19<br>Demanda: 5",
          "Cliente: 20<br>Demanda: 12",
          "Cliente: 21<br>Demanda: 2",
          "Cliente: 22<br>Demanda: 18",
          "Cliente: 23<br>Demanda: 20",
          "Cliente: 24<br>Demanda: 15",
          "Cliente: 25<br>Demanda: 8",
          "Cliente: 26<br>Demanda: 22",
          "Cliente: 27<br>Demanda: 15",
          "Cliente: 28<br>Demanda: 10",
          "Cliente: 29<br>Demanda: 13",
          "Cliente: 30<br>Demanda: 19"
         ],
         "type": "scatter",
         "x": [
          17,
          24,
          96,
          14,
          14,
          0,
          16,
          20,
          22,
          17,
          98,
          30,
          23,
          19,
          34,
          31,
          0,
          19,
          0,
          26,
          98,
          5,
          17,
          21,
          28,
          1,
          27,
          99,
          26,
          17,
          20
         ],
         "y": [
          76,
          6,
          29,
          19,
          32,
          34,
          22,
          26,
          28,
          23,
          30,
          8,
          27,
          23,
          7,
          7,
          37,
          23,
          36,
          7,
          32,
          40,
          26,
          26,
          8,
          35,
          28,
          30,
          28,
          29,
          26
         ]
        }
       ],
       "layout": {
        "height": 1000,
        "template": {
         "data": {
          "bar": [
           {
            "error_x": {
             "color": "#2a3f5f"
            },
            "error_y": {
             "color": "#2a3f5f"
            },
            "marker": {
             "line": {
              "color": "#E5ECF6",
              "width": 0.5
             },
             "pattern": {
              "fillmode": "overlay",
              "size": 10,
              "solidity": 0.2
             }
            },
            "type": "bar"
           }
          ],
          "barpolar": [
           {
            "marker": {
             "line": {
              "color": "#E5ECF6",
              "width": 0.5
             },
             "pattern": {
              "fillmode": "overlay",
              "size": 10,
              "solidity": 0.2
             }
            },
            "type": "barpolar"
           }
          ],
          "carpet": [
           {
            "aaxis": {
             "endlinecolor": "#2a3f5f",
             "gridcolor": "white",
             "linecolor": "white",
             "minorgridcolor": "white",
             "startlinecolor": "#2a3f5f"
            },
            "baxis": {
             "endlinecolor": "#2a3f5f",
             "gridcolor": "white",
             "linecolor": "white",
             "minorgridcolor": "white",
             "startlinecolor": "#2a3f5f"
            },
            "type": "carpet"
           }
          ],
          "choropleth": [
           {
            "colorbar": {
             "outlinewidth": 0,
             "ticks": ""
            },
            "type": "choropleth"
           }
          ],
          "contour": [
           {
            "colorbar": {
             "outlinewidth": 0,
             "ticks": ""
            },
            "colorscale": [
             [
              0,
              "#0d0887"
             ],
             [
              0.1111111111111111,
              "#46039f"
             ],
             [
              0.2222222222222222,
              "#7201a8"
             ],
             [
              0.3333333333333333,
              "#9c179e"
             ],
             [
              0.4444444444444444,
              "#bd3786"
             ],
             [
              0.5555555555555556,
              "#d8576b"
             ],
             [
              0.6666666666666666,
              "#ed7953"
             ],
             [
              0.7777777777777778,
              "#fb9f3a"
             ],
             [
              0.8888888888888888,
              "#fdca26"
             ],
             [
              1,
              "#f0f921"
             ]
            ],
            "type": "contour"
           }
          ],
          "contourcarpet": [
           {
            "colorbar": {
             "outlinewidth": 0,
             "ticks": ""
            },
            "type": "contourcarpet"
           }
          ],
          "heatmap": [
           {
            "colorbar": {
             "outlinewidth": 0,
             "ticks": ""
            },
            "colorscale": [
             [
              0,
              "#0d0887"
             ],
             [
              0.1111111111111111,
              "#46039f"
             ],
             [
              0.2222222222222222,
              "#7201a8"
             ],
             [
              0.3333333333333333,
              "#9c179e"
             ],
             [
              0.4444444444444444,
              "#bd3786"
             ],
             [
              0.5555555555555556,
              "#d8576b"
             ],
             [
              0.6666666666666666,
              "#ed7953"
             ],
             [
              0.7777777777777778,
              "#fb9f3a"
             ],
             [
              0.8888888888888888,
              "#fdca26"
             ],
             [
              1,
              "#f0f921"
             ]
            ],
            "type": "heatmap"
           }
          ],
          "heatmapgl": [
           {
            "colorbar": {
             "outlinewidth": 0,
             "ticks": ""
            },
            "colorscale": [
             [
              0,
              "#0d0887"
             ],
             [
              0.1111111111111111,
              "#46039f"
             ],
             [
              0.2222222222222222,
              "#7201a8"
             ],
             [
              0.3333333333333333,
              "#9c179e"
             ],
             [
              0.4444444444444444,
              "#bd3786"
             ],
             [
              0.5555555555555556,
              "#d8576b"
             ],
             [
              0.6666666666666666,
              "#ed7953"
             ],
             [
              0.7777777777777778,
              "#fb9f3a"
             ],
             [
              0.8888888888888888,
              "#fdca26"
             ],
             [
              1,
              "#f0f921"
             ]
            ],
            "type": "heatmapgl"
           }
          ],
          "histogram": [
           {
            "marker": {
             "pattern": {
              "fillmode": "overlay",
              "size": 10,
              "solidity": 0.2
             }
            },
            "type": "histogram"
           }
          ],
          "histogram2d": [
           {
            "colorbar": {
             "outlinewidth": 0,
             "ticks": ""
            },
            "colorscale": [
             [
              0,
              "#0d0887"
             ],
             [
              0.1111111111111111,
              "#46039f"
             ],
             [
              0.2222222222222222,
              "#7201a8"
             ],
             [
              0.3333333333333333,
              "#9c179e"
             ],
             [
              0.4444444444444444,
              "#bd3786"
             ],
             [
              0.5555555555555556,
              "#d8576b"
             ],
             [
              0.6666666666666666,
              "#ed7953"
             ],
             [
              0.7777777777777778,
              "#fb9f3a"
             ],
             [
              0.8888888888888888,
              "#fdca26"
             ],
             [
              1,
              "#f0f921"
             ]
            ],
            "type": "histogram2d"
           }
          ],
          "histogram2dcontour": [
           {
            "colorbar": {
             "outlinewidth": 0,
             "ticks": ""
            },
            "colorscale": [
             [
              0,
              "#0d0887"
             ],
             [
              0.1111111111111111,
              "#46039f"
             ],
             [
              0.2222222222222222,
              "#7201a8"
             ],
             [
              0.3333333333333333,
              "#9c179e"
             ],
             [
              0.4444444444444444,
              "#bd3786"
             ],
             [
              0.5555555555555556,
              "#d8576b"
             ],
             [
              0.6666666666666666,
              "#ed7953"
             ],
             [
              0.7777777777777778,
              "#fb9f3a"
             ],
             [
              0.8888888888888888,
              "#fdca26"
             ],
             [
              1,
              "#f0f921"
             ]
            ],
            "type": "histogram2dcontour"
           }
          ],
          "mesh3d": [
           {
            "colorbar": {
             "outlinewidth": 0,
             "ticks": ""
            },
            "type": "mesh3d"
           }
          ],
          "parcoords": [
           {
            "line": {
             "colorbar": {
              "outlinewidth": 0,
              "ticks": ""
             }
            },
            "type": "parcoords"
           }
          ],
          "pie": [
           {
            "automargin": true,
            "type": "pie"
           }
          ],
          "scatter": [
           {
            "fillpattern": {
             "fillmode": "overlay",
             "size": 10,
             "solidity": 0.2
            },
            "type": "scatter"
           }
          ],
          "scatter3d": [
           {
            "line": {
             "colorbar": {
              "outlinewidth": 0,
              "ticks": ""
             }
            },
            "marker": {
             "colorbar": {
              "outlinewidth": 0,
              "ticks": ""
             }
            },
            "type": "scatter3d"
           }
          ],
          "scattercarpet": [
           {
            "marker": {
             "colorbar": {
              "outlinewidth": 0,
              "ticks": ""
             }
            },
            "type": "scattercarpet"
           }
          ],
          "scattergeo": [
           {
            "marker": {
             "colorbar": {
              "outlinewidth": 0,
              "ticks": ""
             }
            },
            "type": "scattergeo"
           }
          ],
          "scattergl": [
           {
            "marker": {
             "colorbar": {
              "outlinewidth": 0,
              "ticks": ""
             }
            },
            "type": "scattergl"
           }
          ],
          "scattermapbox": [
           {
            "marker": {
             "colorbar": {
              "outlinewidth": 0,
              "ticks": ""
             }
            },
            "type": "scattermapbox"
           }
          ],
          "scatterpolar": [
           {
            "marker": {
             "colorbar": {
              "outlinewidth": 0,
              "ticks": ""
             }
            },
            "type": "scatterpolar"
           }
          ],
          "scatterpolargl": [
           {
            "marker": {
             "colorbar": {
              "outlinewidth": 0,
              "ticks": ""
             }
            },
            "type": "scatterpolargl"
           }
          ],
          "scatterternary": [
           {
            "marker": {
             "colorbar": {
              "outlinewidth": 0,
              "ticks": ""
             }
            },
            "type": "scatterternary"
           }
          ],
          "surface": [
           {
            "colorbar": {
             "outlinewidth": 0,
             "ticks": ""
            },
            "colorscale": [
             [
              0,
              "#0d0887"
             ],
             [
              0.1111111111111111,
              "#46039f"
             ],
             [
              0.2222222222222222,
              "#7201a8"
             ],
             [
              0.3333333333333333,
              "#9c179e"
             ],
             [
              0.4444444444444444,
              "#bd3786"
             ],
             [
              0.5555555555555556,
              "#d8576b"
             ],
             [
              0.6666666666666666,
              "#ed7953"
             ],
             [
              0.7777777777777778,
              "#fb9f3a"
             ],
             [
              0.8888888888888888,
              "#fdca26"
             ],
             [
              1,
              "#f0f921"
             ]
            ],
            "type": "surface"
           }
          ],
          "table": [
           {
            "cells": {
             "fill": {
              "color": "#EBF0F8"
             },
             "line": {
              "color": "white"
             }
            },
            "header": {
             "fill": {
              "color": "#C8D4E3"
             },
             "line": {
              "color": "white"
             }
            },
            "type": "table"
           }
          ]
         },
         "layout": {
          "annotationdefaults": {
           "arrowcolor": "#2a3f5f",
           "arrowhead": 0,
           "arrowwidth": 1
          },
          "autotypenumbers": "strict",
          "coloraxis": {
           "colorbar": {
            "outlinewidth": 0,
            "ticks": ""
           }
          },
          "colorscale": {
           "diverging": [
            [
             0,
             "#8e0152"
            ],
            [
             0.1,
             "#c51b7d"
            ],
            [
             0.2,
             "#de77ae"
            ],
            [
             0.3,
             "#f1b6da"
            ],
            [
             0.4,
             "#fde0ef"
            ],
            [
             0.5,
             "#f7f7f7"
            ],
            [
             0.6,
             "#e6f5d0"
            ],
            [
             0.7,
             "#b8e186"
            ],
            [
             0.8,
             "#7fbc41"
            ],
            [
             0.9,
             "#4d9221"
            ],
            [
             1,
             "#276419"
            ]
           ],
           "sequential": [
            [
             0,
             "#0d0887"
            ],
            [
             0.1111111111111111,
             "#46039f"
            ],
            [
             0.2222222222222222,
             "#7201a8"
            ],
            [
             0.3333333333333333,
             "#9c179e"
            ],
            [
             0.4444444444444444,
             "#bd3786"
            ],
            [
             0.5555555555555556,
             "#d8576b"
            ],
            [
             0.6666666666666666,
             "#ed7953"
            ],
            [
             0.7777777777777778,
             "#fb9f3a"
            ],
            [
             0.8888888888888888,
             "#fdca26"
            ],
            [
             1,
             "#f0f921"
            ]
           ],
           "sequentialminus": [
            [
             0,
             "#0d0887"
            ],
            [
             0.1111111111111111,
             "#46039f"
            ],
            [
             0.2222222222222222,
             "#7201a8"
            ],
            [
             0.3333333333333333,
             "#9c179e"
            ],
            [
             0.4444444444444444,
             "#bd3786"
            ],
            [
             0.5555555555555556,
             "#d8576b"
            ],
            [
             0.6666666666666666,
             "#ed7953"
            ],
            [
             0.7777777777777778,
             "#fb9f3a"
            ],
            [
             0.8888888888888888,
             "#fdca26"
            ],
            [
             1,
             "#f0f921"
            ]
           ]
          },
          "colorway": [
           "#636efa",
           "#EF553B",
           "#00cc96",
           "#ab63fa",
           "#FFA15A",
           "#19d3f3",
           "#FF6692",
           "#B6E880",
           "#FF97FF",
           "#FECB52"
          ],
          "font": {
           "color": "#2a3f5f"
          },
          "geo": {
           "bgcolor": "white",
           "lakecolor": "white",
           "landcolor": "#E5ECF6",
           "showlakes": true,
           "showland": true,
           "subunitcolor": "white"
          },
          "hoverlabel": {
           "align": "left"
          },
          "hovermode": "closest",
          "mapbox": {
           "style": "light"
          },
          "paper_bgcolor": "white",
          "plot_bgcolor": "#E5ECF6",
          "polar": {
           "angularaxis": {
            "gridcolor": "white",
            "linecolor": "white",
            "ticks": ""
           },
           "bgcolor": "#E5ECF6",
           "radialaxis": {
            "gridcolor": "white",
            "linecolor": "white",
            "ticks": ""
           }
          },
          "scene": {
           "xaxis": {
            "backgroundcolor": "#E5ECF6",
            "gridcolor": "white",
            "gridwidth": 2,
            "linecolor": "white",
            "showbackground": true,
            "ticks": "",
            "zerolinecolor": "white"
           },
           "yaxis": {
            "backgroundcolor": "#E5ECF6",
            "gridcolor": "white",
            "gridwidth": 2,
            "linecolor": "white",
            "showbackground": true,
            "ticks": "",
            "zerolinecolor": "white"
           },
           "zaxis": {
            "backgroundcolor": "#E5ECF6",
            "gridcolor": "white",
            "gridwidth": 2,
            "linecolor": "white",
            "showbackground": true,
            "ticks": "",
            "zerolinecolor": "white"
           }
          },
          "shapedefaults": {
           "line": {
            "color": "#2a3f5f"
           }
          },
          "ternary": {
           "aaxis": {
            "gridcolor": "white",
            "linecolor": "white",
            "ticks": ""
           },
           "baxis": {
            "gridcolor": "white",
            "linecolor": "white",
            "ticks": ""
           },
           "bgcolor": "#E5ECF6",
           "caxis": {
            "gridcolor": "white",
            "linecolor": "white",
            "ticks": ""
           }
          },
          "title": {
           "x": 0.05
          },
          "xaxis": {
           "automargin": true,
           "gridcolor": "white",
           "linecolor": "white",
           "ticks": "",
           "title": {
            "standoff": 15
           },
           "zerolinecolor": "white",
           "zerolinewidth": 2
          },
          "yaxis": {
           "automargin": true,
           "gridcolor": "white",
           "linecolor": "white",
           "ticks": "",
           "title": {
            "standoff": 15
           },
           "zerolinecolor": "white",
           "zerolinewidth": 2
          }
         }
        },
        "title": {
         "text": "Pontos de Entrega"
        },
        "width": 1000,
        "xaxis": {
         "range": [
          -5,
          100
         ],
         "scaleratio": 1,
         "title": {
          "text": "Coordenada X"
         }
        },
        "yaxis": {
         "range": [
          0,
          80
         ],
         "scaleanchor": "x",
         "scaleratio": 1,
         "title": {
          "text": "Coordenada Y"
         }
        }
       }
      }
     },
     "metadata": {},
     "output_type": "display_data"
    },
    {
     "name": "stdout",
     "output_type": "stream",
     "text": [
      "Matriz de Distâncias:\n"
     ]
    },
    {
     "data": {
      "text/html": [
       "<div>\n",
       "<style scoped>\n",
       "    .dataframe tbody tr th:only-of-type {\n",
       "        vertical-align: middle;\n",
       "    }\n",
       "\n",
       "    .dataframe tbody tr th {\n",
       "        vertical-align: top;\n",
       "    }\n",
       "\n",
       "    .dataframe thead th {\n",
       "        text-align: right;\n",
       "    }\n",
       "</style>\n",
       "<table border=\"1\" class=\"dataframe\">\n",
       "  <thead>\n",
       "    <tr style=\"text-align: right;\">\n",
       "      <th></th>\n",
       "      <th>0</th>\n",
       "      <th>1</th>\n",
       "      <th>2</th>\n",
       "      <th>3</th>\n",
       "      <th>4</th>\n",
       "      <th>5</th>\n",
       "      <th>6</th>\n",
       "      <th>7</th>\n",
       "      <th>8</th>\n",
       "      <th>9</th>\n",
       "      <th>...</th>\n",
       "      <th>21</th>\n",
       "      <th>22</th>\n",
       "      <th>23</th>\n",
       "      <th>24</th>\n",
       "      <th>25</th>\n",
       "      <th>26</th>\n",
       "      <th>27</th>\n",
       "      <th>28</th>\n",
       "      <th>29</th>\n",
       "      <th>30</th>\n",
       "    </tr>\n",
       "  </thead>\n",
       "  <tbody>\n",
       "    <tr>\n",
       "      <th>0</th>\n",
       "      <td>0.00</td>\n",
       "      <td>70.35</td>\n",
       "      <td>91.92</td>\n",
       "      <td>57.08</td>\n",
       "      <td>44.10</td>\n",
       "      <td>45.31</td>\n",
       "      <td>54.01</td>\n",
       "      <td>50.09</td>\n",
       "      <td>48.26</td>\n",
       "      <td>53.00</td>\n",
       "      <td>...</td>\n",
       "      <td>37.95</td>\n",
       "      <td>50.00</td>\n",
       "      <td>50.16</td>\n",
       "      <td>68.88</td>\n",
       "      <td>44.01</td>\n",
       "      <td>49.03</td>\n",
       "      <td>94.02</td>\n",
       "      <td>48.84</td>\n",
       "      <td>47.00</td>\n",
       "      <td>50.09</td>\n",
       "    </tr>\n",
       "    <tr>\n",
       "      <th>1</th>\n",
       "      <td>70.35</td>\n",
       "      <td>0.00</td>\n",
       "      <td>75.58</td>\n",
       "      <td>16.40</td>\n",
       "      <td>27.86</td>\n",
       "      <td>36.88</td>\n",
       "      <td>17.89</td>\n",
       "      <td>20.40</td>\n",
       "      <td>22.09</td>\n",
       "      <td>18.38</td>\n",
       "      <td>...</td>\n",
       "      <td>38.95</td>\n",
       "      <td>21.19</td>\n",
       "      <td>20.22</td>\n",
       "      <td>4.47</td>\n",
       "      <td>37.01</td>\n",
       "      <td>22.20</td>\n",
       "      <td>78.75</td>\n",
       "      <td>22.09</td>\n",
       "      <td>24.04</td>\n",
       "      <td>20.40</td>\n",
       "    </tr>\n",
       "    <tr>\n",
       "      <th>2</th>\n",
       "      <td>91.92</td>\n",
       "      <td>75.58</td>\n",
       "      <td>0.00</td>\n",
       "      <td>82.61</td>\n",
       "      <td>82.05</td>\n",
       "      <td>96.13</td>\n",
       "      <td>80.31</td>\n",
       "      <td>76.06</td>\n",
       "      <td>74.01</td>\n",
       "      <td>79.23</td>\n",
       "      <td>...</td>\n",
       "      <td>91.66</td>\n",
       "      <td>79.06</td>\n",
       "      <td>75.06</td>\n",
       "      <td>71.17</td>\n",
       "      <td>95.19</td>\n",
       "      <td>69.01</td>\n",
       "      <td>3.16</td>\n",
       "      <td>70.01</td>\n",
       "      <td>79.00</td>\n",
       "      <td>76.06</td>\n",
       "    </tr>\n",
       "    <tr>\n",
       "      <th>3</th>\n",
       "      <td>57.08</td>\n",
       "      <td>16.40</td>\n",
       "      <td>82.61</td>\n",
       "      <td>0.00</td>\n",
       "      <td>13.00</td>\n",
       "      <td>20.52</td>\n",
       "      <td>3.61</td>\n",
       "      <td>9.22</td>\n",
       "      <td>12.04</td>\n",
       "      <td>5.00</td>\n",
       "      <td>...</td>\n",
       "      <td>22.85</td>\n",
       "      <td>7.62</td>\n",
       "      <td>9.90</td>\n",
       "      <td>17.80</td>\n",
       "      <td>20.62</td>\n",
       "      <td>15.81</td>\n",
       "      <td>85.71</td>\n",
       "      <td>15.00</td>\n",
       "      <td>10.44</td>\n",
       "      <td>9.22</td>\n",
       "    </tr>\n",
       "    <tr>\n",
       "      <th>4</th>\n",
       "      <td>44.10</td>\n",
       "      <td>27.86</td>\n",
       "      <td>82.05</td>\n",
       "      <td>13.00</td>\n",
       "      <td>0.00</td>\n",
       "      <td>14.14</td>\n",
       "      <td>10.20</td>\n",
       "      <td>8.49</td>\n",
       "      <td>8.94</td>\n",
       "      <td>9.49</td>\n",
       "      <td>...</td>\n",
       "      <td>12.04</td>\n",
       "      <td>6.71</td>\n",
       "      <td>9.22</td>\n",
       "      <td>27.78</td>\n",
       "      <td>13.34</td>\n",
       "      <td>13.60</td>\n",
       "      <td>85.02</td>\n",
       "      <td>12.65</td>\n",
       "      <td>4.24</td>\n",
       "      <td>8.49</td>\n",
       "    </tr>\n",
       "    <tr>\n",
       "      <th>5</th>\n",
       "      <td>45.31</td>\n",
       "      <td>36.88</td>\n",
       "      <td>96.13</td>\n",
       "      <td>20.52</td>\n",
       "      <td>14.14</td>\n",
       "      <td>0.00</td>\n",
       "      <td>20.00</td>\n",
       "      <td>21.54</td>\n",
       "      <td>22.80</td>\n",
       "      <td>20.25</td>\n",
       "      <td>...</td>\n",
       "      <td>7.81</td>\n",
       "      <td>18.79</td>\n",
       "      <td>22.47</td>\n",
       "      <td>38.21</td>\n",
       "      <td>1.41</td>\n",
       "      <td>27.66</td>\n",
       "      <td>99.08</td>\n",
       "      <td>26.68</td>\n",
       "      <td>17.72</td>\n",
       "      <td>21.54</td>\n",
       "    </tr>\n",
       "    <tr>\n",
       "      <th>6</th>\n",
       "      <td>54.01</td>\n",
       "      <td>17.89</td>\n",
       "      <td>80.31</td>\n",
       "      <td>3.61</td>\n",
       "      <td>10.20</td>\n",
       "      <td>20.00</td>\n",
       "      <td>0.00</td>\n",
       "      <td>5.66</td>\n",
       "      <td>8.49</td>\n",
       "      <td>1.41</td>\n",
       "      <td>...</td>\n",
       "      <td>21.10</td>\n",
       "      <td>4.12</td>\n",
       "      <td>6.40</td>\n",
       "      <td>18.44</td>\n",
       "      <td>19.85</td>\n",
       "      <td>12.53</td>\n",
       "      <td>83.38</td>\n",
       "      <td>11.66</td>\n",
       "      <td>7.07</td>\n",
       "      <td>5.66</td>\n",
       "    </tr>\n",
       "    <tr>\n",
       "      <th>7</th>\n",
       "      <td>50.09</td>\n",
       "      <td>20.40</td>\n",
       "      <td>76.06</td>\n",
       "      <td>9.22</td>\n",
       "      <td>8.49</td>\n",
       "      <td>21.54</td>\n",
       "      <td>5.66</td>\n",
       "      <td>0.00</td>\n",
       "      <td>2.83</td>\n",
       "      <td>4.24</td>\n",
       "      <td>...</td>\n",
       "      <td>20.52</td>\n",
       "      <td>3.00</td>\n",
       "      <td>1.00</td>\n",
       "      <td>19.70</td>\n",
       "      <td>21.02</td>\n",
       "      <td>7.28</td>\n",
       "      <td>79.10</td>\n",
       "      <td>6.32</td>\n",
       "      <td>4.24</td>\n",
       "      <td>0.00</td>\n",
       "    </tr>\n",
       "    <tr>\n",
       "      <th>8</th>\n",
       "      <td>48.26</td>\n",
       "      <td>22.09</td>\n",
       "      <td>74.01</td>\n",
       "      <td>12.04</td>\n",
       "      <td>8.94</td>\n",
       "      <td>22.80</td>\n",
       "      <td>8.49</td>\n",
       "      <td>2.83</td>\n",
       "      <td>0.00</td>\n",
       "      <td>7.07</td>\n",
       "      <td>...</td>\n",
       "      <td>20.81</td>\n",
       "      <td>5.39</td>\n",
       "      <td>2.24</td>\n",
       "      <td>20.88</td>\n",
       "      <td>22.14</td>\n",
       "      <td>5.00</td>\n",
       "      <td>77.03</td>\n",
       "      <td>4.00</td>\n",
       "      <td>5.10</td>\n",
       "      <td>2.83</td>\n",
       "    </tr>\n",
       "    <tr>\n",
       "      <th>9</th>\n",
       "      <td>53.00</td>\n",
       "      <td>18.38</td>\n",
       "      <td>79.23</td>\n",
       "      <td>5.00</td>\n",
       "      <td>9.49</td>\n",
       "      <td>20.25</td>\n",
       "      <td>1.41</td>\n",
       "      <td>4.24</td>\n",
       "      <td>7.07</td>\n",
       "      <td>0.00</td>\n",
       "      <td>...</td>\n",
       "      <td>20.81</td>\n",
       "      <td>3.00</td>\n",
       "      <td>5.00</td>\n",
       "      <td>18.60</td>\n",
       "      <td>20.00</td>\n",
       "      <td>11.18</td>\n",
       "      <td>82.30</td>\n",
       "      <td>10.30</td>\n",
       "      <td>6.00</td>\n",
       "      <td>4.24</td>\n",
       "    </tr>\n",
       "    <tr>\n",
       "      <th>10</th>\n",
       "      <td>93.15</td>\n",
       "      <td>77.79</td>\n",
       "      <td>2.24</td>\n",
       "      <td>84.72</td>\n",
       "      <td>84.02</td>\n",
       "      <td>98.08</td>\n",
       "      <td>82.39</td>\n",
       "      <td>78.10</td>\n",
       "      <td>76.03</td>\n",
       "      <td>81.30</td>\n",
       "      <td>...</td>\n",
       "      <td>93.54</td>\n",
       "      <td>81.10</td>\n",
       "      <td>77.10</td>\n",
       "      <td>73.38</td>\n",
       "      <td>97.13</td>\n",
       "      <td>71.03</td>\n",
       "      <td>1.00</td>\n",
       "      <td>72.03</td>\n",
       "      <td>81.01</td>\n",
       "      <td>78.10</td>\n",
       "    </tr>\n",
       "    <tr>\n",
       "      <th>11</th>\n",
       "      <td>69.23</td>\n",
       "      <td>6.32</td>\n",
       "      <td>69.26</td>\n",
       "      <td>19.42</td>\n",
       "      <td>28.84</td>\n",
       "      <td>39.70</td>\n",
       "      <td>19.80</td>\n",
       "      <td>20.59</td>\n",
       "      <td>21.54</td>\n",
       "      <td>19.85</td>\n",
       "      <td>...</td>\n",
       "      <td>40.61</td>\n",
       "      <td>22.20</td>\n",
       "      <td>20.12</td>\n",
       "      <td>2.00</td>\n",
       "      <td>39.62</td>\n",
       "      <td>20.22</td>\n",
       "      <td>72.42</td>\n",
       "      <td>20.40</td>\n",
       "      <td>24.70</td>\n",
       "      <td>20.59</td>\n",
       "    </tr>\n",
       "    <tr>\n",
       "      <th>12</th>\n",
       "      <td>49.37</td>\n",
       "      <td>21.02</td>\n",
       "      <td>73.03</td>\n",
       "      <td>12.04</td>\n",
       "      <td>10.30</td>\n",
       "      <td>24.04</td>\n",
       "      <td>8.60</td>\n",
       "      <td>3.16</td>\n",
       "      <td>1.41</td>\n",
       "      <td>7.21</td>\n",
       "      <td>...</td>\n",
       "      <td>22.20</td>\n",
       "      <td>6.08</td>\n",
       "      <td>2.24</td>\n",
       "      <td>19.65</td>\n",
       "      <td>23.41</td>\n",
       "      <td>4.12</td>\n",
       "      <td>76.06</td>\n",
       "      <td>3.16</td>\n",
       "      <td>6.32</td>\n",
       "      <td>3.16</td>\n",
       "    </tr>\n",
       "    <tr>\n",
       "      <th>13</th>\n",
       "      <td>53.04</td>\n",
       "      <td>17.72</td>\n",
       "      <td>77.23</td>\n",
       "      <td>6.40</td>\n",
       "      <td>10.30</td>\n",
       "      <td>21.95</td>\n",
       "      <td>3.16</td>\n",
       "      <td>3.16</td>\n",
       "      <td>5.83</td>\n",
       "      <td>2.00</td>\n",
       "      <td>...</td>\n",
       "      <td>22.02</td>\n",
       "      <td>3.61</td>\n",
       "      <td>3.61</td>\n",
       "      <td>17.49</td>\n",
       "      <td>21.63</td>\n",
       "      <td>9.43</td>\n",
       "      <td>80.31</td>\n",
       "      <td>8.60</td>\n",
       "      <td>6.32</td>\n",
       "      <td>3.16</td>\n",
       "    </tr>\n",
       "    <tr>\n",
       "      <th>14</th>\n",
       "      <td>71.06</td>\n",
       "      <td>10.05</td>\n",
       "      <td>65.79</td>\n",
       "      <td>23.32</td>\n",
       "      <td>32.02</td>\n",
       "      <td>43.42</td>\n",
       "      <td>23.43</td>\n",
       "      <td>23.60</td>\n",
       "      <td>24.19</td>\n",
       "      <td>23.35</td>\n",
       "      <td>...</td>\n",
       "      <td>43.93</td>\n",
       "      <td>25.50</td>\n",
       "      <td>23.02</td>\n",
       "      <td>6.08</td>\n",
       "      <td>43.28</td>\n",
       "      <td>22.14</td>\n",
       "      <td>68.95</td>\n",
       "      <td>22.47</td>\n",
       "      <td>27.80</td>\n",
       "      <td>23.60</td>\n",
       "    </tr>\n",
       "    <tr>\n",
       "      <th>15</th>\n",
       "      <td>70.41</td>\n",
       "      <td>7.07</td>\n",
       "      <td>68.62</td>\n",
       "      <td>20.81</td>\n",
       "      <td>30.23</td>\n",
       "      <td>41.11</td>\n",
       "      <td>21.21</td>\n",
       "      <td>21.95</td>\n",
       "      <td>22.85</td>\n",
       "      <td>21.26</td>\n",
       "      <td>...</td>\n",
       "      <td>42.01</td>\n",
       "      <td>23.60</td>\n",
       "      <td>21.47</td>\n",
       "      <td>3.16</td>\n",
       "      <td>41.04</td>\n",
       "      <td>21.38</td>\n",
       "      <td>71.78</td>\n",
       "      <td>21.59</td>\n",
       "      <td>26.08</td>\n",
       "      <td>21.95</td>\n",
       "    </tr>\n",
       "    <tr>\n",
       "      <th>16</th>\n",
       "      <td>42.54</td>\n",
       "      <td>39.20</td>\n",
       "      <td>96.33</td>\n",
       "      <td>22.80</td>\n",
       "      <td>14.87</td>\n",
       "      <td>3.00</td>\n",
       "      <td>21.93</td>\n",
       "      <td>22.83</td>\n",
       "      <td>23.77</td>\n",
       "      <td>22.02</td>\n",
       "      <td>...</td>\n",
       "      <td>5.83</td>\n",
       "      <td>20.25</td>\n",
       "      <td>23.71</td>\n",
       "      <td>40.31</td>\n",
       "      <td>2.24</td>\n",
       "      <td>28.46</td>\n",
       "      <td>99.25</td>\n",
       "      <td>27.51</td>\n",
       "      <td>18.79</td>\n",
       "      <td>22.83</td>\n",
       "    </tr>\n",
       "    <tr>\n",
       "      <th>17</th>\n",
       "      <td>53.04</td>\n",
       "      <td>17.72</td>\n",
       "      <td>77.23</td>\n",
       "      <td>6.40</td>\n",
       "      <td>10.30</td>\n",
       "      <td>21.95</td>\n",
       "      <td>3.16</td>\n",
       "      <td>3.16</td>\n",
       "      <td>5.83</td>\n",
       "      <td>2.00</td>\n",
       "      <td>...</td>\n",
       "      <td>22.02</td>\n",
       "      <td>3.61</td>\n",
       "      <td>3.61</td>\n",
       "      <td>17.49</td>\n",
       "      <td>21.63</td>\n",
       "      <td>9.43</td>\n",
       "      <td>80.31</td>\n",
       "      <td>8.60</td>\n",
       "      <td>6.32</td>\n",
       "      <td>3.16</td>\n",
       "    </tr>\n",
       "    <tr>\n",
       "      <th>18</th>\n",
       "      <td>43.46</td>\n",
       "      <td>38.42</td>\n",
       "      <td>96.25</td>\n",
       "      <td>22.02</td>\n",
       "      <td>14.56</td>\n",
       "      <td>2.00</td>\n",
       "      <td>21.26</td>\n",
       "      <td>22.36</td>\n",
       "      <td>23.41</td>\n",
       "      <td>21.40</td>\n",
       "      <td>...</td>\n",
       "      <td>6.40</td>\n",
       "      <td>19.72</td>\n",
       "      <td>23.26</td>\n",
       "      <td>39.60</td>\n",
       "      <td>1.41</td>\n",
       "      <td>28.16</td>\n",
       "      <td>99.18</td>\n",
       "      <td>27.20</td>\n",
       "      <td>18.38</td>\n",
       "      <td>22.36</td>\n",
       "    </tr>\n",
       "    <tr>\n",
       "      <th>19</th>\n",
       "      <td>69.58</td>\n",
       "      <td>2.24</td>\n",
       "      <td>73.38</td>\n",
       "      <td>16.97</td>\n",
       "      <td>27.73</td>\n",
       "      <td>37.48</td>\n",
       "      <td>18.03</td>\n",
       "      <td>19.92</td>\n",
       "      <td>21.38</td>\n",
       "      <td>18.36</td>\n",
       "      <td>...</td>\n",
       "      <td>39.12</td>\n",
       "      <td>21.02</td>\n",
       "      <td>19.65</td>\n",
       "      <td>2.24</td>\n",
       "      <td>37.54</td>\n",
       "      <td>21.02</td>\n",
       "      <td>76.54</td>\n",
       "      <td>21.00</td>\n",
       "      <td>23.77</td>\n",
       "      <td>19.92</td>\n",
       "    </tr>\n",
       "    <tr>\n",
       "      <th>20</th>\n",
       "      <td>92.18</td>\n",
       "      <td>78.43</td>\n",
       "      <td>3.61</td>\n",
       "      <td>85.00</td>\n",
       "      <td>84.00</td>\n",
       "      <td>98.02</td>\n",
       "      <td>82.61</td>\n",
       "      <td>78.23</td>\n",
       "      <td>76.11</td>\n",
       "      <td>81.50</td>\n",
       "      <td>...</td>\n",
       "      <td>93.34</td>\n",
       "      <td>81.22</td>\n",
       "      <td>77.23</td>\n",
       "      <td>74.00</td>\n",
       "      <td>97.05</td>\n",
       "      <td>71.11</td>\n",
       "      <td>2.24</td>\n",
       "      <td>72.11</td>\n",
       "      <td>81.06</td>\n",
       "      <td>78.23</td>\n",
       "    </tr>\n",
       "    <tr>\n",
       "      <th>21</th>\n",
       "      <td>37.95</td>\n",
       "      <td>38.95</td>\n",
       "      <td>91.66</td>\n",
       "      <td>22.85</td>\n",
       "      <td>12.04</td>\n",
       "      <td>7.81</td>\n",
       "      <td>21.10</td>\n",
       "      <td>20.52</td>\n",
       "      <td>20.81</td>\n",
       "      <td>20.81</td>\n",
       "      <td>...</td>\n",
       "      <td>0.00</td>\n",
       "      <td>18.44</td>\n",
       "      <td>21.26</td>\n",
       "      <td>39.41</td>\n",
       "      <td>6.40</td>\n",
       "      <td>25.06</td>\n",
       "      <td>94.53</td>\n",
       "      <td>24.19</td>\n",
       "      <td>16.28</td>\n",
       "      <td>20.52</td>\n",
       "    </tr>\n",
       "    <tr>\n",
       "      <th>22</th>\n",
       "      <td>50.00</td>\n",
       "      <td>21.19</td>\n",
       "      <td>79.06</td>\n",
       "      <td>7.62</td>\n",
       "      <td>6.71</td>\n",
       "      <td>18.79</td>\n",
       "      <td>4.12</td>\n",
       "      <td>3.00</td>\n",
       "      <td>5.39</td>\n",
       "      <td>3.00</td>\n",
       "      <td>...</td>\n",
       "      <td>18.44</td>\n",
       "      <td>0.00</td>\n",
       "      <td>4.00</td>\n",
       "      <td>21.10</td>\n",
       "      <td>18.36</td>\n",
       "      <td>10.20</td>\n",
       "      <td>82.10</td>\n",
       "      <td>9.22</td>\n",
       "      <td>3.00</td>\n",
       "      <td>3.00</td>\n",
       "    </tr>\n",
       "    <tr>\n",
       "      <th>23</th>\n",
       "      <td>50.16</td>\n",
       "      <td>20.22</td>\n",
       "      <td>75.06</td>\n",
       "      <td>9.90</td>\n",
       "      <td>9.22</td>\n",
       "      <td>22.47</td>\n",
       "      <td>6.40</td>\n",
       "      <td>1.00</td>\n",
       "      <td>2.24</td>\n",
       "      <td>5.00</td>\n",
       "      <td>...</td>\n",
       "      <td>21.26</td>\n",
       "      <td>4.00</td>\n",
       "      <td>0.00</td>\n",
       "      <td>19.31</td>\n",
       "      <td>21.93</td>\n",
       "      <td>6.32</td>\n",
       "      <td>78.10</td>\n",
       "      <td>5.39</td>\n",
       "      <td>5.00</td>\n",
       "      <td>1.00</td>\n",
       "    </tr>\n",
       "    <tr>\n",
       "      <th>24</th>\n",
       "      <td>68.88</td>\n",
       "      <td>4.47</td>\n",
       "      <td>71.17</td>\n",
       "      <td>17.80</td>\n",
       "      <td>27.78</td>\n",
       "      <td>38.21</td>\n",
       "      <td>18.44</td>\n",
       "      <td>19.70</td>\n",
       "      <td>20.88</td>\n",
       "      <td>18.60</td>\n",
       "      <td>...</td>\n",
       "      <td>39.41</td>\n",
       "      <td>21.10</td>\n",
       "      <td>19.31</td>\n",
       "      <td>0.00</td>\n",
       "      <td>38.18</td>\n",
       "      <td>20.02</td>\n",
       "      <td>74.33</td>\n",
       "      <td>20.10</td>\n",
       "      <td>23.71</td>\n",
       "      <td>19.70</td>\n",
       "    </tr>\n",
       "    <tr>\n",
       "      <th>25</th>\n",
       "      <td>44.01</td>\n",
       "      <td>37.01</td>\n",
       "      <td>95.19</td>\n",
       "      <td>20.62</td>\n",
       "      <td>13.34</td>\n",
       "      <td>1.41</td>\n",
       "      <td>19.85</td>\n",
       "      <td>21.02</td>\n",
       "      <td>22.14</td>\n",
       "      <td>20.00</td>\n",
       "      <td>...</td>\n",
       "      <td>6.40</td>\n",
       "      <td>18.36</td>\n",
       "      <td>21.93</td>\n",
       "      <td>38.18</td>\n",
       "      <td>0.00</td>\n",
       "      <td>26.93</td>\n",
       "      <td>98.13</td>\n",
       "      <td>25.96</td>\n",
       "      <td>17.09</td>\n",
       "      <td>21.02</td>\n",
       "    </tr>\n",
       "    <tr>\n",
       "      <th>26</th>\n",
       "      <td>49.03</td>\n",
       "      <td>22.20</td>\n",
       "      <td>69.01</td>\n",
       "      <td>15.81</td>\n",
       "      <td>13.60</td>\n",
       "      <td>27.66</td>\n",
       "      <td>12.53</td>\n",
       "      <td>7.28</td>\n",
       "      <td>5.00</td>\n",
       "      <td>11.18</td>\n",
       "      <td>...</td>\n",
       "      <td>25.06</td>\n",
       "      <td>10.20</td>\n",
       "      <td>6.32</td>\n",
       "      <td>20.02</td>\n",
       "      <td>26.93</td>\n",
       "      <td>0.00</td>\n",
       "      <td>72.03</td>\n",
       "      <td>1.00</td>\n",
       "      <td>10.05</td>\n",
       "      <td>7.28</td>\n",
       "    </tr>\n",
       "    <tr>\n",
       "      <th>27</th>\n",
       "      <td>94.02</td>\n",
       "      <td>78.75</td>\n",
       "      <td>3.16</td>\n",
       "      <td>85.71</td>\n",
       "      <td>85.02</td>\n",
       "      <td>99.08</td>\n",
       "      <td>83.38</td>\n",
       "      <td>79.10</td>\n",
       "      <td>77.03</td>\n",
       "      <td>82.30</td>\n",
       "      <td>...</td>\n",
       "      <td>94.53</td>\n",
       "      <td>82.10</td>\n",
       "      <td>78.10</td>\n",
       "      <td>74.33</td>\n",
       "      <td>98.13</td>\n",
       "      <td>72.03</td>\n",
       "      <td>0.00</td>\n",
       "      <td>73.03</td>\n",
       "      <td>82.01</td>\n",
       "      <td>79.10</td>\n",
       "    </tr>\n",
       "    <tr>\n",
       "      <th>28</th>\n",
       "      <td>48.84</td>\n",
       "      <td>22.09</td>\n",
       "      <td>70.01</td>\n",
       "      <td>15.00</td>\n",
       "      <td>12.65</td>\n",
       "      <td>26.68</td>\n",
       "      <td>11.66</td>\n",
       "      <td>6.32</td>\n",
       "      <td>4.00</td>\n",
       "      <td>10.30</td>\n",
       "      <td>...</td>\n",
       "      <td>24.19</td>\n",
       "      <td>9.22</td>\n",
       "      <td>5.39</td>\n",
       "      <td>20.10</td>\n",
       "      <td>25.96</td>\n",
       "      <td>1.00</td>\n",
       "      <td>73.03</td>\n",
       "      <td>0.00</td>\n",
       "      <td>9.06</td>\n",
       "      <td>6.32</td>\n",
       "    </tr>\n",
       "    <tr>\n",
       "      <th>29</th>\n",
       "      <td>47.00</td>\n",
       "      <td>24.04</td>\n",
       "      <td>79.00</td>\n",
       "      <td>10.44</td>\n",
       "      <td>4.24</td>\n",
       "      <td>17.72</td>\n",
       "      <td>7.07</td>\n",
       "      <td>4.24</td>\n",
       "      <td>5.10</td>\n",
       "      <td>6.00</td>\n",
       "      <td>...</td>\n",
       "      <td>16.28</td>\n",
       "      <td>3.00</td>\n",
       "      <td>5.00</td>\n",
       "      <td>23.71</td>\n",
       "      <td>17.09</td>\n",
       "      <td>10.05</td>\n",
       "      <td>82.01</td>\n",
       "      <td>9.06</td>\n",
       "      <td>0.00</td>\n",
       "      <td>4.24</td>\n",
       "    </tr>\n",
       "    <tr>\n",
       "      <th>30</th>\n",
       "      <td>50.09</td>\n",
       "      <td>20.40</td>\n",
       "      <td>76.06</td>\n",
       "      <td>9.22</td>\n",
       "      <td>8.49</td>\n",
       "      <td>21.54</td>\n",
       "      <td>5.66</td>\n",
       "      <td>0.00</td>\n",
       "      <td>2.83</td>\n",
       "      <td>4.24</td>\n",
       "      <td>...</td>\n",
       "      <td>20.52</td>\n",
       "      <td>3.00</td>\n",
       "      <td>1.00</td>\n",
       "      <td>19.70</td>\n",
       "      <td>21.02</td>\n",
       "      <td>7.28</td>\n",
       "      <td>79.10</td>\n",
       "      <td>6.32</td>\n",
       "      <td>4.24</td>\n",
       "      <td>0.00</td>\n",
       "    </tr>\n",
       "  </tbody>\n",
       "</table>\n",
       "<p>31 rows × 31 columns</p>\n",
       "</div>"
      ],
      "text/plain": [
       "       0      1      2      3      4      5      6      7      8      9   ...  \\\n",
       "0    0.00  70.35  91.92  57.08  44.10  45.31  54.01  50.09  48.26  53.00  ...   \n",
       "1   70.35   0.00  75.58  16.40  27.86  36.88  17.89  20.40  22.09  18.38  ...   \n",
       "2   91.92  75.58   0.00  82.61  82.05  96.13  80.31  76.06  74.01  79.23  ...   \n",
       "3   57.08  16.40  82.61   0.00  13.00  20.52   3.61   9.22  12.04   5.00  ...   \n",
       "4   44.10  27.86  82.05  13.00   0.00  14.14  10.20   8.49   8.94   9.49  ...   \n",
       "5   45.31  36.88  96.13  20.52  14.14   0.00  20.00  21.54  22.80  20.25  ...   \n",
       "6   54.01  17.89  80.31   3.61  10.20  20.00   0.00   5.66   8.49   1.41  ...   \n",
       "7   50.09  20.40  76.06   9.22   8.49  21.54   5.66   0.00   2.83   4.24  ...   \n",
       "8   48.26  22.09  74.01  12.04   8.94  22.80   8.49   2.83   0.00   7.07  ...   \n",
       "9   53.00  18.38  79.23   5.00   9.49  20.25   1.41   4.24   7.07   0.00  ...   \n",
       "10  93.15  77.79   2.24  84.72  84.02  98.08  82.39  78.10  76.03  81.30  ...   \n",
       "11  69.23   6.32  69.26  19.42  28.84  39.70  19.80  20.59  21.54  19.85  ...   \n",
       "12  49.37  21.02  73.03  12.04  10.30  24.04   8.60   3.16   1.41   7.21  ...   \n",
       "13  53.04  17.72  77.23   6.40  10.30  21.95   3.16   3.16   5.83   2.00  ...   \n",
       "14  71.06  10.05  65.79  23.32  32.02  43.42  23.43  23.60  24.19  23.35  ...   \n",
       "15  70.41   7.07  68.62  20.81  30.23  41.11  21.21  21.95  22.85  21.26  ...   \n",
       "16  42.54  39.20  96.33  22.80  14.87   3.00  21.93  22.83  23.77  22.02  ...   \n",
       "17  53.04  17.72  77.23   6.40  10.30  21.95   3.16   3.16   5.83   2.00  ...   \n",
       "18  43.46  38.42  96.25  22.02  14.56   2.00  21.26  22.36  23.41  21.40  ...   \n",
       "19  69.58   2.24  73.38  16.97  27.73  37.48  18.03  19.92  21.38  18.36  ...   \n",
       "20  92.18  78.43   3.61  85.00  84.00  98.02  82.61  78.23  76.11  81.50  ...   \n",
       "21  37.95  38.95  91.66  22.85  12.04   7.81  21.10  20.52  20.81  20.81  ...   \n",
       "22  50.00  21.19  79.06   7.62   6.71  18.79   4.12   3.00   5.39   3.00  ...   \n",
       "23  50.16  20.22  75.06   9.90   9.22  22.47   6.40   1.00   2.24   5.00  ...   \n",
       "24  68.88   4.47  71.17  17.80  27.78  38.21  18.44  19.70  20.88  18.60  ...   \n",
       "25  44.01  37.01  95.19  20.62  13.34   1.41  19.85  21.02  22.14  20.00  ...   \n",
       "26  49.03  22.20  69.01  15.81  13.60  27.66  12.53   7.28   5.00  11.18  ...   \n",
       "27  94.02  78.75   3.16  85.71  85.02  99.08  83.38  79.10  77.03  82.30  ...   \n",
       "28  48.84  22.09  70.01  15.00  12.65  26.68  11.66   6.32   4.00  10.30  ...   \n",
       "29  47.00  24.04  79.00  10.44   4.24  17.72   7.07   4.24   5.10   6.00  ...   \n",
       "30  50.09  20.40  76.06   9.22   8.49  21.54   5.66   0.00   2.83   4.24  ...   \n",
       "\n",
       "       21     22     23     24     25     26     27     28     29     30  \n",
       "0   37.95  50.00  50.16  68.88  44.01  49.03  94.02  48.84  47.00  50.09  \n",
       "1   38.95  21.19  20.22   4.47  37.01  22.20  78.75  22.09  24.04  20.40  \n",
       "2   91.66  79.06  75.06  71.17  95.19  69.01   3.16  70.01  79.00  76.06  \n",
       "3   22.85   7.62   9.90  17.80  20.62  15.81  85.71  15.00  10.44   9.22  \n",
       "4   12.04   6.71   9.22  27.78  13.34  13.60  85.02  12.65   4.24   8.49  \n",
       "5    7.81  18.79  22.47  38.21   1.41  27.66  99.08  26.68  17.72  21.54  \n",
       "6   21.10   4.12   6.40  18.44  19.85  12.53  83.38  11.66   7.07   5.66  \n",
       "7   20.52   3.00   1.00  19.70  21.02   7.28  79.10   6.32   4.24   0.00  \n",
       "8   20.81   5.39   2.24  20.88  22.14   5.00  77.03   4.00   5.10   2.83  \n",
       "9   20.81   3.00   5.00  18.60  20.00  11.18  82.30  10.30   6.00   4.24  \n",
       "10  93.54  81.10  77.10  73.38  97.13  71.03   1.00  72.03  81.01  78.10  \n",
       "11  40.61  22.20  20.12   2.00  39.62  20.22  72.42  20.40  24.70  20.59  \n",
       "12  22.20   6.08   2.24  19.65  23.41   4.12  76.06   3.16   6.32   3.16  \n",
       "13  22.02   3.61   3.61  17.49  21.63   9.43  80.31   8.60   6.32   3.16  \n",
       "14  43.93  25.50  23.02   6.08  43.28  22.14  68.95  22.47  27.80  23.60  \n",
       "15  42.01  23.60  21.47   3.16  41.04  21.38  71.78  21.59  26.08  21.95  \n",
       "16   5.83  20.25  23.71  40.31   2.24  28.46  99.25  27.51  18.79  22.83  \n",
       "17  22.02   3.61   3.61  17.49  21.63   9.43  80.31   8.60   6.32   3.16  \n",
       "18   6.40  19.72  23.26  39.60   1.41  28.16  99.18  27.20  18.38  22.36  \n",
       "19  39.12  21.02  19.65   2.24  37.54  21.02  76.54  21.00  23.77  19.92  \n",
       "20  93.34  81.22  77.23  74.00  97.05  71.11   2.24  72.11  81.06  78.23  \n",
       "21   0.00  18.44  21.26  39.41   6.40  25.06  94.53  24.19  16.28  20.52  \n",
       "22  18.44   0.00   4.00  21.10  18.36  10.20  82.10   9.22   3.00   3.00  \n",
       "23  21.26   4.00   0.00  19.31  21.93   6.32  78.10   5.39   5.00   1.00  \n",
       "24  39.41  21.10  19.31   0.00  38.18  20.02  74.33  20.10  23.71  19.70  \n",
       "25   6.40  18.36  21.93  38.18   0.00  26.93  98.13  25.96  17.09  21.02  \n",
       "26  25.06  10.20   6.32  20.02  26.93   0.00  72.03   1.00  10.05   7.28  \n",
       "27  94.53  82.10  78.10  74.33  98.13  72.03   0.00  73.03  82.01  79.10  \n",
       "28  24.19   9.22   5.39  20.10  25.96   1.00  73.03   0.00   9.06   6.32  \n",
       "29  16.28   3.00   5.00  23.71  17.09  10.05  82.01   9.06   0.00   4.24  \n",
       "30  20.52   3.00   1.00  19.70  21.02   7.28  79.10   6.32   4.24   0.00  \n",
       "\n",
       "[31 rows x 31 columns]"
      ]
     },
     "metadata": {},
     "output_type": "display_data"
    }
   ],
   "source": [
    "# Tabela de demandas dos clientes\n",
    "# 0 significa a distribuidora de hidrogênio.\n",
    "demandas_data = {\n",
    "    'Cliente': list(range(0, 31)),\n",
    "    'Demanda (unidades)': [0, 25, 3, 13, 17, 16, 9, 22, 10, 16, 8, 3, 16, 16, 10, 24, 16, 15, 14, 5, 12, 2, 18, 20, 15, 8, 22, 15, 10, 13, 19]\n",
    "}\n",
    "demandas = pd.DataFrame(demandas_data)\n",
    "\n",
    "# Exibir a tabela de demandas\n",
    "print(\"Tabela de Demandas:\")\n",
    "display(demandas)\n",
    "\n",
    "coordinates = [\n",
    "    (17, 76), (24, 6), (96, 29), (14, 19), (14, 32), (0, 34),\n",
    "    (16, 22), (20, 26), (22, 28), (17, 23), (98, 30), (30, 8),\n",
    "    (23, 27), (19, 23), (34, 7), (31, 7), (0, 37), (19, 23),\n",
    "    (0, 36), (26, 7), (98, 32), (5, 40), (17, 26), (21, 26),\n",
    "    (28, 8), (1, 35), (27, 28), (99, 30), (26, 28), (17, 29), (20, 26)\n",
    "]\n",
    "\n",
    "\n",
    "# Criar lista de texto para tooltips\n",
    "text = [f\"Cliente: {i}<br>Demanda: {demandas.iloc[i, 1]}\" for i in range(len(coordinates))]\n",
    "\n",
    "# Criar figura interativa com Plotly\n",
    "fig = go.Figure()\n",
    "\n",
    "# Adicionar pontos como scatter plot\n",
    "fig.add_trace(go.Scatter(\n",
    "    x=[coord[0] for coord in coordinates],\n",
    "    y=[coord[1] for coord in coordinates],\n",
    "    mode=\"markers\",\n",
    "    marker=dict(\n",
    "        size=10,\n",
    "        color=['blue'] + ['red']*(len(coordinates)-1),  # Primeiro ponto em azul, restantes em vermelho\n",
    "    ),\n",
    "    text=text,  # Texto para tooltips\n",
    "    hoverinfo='text'  # Informação a ser exibida ao passar o mouse\n",
    "))\n",
    "\n",
    "# Atualizar layout\n",
    "fig.update_layout(\n",
    "    title=\"Pontos de Entrega\",\n",
    "    xaxis_title=\"Coordenada X\",\n",
    "    yaxis_title=\"Coordenada Y\",\n",
    "    xaxis=dict(range=[-5, 100], scaleratio=1),  # Fixar escala e proporção na horizontal\n",
    "    yaxis=dict(range=[0, 80], scaleanchor='x', scaleratio=1),  # Fixar escala e proporção na vertical\n",
    "    width=1000,  # Largura da figura\n",
    "    height=1000,  # Altura da figura\n",
    ")\n",
    "\n",
    "\n",
    "# Exibir figura interativa\n",
    "fig.show()\n",
    "\n",
    "# Função para calcular a distância euclidiana\n",
    "def euclidean_distance(p1, p2):\n",
    "    return math.sqrt((p1[0] - p2[0])**2 + (p1[1] - p2[1])**2)\n",
    "\n",
    "# Inicializando a lista de listas para armazenar as distâncias\n",
    "distances = []\n",
    "\n",
    "# Calculando as distâncias\n",
    "for i in range(len(coordinates)):\n",
    "    distances.append([round(euclidean_distance(coordinates[i], coordinates[j]), 2) for j in range(len(coordinates))])\n",
    "\n",
    "\n",
    "# Criando um DataFrame para a matriz de distâncias\n",
    "distances = pd.DataFrame(distances, columns=list(range(31)), index=list(range(31)))\n",
    "\n",
    "# Exibir a matriz de distâncias\n",
    "print(\"Matriz de Distâncias:\")\n",
    "display(distances)"
   ]
  },
  {
   "cell_type": "markdown",
   "metadata": {},
   "source": [
    "FUNÇÃO FITNESS"
   ]
  },
  {
   "cell_type": "code",
   "execution_count": 3,
   "metadata": {},
   "outputs": [],
   "source": [
    "def fitness(cromo, cap_maxima):\n",
    "    dist_total = 0\n",
    "    espaco_ocupado = [0] * len(cromo)  # Inicializa a lista para armazenar o espaço ocupado por cada veículo\n",
    "\n",
    "    # Avalia se algum veículo ultrapassou a capacidade máxima\n",
    "    for cont, veiculo in enumerate(cromo):\n",
    "        for i in veiculo:\n",
    "            espaco_ocupado[cont] += demandas.iloc[i, 1]\n",
    "        if espaco_ocupado[cont] > cap_maxima:\n",
    "            return 10000  # Retorna valor alto se a capacidade máxima for excedida\n",
    "\n",
    "    # Calcula a distância total percorrida pelos veículos\n",
    "    for veiculo in cromo:\n",
    "        if len(veiculo) > 0:\n",
    "            # Adiciona a distância do ponto 0 até o primeiro ponto do veículo\n",
    "            dist_total += distances.iloc[0, veiculo[0]]\n",
    "            # Adiciona a distância entre os pontos no veículo\n",
    "            for j in range(len(veiculo) - 1):\n",
    "                dist_total += distances.iloc[veiculo[j], veiculo[j + 1]]\n",
    "            # Adiciona a distância do último ponto do veículo de volta ao ponto 0\n",
    "            dist_total += distances.iloc[veiculo[-1], 0]\n",
    "\n",
    "    return round(dist_total, 2)\n",
    "\n"
   ]
  },
  {
   "cell_type": "markdown",
   "metadata": {},
   "source": [
    "Heurística 2-opt para otimizar os filhos"
   ]
  },
  {
   "cell_type": "code",
   "execution_count": 4,
   "metadata": {},
   "outputs": [],
   "source": [
    "# Função 2-opt melhorada com garantias de estrutura\n",
    "def two_opt(cromo, cap_maxima):\n",
    "    improved = True\n",
    "    \n",
    "    while improved:\n",
    "        improved = False\n",
    "        current_fitness = fitness(cromo, cap_maxima)\n",
    "        \n",
    "        for i in range(len(cromo)):\n",
    "            route = cromo[i]\n",
    "            for j in range(1, len(route) - 2):\n",
    "                for k in range(j + 2, len(route)):\n",
    "                    new_route = route[:j] + route[j:k][::-1] + route[k:]\n",
    "                    \n",
    "                    # Se a nova rota for igual à rota original, ignore\n",
    "                    if new_route == route:\n",
    "                        continue\n",
    "                    \n",
    "                    # Criar um novo cromossomo com a nova rota\n",
    "                    new_cromossomo = cromo[:]\n",
    "                    new_cromossomo[i] = new_route\n",
    "                    \n",
    "                    # Verificar se todos os pontos ainda são únicos\n",
    "                    all_points = set()\n",
    "                    valid = True\n",
    "                    for vehicle_route in new_cromossomo:\n",
    "                        for point in vehicle_route:\n",
    "                            if point in all_points:\n",
    "                                valid = False\n",
    "                                break\n",
    "                            all_points.add(point)\n",
    "                        if not valid:\n",
    "                            break\n",
    "                    \n",
    "                    if not valid:\n",
    "                        continue\n",
    "                    \n",
    "                    new_fitness = fitness(new_cromossomo, cap_maxima)\n",
    "                    \n",
    "                    if new_fitness < current_fitness:\n",
    "                        cromo[i] = new_route\n",
    "                        current_fitness = new_fitness\n",
    "                        improved = True\n",
    "                        break\n",
    "                if improved:\n",
    "                    break\n",
    "            if improved:\n",
    "                break\n",
    "    \n",
    "    return cromo\n"
   ]
  },
  {
   "cell_type": "markdown",
   "metadata": {},
   "source": [
    "Heurística 3-opt para otimizar os filhos"
   ]
  },
  {
   "cell_type": "code",
   "execution_count": 5,
   "metadata": {},
   "outputs": [],
   "source": [
    "def three_opt(cromossomo, cap_maxima):\n",
    "    improved = True\n",
    "    \n",
    "    while improved:\n",
    "        improved = False\n",
    "        current_fitness = fitness(cromossomo, cap_maxima)\n",
    "        \n",
    "        for i in range(len(cromossomo)):\n",
    "            route = cromossomo[i]\n",
    "            n = len(route)\n",
    "            \n",
    "            for j in range(1, n - 3):\n",
    "                for k in range(j + 1, n - 2):\n",
    "                    for l in range(k + 1, n):\n",
    "                        new_route = route[:j] + route[j:k][::-1] + route[k:l][::-1] + route[l:]\n",
    "                        \n",
    "                        # Criar um novo cromossomo com a nova rota\n",
    "                        new_cromossomo = cromossomo[:]\n",
    "                        new_cromossomo[i] = new_route\n",
    "                        \n",
    "                        # Verificar se todos os pontos ainda são únicos\n",
    "                        all_points = set()\n",
    "                        valid = True\n",
    "                        for vehicle_route in new_cromossomo:\n",
    "                            for point in vehicle_route:\n",
    "                                if point in all_points:\n",
    "                                    valid = False\n",
    "                                    break\n",
    "                                all_points.add(point)\n",
    "                            if not valid:\n",
    "                                break\n",
    "                        \n",
    "                        if not valid:\n",
    "                            continue\n",
    "                        \n",
    "                        new_fitness = fitness(new_cromossomo, cap_maxima)\n",
    "                        \n",
    "                        if new_fitness < current_fitness:\n",
    "                            cromossomo[i] = new_route\n",
    "                            current_fitness = new_fitness\n",
    "                            improved = True\n",
    "                            break\n",
    "                    if improved:\n",
    "                        break\n",
    "                if improved:\n",
    "                    break\n",
    "            if improved:\n",
    "                break\n",
    "    \n",
    "    return cromossomo\n"
   ]
  },
  {
   "cell_type": "markdown",
   "metadata": {},
   "source": [
    "CRIANDO CROMOSSOMO"
   ]
  },
  {
   "cell_type": "code",
   "execution_count": 6,
   "metadata": {},
   "outputs": [],
   "source": [
    "# Inicializar função de perturbação para redistribuir pontos entre clusters\n",
    "def perturbar_clusters(clusters, capac_maxima):\n",
    "    # Gera uma lista de todos os pontos exceto o ponto 0\n",
    "    pontos = [ponto for cluster in clusters for ponto in cluster if ponto != 0]\n",
    "    random.shuffle(pontos)\n",
    "\n",
    "    # Tenta redistribuir cada ponto para um cluster onde a capacidade seja respeitada\n",
    "    novos_clusters = [[] for _ in range(len(clusters))]\n",
    "    for ponto in pontos:\n",
    "        adicionado = False\n",
    "        cluster_original = None\n",
    "        \n",
    "        # Tenta adicionar o ponto ao seu cluster original\n",
    "        for cluster_id, cluster in enumerate(clusters):\n",
    "            if ponto in cluster:\n",
    "                if sum(demandas.loc[c, 'Demanda (unidades)'] for c in novos_clusters[cluster_id]) + demandas.loc[ponto, 'Demanda (unidades)'] <= capac_maxima:\n",
    "                    novos_clusters[cluster_id].append(ponto)\n",
    "                    adicionado = True\n",
    "                    break\n",
    "                else:\n",
    "                    cluster_original = cluster_id\n",
    "                    break\n",
    "        \n",
    "        # Se não foi possível adicionar ao cluster original, tenta encontrar o mais próximo\n",
    "        if not adicionado and cluster_original is not None:\n",
    "            distancia_minima = float('inf')\n",
    "            cluster_escolhido = None\n",
    "            \n",
    "            for cluster_id, cluster in enumerate(clusters):\n",
    "                if cluster_id != cluster_original:\n",
    "                    distancia = distances[ponto][cluster_id]  # Calcula a distância usando a matriz de distâncias\n",
    "                    if distancia < distancia_minima and sum(demandas.loc[c, 'Demanda (unidades)'] for c in novos_clusters[cluster_id]) + demandas.loc[ponto, 'Demanda (unidades)'] <= capac_maxima:\n",
    "                        distancia_minima = distancia\n",
    "                        cluster_escolhido = cluster_id\n",
    "            \n",
    "            if cluster_escolhido is not None:\n",
    "                novos_clusters[cluster_escolhido].append(ponto)\n",
    "                adicionado = True\n",
    "        \n",
    "        if not adicionado:\n",
    "            print(f\"Aviso: Ponto {ponto} não pode ser realocado para respeitar a capacidade máxima.\")\n",
    "\n",
    "    return novos_clusters\n",
    "\n",
    "# Função principal para criar o cromossomo\n",
    "def cromossomo(num_pontos, num_veiculos, capac_maxima):\n",
    "    # Inicialização do K-means com K clusters (num_veiculos)\n",
    "    kmeans = KMeans(n_clusters=num_veiculos, random_state=0).fit(coordinates[1:])  # Exclui a coordenada 0 (distribuidora) do K-means\n",
    "\n",
    "    # Atribuição inicial dos pontos aos clusters identificados pelo K-means\n",
    "    clusters = [[] for _ in range(num_veiculos)]\n",
    "    for ponto, cluster in enumerate(kmeans.labels_):\n",
    "        ponto += 1  # Ajusta para que os pontos estejam no intervalo correto (1-30)\n",
    "        # Verifica se há capacidade para adicionar o ponto ao cluster atual\n",
    "        if sum(demandas.loc[c, 'Demanda (unidades)'] for c in clusters[cluster]) + demandas.loc[ponto, 'Demanda (unidades)'] <= capac_maxima:\n",
    "            clusters[cluster].append(ponto)\n",
    "        else:\n",
    "            # Se não houver capacidade, tenta adicionar o ponto aos outros clusters\n",
    "            for other_cluster in range(num_veiculos):\n",
    "                if other_cluster != cluster:\n",
    "                    if sum(demandas.loc[c, 'Demanda (unidades)'] for c in clusters[other_cluster]) + demandas.loc[ponto, 'Demanda (unidades)'] <= capac_maxima:\n",
    "                        clusters[other_cluster].append(ponto)\n",
    "                        break\n",
    "\n",
    "    # Aplica a perturbação para explorar novas soluções\n",
    "    clusters = perturbar_clusters(clusters, capac_maxima)\n",
    "\n",
    "    # Verifica se todos os pontos foram atribuídos a algum veículo\n",
    "    pontos_atendidos = sum(len(cluster) for cluster in clusters) == num_pontos - 1\n",
    "    if not pontos_atendidos:\n",
    "        print(\"Aviso: Não foi possível alocar todos os pontos nos veículos.\")\n",
    "\n",
    "    # Aplica otimizações 2-opt e 3-opt\n",
    "    novo_cromo_otimizado = two_opt(clusters, capac_maxima)\n",
    "    #novo_cromo_three_opt = three_opt(novo_cromo_otimizado, capac_maxima)\n",
    "            \n",
    "    return novo_cromo_otimizado\n"
   ]
  },
  {
   "cell_type": "code",
   "execution_count": 7,
   "metadata": {},
   "outputs": [
    {
     "data": {
      "text/plain": [
       "[[3, 6, 4, 7, 13, 9],\n",
       " [2, 10, 27, 20, 23, 17, 22],\n",
       " [21, 29, 30, 5, 25, 18, 16],\n",
       " [1, 19, 15, 14, 11, 24],\n",
       " [28, 26, 12, 8]]"
      ]
     },
     "execution_count": 7,
     "metadata": {},
     "output_type": "execute_result"
    }
   ],
   "source": [
    "cromossomo(31, 5, 100)"
   ]
  },
  {
   "cell_type": "markdown",
   "metadata": {},
   "source": [
    "CRIANDO POPULAÇÃO"
   ]
  },
  {
   "cell_type": "code",
   "execution_count": 8,
   "metadata": {},
   "outputs": [],
   "source": [
    "def gerar_populacao(tamanho_pop, num_pontos, num_veiculos, capac_maxima):\n",
    "    populacao = []\n",
    "\n",
    "    for i in range(tamanho_pop):\n",
    "        crom = cromossomo(num_pontos, num_veiculos, capac_maxima)\n",
    "        populacao.append(crom)\n",
    "\n",
    "    return populacao"
   ]
  },
  {
   "cell_type": "code",
   "execution_count": 9,
   "metadata": {},
   "outputs": [
    {
     "data": {
      "text/plain": [
       "[[[7, 4, 13, 3, 6, 9],\n",
       "  [22, 17, 23, 2, 10, 27, 20],\n",
       "  [29, 30, 21, 25, 5, 18, 16],\n",
       "  [11, 14, 15, 1, 19, 24],\n",
       "  [26, 28, 12, 8]],\n",
       " [[13, 7, 4, 9, 3, 6],\n",
       "  [17, 22, 23, 2, 10, 20, 27],\n",
       "  [25, 18, 5, 30, 29, 21, 16],\n",
       "  [14, 11, 24, 19, 1, 15],\n",
       "  [8, 28, 26, 12]],\n",
       " [[6, 3, 9, 13, 4, 7],\n",
       "  [23, 22, 17, 20, 27, 10, 2],\n",
       "  [16, 21, 29, 30, 5, 25, 18],\n",
       "  [15, 14, 11, 24, 1, 19],\n",
       "  [28, 26, 12, 8]]]"
      ]
     },
     "execution_count": 9,
     "metadata": {},
     "output_type": "execute_result"
    }
   ],
   "source": [
    "gerar_populacao(3, 31, 5, 100)"
   ]
  },
  {
   "cell_type": "code",
   "execution_count": 10,
   "metadata": {},
   "outputs": [
    {
     "data": {
      "text/plain": [
       "676.74"
      ]
     },
     "execution_count": 10,
     "metadata": {},
     "output_type": "execute_result"
    }
   ],
   "source": [
    "c = [[30, 23, 8, 12, 28, 26],\n",
    " [21, 16, 18, 25, 5, 4, 29],\n",
    " [7, 17, 13, 6, 9, 22],\n",
    " [20, 27, 10, 2],\n",
    " [14, 15, 11, 24, 19, 1, 3]]\n",
    "\n",
    "fitness(c, 100)\n"
   ]
  },
  {
   "cell_type": "code",
   "execution_count": 11,
   "metadata": {},
   "outputs": [
    {
     "data": {
      "text/plain": [
       "787.88"
      ]
     },
     "execution_count": 11,
     "metadata": {},
     "output_type": "execute_result"
    }
   ],
   "source": [
    "c =  cromossomo(31, 5, 100)\n",
    "\n",
    "fitness(c, 100)"
   ]
  },
  {
   "cell_type": "markdown",
   "metadata": {},
   "source": [
    "LISTA DA NOTA COM O RESPECTIVO CROMOSSOMO"
   ]
  },
  {
   "cell_type": "code",
   "execution_count": 12,
   "metadata": {},
   "outputs": [],
   "source": [
    "def afin_cromossomo(pop, cap_maxima):\n",
    "  afin_cromos = []\n",
    "  for i in pop:\n",
    "    afin_cromo = []\n",
    "    afin_cromo.append(fitness(i, cap_maxima))\n",
    "    afin_cromo.append(i)\n",
    "    afin_cromos.append(afin_cromo)\n",
    "  return afin_cromos # Retorna afinidade e anticorpo para cada anticorpo"
   ]
  },
  {
   "cell_type": "markdown",
   "metadata": {},
   "source": [
    "SELEÇÃO DOS N MELHORES CROMOSSOMOS"
   ]
  },
  {
   "cell_type": "code",
   "execution_count": 13,
   "metadata": {},
   "outputs": [],
   "source": [
    "def selec_melhor(lista, nMelhores):\n",
    "    # Ordena a lista pela primeira coluna (nota)\n",
    "    lista_ordenada = sorted(lista, key=lambda x: x[0])\n",
    "    # Retorna os n melhores cromossomos com suas notas correspondentes\n",
    "    return lista_ordenada[:nMelhores]\n",
    "\n"
   ]
  },
  {
   "cell_type": "markdown",
   "metadata": {},
   "source": [
    "Seleção dos pais pela roleta viciada"
   ]
  },
  {
   "cell_type": "code",
   "execution_count": 14,
   "metadata": {},
   "outputs": [],
   "source": [
    "def soma_avaliacoes(notas_e_cromos):\n",
    "    soma_avalicao = 0\n",
    "    for nota, _ in notas_e_cromos:\n",
    "        soma_avalicao += 1 / nota  # Soma inversa para valorizar os menores resultados\n",
    "    return soma_avalicao\n",
    "\n",
    "\n",
    "\n",
    "def seleciona_pai(soma_avaliacao, afin):\n",
    "    pai = -1  # Não selecionou nenhum indivíduo ainda\n",
    "    valor_sorteado = random.random() * soma_avaliacao  # Simula a roleta sendo girada\n",
    "    soma = 0\n",
    "    i = 0\n",
    "    \n",
    "    while i < len(afin) and soma < valor_sorteado:\n",
    "        soma += (1 / afin[i][0])  # Soma inversa das notas para valorizar os menores resultados\n",
    "        pai += 1\n",
    "        i += 1\n",
    "    return pai\n",
    "\n",
    "\n"
   ]
  },
  {
   "cell_type": "markdown",
   "metadata": {},
   "source": [
    "Crossover"
   ]
  },
  {
   "cell_type": "code",
   "execution_count": 15,
   "metadata": {},
   "outputs": [],
   "source": [
    "def remove_duplicatas(cromo, cap_maxima):\n",
    "    assigned_points = set()\n",
    "    for vehicle_route in cromo:\n",
    "        new_route = []\n",
    "        current_load = 0\n",
    "        for point in vehicle_route:\n",
    "            if point != 0 and point not in assigned_points:\n",
    "                demand = demandas.iloc[point, 1]\n",
    "                if current_load + demand <= cap_maxima:\n",
    "                    new_route.append(point)\n",
    "                    assigned_points.add(point)\n",
    "                    current_load += demand\n",
    "        vehicle_route[:] = new_route\n",
    "    return cromo\n",
    "\n",
    "def pontos_faltantes(cromo, cap_maxima):\n",
    "    num_points = demandas.shape[0]\n",
    "    all_points = set(range(1, num_points))  # Exclui o ponto 0\n",
    "    assigned_points = set(point for route in cromo for point in route if point != 0)\n",
    "    missing_points = list(all_points - assigned_points)\n",
    "    \n",
    "    for point in missing_points:\n",
    "        demand = demandas.iloc[point, 1]\n",
    "        inserted = False\n",
    "        \n",
    "        for vehicle_route in cromo:\n",
    "            current_load = sum(demandas.iloc[p, 1] for p in vehicle_route)\n",
    "            if current_load + demand <= cap_maxima:\n",
    "                vehicle_route.append(point)\n",
    "                inserted = True\n",
    "                break\n",
    "        \n",
    "        if not inserted:\n",
    "            print(f\"Warning: Could not insert point {point} without exceeding capacity.\")\n",
    "\n",
    "    return cromo\n",
    "\n",
    "def crossover(pai1, pai2, cap_maxima):\n",
    "    crossover_point = random.randint(1, len(pai1) - 2)\n",
    "    \n",
    "    filho1 = [route[:crossover_point] for route in pai1]\n",
    "    filho2 = [route[crossover_point:] for route in pai2]\n",
    "    \n",
    "    filho = [r1 + r2 for r1, r2 in zip(filho1, filho2)]\n",
    "    \n",
    "    filho = remove_duplicatas(filho, cap_maxima)\n",
    "    filho = pontos_faltantes(filho, cap_maxima)\n",
    "    \n",
    "    return filho"
   ]
  },
  {
   "cell_type": "markdown",
   "metadata": {},
   "source": [
    "Mutação"
   ]
  },
  {
   "cell_type": "code",
   "execution_count": 16,
   "metadata": {},
   "outputs": [],
   "source": [
    "def mutacao(cromo, taxa_mutacao, capac_maxima):\n",
    "    for i in range(len(cromo)):\n",
    "        j = 0\n",
    "        while j < len(cromo[i]):\n",
    "            if random.random() < taxa_mutacao:\n",
    "                # Escolhe aleatoriamente um veículo diferente\n",
    "                k = random.choice([x for x in range(len(cromo)) if x != i])\n",
    "\n",
    "                # Calcula a demanda atual de ambos os veículos\n",
    "                demanda_veiculo_i = sum(demandas.loc[ponto, 'Demanda (unidades)'] for ponto in cromo[i])\n",
    "                demanda_veiculo_k = sum(demandas.loc[ponto, 'Demanda (unidades)'] for ponto in cromo[k])\n",
    "                ponto = cromo[i][j]\n",
    "\n",
    "                if cromo[k]:  # Se o veículo escolhido não está vazio\n",
    "                    l = random.randint(0, len(cromo[k]) - 1)\n",
    "                    ponto_troca = cromo[k][l]\n",
    "\n",
    "                    # Verifica se a troca não excede a capacidade de ambos os veículos\n",
    "                    if (demanda_veiculo_i - demandas.loc[ponto, 'Demanda (unidades)'] + demandas.loc[ponto_troca, 'Demanda (unidades)'] <= capac_maxima and\n",
    "                            demanda_veiculo_k - demandas.loc[ponto_troca, 'Demanda (unidades)'] + demandas.loc[ponto, 'Demanda (unidades)'] <= capac_maxima):\n",
    "                        # Troca os pontos entre os veículos\n",
    "                        cromo[i][j], cromo[k][l] = cromo[k][l], cromo[i][j]\n",
    "                else:  # Se o veículo escolhido está vazio\n",
    "                    # Verifica se a movimentação não excede a capacidade do veículo de destino\n",
    "                    if demanda_veiculo_i - demandas.loc[ponto, 'Demanda (unidades)'] <= capac_maxima:\n",
    "                        # Move o ponto para o veículo vazio\n",
    "                        cromo[k].append(cromo[i].pop(j))\n",
    "                        # Ajusta o índice para continuar a iteração corretamente\n",
    "                        continue  # Pula o incremento de j já que removemos um elemento\n",
    "\n",
    "               \n",
    "                # Remove um ponto aleatório de um veículo\n",
    "                ponto = cromo[i].pop(j)\n",
    "                # Escolhe aleatoriamente um veículo diferente\n",
    "                k = random.choice([x for x in range(len(cromo)) if x != i])\n",
    "                # Verifica se a movimentação não excede a capacidade do veículo de destino\n",
    "                demanda_veiculo_k = sum(demandas.loc[ponto, 'Demanda (unidades)'] for ponto in cromo[k])\n",
    "                if demanda_veiculo_k + demandas.loc[ponto, 'Demanda (unidades)'] <= capac_maxima:\n",
    "                # Insere o ponto no novo veículo\n",
    "                    cromo[k].append(ponto)\n",
    "                else:\n",
    "                # Se não puder mover, devolve o ponto ao veículo original\n",
    "                    cromo[i].append(ponto)\n",
    "                    # Ajusta o índice para continuar a iteração corretamente\n",
    "                    continue  # Pula o incremento de j já que removemos um elemento\n",
    "\n",
    "            j += 1\n",
    "\n",
    "    return cromo"
   ]
  },
  {
   "cell_type": "markdown",
   "metadata": {},
   "source": [
    "Restaurando o tamanho da população"
   ]
  },
  {
   "cell_type": "code",
   "execution_count": 17,
   "metadata": {},
   "outputs": [],
   "source": [
    "def nova_populacao(populacao, taxa_mutacao, afin, soma_avalicao, num_pontos, num_veiculos, capac_maxima, melhores_cromo, sequencia_iguais, criterio_reinicio, melhor_cromo_geral):\n",
    "    nova_pop = []\n",
    "    \n",
    "    if sequencia_iguais == criterio_reinicio:\n",
    "        print(f'Reiniciando população devido à sequência de notas iguais por {sequencia_iguais} gerações.')\n",
    "        taxa_mutacao = 0.2\n",
    "        # Adiciona o melhor cromossomo geral sem mutação\n",
    "        nova_pop.append(copy.deepcopy(melhor_cromo_geral))\n",
    "\n",
    "        # Gera novos cromossomos aleatórios\n",
    "        num_novos_cromossomos = int(0.2 * len(populacao))\n",
    "        for _ in range(num_novos_cromossomos):\n",
    "            cromo_aleatorio = cromossomo(num_pontos, num_veiculos, capac_maxima)\n",
    "            nova_pop.append(cromo_aleatorio)\n",
    "        \n",
    "        # Preenche o restante da nova população com cruzamentos e mutações\n",
    "        while len(nova_pop) < len(populacao):\n",
    "            # Aplicar mutação\n",
    "            novo_cromo_mutado = mutacao(copy.deepcopy(melhor_cromo_geral), taxa_mutacao, capac_maxima)\n",
    "            \n",
    "            # Aplicar heurísticas de otimização (opcional)\n",
    "            novo_cromo_otimizado = two_opt(novo_cromo_mutado, capac_maxima)\n",
    "            #novo_cromo_three_opt = three_opt(novo_cromo_otimizado, capac_maxima)\n",
    "            \n",
    "            nova_pop.append(novo_cromo_otimizado)\n",
    "        \n",
    "        sequencia_iguais = 0  # Resetar o contador de sequência iguais após reiniciar\n",
    "    \n",
    "    else:\n",
    "        # Adiciona os melhores cromossomos à nova população, sem duplicá-los\n",
    "        for nota, cromo in melhores_cromo:\n",
    "            nova_pop.append(copy.deepcopy(cromo))\n",
    "\n",
    "        # Gera novos cromossomos aleatórios\n",
    "        num_novos_cromossomos = int(0.05 * len(populacao))\n",
    "        for _ in range(num_novos_cromossomos):\n",
    "            cromo_aleatorio = cromossomo(num_pontos, num_veiculos, capac_maxima)\n",
    "            nova_pop.append(cromo_aleatorio)\n",
    "\n",
    "        # Preenche o restante da nova população com cruzamentos e mutações\n",
    "        while len(nova_pop) < len(populacao):\n",
    "            pai1 = seleciona_pai(soma_avalicao, afin)\n",
    "            pai2 = seleciona_pai(soma_avalicao, afin)\n",
    "            novo_cromo = crossover(populacao[pai1], populacao[pai2], capac_maxima)\n",
    "            \n",
    "            # Aplicar mutação\n",
    "            novo_cromo_mutado = mutacao(novo_cromo, taxa_mutacao, capac_maxima)\n",
    "            \n",
    "            # Aplicar heurísticas de otimização (opcional)\n",
    "            #novo_cromo_otimizado = two_opt(novo_cromo_mutado, capac_maxima)\n",
    "            nova_pop.append(novo_cromo_mutado)\n",
    "    \n",
    "    return nova_pop, sequencia_iguais\n"
   ]
  },
  {
   "cell_type": "markdown",
   "metadata": {},
   "source": [
    "### EXECUÇÃO DO ALGORITMO"
   ]
  },
  {
   "cell_type": "code",
   "execution_count": 18,
   "metadata": {},
   "outputs": [],
   "source": [
    "def alg_genetico(geracoes, tamanho_pop, num_pontos, num_veiculos, nMelhores, taxa_mutacao, cap_maxima, criterio_reinicio):\n",
    "    pop = gerar_populacao(tamanho_pop, num_pontos, num_veiculos, cap_maxima)\n",
    "    afin = afin_cromossomo(pop, cap_maxima)\n",
    "    melhores_da_geracao = selec_melhor(afin, nMelhores)\n",
    "    \n",
    "    melhor_geral = melhores_da_geracao[0]\n",
    "    melhores = [melhores_da_geracao[0]]\n",
    "    sequencia_iguais = 0\n",
    "    ultima_nota = melhores_da_geracao[0][0]\n",
    "\n",
    "    taxa_mutacao_inicial = taxa_mutacao\n",
    "\n",
    "    print(f'Geração 0/{geracoes}')\n",
    "    print(f'Melhor da geração 0: {melhores_da_geracao[0]}\\n')\n",
    "\n",
    "    for i in range(geracoes):\n",
    "        #taxa_mutacao = taxa_mutacao_inicial + 0.015*sequencia_iguais # GERAR UMA TAXA DE MUTAÇÃO QUE MUDA COM A DIVERSIDADE DE RESULTADOS DE CADA GERAÇÃO\n",
    "        soma_avaliacao = soma_avaliacoes(afin)\n",
    "        nova_pop, nova_sequencia = nova_populacao(pop, taxa_mutacao, afin, soma_avaliacao, num_pontos, num_veiculos, cap_maxima, melhores_da_geracao, sequencia_iguais, criterio_reinicio, melhor_geral[1])\n",
    "        \n",
    "        afin = afin_cromossomo(nova_pop, cap_maxima)\n",
    "        melhores_da_geracao = selec_melhor(afin, nMelhores)\n",
    "\n",
    "        print(f'Geração {i+1}/{geracoes}')\n",
    "        print(f'Melhor da geração {i+1}: {melhores_da_geracao[0]}\\n')\n",
    "\n",
    "        melhores.append(melhores_da_geracao[0])\n",
    "\n",
    "        # Atualiza o melhor geral se o melhor da geração atual for melhor\n",
    "        if melhores_da_geracao[0][0] < melhor_geral[0]:\n",
    "            melhor_geral = melhores_da_geracao[0]\n",
    "        \n",
    "        pop = nova_pop\n",
    "        \n",
    "        sequencia_iguais = nova_sequencia\n",
    "        nota_atual = melhores_da_geracao[0][0]\n",
    "        if nota_atual == ultima_nota:\n",
    "            sequencia_iguais += 1\n",
    "        else:\n",
    "            sequencia_iguais = 0\n",
    "            ultima_nota = nota_atual\n",
    "        \n",
    "    return melhores"
   ]
  },
  {
   "cell_type": "code",
   "execution_count": 19,
   "metadata": {},
   "outputs": [
    {
     "name": "stdout",
     "output_type": "stream",
     "text": [
      "Geração 0/100\n",
      "Melhor da geração 0: [735.45, [[4, 7, 13, 9, 3, 6], [23, 22, 17, 2, 20, 27, 10], [29, 30, 5, 25, 18, 16, 21], [14, 15, 11, 24, 19, 1], [28, 8, 12, 26]]]\n",
      "\n",
      "Geração 1/100\n",
      "Melhor da geração 1: [735.45, [[4, 7, 13, 9, 3, 6], [23, 22, 17, 2, 20, 27, 10], [29, 30, 5, 25, 18, 16, 21], [14, 15, 11, 24, 19, 1], [28, 8, 12, 26]]]\n",
      "\n",
      "Geração 2/100\n",
      "Melhor da geração 2: [735.45, [[4, 7, 13, 9, 3, 6], [23, 22, 17, 2, 20, 27, 10], [29, 30, 5, 25, 18, 16, 21], [14, 15, 11, 24, 19, 1], [28, 8, 12, 26]]]\n",
      "\n",
      "Geração 3/100\n",
      "Melhor da geração 3: [735.45, [[4, 7, 13, 9, 3, 6], [23, 22, 17, 2, 20, 27, 10], [29, 30, 5, 25, 18, 16, 21], [14, 15, 11, 24, 19, 1], [28, 8, 12, 26]]]\n",
      "\n",
      "Geração 4/100\n",
      "Melhor da geração 4: [735.45, [[4, 7, 13, 9, 3, 6], [23, 22, 17, 2, 20, 27, 10], [29, 30, 5, 25, 18, 16, 21], [14, 15, 11, 24, 19, 1], [28, 8, 12, 26]]]\n",
      "\n",
      "Geração 5/100\n",
      "Melhor da geração 5: [735.45, [[4, 7, 13, 9, 3, 6], [23, 22, 17, 2, 20, 27, 10], [29, 30, 5, 25, 18, 16, 21], [14, 15, 11, 24, 19, 1], [28, 8, 12, 26]]]\n",
      "\n",
      "Geração 6/100\n",
      "Melhor da geração 6: [735.45, [[4, 7, 13, 9, 3, 6], [23, 22, 17, 2, 20, 27, 10], [29, 30, 5, 25, 18, 16, 21], [14, 15, 11, 24, 19, 1], [28, 8, 12, 26]]]\n",
      "\n",
      "Geração 7/100\n",
      "Melhor da geração 7: [735.45, [[4, 7, 13, 9, 3, 6], [23, 22, 17, 2, 20, 27, 10], [29, 30, 5, 25, 18, 16, 21], [14, 15, 11, 24, 19, 1], [28, 8, 12, 26]]]\n",
      "\n",
      "Geração 8/100\n",
      "Melhor da geração 8: [735.45, [[4, 7, 13, 9, 3, 6], [23, 22, 17, 2, 20, 27, 10], [29, 30, 5, 25, 18, 16, 21], [14, 15, 11, 24, 19, 1], [28, 8, 12, 26]]]\n",
      "\n",
      "Geração 9/100\n",
      "Melhor da geração 9: [735.45, [[4, 7, 13, 9, 3, 6], [23, 22, 17, 2, 20, 27, 10], [29, 30, 5, 25, 18, 16, 21], [14, 15, 11, 24, 19, 1], [28, 8, 12, 26]]]\n",
      "\n",
      "Geração 10/100\n",
      "Melhor da geração 10: [735.45, [[4, 7, 13, 9, 3, 6], [23, 22, 17, 2, 20, 27, 10], [29, 30, 5, 25, 18, 16, 21], [14, 15, 11, 24, 19, 1], [28, 8, 12, 26]]]\n",
      "\n",
      "Reiniciando população devido à sequência de notas iguais por 10 gerações.\n",
      "Geração 11/100\n",
      "Melhor da geração 11: [735.45, [[4, 7, 13, 9, 3, 6], [23, 22, 17, 2, 20, 27, 10], [29, 30, 5, 25, 18, 16, 21], [14, 15, 11, 24, 19, 1], [28, 8, 12, 26]]]\n",
      "\n",
      "Geração 12/100\n",
      "Melhor da geração 12: [735.45, [[4, 7, 13, 9, 3, 6], [23, 22, 17, 2, 20, 27, 10], [29, 30, 5, 25, 18, 16, 21], [14, 15, 11, 24, 19, 1], [28, 8, 12, 26]]]\n",
      "\n",
      "Geração 13/100\n",
      "Melhor da geração 13: [735.45, [[4, 7, 13, 9, 3, 6], [23, 22, 17, 2, 20, 27, 10], [29, 30, 5, 25, 18, 16, 21], [14, 15, 11, 24, 19, 1], [28, 8, 12, 26]]]\n",
      "\n",
      "Geração 14/100\n",
      "Melhor da geração 14: [735.45, [[4, 7, 13, 9, 3, 6], [23, 22, 17, 2, 20, 27, 10], [29, 30, 5, 25, 18, 16, 21], [14, 15, 11, 24, 19, 1], [28, 8, 12, 26]]]\n",
      "\n",
      "Geração 15/100\n",
      "Melhor da geração 15: [735.45, [[4, 7, 13, 9, 3, 6], [23, 22, 17, 2, 20, 27, 10], [29, 30, 5, 25, 18, 16, 21], [14, 15, 11, 24, 19, 1], [28, 8, 12, 26]]]\n",
      "\n",
      "Geração 16/100\n",
      "Melhor da geração 16: [735.45, [[4, 7, 13, 9, 3, 6], [23, 22, 17, 2, 20, 27, 10], [29, 30, 5, 25, 18, 16, 21], [14, 15, 11, 24, 19, 1], [28, 8, 12, 26]]]\n",
      "\n",
      "Geração 17/100\n",
      "Melhor da geração 17: [733.12, [[7, 13, 9, 6, 3, 4], [17, 22, 23, 2, 10, 27, 20], [21, 16, 18, 25, 5, 30, 29], [14, 11, 24, 19, 1, 15], [8, 12, 28, 26]]]\n",
      "\n",
      "Geração 18/100\n",
      "Melhor da geração 18: [733.12, [[7, 13, 9, 6, 3, 4], [17, 22, 23, 2, 10, 27, 20], [21, 16, 18, 25, 5, 30, 29], [14, 11, 24, 19, 1, 15], [8, 12, 28, 26]]]\n",
      "\n",
      "Geração 19/100\n",
      "Melhor da geração 19: [733.12, [[7, 13, 9, 6, 3, 4], [17, 22, 23, 2, 10, 27, 20], [21, 16, 18, 25, 5, 30, 29], [14, 11, 24, 19, 1, 15], [8, 12, 28, 26]]]\n",
      "\n",
      "Geração 20/100\n",
      "Melhor da geração 20: [733.12, [[7, 13, 9, 6, 3, 4], [17, 22, 23, 2, 10, 27, 20], [21, 16, 18, 25, 5, 30, 29], [14, 11, 24, 19, 1, 15], [8, 12, 28, 26]]]\n",
      "\n",
      "Geração 21/100\n",
      "Melhor da geração 21: [733.12, [[7, 13, 9, 6, 3, 4], [17, 22, 23, 2, 10, 27, 20], [21, 16, 18, 25, 5, 30, 29], [14, 11, 24, 19, 1, 15], [8, 12, 28, 26]]]\n",
      "\n",
      "Geração 22/100\n",
      "Melhor da geração 22: [733.12, [[7, 13, 9, 6, 3, 4], [17, 22, 23, 2, 10, 27, 20], [21, 16, 18, 25, 5, 30, 29], [14, 11, 24, 19, 1, 15], [8, 12, 28, 26]]]\n",
      "\n",
      "Geração 23/100\n",
      "Melhor da geração 23: [733.12, [[7, 13, 9, 6, 3, 4], [17, 22, 23, 2, 10, 27, 20], [21, 16, 18, 25, 5, 30, 29], [14, 11, 24, 19, 1, 15], [8, 12, 28, 26]]]\n",
      "\n",
      "Geração 24/100\n",
      "Melhor da geração 24: [733.12, [[7, 13, 9, 6, 3, 4], [17, 22, 23, 2, 10, 27, 20], [21, 16, 18, 25, 5, 30, 29], [14, 11, 24, 19, 1, 15], [8, 12, 28, 26]]]\n",
      "\n",
      "Geração 25/100\n",
      "Melhor da geração 25: [733.12, [[7, 13, 9, 6, 3, 4], [17, 22, 23, 2, 10, 27, 20], [21, 16, 18, 25, 5, 30, 29], [14, 11, 24, 19, 1, 15], [8, 12, 28, 26]]]\n",
      "\n",
      "Geração 26/100\n",
      "Melhor da geração 26: [733.12, [[7, 13, 9, 6, 3, 4], [17, 22, 23, 2, 10, 27, 20], [21, 16, 18, 25, 5, 30, 29], [14, 11, 24, 19, 1, 15], [8, 12, 28, 26]]]\n",
      "\n",
      "Geração 27/100\n",
      "Melhor da geração 27: [733.12, [[7, 13, 9, 6, 3, 4], [17, 22, 23, 2, 10, 27, 20], [21, 16, 18, 25, 5, 30, 29], [14, 11, 24, 19, 1, 15], [8, 12, 28, 26]]]\n",
      "\n",
      "Reiniciando população devido à sequência de notas iguais por 10 gerações.\n",
      "Geração 28/100\n",
      "Melhor da geração 28: [733.12, [[7, 13, 9, 6, 3, 4], [17, 22, 23, 2, 10, 27, 20], [21, 16, 18, 25, 5, 30, 29], [14, 11, 24, 19, 1, 15], [8, 12, 28, 26]]]\n",
      "\n",
      "Geração 29/100\n",
      "Melhor da geração 29: [732.84, [[4, 7, 13, 9, 3, 6], [22, 17, 23, 2, 10, 27, 20], [16, 18, 5, 25, 21, 29, 30], [19, 1, 24, 11, 15, 14], [26, 28, 8, 12]]]\n",
      "\n",
      "Geração 30/100\n",
      "Melhor da geração 30: [732.84, [[4, 7, 13, 9, 3, 6], [22, 17, 23, 2, 10, 27, 20], [16, 18, 5, 25, 21, 29, 30], [19, 1, 24, 11, 15, 14], [26, 28, 8, 12]]]\n",
      "\n",
      "Geração 31/100\n",
      "Melhor da geração 31: [732.84, [[4, 7, 13, 9, 3, 6], [22, 17, 23, 2, 10, 27, 20], [16, 18, 5, 25, 21, 29, 30], [19, 1, 24, 11, 15, 14], [26, 28, 8, 12]]]\n",
      "\n",
      "Geração 32/100\n",
      "Melhor da geração 32: [732.84, [[4, 7, 13, 9, 3, 6], [22, 17, 23, 2, 10, 27, 20], [16, 18, 5, 25, 21, 29, 30], [19, 1, 24, 11, 15, 14], [26, 28, 8, 12]]]\n",
      "\n",
      "Geração 33/100\n",
      "Melhor da geração 33: [732.84, [[4, 7, 13, 9, 3, 6], [22, 17, 23, 2, 10, 27, 20], [16, 18, 5, 25, 21, 29, 30], [19, 1, 24, 11, 15, 14], [26, 28, 8, 12]]]\n",
      "\n",
      "Geração 34/100\n",
      "Melhor da geração 34: [732.84, [[4, 7, 13, 9, 3, 6], [22, 17, 23, 2, 10, 27, 20], [16, 18, 5, 25, 21, 29, 30], [19, 1, 24, 11, 15, 14], [26, 28, 8, 12]]]\n",
      "\n",
      "Geração 35/100\n",
      "Melhor da geração 35: [732.84, [[4, 7, 13, 9, 3, 6], [22, 17, 23, 2, 10, 27, 20], [16, 18, 5, 25, 21, 29, 30], [19, 1, 24, 11, 15, 14], [26, 28, 8, 12]]]\n",
      "\n",
      "Geração 36/100\n",
      "Melhor da geração 36: [732.84, [[4, 7, 13, 9, 3, 6], [22, 17, 23, 2, 10, 27, 20], [16, 18, 5, 25, 21, 29, 30], [19, 1, 24, 11, 15, 14], [26, 28, 8, 12]]]\n",
      "\n",
      "Geração 37/100\n",
      "Melhor da geração 37: [732.84, [[4, 7, 13, 9, 3, 6], [22, 17, 23, 2, 10, 27, 20], [16, 18, 5, 25, 21, 29, 30], [19, 1, 24, 11, 15, 14], [26, 28, 8, 12]]]\n",
      "\n",
      "Geração 38/100\n",
      "Melhor da geração 38: [732.84, [[4, 7, 13, 9, 3, 6], [22, 17, 23, 2, 10, 27, 20], [16, 18, 5, 25, 21, 29, 30], [19, 1, 24, 11, 15, 14], [26, 28, 8, 12]]]\n",
      "\n",
      "Geração 39/100\n",
      "Melhor da geração 39: [732.84, [[4, 7, 13, 9, 3, 6], [22, 17, 23, 2, 10, 27, 20], [16, 18, 5, 25, 21, 29, 30], [19, 1, 24, 11, 15, 14], [26, 28, 8, 12]]]\n",
      "\n",
      "Reiniciando população devido à sequência de notas iguais por 10 gerações.\n",
      "Geração 40/100\n",
      "Melhor da geração 40: [730.19, [[4, 7, 13, 3, 6, 9], [22, 17, 23, 2, 10, 27, 20], [29, 30, 5, 25, 18, 16, 21], [14, 15, 11, 24, 19, 1], [28, 8, 12, 26]]]\n",
      "\n",
      "Geração 41/100\n",
      "Melhor da geração 41: [730.19, [[4, 7, 13, 3, 6, 9], [22, 17, 23, 2, 10, 27, 20], [29, 30, 5, 25, 18, 16, 21], [14, 15, 11, 24, 19, 1], [28, 8, 12, 26]]]\n",
      "\n",
      "Geração 42/100\n",
      "Melhor da geração 42: [730.19, [[4, 7, 13, 3, 6, 9], [22, 17, 23, 2, 10, 27, 20], [29, 30, 5, 25, 18, 16, 21], [14, 15, 11, 24, 19, 1], [28, 8, 12, 26]]]\n",
      "\n",
      "Geração 43/100\n",
      "Melhor da geração 43: [730.19, [[4, 7, 13, 3, 6, 9], [22, 17, 23, 2, 10, 27, 20], [29, 30, 5, 25, 18, 16, 21], [14, 15, 11, 24, 19, 1], [28, 8, 12, 26]]]\n",
      "\n",
      "Geração 44/100\n",
      "Melhor da geração 44: [730.19, [[4, 7, 13, 3, 6, 9], [22, 17, 23, 2, 10, 27, 20], [29, 30, 5, 25, 18, 16, 21], [14, 15, 11, 24, 19, 1], [28, 8, 12, 26]]]\n",
      "\n",
      "Geração 45/100\n",
      "Melhor da geração 45: [730.19, [[4, 7, 13, 3, 6, 9], [22, 17, 23, 2, 10, 27, 20], [29, 30, 5, 25, 18, 16, 21], [14, 15, 11, 24, 19, 1], [28, 8, 12, 26]]]\n",
      "\n",
      "Geração 46/100\n",
      "Melhor da geração 46: [730.19, [[4, 7, 13, 3, 6, 9], [22, 17, 23, 2, 10, 27, 20], [29, 30, 5, 25, 18, 16, 21], [14, 15, 11, 24, 19, 1], [28, 8, 12, 26]]]\n",
      "\n",
      "Geração 47/100\n",
      "Melhor da geração 47: [730.19, [[4, 7, 13, 3, 6, 9], [22, 17, 23, 2, 10, 27, 20], [29, 30, 5, 25, 18, 16, 21], [14, 15, 11, 24, 19, 1], [28, 8, 12, 26]]]\n",
      "\n",
      "Geração 48/100\n",
      "Melhor da geração 48: [730.19, [[4, 7, 13, 3, 6, 9], [22, 17, 23, 2, 10, 27, 20], [29, 30, 5, 25, 18, 16, 21], [14, 15, 11, 24, 19, 1], [28, 8, 12, 26]]]\n",
      "\n",
      "Geração 49/100\n",
      "Melhor da geração 49: [730.19, [[4, 7, 13, 3, 6, 9], [22, 17, 23, 2, 10, 27, 20], [29, 30, 5, 25, 18, 16, 21], [14, 15, 11, 24, 19, 1], [28, 8, 12, 26]]]\n",
      "\n",
      "Geração 50/100\n",
      "Melhor da geração 50: [730.19, [[4, 7, 13, 3, 6, 9], [22, 17, 23, 2, 10, 27, 20], [29, 30, 5, 25, 18, 16, 21], [14, 15, 11, 24, 19, 1], [28, 8, 12, 26]]]\n",
      "\n",
      "Reiniciando população devido à sequência de notas iguais por 10 gerações.\n",
      "Geração 51/100\n",
      "Melhor da geração 51: [730.19, [[4, 7, 13, 3, 6, 9], [22, 17, 23, 2, 10, 27, 20], [29, 30, 5, 25, 18, 16, 21], [14, 15, 11, 24, 19, 1], [28, 8, 12, 26]]]\n",
      "\n",
      "Geração 52/100\n",
      "Melhor da geração 52: [730.19, [[4, 7, 13, 3, 6, 9], [22, 17, 23, 2, 10, 27, 20], [29, 30, 5, 25, 18, 16, 21], [14, 15, 11, 24, 19, 1], [28, 8, 12, 26]]]\n",
      "\n",
      "Geração 53/100\n",
      "Melhor da geração 53: [730.19, [[4, 7, 13, 3, 6, 9], [22, 17, 23, 2, 10, 27, 20], [29, 30, 5, 25, 18, 16, 21], [14, 15, 11, 24, 19, 1], [28, 8, 12, 26]]]\n",
      "\n",
      "Geração 54/100\n",
      "Melhor da geração 54: [730.19, [[4, 7, 13, 3, 6, 9], [22, 17, 23, 2, 10, 27, 20], [29, 30, 5, 25, 18, 16, 21], [14, 15, 11, 24, 19, 1], [28, 8, 12, 26]]]\n",
      "\n",
      "Geração 55/100\n",
      "Melhor da geração 55: [730.19, [[4, 7, 13, 3, 6, 9], [22, 17, 23, 2, 10, 27, 20], [29, 30, 5, 25, 18, 16, 21], [14, 15, 11, 24, 19, 1], [28, 8, 12, 26]]]\n",
      "\n",
      "Geração 56/100\n",
      "Melhor da geração 56: [730.19, [[4, 7, 13, 3, 6, 9], [22, 17, 23, 2, 10, 27, 20], [29, 30, 5, 25, 18, 16, 21], [14, 15, 11, 24, 19, 1], [28, 8, 12, 26]]]\n",
      "\n",
      "Geração 57/100\n",
      "Melhor da geração 57: [730.19, [[4, 7, 13, 3, 6, 9], [22, 17, 23, 2, 10, 27, 20], [29, 30, 5, 25, 18, 16, 21], [14, 15, 11, 24, 19, 1], [28, 8, 12, 26]]]\n",
      "\n",
      "Geração 58/100\n",
      "Melhor da geração 58: [730.19, [[4, 7, 13, 3, 6, 9], [22, 17, 23, 2, 10, 27, 20], [29, 30, 5, 25, 18, 16, 21], [14, 15, 11, 24, 19, 1], [28, 8, 12, 26]]]\n",
      "\n",
      "Geração 59/100\n",
      "Melhor da geração 59: [730.19, [[4, 7, 13, 3, 6, 9], [22, 17, 23, 2, 10, 27, 20], [29, 30, 5, 25, 18, 16, 21], [14, 15, 11, 24, 19, 1], [28, 8, 12, 26]]]\n",
      "\n",
      "Geração 60/100\n",
      "Melhor da geração 60: [730.19, [[4, 7, 13, 3, 6, 9], [22, 17, 23, 2, 10, 27, 20], [29, 30, 5, 25, 18, 16, 21], [14, 15, 11, 24, 19, 1], [28, 8, 12, 26]]]\n",
      "\n",
      "Reiniciando população devido à sequência de notas iguais por 10 gerações.\n",
      "Geração 61/100\n",
      "Melhor da geração 61: [730.19, [[4, 7, 13, 3, 6, 9], [22, 17, 23, 2, 10, 27, 20], [29, 30, 5, 25, 18, 16, 21], [14, 15, 11, 24, 19, 1], [28, 8, 12, 26]]]\n",
      "\n",
      "Geração 62/100\n",
      "Melhor da geração 62: [730.19, [[4, 7, 13, 3, 6, 9], [22, 17, 23, 2, 10, 27, 20], [29, 30, 5, 25, 18, 16, 21], [14, 15, 11, 24, 19, 1], [28, 8, 12, 26]]]\n",
      "\n",
      "Geração 63/100\n",
      "Melhor da geração 63: [730.19, [[4, 7, 13, 3, 6, 9], [22, 17, 23, 2, 10, 27, 20], [29, 30, 5, 25, 18, 16, 21], [14, 15, 11, 24, 19, 1], [28, 8, 12, 26]]]\n",
      "\n",
      "Geração 64/100\n",
      "Melhor da geração 64: [730.19, [[4, 7, 13, 3, 6, 9], [22, 17, 23, 2, 10, 27, 20], [29, 30, 5, 25, 18, 16, 21], [14, 15, 11, 24, 19, 1], [28, 8, 12, 26]]]\n",
      "\n",
      "Geração 65/100\n",
      "Melhor da geração 65: [730.19, [[4, 7, 13, 3, 6, 9], [22, 17, 23, 2, 10, 27, 20], [29, 30, 5, 25, 18, 16, 21], [14, 15, 11, 24, 19, 1], [28, 8, 12, 26]]]\n",
      "\n",
      "Geração 66/100\n",
      "Melhor da geração 66: [730.19, [[4, 7, 13, 3, 6, 9], [22, 17, 23, 2, 10, 27, 20], [29, 30, 5, 25, 18, 16, 21], [14, 15, 11, 24, 19, 1], [28, 8, 12, 26]]]\n",
      "\n",
      "Geração 67/100\n",
      "Melhor da geração 67: [730.19, [[4, 7, 13, 3, 6, 9], [22, 17, 23, 2, 10, 27, 20], [29, 30, 5, 25, 18, 16, 21], [14, 15, 11, 24, 19, 1], [28, 8, 12, 26]]]\n",
      "\n",
      "Geração 68/100\n",
      "Melhor da geração 68: [730.19, [[4, 7, 13, 3, 6, 9], [22, 17, 23, 2, 10, 27, 20], [29, 30, 5, 25, 18, 16, 21], [14, 15, 11, 24, 19, 1], [28, 8, 12, 26]]]\n",
      "\n",
      "Geração 69/100\n",
      "Melhor da geração 69: [730.19, [[4, 7, 13, 3, 6, 9], [22, 17, 23, 2, 10, 27, 20], [29, 30, 5, 25, 18, 16, 21], [14, 15, 11, 24, 19, 1], [28, 8, 12, 26]]]\n",
      "\n",
      "Geração 70/100\n",
      "Melhor da geração 70: [730.19, [[4, 7, 13, 3, 6, 9], [22, 17, 23, 2, 10, 27, 20], [29, 30, 5, 25, 18, 16, 21], [14, 15, 11, 24, 19, 1], [28, 8, 12, 26]]]\n",
      "\n",
      "Reiniciando população devido à sequência de notas iguais por 10 gerações.\n",
      "Geração 71/100\n",
      "Melhor da geração 71: [730.19, [[4, 7, 13, 3, 6, 9], [22, 17, 23, 2, 10, 27, 20], [29, 30, 5, 25, 18, 16, 21], [14, 15, 11, 24, 19, 1], [28, 8, 12, 26]]]\n",
      "\n",
      "Geração 72/100\n",
      "Melhor da geração 72: [730.19, [[4, 7, 13, 3, 6, 9], [22, 17, 23, 2, 10, 27, 20], [29, 30, 5, 25, 18, 16, 21], [14, 15, 11, 24, 19, 1], [28, 8, 12, 26]]]\n",
      "\n",
      "Geração 73/100\n",
      "Melhor da geração 73: [730.19, [[4, 7, 13, 3, 6, 9], [22, 17, 23, 2, 10, 27, 20], [29, 30, 5, 25, 18, 16, 21], [14, 15, 11, 24, 19, 1], [28, 8, 12, 26]]]\n",
      "\n",
      "Geração 74/100\n",
      "Melhor da geração 74: [730.19, [[4, 7, 13, 3, 6, 9], [22, 17, 23, 2, 10, 27, 20], [29, 30, 5, 25, 18, 16, 21], [14, 15, 11, 24, 19, 1], [28, 8, 12, 26]]]\n",
      "\n",
      "Geração 75/100\n",
      "Melhor da geração 75: [730.19, [[4, 7, 13, 3, 6, 9], [22, 17, 23, 2, 10, 27, 20], [29, 30, 5, 25, 18, 16, 21], [14, 15, 11, 24, 19, 1], [28, 8, 12, 26]]]\n",
      "\n",
      "Geração 76/100\n",
      "Melhor da geração 76: [730.19, [[4, 7, 13, 3, 6, 9], [22, 17, 23, 2, 10, 27, 20], [29, 30, 5, 25, 18, 16, 21], [14, 15, 11, 24, 19, 1], [28, 8, 12, 26]]]\n",
      "\n",
      "Geração 77/100\n",
      "Melhor da geração 77: [730.19, [[4, 7, 13, 3, 6, 9], [22, 17, 23, 2, 10, 27, 20], [29, 30, 5, 25, 18, 16, 21], [14, 15, 11, 24, 19, 1], [28, 8, 12, 26]]]\n",
      "\n",
      "Geração 78/100\n",
      "Melhor da geração 78: [730.19, [[4, 7, 13, 3, 6, 9], [22, 17, 23, 2, 10, 27, 20], [29, 30, 5, 25, 18, 16, 21], [14, 15, 11, 24, 19, 1], [28, 8, 12, 26]]]\n",
      "\n",
      "Geração 79/100\n",
      "Melhor da geração 79: [730.19, [[4, 7, 13, 3, 6, 9], [22, 17, 23, 2, 10, 27, 20], [29, 30, 5, 25, 18, 16, 21], [14, 15, 11, 24, 19, 1], [28, 8, 12, 26]]]\n",
      "\n",
      "Geração 80/100\n",
      "Melhor da geração 80: [730.19, [[4, 7, 13, 3, 6, 9], [22, 17, 23, 2, 10, 27, 20], [29, 30, 5, 25, 18, 16, 21], [14, 15, 11, 24, 19, 1], [28, 8, 12, 26]]]\n",
      "\n",
      "Reiniciando população devido à sequência de notas iguais por 10 gerações.\n",
      "Geração 81/100\n",
      "Melhor da geração 81: [730.19, [[4, 7, 13, 3, 6, 9], [22, 17, 23, 2, 10, 27, 20], [29, 30, 5, 25, 18, 16, 21], [14, 15, 11, 24, 19, 1], [28, 8, 12, 26]]]\n",
      "\n",
      "Geração 82/100\n",
      "Melhor da geração 82: [730.19, [[4, 7, 13, 3, 6, 9], [22, 17, 23, 2, 10, 27, 20], [29, 30, 5, 25, 18, 16, 21], [14, 15, 11, 24, 19, 1], [28, 8, 12, 26]]]\n",
      "\n",
      "Geração 83/100\n",
      "Melhor da geração 83: [730.19, [[4, 7, 13, 3, 6, 9], [22, 17, 23, 2, 10, 27, 20], [29, 30, 5, 25, 18, 16, 21], [14, 15, 11, 24, 19, 1], [28, 8, 12, 26]]]\n",
      "\n",
      "Geração 84/100\n",
      "Melhor da geração 84: [730.19, [[4, 7, 13, 3, 6, 9], [22, 17, 23, 2, 10, 27, 20], [29, 30, 5, 25, 18, 16, 21], [14, 15, 11, 24, 19, 1], [28, 8, 12, 26]]]\n",
      "\n",
      "Geração 85/100\n",
      "Melhor da geração 85: [730.19, [[4, 7, 13, 3, 6, 9], [22, 17, 23, 2, 10, 27, 20], [29, 30, 5, 25, 18, 16, 21], [14, 15, 11, 24, 19, 1], [28, 8, 12, 26]]]\n",
      "\n",
      "Geração 86/100\n",
      "Melhor da geração 86: [730.19, [[4, 7, 13, 3, 6, 9], [22, 17, 23, 2, 10, 27, 20], [29, 30, 5, 25, 18, 16, 21], [14, 15, 11, 24, 19, 1], [28, 8, 12, 26]]]\n",
      "\n",
      "Geração 87/100\n",
      "Melhor da geração 87: [730.19, [[4, 7, 13, 3, 6, 9], [22, 17, 23, 2, 10, 27, 20], [29, 30, 5, 25, 18, 16, 21], [14, 15, 11, 24, 19, 1], [28, 8, 12, 26]]]\n",
      "\n",
      "Geração 88/100\n",
      "Melhor da geração 88: [730.19, [[4, 7, 13, 3, 6, 9], [22, 17, 23, 2, 10, 27, 20], [29, 30, 5, 25, 18, 16, 21], [14, 15, 11, 24, 19, 1], [28, 8, 12, 26]]]\n",
      "\n",
      "Geração 89/100\n",
      "Melhor da geração 89: [730.19, [[4, 7, 13, 3, 6, 9], [22, 17, 23, 2, 10, 27, 20], [29, 30, 5, 25, 18, 16, 21], [14, 15, 11, 24, 19, 1], [28, 8, 12, 26]]]\n",
      "\n",
      "Geração 90/100\n",
      "Melhor da geração 90: [730.19, [[4, 7, 13, 3, 6, 9], [22, 17, 23, 2, 10, 27, 20], [29, 30, 5, 25, 18, 16, 21], [14, 15, 11, 24, 19, 1], [28, 8, 12, 26]]]\n",
      "\n",
      "Reiniciando população devido à sequência de notas iguais por 10 gerações.\n",
      "Geração 91/100\n",
      "Melhor da geração 91: [730.19, [[4, 7, 13, 3, 6, 9], [22, 17, 23, 2, 10, 27, 20], [29, 30, 5, 25, 18, 16, 21], [14, 15, 11, 24, 19, 1], [28, 8, 12, 26]]]\n",
      "\n",
      "Geração 92/100\n",
      "Melhor da geração 92: [730.19, [[4, 7, 13, 3, 6, 9], [22, 17, 23, 2, 10, 27, 20], [29, 30, 5, 25, 18, 16, 21], [14, 15, 11, 24, 19, 1], [28, 8, 12, 26]]]\n",
      "\n",
      "Geração 93/100\n",
      "Melhor da geração 93: [730.19, [[4, 7, 13, 3, 6, 9], [22, 17, 23, 2, 10, 27, 20], [29, 30, 5, 25, 18, 16, 21], [14, 15, 11, 24, 19, 1], [28, 8, 12, 26]]]\n",
      "\n",
      "Geração 94/100\n",
      "Melhor da geração 94: [730.19, [[4, 7, 13, 3, 6, 9], [22, 17, 23, 2, 10, 27, 20], [29, 30, 5, 25, 18, 16, 21], [14, 15, 11, 24, 19, 1], [28, 8, 12, 26]]]\n",
      "\n",
      "Geração 95/100\n",
      "Melhor da geração 95: [730.19, [[4, 7, 13, 3, 6, 9], [22, 17, 23, 2, 10, 27, 20], [29, 30, 5, 25, 18, 16, 21], [14, 15, 11, 24, 19, 1], [28, 8, 12, 26]]]\n",
      "\n",
      "Geração 96/100\n",
      "Melhor da geração 96: [730.19, [[4, 7, 13, 3, 6, 9], [22, 17, 23, 2, 10, 27, 20], [29, 30, 5, 25, 18, 16, 21], [14, 15, 11, 24, 19, 1], [28, 8, 12, 26]]]\n",
      "\n",
      "Geração 97/100\n",
      "Melhor da geração 97: [730.19, [[4, 7, 13, 3, 6, 9], [22, 17, 23, 2, 10, 27, 20], [29, 30, 5, 25, 18, 16, 21], [14, 15, 11, 24, 19, 1], [28, 8, 12, 26]]]\n",
      "\n",
      "Geração 98/100\n",
      "Melhor da geração 98: [730.19, [[4, 7, 13, 3, 6, 9], [22, 17, 23, 2, 10, 27, 20], [29, 30, 5, 25, 18, 16, 21], [14, 15, 11, 24, 19, 1], [28, 8, 12, 26]]]\n",
      "\n",
      "Geração 99/100\n",
      "Melhor da geração 99: [730.19, [[4, 7, 13, 3, 6, 9], [22, 17, 23, 2, 10, 27, 20], [29, 30, 5, 25, 18, 16, 21], [14, 15, 11, 24, 19, 1], [28, 8, 12, 26]]]\n",
      "\n",
      "Geração 100/100\n",
      "Melhor da geração 100: [730.19, [[4, 7, 13, 3, 6, 9], [22, 17, 23, 2, 10, 27, 20], [29, 30, 5, 25, 18, 16, 21], [14, 15, 11, 24, 19, 1], [28, 8, 12, 26]]]\n",
      "\n"
     ]
    },
    {
     "data": {
      "image/png": "[encoded data removed]",
      "text/plain": [
       "<Figure size 640x480 with 1 Axes>"
      ]
     },
     "metadata": {},
     "output_type": "display_data"
    }
   ],
   "source": [
    "# Execução do algoritmo\n",
    "melhores = alg_genetico(100, 70, 31, 5, 30, 0.15, 100, 10)\n",
    "\n",
    "funcao = []\n",
    "for item in melhores:\n",
    "    try:\n",
    "        f, c = item  # tenta desempacotar\n",
    "        funcao.append(f)\n",
    "    except TypeError:\n",
    "        print(f\"Erro ao desempacotar item: {item}, tipo: {type(item)}\")\n",
    "\n",
    "# Criação do gráfico de linhas\n",
    "plt.plot(funcao)\n",
    "plt.xlabel('Gerações')\n",
    "plt.ylabel('Distância total')\n",
    "plt.title('Minimização ao Longo das Gerações')\n",
    "plt.grid(True)\n",
    "plt.show()"
   ]
  },
  {
   "cell_type": "code",
   "execution_count": 20,
   "metadata": {},
   "outputs": [
    {
     "data": {
      "text/plain": [
       "7.9"
      ]
     },
     "execution_count": 20,
     "metadata": {},
     "output_type": "execute_result"
    }
   ],
   "source": [
    "round(((min(funcao) - 676.74) / 676.74) * 100, 2)"
   ]
  },
  {
   "cell_type": "code",
   "execution_count": 26,
   "metadata": {},
   "outputs": [
    {
     "name": "stdout",
     "output_type": "stream",
     "text": [
      "Nova linha adicionada: nota=730.19, cromossomos=[[4, 7, 13, 3, 6, 9], [22, 17, 23, 2, 10, 27, 20], [29, 30, 5, 25, 18, 16, 21], [14, 15, 11, 24, 19, 1], [28, 8, 12, 26]]\n"
     ]
    }
   ],
   "source": [
    "# Nome do arquivo CSV\n",
    "arquivo_csv = 'melhores_resultados.csv'\n",
    "\n",
    "# Valores da tupla min(funcao) que deseja adicionar\n",
    "nota, cromossomo = min(melhores)\n",
    "\n",
    "# Tentar abrir o arquivo CSV se ele existir, caso contrário criar um novo DataFrame\n",
    "try:\n",
    "    # Carregar o arquivo CSV existente\n",
    "    df = pd.read_csv(arquivo_csv)\n",
    "except FileNotFoundError:\n",
    "    # Se o arquivo não existir, criar um DataFrame vazio com as colunas 'nota' e 'cromossomos'\n",
    "    df = pd.DataFrame(columns=['Nota', 'Cromossomo'])\n",
    "\n",
    "# Adicionar a nova linha ao DataFrame\n",
    "novo_dado = pd.DataFrame([[nota, cromossomo]], columns=['Nota', 'Cromossomo'])\n",
    "df = pd.concat([df, novo_dado], ignore_index=True)\n",
    "\n",
    "# Salvar o DataFrame atualizado de volta no arquivo CSV\n",
    "df.to_csv(arquivo_csv, index=False)\n",
    "\n",
    "print(f\"Nova linha adicionada: nota={nota}, cromossomos={cromossomo}\")"
   ]
  }
 ],
 "metadata": {
  "kernelspec": {
   "display_name": "Python 3",
   "language": "python",
   "name": "python3"
  },
  "language_info": {
   "codemirror_mode": {
    "name": "ipython",
    "version": 3
   },
   "file_extension": ".py",
   "mimetype": "text/x-python",
   "name": "python",
   "nbconvert_exporter": "python",
   "pygments_lexer": "ipython3",
   "version": "3.12.1"
  }
 },
 "nbformat": 4,
 "nbformat_minor": 2
}
