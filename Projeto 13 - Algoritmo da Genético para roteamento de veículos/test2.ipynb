{
 "cells": [
  {
   "cell_type": "code",
   "execution_count": 5,
   "metadata": {},
   "outputs": [
    {
     "name": "stdout",
     "output_type": "stream",
     "text": [
      "Tabela de Demandas:\n"
     ]
    },
    {
     "data": {
      "text/html": [
       "<div>\n",
       "<style scoped>\n",
       "    .dataframe tbody tr th:only-of-type {\n",
       "        vertical-align: middle;\n",
       "    }\n",
       "\n",
       "    .dataframe tbody tr th {\n",
       "        vertical-align: top;\n",
       "    }\n",
       "\n",
       "    .dataframe thead th {\n",
       "        text-align: right;\n",
       "    }\n",
       "</style>\n",
       "<table border=\"1\" class=\"dataframe\">\n",
       "  <thead>\n",
       "    <tr style=\"text-align: right;\">\n",
       "      <th></th>\n",
       "      <th>Cliente</th>\n",
       "      <th>Demanda (unidades)</th>\n",
       "    </tr>\n",
       "  </thead>\n",
       "  <tbody>\n",
       "    <tr>\n",
       "      <th>0</th>\n",
       "      <td>0</td>\n",
       "      <td>0</td>\n",
       "    </tr>\n",
       "    <tr>\n",
       "      <th>1</th>\n",
       "      <td>1</td>\n",
       "      <td>25</td>\n",
       "    </tr>\n",
       "    <tr>\n",
       "      <th>2</th>\n",
       "      <td>2</td>\n",
       "      <td>3</td>\n",
       "    </tr>\n",
       "    <tr>\n",
       "      <th>3</th>\n",
       "      <td>3</td>\n",
       "      <td>13</td>\n",
       "    </tr>\n",
       "    <tr>\n",
       "      <th>4</th>\n",
       "      <td>4</td>\n",
       "      <td>17</td>\n",
       "    </tr>\n",
       "    <tr>\n",
       "      <th>5</th>\n",
       "      <td>5</td>\n",
       "      <td>16</td>\n",
       "    </tr>\n",
       "    <tr>\n",
       "      <th>6</th>\n",
       "      <td>6</td>\n",
       "      <td>9</td>\n",
       "    </tr>\n",
       "    <tr>\n",
       "      <th>7</th>\n",
       "      <td>7</td>\n",
       "      <td>22</td>\n",
       "    </tr>\n",
       "    <tr>\n",
       "      <th>8</th>\n",
       "      <td>8</td>\n",
       "      <td>10</td>\n",
       "    </tr>\n",
       "    <tr>\n",
       "      <th>9</th>\n",
       "      <td>9</td>\n",
       "      <td>16</td>\n",
       "    </tr>\n",
       "    <tr>\n",
       "      <th>10</th>\n",
       "      <td>10</td>\n",
       "      <td>8</td>\n",
       "    </tr>\n",
       "    <tr>\n",
       "      <th>11</th>\n",
       "      <td>11</td>\n",
       "      <td>3</td>\n",
       "    </tr>\n",
       "    <tr>\n",
       "      <th>12</th>\n",
       "      <td>12</td>\n",
       "      <td>16</td>\n",
       "    </tr>\n",
       "    <tr>\n",
       "      <th>13</th>\n",
       "      <td>13</td>\n",
       "      <td>16</td>\n",
       "    </tr>\n",
       "    <tr>\n",
       "      <th>14</th>\n",
       "      <td>14</td>\n",
       "      <td>10</td>\n",
       "    </tr>\n",
       "    <tr>\n",
       "      <th>15</th>\n",
       "      <td>15</td>\n",
       "      <td>24</td>\n",
       "    </tr>\n",
       "    <tr>\n",
       "      <th>16</th>\n",
       "      <td>16</td>\n",
       "      <td>16</td>\n",
       "    </tr>\n",
       "    <tr>\n",
       "      <th>17</th>\n",
       "      <td>17</td>\n",
       "      <td>15</td>\n",
       "    </tr>\n",
       "    <tr>\n",
       "      <th>18</th>\n",
       "      <td>18</td>\n",
       "      <td>14</td>\n",
       "    </tr>\n",
       "    <tr>\n",
       "      <th>19</th>\n",
       "      <td>19</td>\n",
       "      <td>5</td>\n",
       "    </tr>\n",
       "    <tr>\n",
       "      <th>20</th>\n",
       "      <td>20</td>\n",
       "      <td>12</td>\n",
       "    </tr>\n",
       "    <tr>\n",
       "      <th>21</th>\n",
       "      <td>21</td>\n",
       "      <td>2</td>\n",
       "    </tr>\n",
       "    <tr>\n",
       "      <th>22</th>\n",
       "      <td>22</td>\n",
       "      <td>18</td>\n",
       "    </tr>\n",
       "    <tr>\n",
       "      <th>23</th>\n",
       "      <td>23</td>\n",
       "      <td>20</td>\n",
       "    </tr>\n",
       "    <tr>\n",
       "      <th>24</th>\n",
       "      <td>24</td>\n",
       "      <td>15</td>\n",
       "    </tr>\n",
       "    <tr>\n",
       "      <th>25</th>\n",
       "      <td>25</td>\n",
       "      <td>8</td>\n",
       "    </tr>\n",
       "    <tr>\n",
       "      <th>26</th>\n",
       "      <td>26</td>\n",
       "      <td>22</td>\n",
       "    </tr>\n",
       "    <tr>\n",
       "      <th>27</th>\n",
       "      <td>27</td>\n",
       "      <td>15</td>\n",
       "    </tr>\n",
       "    <tr>\n",
       "      <th>28</th>\n",
       "      <td>28</td>\n",
       "      <td>10</td>\n",
       "    </tr>\n",
       "    <tr>\n",
       "      <th>29</th>\n",
       "      <td>29</td>\n",
       "      <td>13</td>\n",
       "    </tr>\n",
       "    <tr>\n",
       "      <th>30</th>\n",
       "      <td>30</td>\n",
       "      <td>19</td>\n",
       "    </tr>\n",
       "  </tbody>\n",
       "</table>\n",
       "</div>"
      ],
      "text/plain": [
       "    Cliente  Demanda (unidades)\n",
       "0         0                   0\n",
       "1         1                  25\n",
       "2         2                   3\n",
       "3         3                  13\n",
       "4         4                  17\n",
       "5         5                  16\n",
       "6         6                   9\n",
       "7         7                  22\n",
       "8         8                  10\n",
       "9         9                  16\n",
       "10       10                   8\n",
       "11       11                   3\n",
       "12       12                  16\n",
       "13       13                  16\n",
       "14       14                  10\n",
       "15       15                  24\n",
       "16       16                  16\n",
       "17       17                  15\n",
       "18       18                  14\n",
       "19       19                   5\n",
       "20       20                  12\n",
       "21       21                   2\n",
       "22       22                  18\n",
       "23       23                  20\n",
       "24       24                  15\n",
       "25       25                   8\n",
       "26       26                  22\n",
       "27       27                  15\n",
       "28       28                  10\n",
       "29       29                  13\n",
       "30       30                  19"
      ]
     },
     "metadata": {},
     "output_type": "display_data"
    },
    {
     "data": {
      "application/vnd.plotly.v1+json": {
       "config": {
        "plotlyServerURL": "https://plot.ly"
       },
       "data": [
        {
         "hoverinfo": "text",
         "marker": {
          "color": [
           "blue",
           "red",
           "red",
           "red",
           "red",
           "red",
           "red",
           "red",
           "red",
           "red",
           "red",
           "red",
           "red",
           "red",
           "red",
           "red",
           "red",
           "red",
           "red",
           "red",
           "red",
           "red",
           "red",
           "red",
           "red",
           "red",
           "red",
           "red",
           "red",
           "red",
           "red"
          ],
          "size": 10
         },
         "mode": "markers",
         "text": [
          "Cliente: 0<br>Demanda: 0",
          "Cliente: 1<br>Demanda: 25",
          "Cliente: 2<br>Demanda: 3",
          "Cliente: 3<br>Demanda: 13",
          "Cliente: 4<br>Demanda: 17",
          "Cliente: 5<br>Demanda: 16",
          "Cliente: 6<br>Demanda: 9",
          "Cliente: 7<br>Demanda: 22",
          "Cliente: 8<br>Demanda: 10",
          "Cliente: 9<br>Demanda: 16",
          "Cliente: 10<br>Demanda: 8",
          "Cliente: 11<br>Demanda: 3",
          "Cliente: 12<br>Demanda: 16",
          "Cliente: 13<br>Demanda: 16",
          "Cliente: 14<br>Demanda: 10",
          "Cliente: 15<br>Demanda: 24",
          "Cliente: 16<br>Demanda: 16",
          "Cliente: 17<br>Demanda: 15",
          "Cliente: 18<br>Demanda: 14",
          "Cliente: 19<br>Demanda: 5",
          "Cliente: 20<br>Demanda: 12",
          "Cliente: 21<br>Demanda: 2",
          "Cliente: 22<br>Demanda: 18",
          "Cliente: 23<br>Demanda: 20",
          "Cliente: 24<br>Demanda: 15",
          "Cliente: 25<br>Demanda: 8",
          "Cliente: 26<br>Demanda: 22",
          "Cliente: 27<br>Demanda: 15",
          "Cliente: 28<br>Demanda: 10",
          "Cliente: 29<br>Demanda: 13",
          "Cliente: 30<br>Demanda: 19"
         ],
         "type": "scatter",
         "x": [
          17,
          24,
          96,
          14,
          14,
          0,
          16,
          20,
          22,
          17,
          98,
          30,
          23,
          19,
          34,
          31,
          0,
          19,
          0,
          26,
          98,
          5,
          17,
          21,
          28,
          1,
          27,
          99,
          26,
          17,
          20
         ],
         "y": [
          76,
          6,
          29,
          19,
          32,
          34,
          22,
          26,
          28,
          23,
          30,
          8,
          27,
          23,
          7,
          7,
          37,
          23,
          36,
          7,
          32,
          40,
          26,
          26,
          8,
          35,
          28,
          30,
          28,
          29,
          26
         ]
        }
       ],
       "layout": {
        "height": 1200,
        "template": {
         "data": {
          "bar": [
           {
            "error_x": {
             "color": "#2a3f5f"
            },
            "error_y": {
             "color": "#2a3f5f"
            },
            "marker": {
             "line": {
              "color": "#E5ECF6",
              "width": 0.5
             },
             "pattern": {
              "fillmode": "overlay",
              "size": 10,
              "solidity": 0.2
             }
            },
            "type": "bar"
           }
          ],
          "barpolar": [
           {
            "marker": {
             "line": {
              "color": "#E5ECF6",
              "width": 0.5
             },
             "pattern": {
              "fillmode": "overlay",
              "size": 10,
              "solidity": 0.2
             }
            },
            "type": "barpolar"
           }
          ],
          "carpet": [
           {
            "aaxis": {
             "endlinecolor": "#2a3f5f",
             "gridcolor": "white",
             "linecolor": "white",
             "minorgridcolor": "white",
             "startlinecolor": "#2a3f5f"
            },
            "baxis": {
             "endlinecolor": "#2a3f5f",
             "gridcolor": "white",
             "linecolor": "white",
             "minorgridcolor": "white",
             "startlinecolor": "#2a3f5f"
            },
            "type": "carpet"
           }
          ],
          "choropleth": [
           {
            "colorbar": {
             "outlinewidth": 0,
             "ticks": ""
            },
            "type": "choropleth"
           }
          ],
          "contour": [
           {
            "colorbar": {
             "outlinewidth": 0,
             "ticks": ""
            },
            "colorscale": [
             [
              0,
              "#0d0887"
             ],
             [
              0.1111111111111111,
              "#46039f"
             ],
             [
              0.2222222222222222,
              "#7201a8"
             ],
             [
              0.3333333333333333,
              "#9c179e"
             ],
             [
              0.4444444444444444,
              "#bd3786"
             ],
             [
              0.5555555555555556,
              "#d8576b"
             ],
             [
              0.6666666666666666,
              "#ed7953"
             ],
             [
              0.7777777777777778,
              "#fb9f3a"
             ],
             [
              0.8888888888888888,
              "#fdca26"
             ],
             [
              1,
              "#f0f921"
             ]
            ],
            "type": "contour"
           }
          ],
          "contourcarpet": [
           {
            "colorbar": {
             "outlinewidth": 0,
             "ticks": ""
            },
            "type": "contourcarpet"
           }
          ],
          "heatmap": [
           {
            "colorbar": {
             "outlinewidth": 0,
             "ticks": ""
            },
            "colorscale": [
             [
              0,
              "#0d0887"
             ],
             [
              0.1111111111111111,
              "#46039f"
             ],
             [
              0.2222222222222222,
              "#7201a8"
             ],
             [
              0.3333333333333333,
              "#9c179e"
             ],
             [
              0.4444444444444444,
              "#bd3786"
             ],
             [
              0.5555555555555556,
              "#d8576b"
             ],
             [
              0.6666666666666666,
              "#ed7953"
             ],
             [
              0.7777777777777778,
              "#fb9f3a"
             ],
             [
              0.8888888888888888,
              "#fdca26"
             ],
             [
              1,
              "#f0f921"
             ]
            ],
            "type": "heatmap"
           }
          ],
          "heatmapgl": [
           {
            "colorbar": {
             "outlinewidth": 0,
             "ticks": ""
            },
            "colorscale": [
             [
              0,
              "#0d0887"
             ],
             [
              0.1111111111111111,
              "#46039f"
             ],
             [
              0.2222222222222222,
              "#7201a8"
             ],
             [
              0.3333333333333333,
              "#9c179e"
             ],
             [
              0.4444444444444444,
              "#bd3786"
             ],
             [
              0.5555555555555556,
              "#d8576b"
             ],
             [
              0.6666666666666666,
              "#ed7953"
             ],
             [
              0.7777777777777778,
              "#fb9f3a"
             ],
             [
              0.8888888888888888,
              "#fdca26"
             ],
             [
              1,
              "#f0f921"
             ]
            ],
            "type": "heatmapgl"
           }
          ],
          "histogram": [
           {
            "marker": {
             "pattern": {
              "fillmode": "overlay",
              "size": 10,
              "solidity": 0.2
             }
            },
            "type": "histogram"
           }
          ],
          "histogram2d": [
           {
            "colorbar": {
             "outlinewidth": 0,
             "ticks": ""
            },
            "colorscale": [
             [
              0,
              "#0d0887"
             ],
             [
              0.1111111111111111,
              "#46039f"
             ],
             [
              0.2222222222222222,
              "#7201a8"
             ],
             [
              0.3333333333333333,
              "#9c179e"
             ],
             [
              0.4444444444444444,
              "#bd3786"
             ],
             [
              0.5555555555555556,
              "#d8576b"
             ],
             [
              0.6666666666666666,
              "#ed7953"
             ],
             [
              0.7777777777777778,
              "#fb9f3a"
             ],
             [
              0.8888888888888888,
              "#fdca26"
             ],
             [
              1,
              "#f0f921"
             ]
            ],
            "type": "histogram2d"
           }
          ],
          "histogram2dcontour": [
           {
            "colorbar": {
             "outlinewidth": 0,
             "ticks": ""
            },
            "colorscale": [
             [
              0,
              "#0d0887"
             ],
             [
              0.1111111111111111,
              "#46039f"
             ],
             [
              0.2222222222222222,
              "#7201a8"
             ],
             [
              0.3333333333333333,
              "#9c179e"
             ],
             [
              0.4444444444444444,
              "#bd3786"
             ],
             [
              0.5555555555555556,
              "#d8576b"
             ],
             [
              0.6666666666666666,
              "#ed7953"
             ],
             [
              0.7777777777777778,
              "#fb9f3a"
             ],
             [
              0.8888888888888888,
              "#fdca26"
             ],
             [
              1,
              "#f0f921"
             ]
            ],
            "type": "histogram2dcontour"
           }
          ],
          "mesh3d": [
           {
            "colorbar": {
             "outlinewidth": 0,
             "ticks": ""
            },
            "type": "mesh3d"
           }
          ],
          "parcoords": [
           {
            "line": {
             "colorbar": {
              "outlinewidth": 0,
              "ticks": ""
             }
            },
            "type": "parcoords"
           }
          ],
          "pie": [
           {
            "automargin": true,
            "type": "pie"
           }
          ],
          "scatter": [
           {
            "fillpattern": {
             "fillmode": "overlay",
             "size": 10,
             "solidity": 0.2
            },
            "type": "scatter"
           }
          ],
          "scatter3d": [
           {
            "line": {
             "colorbar": {
              "outlinewidth": 0,
              "ticks": ""
             }
            },
            "marker": {
             "colorbar": {
              "outlinewidth": 0,
              "ticks": ""
             }
            },
            "type": "scatter3d"
           }
          ],
          "scattercarpet": [
           {
            "marker": {
             "colorbar": {
              "outlinewidth": 0,
              "ticks": ""
             }
            },
            "type": "scattercarpet"
           }
          ],
          "scattergeo": [
           {
            "marker": {
             "colorbar": {
              "outlinewidth": 0,
              "ticks": ""
             }
            },
            "type": "scattergeo"
           }
          ],
          "scattergl": [
           {
            "marker": {
             "colorbar": {
              "outlinewidth": 0,
              "ticks": ""
             }
            },
            "type": "scattergl"
           }
          ],
          "scattermapbox": [
           {
            "marker": {
             "colorbar": {
              "outlinewidth": 0,
              "ticks": ""
             }
            },
            "type": "scattermapbox"
           }
          ],
          "scatterpolar": [
           {
            "marker": {
             "colorbar": {
              "outlinewidth": 0,
              "ticks": ""
             }
            },
            "type": "scatterpolar"
           }
          ],
          "scatterpolargl": [
           {
            "marker": {
             "colorbar": {
              "outlinewidth": 0,
              "ticks": ""
             }
            },
            "type": "scatterpolargl"
           }
          ],
          "scatterternary": [
           {
            "marker": {
             "colorbar": {
              "outlinewidth": 0,
              "ticks": ""
             }
            },
            "type": "scatterternary"
           }
          ],
          "surface": [
           {
            "colorbar": {
             "outlinewidth": 0,
             "ticks": ""
            },
            "colorscale": [
             [
              0,
              "#0d0887"
             ],
             [
              0.1111111111111111,
              "#46039f"
             ],
             [
              0.2222222222222222,
              "#7201a8"
             ],
             [
              0.3333333333333333,
              "#9c179e"
             ],
             [
              0.4444444444444444,
              "#bd3786"
             ],
             [
              0.5555555555555556,
              "#d8576b"
             ],
             [
              0.6666666666666666,
              "#ed7953"
             ],
             [
              0.7777777777777778,
              "#fb9f3a"
             ],
             [
              0.8888888888888888,
              "#fdca26"
             ],
             [
              1,
              "#f0f921"
             ]
            ],
            "type": "surface"
           }
          ],
          "table": [
           {
            "cells": {
             "fill": {
              "color": "#EBF0F8"
             },
             "line": {
              "color": "white"
             }
            },
            "header": {
             "fill": {
              "color": "#C8D4E3"
             },
             "line": {
              "color": "white"
             }
            },
            "type": "table"
           }
          ]
         },
         "layout": {
          "annotationdefaults": {
           "arrowcolor": "#2a3f5f",
           "arrowhead": 0,
           "arrowwidth": 1
          },
          "autotypenumbers": "strict",
          "coloraxis": {
           "colorbar": {
            "outlinewidth": 0,
            "ticks": ""
           }
          },
          "colorscale": {
           "diverging": [
            [
             0,
             "#8e0152"
            ],
            [
             0.1,
             "#c51b7d"
            ],
            [
             0.2,
             "#de77ae"
            ],
            [
             0.3,
             "#f1b6da"
            ],
            [
             0.4,
             "#fde0ef"
            ],
            [
             0.5,
             "#f7f7f7"
            ],
            [
             0.6,
             "#e6f5d0"
            ],
            [
             0.7,
             "#b8e186"
            ],
            [
             0.8,
             "#7fbc41"
            ],
            [
             0.9,
             "#4d9221"
            ],
            [
             1,
             "#276419"
            ]
           ],
           "sequential": [
            [
             0,
             "#0d0887"
            ],
            [
             0.1111111111111111,
             "#46039f"
            ],
            [
             0.2222222222222222,
             "#7201a8"
            ],
            [
             0.3333333333333333,
             "#9c179e"
            ],
            [
             0.4444444444444444,
             "#bd3786"
            ],
            [
             0.5555555555555556,
             "#d8576b"
            ],
            [
             0.6666666666666666,
             "#ed7953"
            ],
            [
             0.7777777777777778,
             "#fb9f3a"
            ],
            [
             0.8888888888888888,
             "#fdca26"
            ],
            [
             1,
             "#f0f921"
            ]
           ],
           "sequentialminus": [
            [
             0,
             "#0d0887"
            ],
            [
             0.1111111111111111,
             "#46039f"
            ],
            [
             0.2222222222222222,
             "#7201a8"
            ],
            [
             0.3333333333333333,
             "#9c179e"
            ],
            [
             0.4444444444444444,
             "#bd3786"
            ],
            [
             0.5555555555555556,
             "#d8576b"
            ],
            [
             0.6666666666666666,
             "#ed7953"
            ],
            [
             0.7777777777777778,
             "#fb9f3a"
            ],
            [
             0.8888888888888888,
             "#fdca26"
            ],
            [
             1,
             "#f0f921"
            ]
           ]
          },
          "colorway": [
           "#636efa",
           "#EF553B",
           "#00cc96",
           "#ab63fa",
           "#FFA15A",
           "#19d3f3",
           "#FF6692",
           "#B6E880",
           "#FF97FF",
           "#FECB52"
          ],
          "font": {
           "color": "#2a3f5f"
          },
          "geo": {
           "bgcolor": "white",
           "lakecolor": "white",
           "landcolor": "#E5ECF6",
           "showlakes": true,
           "showland": true,
           "subunitcolor": "white"
          },
          "hoverlabel": {
           "align": "left"
          },
          "hovermode": "closest",
          "mapbox": {
           "style": "light"
          },
          "paper_bgcolor": "white",
          "plot_bgcolor": "#E5ECF6",
          "polar": {
           "angularaxis": {
            "gridcolor": "white",
            "linecolor": "white",
            "ticks": ""
           },
           "bgcolor": "#E5ECF6",
           "radialaxis": {
            "gridcolor": "white",
            "linecolor": "white",
            "ticks": ""
           }
          },
          "scene": {
           "xaxis": {
            "backgroundcolor": "#E5ECF6",
            "gridcolor": "white",
            "gridwidth": 2,
            "linecolor": "white",
            "showbackground": true,
            "ticks": "",
            "zerolinecolor": "white"
           },
           "yaxis": {
            "backgroundcolor": "#E5ECF6",
            "gridcolor": "white",
            "gridwidth": 2,
            "linecolor": "white",
            "showbackground": true,
            "ticks": "",
            "zerolinecolor": "white"
           },
           "zaxis": {
            "backgroundcolor": "#E5ECF6",
            "gridcolor": "white",
            "gridwidth": 2,
            "linecolor": "white",
            "showbackground": true,
            "ticks": "",
            "zerolinecolor": "white"
           }
          },
          "shapedefaults": {
           "line": {
            "color": "#2a3f5f"
           }
          },
          "ternary": {
           "aaxis": {
            "gridcolor": "white",
            "linecolor": "white",
            "ticks": ""
           },
           "baxis": {
            "gridcolor": "white",
            "linecolor": "white",
            "ticks": ""
           },
           "bgcolor": "#E5ECF6",
           "caxis": {
            "gridcolor": "white",
            "linecolor": "white",
            "ticks": ""
           }
          },
          "title": {
           "x": 0.05
          },
          "xaxis": {
           "automargin": true,
           "gridcolor": "white",
           "linecolor": "white",
           "ticks": "",
           "title": {
            "standoff": 15
           },
           "zerolinecolor": "white",
           "zerolinewidth": 2
          },
          "yaxis": {
           "automargin": true,
           "gridcolor": "white",
           "linecolor": "white",
           "ticks": "",
           "title": {
            "standoff": 15
           },
           "zerolinecolor": "white",
           "zerolinewidth": 2
          }
         }
        },
        "title": {
         "text": "Pontos de Entrega"
        },
        "width": 1200,
        "xaxis": {
         "range": [
          -10,
          100
         ],
         "scaleratio": 1,
         "title": {
          "text": "Coordenada X"
         }
        },
        "yaxis": {
         "range": [
          0,
          80
         ],
         "scaleanchor": "x",
         "scaleratio": 1,
         "title": {
          "text": "Coordenada Y"
         }
        }
       }
      }
     },
     "metadata": {},
     "output_type": "display_data"
    },
    {
     "name": "stdout",
     "output_type": "stream",
     "text": [
      "Matriz de Distâncias:\n"
     ]
    },
    {
     "data": {
      "text/html": [
       "<div>\n",
       "<style scoped>\n",
       "    .dataframe tbody tr th:only-of-type {\n",
       "        vertical-align: middle;\n",
       "    }\n",
       "\n",
       "    .dataframe tbody tr th {\n",
       "        vertical-align: top;\n",
       "    }\n",
       "\n",
       "    .dataframe thead th {\n",
       "        text-align: right;\n",
       "    }\n",
       "</style>\n",
       "<table border=\"1\" class=\"dataframe\">\n",
       "  <thead>\n",
       "    <tr style=\"text-align: right;\">\n",
       "      <th></th>\n",
       "      <th>0</th>\n",
       "      <th>1</th>\n",
       "      <th>2</th>\n",
       "      <th>3</th>\n",
       "      <th>4</th>\n",
       "      <th>5</th>\n",
       "      <th>6</th>\n",
       "      <th>7</th>\n",
       "      <th>8</th>\n",
       "      <th>9</th>\n",
       "      <th>...</th>\n",
       "      <th>21</th>\n",
       "      <th>22</th>\n",
       "      <th>23</th>\n",
       "      <th>24</th>\n",
       "      <th>25</th>\n",
       "      <th>26</th>\n",
       "      <th>27</th>\n",
       "      <th>28</th>\n",
       "      <th>29</th>\n",
       "      <th>30</th>\n",
       "    </tr>\n",
       "  </thead>\n",
       "  <tbody>\n",
       "    <tr>\n",
       "      <th>0</th>\n",
       "      <td>0.00</td>\n",
       "      <td>70.35</td>\n",
       "      <td>91.92</td>\n",
       "      <td>57.08</td>\n",
       "      <td>44.10</td>\n",
       "      <td>45.31</td>\n",
       "      <td>54.01</td>\n",
       "      <td>50.09</td>\n",
       "      <td>48.26</td>\n",
       "      <td>53.00</td>\n",
       "      <td>...</td>\n",
       "      <td>37.95</td>\n",
       "      <td>50.00</td>\n",
       "      <td>50.16</td>\n",
       "      <td>68.88</td>\n",
       "      <td>44.01</td>\n",
       "      <td>49.03</td>\n",
       "      <td>94.02</td>\n",
       "      <td>48.84</td>\n",
       "      <td>47.00</td>\n",
       "      <td>50.09</td>\n",
       "    </tr>\n",
       "    <tr>\n",
       "      <th>1</th>\n",
       "      <td>70.35</td>\n",
       "      <td>0.00</td>\n",
       "      <td>75.58</td>\n",
       "      <td>16.40</td>\n",
       "      <td>27.86</td>\n",
       "      <td>36.88</td>\n",
       "      <td>17.89</td>\n",
       "      <td>20.40</td>\n",
       "      <td>22.09</td>\n",
       "      <td>18.38</td>\n",
       "      <td>...</td>\n",
       "      <td>38.95</td>\n",
       "      <td>21.19</td>\n",
       "      <td>20.22</td>\n",
       "      <td>4.47</td>\n",
       "      <td>37.01</td>\n",
       "      <td>22.20</td>\n",
       "      <td>78.75</td>\n",
       "      <td>22.09</td>\n",
       "      <td>24.04</td>\n",
       "      <td>20.40</td>\n",
       "    </tr>\n",
       "    <tr>\n",
       "      <th>2</th>\n",
       "      <td>91.92</td>\n",
       "      <td>75.58</td>\n",
       "      <td>0.00</td>\n",
       "      <td>82.61</td>\n",
       "      <td>82.05</td>\n",
       "      <td>96.13</td>\n",
       "      <td>80.31</td>\n",
       "      <td>76.06</td>\n",
       "      <td>74.01</td>\n",
       "      <td>79.23</td>\n",
       "      <td>...</td>\n",
       "      <td>91.66</td>\n",
       "      <td>79.06</td>\n",
       "      <td>75.06</td>\n",
       "      <td>71.17</td>\n",
       "      <td>95.19</td>\n",
       "      <td>69.01</td>\n",
       "      <td>3.16</td>\n",
       "      <td>70.01</td>\n",
       "      <td>79.00</td>\n",
       "      <td>76.06</td>\n",
       "    </tr>\n",
       "    <tr>\n",
       "      <th>3</th>\n",
       "      <td>57.08</td>\n",
       "      <td>16.40</td>\n",
       "      <td>82.61</td>\n",
       "      <td>0.00</td>\n",
       "      <td>13.00</td>\n",
       "      <td>20.52</td>\n",
       "      <td>3.61</td>\n",
       "      <td>9.22</td>\n",
       "      <td>12.04</td>\n",
       "      <td>5.00</td>\n",
       "      <td>...</td>\n",
       "      <td>22.85</td>\n",
       "      <td>7.62</td>\n",
       "      <td>9.90</td>\n",
       "      <td>17.80</td>\n",
       "      <td>20.62</td>\n",
       "      <td>15.81</td>\n",
       "      <td>85.71</td>\n",
       "      <td>15.00</td>\n",
       "      <td>10.44</td>\n",
       "      <td>9.22</td>\n",
       "    </tr>\n",
       "    <tr>\n",
       "      <th>4</th>\n",
       "      <td>44.10</td>\n",
       "      <td>27.86</td>\n",
       "      <td>82.05</td>\n",
       "      <td>13.00</td>\n",
       "      <td>0.00</td>\n",
       "      <td>14.14</td>\n",
       "      <td>10.20</td>\n",
       "      <td>8.49</td>\n",
       "      <td>8.94</td>\n",
       "      <td>9.49</td>\n",
       "      <td>...</td>\n",
       "      <td>12.04</td>\n",
       "      <td>6.71</td>\n",
       "      <td>9.22</td>\n",
       "      <td>27.78</td>\n",
       "      <td>13.34</td>\n",
       "      <td>13.60</td>\n",
       "      <td>85.02</td>\n",
       "      <td>12.65</td>\n",
       "      <td>4.24</td>\n",
       "      <td>8.49</td>\n",
       "    </tr>\n",
       "    <tr>\n",
       "      <th>5</th>\n",
       "      <td>45.31</td>\n",
       "      <td>36.88</td>\n",
       "      <td>96.13</td>\n",
       "      <td>20.52</td>\n",
       "      <td>14.14</td>\n",
       "      <td>0.00</td>\n",
       "      <td>20.00</td>\n",
       "      <td>21.54</td>\n",
       "      <td>22.80</td>\n",
       "      <td>20.25</td>\n",
       "      <td>...</td>\n",
       "      <td>7.81</td>\n",
       "      <td>18.79</td>\n",
       "      <td>22.47</td>\n",
       "      <td>38.21</td>\n",
       "      <td>1.41</td>\n",
       "      <td>27.66</td>\n",
       "      <td>99.08</td>\n",
       "      <td>26.68</td>\n",
       "      <td>17.72</td>\n",
       "      <td>21.54</td>\n",
       "    </tr>\n",
       "    <tr>\n",
       "      <th>6</th>\n",
       "      <td>54.01</td>\n",
       "      <td>17.89</td>\n",
       "      <td>80.31</td>\n",
       "      <td>3.61</td>\n",
       "      <td>10.20</td>\n",
       "      <td>20.00</td>\n",
       "      <td>0.00</td>\n",
       "      <td>5.66</td>\n",
       "      <td>8.49</td>\n",
       "      <td>1.41</td>\n",
       "      <td>...</td>\n",
       "      <td>21.10</td>\n",
       "      <td>4.12</td>\n",
       "      <td>6.40</td>\n",
       "      <td>18.44</td>\n",
       "      <td>19.85</td>\n",
       "      <td>12.53</td>\n",
       "      <td>83.38</td>\n",
       "      <td>11.66</td>\n",
       "      <td>7.07</td>\n",
       "      <td>5.66</td>\n",
       "    </tr>\n",
       "    <tr>\n",
       "      <th>7</th>\n",
       "      <td>50.09</td>\n",
       "      <td>20.40</td>\n",
       "      <td>76.06</td>\n",
       "      <td>9.22</td>\n",
       "      <td>8.49</td>\n",
       "      <td>21.54</td>\n",
       "      <td>5.66</td>\n",
       "      <td>0.00</td>\n",
       "      <td>2.83</td>\n",
       "      <td>4.24</td>\n",
       "      <td>...</td>\n",
       "      <td>20.52</td>\n",
       "      <td>3.00</td>\n",
       "      <td>1.00</td>\n",
       "      <td>19.70</td>\n",
       "      <td>21.02</td>\n",
       "      <td>7.28</td>\n",
       "      <td>79.10</td>\n",
       "      <td>6.32</td>\n",
       "      <td>4.24</td>\n",
       "      <td>0.00</td>\n",
       "    </tr>\n",
       "    <tr>\n",
       "      <th>8</th>\n",
       "      <td>48.26</td>\n",
       "      <td>22.09</td>\n",
       "      <td>74.01</td>\n",
       "      <td>12.04</td>\n",
       "      <td>8.94</td>\n",
       "      <td>22.80</td>\n",
       "      <td>8.49</td>\n",
       "      <td>2.83</td>\n",
       "      <td>0.00</td>\n",
       "      <td>7.07</td>\n",
       "      <td>...</td>\n",
       "      <td>20.81</td>\n",
       "      <td>5.39</td>\n",
       "      <td>2.24</td>\n",
       "      <td>20.88</td>\n",
       "      <td>22.14</td>\n",
       "      <td>5.00</td>\n",
       "      <td>77.03</td>\n",
       "      <td>4.00</td>\n",
       "      <td>5.10</td>\n",
       "      <td>2.83</td>\n",
       "    </tr>\n",
       "    <tr>\n",
       "      <th>9</th>\n",
       "      <td>53.00</td>\n",
       "      <td>18.38</td>\n",
       "      <td>79.23</td>\n",
       "      <td>5.00</td>\n",
       "      <td>9.49</td>\n",
       "      <td>20.25</td>\n",
       "      <td>1.41</td>\n",
       "      <td>4.24</td>\n",
       "      <td>7.07</td>\n",
       "      <td>0.00</td>\n",
       "      <td>...</td>\n",
       "      <td>20.81</td>\n",
       "      <td>3.00</td>\n",
       "      <td>5.00</td>\n",
       "      <td>18.60</td>\n",
       "      <td>20.00</td>\n",
       "      <td>11.18</td>\n",
       "      <td>82.30</td>\n",
       "      <td>10.30</td>\n",
       "      <td>6.00</td>\n",
       "      <td>4.24</td>\n",
       "    </tr>\n",
       "    <tr>\n",
       "      <th>10</th>\n",
       "      <td>93.15</td>\n",
       "      <td>77.79</td>\n",
       "      <td>2.24</td>\n",
       "      <td>84.72</td>\n",
       "      <td>84.02</td>\n",
       "      <td>98.08</td>\n",
       "      <td>82.39</td>\n",
       "      <td>78.10</td>\n",
       "      <td>76.03</td>\n",
       "      <td>81.30</td>\n",
       "      <td>...</td>\n",
       "      <td>93.54</td>\n",
       "      <td>81.10</td>\n",
       "      <td>77.10</td>\n",
       "      <td>73.38</td>\n",
       "      <td>97.13</td>\n",
       "      <td>71.03</td>\n",
       "      <td>1.00</td>\n",
       "      <td>72.03</td>\n",
       "      <td>81.01</td>\n",
       "      <td>78.10</td>\n",
       "    </tr>\n",
       "    <tr>\n",
       "      <th>11</th>\n",
       "      <td>69.23</td>\n",
       "      <td>6.32</td>\n",
       "      <td>69.26</td>\n",
       "      <td>19.42</td>\n",
       "      <td>28.84</td>\n",
       "      <td>39.70</td>\n",
       "      <td>19.80</td>\n",
       "      <td>20.59</td>\n",
       "      <td>21.54</td>\n",
       "      <td>19.85</td>\n",
       "      <td>...</td>\n",
       "      <td>40.61</td>\n",
       "      <td>22.20</td>\n",
       "      <td>20.12</td>\n",
       "      <td>2.00</td>\n",
       "      <td>39.62</td>\n",
       "      <td>20.22</td>\n",
       "      <td>72.42</td>\n",
       "      <td>20.40</td>\n",
       "      <td>24.70</td>\n",
       "      <td>20.59</td>\n",
       "    </tr>\n",
       "    <tr>\n",
       "      <th>12</th>\n",
       "      <td>49.37</td>\n",
       "      <td>21.02</td>\n",
       "      <td>73.03</td>\n",
       "      <td>12.04</td>\n",
       "      <td>10.30</td>\n",
       "      <td>24.04</td>\n",
       "      <td>8.60</td>\n",
       "      <td>3.16</td>\n",
       "      <td>1.41</td>\n",
       "      <td>7.21</td>\n",
       "      <td>...</td>\n",
       "      <td>22.20</td>\n",
       "      <td>6.08</td>\n",
       "      <td>2.24</td>\n",
       "      <td>19.65</td>\n",
       "      <td>23.41</td>\n",
       "      <td>4.12</td>\n",
       "      <td>76.06</td>\n",
       "      <td>3.16</td>\n",
       "      <td>6.32</td>\n",
       "      <td>3.16</td>\n",
       "    </tr>\n",
       "    <tr>\n",
       "      <th>13</th>\n",
       "      <td>53.04</td>\n",
       "      <td>17.72</td>\n",
       "      <td>77.23</td>\n",
       "      <td>6.40</td>\n",
       "      <td>10.30</td>\n",
       "      <td>21.95</td>\n",
       "      <td>3.16</td>\n",
       "      <td>3.16</td>\n",
       "      <td>5.83</td>\n",
       "      <td>2.00</td>\n",
       "      <td>...</td>\n",
       "      <td>22.02</td>\n",
       "      <td>3.61</td>\n",
       "      <td>3.61</td>\n",
       "      <td>17.49</td>\n",
       "      <td>21.63</td>\n",
       "      <td>9.43</td>\n",
       "      <td>80.31</td>\n",
       "      <td>8.60</td>\n",
       "      <td>6.32</td>\n",
       "      <td>3.16</td>\n",
       "    </tr>\n",
       "    <tr>\n",
       "      <th>14</th>\n",
       "      <td>71.06</td>\n",
       "      <td>10.05</td>\n",
       "      <td>65.79</td>\n",
       "      <td>23.32</td>\n",
       "      <td>32.02</td>\n",
       "      <td>43.42</td>\n",
       "      <td>23.43</td>\n",
       "      <td>23.60</td>\n",
       "      <td>24.19</td>\n",
       "      <td>23.35</td>\n",
       "      <td>...</td>\n",
       "      <td>43.93</td>\n",
       "      <td>25.50</td>\n",
       "      <td>23.02</td>\n",
       "      <td>6.08</td>\n",
       "      <td>43.28</td>\n",
       "      <td>22.14</td>\n",
       "      <td>68.95</td>\n",
       "      <td>22.47</td>\n",
       "      <td>27.80</td>\n",
       "      <td>23.60</td>\n",
       "    </tr>\n",
       "    <tr>\n",
       "      <th>15</th>\n",
       "      <td>70.41</td>\n",
       "      <td>7.07</td>\n",
       "      <td>68.62</td>\n",
       "      <td>20.81</td>\n",
       "      <td>30.23</td>\n",
       "      <td>41.11</td>\n",
       "      <td>21.21</td>\n",
       "      <td>21.95</td>\n",
       "      <td>22.85</td>\n",
       "      <td>21.26</td>\n",
       "      <td>...</td>\n",
       "      <td>42.01</td>\n",
       "      <td>23.60</td>\n",
       "      <td>21.47</td>\n",
       "      <td>3.16</td>\n",
       "      <td>41.04</td>\n",
       "      <td>21.38</td>\n",
       "      <td>71.78</td>\n",
       "      <td>21.59</td>\n",
       "      <td>26.08</td>\n",
       "      <td>21.95</td>\n",
       "    </tr>\n",
       "    <tr>\n",
       "      <th>16</th>\n",
       "      <td>42.54</td>\n",
       "      <td>39.20</td>\n",
       "      <td>96.33</td>\n",
       "      <td>22.80</td>\n",
       "      <td>14.87</td>\n",
       "      <td>3.00</td>\n",
       "      <td>21.93</td>\n",
       "      <td>22.83</td>\n",
       "      <td>23.77</td>\n",
       "      <td>22.02</td>\n",
       "      <td>...</td>\n",
       "      <td>5.83</td>\n",
       "      <td>20.25</td>\n",
       "      <td>23.71</td>\n",
       "      <td>40.31</td>\n",
       "      <td>2.24</td>\n",
       "      <td>28.46</td>\n",
       "      <td>99.25</td>\n",
       "      <td>27.51</td>\n",
       "      <td>18.79</td>\n",
       "      <td>22.83</td>\n",
       "    </tr>\n",
       "    <tr>\n",
       "      <th>17</th>\n",
       "      <td>53.04</td>\n",
       "      <td>17.72</td>\n",
       "      <td>77.23</td>\n",
       "      <td>6.40</td>\n",
       "      <td>10.30</td>\n",
       "      <td>21.95</td>\n",
       "      <td>3.16</td>\n",
       "      <td>3.16</td>\n",
       "      <td>5.83</td>\n",
       "      <td>2.00</td>\n",
       "      <td>...</td>\n",
       "      <td>22.02</td>\n",
       "      <td>3.61</td>\n",
       "      <td>3.61</td>\n",
       "      <td>17.49</td>\n",
       "      <td>21.63</td>\n",
       "      <td>9.43</td>\n",
       "      <td>80.31</td>\n",
       "      <td>8.60</td>\n",
       "      <td>6.32</td>\n",
       "      <td>3.16</td>\n",
       "    </tr>\n",
       "    <tr>\n",
       "      <th>18</th>\n",
       "      <td>43.46</td>\n",
       "      <td>38.42</td>\n",
       "      <td>96.25</td>\n",
       "      <td>22.02</td>\n",
       "      <td>14.56</td>\n",
       "      <td>2.00</td>\n",
       "      <td>21.26</td>\n",
       "      <td>22.36</td>\n",
       "      <td>23.41</td>\n",
       "      <td>21.40</td>\n",
       "      <td>...</td>\n",
       "      <td>6.40</td>\n",
       "      <td>19.72</td>\n",
       "      <td>23.26</td>\n",
       "      <td>39.60</td>\n",
       "      <td>1.41</td>\n",
       "      <td>28.16</td>\n",
       "      <td>99.18</td>\n",
       "      <td>27.20</td>\n",
       "      <td>18.38</td>\n",
       "      <td>22.36</td>\n",
       "    </tr>\n",
       "    <tr>\n",
       "      <th>19</th>\n",
       "      <td>69.58</td>\n",
       "      <td>2.24</td>\n",
       "      <td>73.38</td>\n",
       "      <td>16.97</td>\n",
       "      <td>27.73</td>\n",
       "      <td>37.48</td>\n",
       "      <td>18.03</td>\n",
       "      <td>19.92</td>\n",
       "      <td>21.38</td>\n",
       "      <td>18.36</td>\n",
       "      <td>...</td>\n",
       "      <td>39.12</td>\n",
       "      <td>21.02</td>\n",
       "      <td>19.65</td>\n",
       "      <td>2.24</td>\n",
       "      <td>37.54</td>\n",
       "      <td>21.02</td>\n",
       "      <td>76.54</td>\n",
       "      <td>21.00</td>\n",
       "      <td>23.77</td>\n",
       "      <td>19.92</td>\n",
       "    </tr>\n",
       "    <tr>\n",
       "      <th>20</th>\n",
       "      <td>92.18</td>\n",
       "      <td>78.43</td>\n",
       "      <td>3.61</td>\n",
       "      <td>85.00</td>\n",
       "      <td>84.00</td>\n",
       "      <td>98.02</td>\n",
       "      <td>82.61</td>\n",
       "      <td>78.23</td>\n",
       "      <td>76.11</td>\n",
       "      <td>81.50</td>\n",
       "      <td>...</td>\n",
       "      <td>93.34</td>\n",
       "      <td>81.22</td>\n",
       "      <td>77.23</td>\n",
       "      <td>74.00</td>\n",
       "      <td>97.05</td>\n",
       "      <td>71.11</td>\n",
       "      <td>2.24</td>\n",
       "      <td>72.11</td>\n",
       "      <td>81.06</td>\n",
       "      <td>78.23</td>\n",
       "    </tr>\n",
       "    <tr>\n",
       "      <th>21</th>\n",
       "      <td>37.95</td>\n",
       "      <td>38.95</td>\n",
       "      <td>91.66</td>\n",
       "      <td>22.85</td>\n",
       "      <td>12.04</td>\n",
       "      <td>7.81</td>\n",
       "      <td>21.10</td>\n",
       "      <td>20.52</td>\n",
       "      <td>20.81</td>\n",
       "      <td>20.81</td>\n",
       "      <td>...</td>\n",
       "      <td>0.00</td>\n",
       "      <td>18.44</td>\n",
       "      <td>21.26</td>\n",
       "      <td>39.41</td>\n",
       "      <td>6.40</td>\n",
       "      <td>25.06</td>\n",
       "      <td>94.53</td>\n",
       "      <td>24.19</td>\n",
       "      <td>16.28</td>\n",
       "      <td>20.52</td>\n",
       "    </tr>\n",
       "    <tr>\n",
       "      <th>22</th>\n",
       "      <td>50.00</td>\n",
       "      <td>21.19</td>\n",
       "      <td>79.06</td>\n",
       "      <td>7.62</td>\n",
       "      <td>6.71</td>\n",
       "      <td>18.79</td>\n",
       "      <td>4.12</td>\n",
       "      <td>3.00</td>\n",
       "      <td>5.39</td>\n",
       "      <td>3.00</td>\n",
       "      <td>...</td>\n",
       "      <td>18.44</td>\n",
       "      <td>0.00</td>\n",
       "      <td>4.00</td>\n",
       "      <td>21.10</td>\n",
       "      <td>18.36</td>\n",
       "      <td>10.20</td>\n",
       "      <td>82.10</td>\n",
       "      <td>9.22</td>\n",
       "      <td>3.00</td>\n",
       "      <td>3.00</td>\n",
       "    </tr>\n",
       "    <tr>\n",
       "      <th>23</th>\n",
       "      <td>50.16</td>\n",
       "      <td>20.22</td>\n",
       "      <td>75.06</td>\n",
       "      <td>9.90</td>\n",
       "      <td>9.22</td>\n",
       "      <td>22.47</td>\n",
       "      <td>6.40</td>\n",
       "      <td>1.00</td>\n",
       "      <td>2.24</td>\n",
       "      <td>5.00</td>\n",
       "      <td>...</td>\n",
       "      <td>21.26</td>\n",
       "      <td>4.00</td>\n",
       "      <td>0.00</td>\n",
       "      <td>19.31</td>\n",
       "      <td>21.93</td>\n",
       "      <td>6.32</td>\n",
       "      <td>78.10</td>\n",
       "      <td>5.39</td>\n",
       "      <td>5.00</td>\n",
       "      <td>1.00</td>\n",
       "    </tr>\n",
       "    <tr>\n",
       "      <th>24</th>\n",
       "      <td>68.88</td>\n",
       "      <td>4.47</td>\n",
       "      <td>71.17</td>\n",
       "      <td>17.80</td>\n",
       "      <td>27.78</td>\n",
       "      <td>38.21</td>\n",
       "      <td>18.44</td>\n",
       "      <td>19.70</td>\n",
       "      <td>20.88</td>\n",
       "      <td>18.60</td>\n",
       "      <td>...</td>\n",
       "      <td>39.41</td>\n",
       "      <td>21.10</td>\n",
       "      <td>19.31</td>\n",
       "      <td>0.00</td>\n",
       "      <td>38.18</td>\n",
       "      <td>20.02</td>\n",
       "      <td>74.33</td>\n",
       "      <td>20.10</td>\n",
       "      <td>23.71</td>\n",
       "      <td>19.70</td>\n",
       "    </tr>\n",
       "    <tr>\n",
       "      <th>25</th>\n",
       "      <td>44.01</td>\n",
       "      <td>37.01</td>\n",
       "      <td>95.19</td>\n",
       "      <td>20.62</td>\n",
       "      <td>13.34</td>\n",
       "      <td>1.41</td>\n",
       "      <td>19.85</td>\n",
       "      <td>21.02</td>\n",
       "      <td>22.14</td>\n",
       "      <td>20.00</td>\n",
       "      <td>...</td>\n",
       "      <td>6.40</td>\n",
       "      <td>18.36</td>\n",
       "      <td>21.93</td>\n",
       "      <td>38.18</td>\n",
       "      <td>0.00</td>\n",
       "      <td>26.93</td>\n",
       "      <td>98.13</td>\n",
       "      <td>25.96</td>\n",
       "      <td>17.09</td>\n",
       "      <td>21.02</td>\n",
       "    </tr>\n",
       "    <tr>\n",
       "      <th>26</th>\n",
       "      <td>49.03</td>\n",
       "      <td>22.20</td>\n",
       "      <td>69.01</td>\n",
       "      <td>15.81</td>\n",
       "      <td>13.60</td>\n",
       "      <td>27.66</td>\n",
       "      <td>12.53</td>\n",
       "      <td>7.28</td>\n",
       "      <td>5.00</td>\n",
       "      <td>11.18</td>\n",
       "      <td>...</td>\n",
       "      <td>25.06</td>\n",
       "      <td>10.20</td>\n",
       "      <td>6.32</td>\n",
       "      <td>20.02</td>\n",
       "      <td>26.93</td>\n",
       "      <td>0.00</td>\n",
       "      <td>72.03</td>\n",
       "      <td>1.00</td>\n",
       "      <td>10.05</td>\n",
       "      <td>7.28</td>\n",
       "    </tr>\n",
       "    <tr>\n",
       "      <th>27</th>\n",
       "      <td>94.02</td>\n",
       "      <td>78.75</td>\n",
       "      <td>3.16</td>\n",
       "      <td>85.71</td>\n",
       "      <td>85.02</td>\n",
       "      <td>99.08</td>\n",
       "      <td>83.38</td>\n",
       "      <td>79.10</td>\n",
       "      <td>77.03</td>\n",
       "      <td>82.30</td>\n",
       "      <td>...</td>\n",
       "      <td>94.53</td>\n",
       "      <td>82.10</td>\n",
       "      <td>78.10</td>\n",
       "      <td>74.33</td>\n",
       "      <td>98.13</td>\n",
       "      <td>72.03</td>\n",
       "      <td>0.00</td>\n",
       "      <td>73.03</td>\n",
       "      <td>82.01</td>\n",
       "      <td>79.10</td>\n",
       "    </tr>\n",
       "    <tr>\n",
       "      <th>28</th>\n",
       "      <td>48.84</td>\n",
       "      <td>22.09</td>\n",
       "      <td>70.01</td>\n",
       "      <td>15.00</td>\n",
       "      <td>12.65</td>\n",
       "      <td>26.68</td>\n",
       "      <td>11.66</td>\n",
       "      <td>6.32</td>\n",
       "      <td>4.00</td>\n",
       "      <td>10.30</td>\n",
       "      <td>...</td>\n",
       "      <td>24.19</td>\n",
       "      <td>9.22</td>\n",
       "      <td>5.39</td>\n",
       "      <td>20.10</td>\n",
       "      <td>25.96</td>\n",
       "      <td>1.00</td>\n",
       "      <td>73.03</td>\n",
       "      <td>0.00</td>\n",
       "      <td>9.06</td>\n",
       "      <td>6.32</td>\n",
       "    </tr>\n",
       "    <tr>\n",
       "      <th>29</th>\n",
       "      <td>47.00</td>\n",
       "      <td>24.04</td>\n",
       "      <td>79.00</td>\n",
       "      <td>10.44</td>\n",
       "      <td>4.24</td>\n",
       "      <td>17.72</td>\n",
       "      <td>7.07</td>\n",
       "      <td>4.24</td>\n",
       "      <td>5.10</td>\n",
       "      <td>6.00</td>\n",
       "      <td>...</td>\n",
       "      <td>16.28</td>\n",
       "      <td>3.00</td>\n",
       "      <td>5.00</td>\n",
       "      <td>23.71</td>\n",
       "      <td>17.09</td>\n",
       "      <td>10.05</td>\n",
       "      <td>82.01</td>\n",
       "      <td>9.06</td>\n",
       "      <td>0.00</td>\n",
       "      <td>4.24</td>\n",
       "    </tr>\n",
       "    <tr>\n",
       "      <th>30</th>\n",
       "      <td>50.09</td>\n",
       "      <td>20.40</td>\n",
       "      <td>76.06</td>\n",
       "      <td>9.22</td>\n",
       "      <td>8.49</td>\n",
       "      <td>21.54</td>\n",
       "      <td>5.66</td>\n",
       "      <td>0.00</td>\n",
       "      <td>2.83</td>\n",
       "      <td>4.24</td>\n",
       "      <td>...</td>\n",
       "      <td>20.52</td>\n",
       "      <td>3.00</td>\n",
       "      <td>1.00</td>\n",
       "      <td>19.70</td>\n",
       "      <td>21.02</td>\n",
       "      <td>7.28</td>\n",
       "      <td>79.10</td>\n",
       "      <td>6.32</td>\n",
       "      <td>4.24</td>\n",
       "      <td>0.00</td>\n",
       "    </tr>\n",
       "  </tbody>\n",
       "</table>\n",
       "<p>31 rows × 31 columns</p>\n",
       "</div>"
      ],
      "text/plain": [
       "       0      1      2      3      4      5      6      7      8      9   ...  \\\n",
       "0    0.00  70.35  91.92  57.08  44.10  45.31  54.01  50.09  48.26  53.00  ...   \n",
       "1   70.35   0.00  75.58  16.40  27.86  36.88  17.89  20.40  22.09  18.38  ...   \n",
       "2   91.92  75.58   0.00  82.61  82.05  96.13  80.31  76.06  74.01  79.23  ...   \n",
       "3   57.08  16.40  82.61   0.00  13.00  20.52   3.61   9.22  12.04   5.00  ...   \n",
       "4   44.10  27.86  82.05  13.00   0.00  14.14  10.20   8.49   8.94   9.49  ...   \n",
       "5   45.31  36.88  96.13  20.52  14.14   0.00  20.00  21.54  22.80  20.25  ...   \n",
       "6   54.01  17.89  80.31   3.61  10.20  20.00   0.00   5.66   8.49   1.41  ...   \n",
       "7   50.09  20.40  76.06   9.22   8.49  21.54   5.66   0.00   2.83   4.24  ...   \n",
       "8   48.26  22.09  74.01  12.04   8.94  22.80   8.49   2.83   0.00   7.07  ...   \n",
       "9   53.00  18.38  79.23   5.00   9.49  20.25   1.41   4.24   7.07   0.00  ...   \n",
       "10  93.15  77.79   2.24  84.72  84.02  98.08  82.39  78.10  76.03  81.30  ...   \n",
       "11  69.23   6.32  69.26  19.42  28.84  39.70  19.80  20.59  21.54  19.85  ...   \n",
       "12  49.37  21.02  73.03  12.04  10.30  24.04   8.60   3.16   1.41   7.21  ...   \n",
       "13  53.04  17.72  77.23   6.40  10.30  21.95   3.16   3.16   5.83   2.00  ...   \n",
       "14  71.06  10.05  65.79  23.32  32.02  43.42  23.43  23.60  24.19  23.35  ...   \n",
       "15  70.41   7.07  68.62  20.81  30.23  41.11  21.21  21.95  22.85  21.26  ...   \n",
       "16  42.54  39.20  96.33  22.80  14.87   3.00  21.93  22.83  23.77  22.02  ...   \n",
       "17  53.04  17.72  77.23   6.40  10.30  21.95   3.16   3.16   5.83   2.00  ...   \n",
       "18  43.46  38.42  96.25  22.02  14.56   2.00  21.26  22.36  23.41  21.40  ...   \n",
       "19  69.58   2.24  73.38  16.97  27.73  37.48  18.03  19.92  21.38  18.36  ...   \n",
       "20  92.18  78.43   3.61  85.00  84.00  98.02  82.61  78.23  76.11  81.50  ...   \n",
       "21  37.95  38.95  91.66  22.85  12.04   7.81  21.10  20.52  20.81  20.81  ...   \n",
       "22  50.00  21.19  79.06   7.62   6.71  18.79   4.12   3.00   5.39   3.00  ...   \n",
       "23  50.16  20.22  75.06   9.90   9.22  22.47   6.40   1.00   2.24   5.00  ...   \n",
       "24  68.88   4.47  71.17  17.80  27.78  38.21  18.44  19.70  20.88  18.60  ...   \n",
       "25  44.01  37.01  95.19  20.62  13.34   1.41  19.85  21.02  22.14  20.00  ...   \n",
       "26  49.03  22.20  69.01  15.81  13.60  27.66  12.53   7.28   5.00  11.18  ...   \n",
       "27  94.02  78.75   3.16  85.71  85.02  99.08  83.38  79.10  77.03  82.30  ...   \n",
       "28  48.84  22.09  70.01  15.00  12.65  26.68  11.66   6.32   4.00  10.30  ...   \n",
       "29  47.00  24.04  79.00  10.44   4.24  17.72   7.07   4.24   5.10   6.00  ...   \n",
       "30  50.09  20.40  76.06   9.22   8.49  21.54   5.66   0.00   2.83   4.24  ...   \n",
       "\n",
       "       21     22     23     24     25     26     27     28     29     30  \n",
       "0   37.95  50.00  50.16  68.88  44.01  49.03  94.02  48.84  47.00  50.09  \n",
       "1   38.95  21.19  20.22   4.47  37.01  22.20  78.75  22.09  24.04  20.40  \n",
       "2   91.66  79.06  75.06  71.17  95.19  69.01   3.16  70.01  79.00  76.06  \n",
       "3   22.85   7.62   9.90  17.80  20.62  15.81  85.71  15.00  10.44   9.22  \n",
       "4   12.04   6.71   9.22  27.78  13.34  13.60  85.02  12.65   4.24   8.49  \n",
       "5    7.81  18.79  22.47  38.21   1.41  27.66  99.08  26.68  17.72  21.54  \n",
       "6   21.10   4.12   6.40  18.44  19.85  12.53  83.38  11.66   7.07   5.66  \n",
       "7   20.52   3.00   1.00  19.70  21.02   7.28  79.10   6.32   4.24   0.00  \n",
       "8   20.81   5.39   2.24  20.88  22.14   5.00  77.03   4.00   5.10   2.83  \n",
       "9   20.81   3.00   5.00  18.60  20.00  11.18  82.30  10.30   6.00   4.24  \n",
       "10  93.54  81.10  77.10  73.38  97.13  71.03   1.00  72.03  81.01  78.10  \n",
       "11  40.61  22.20  20.12   2.00  39.62  20.22  72.42  20.40  24.70  20.59  \n",
       "12  22.20   6.08   2.24  19.65  23.41   4.12  76.06   3.16   6.32   3.16  \n",
       "13  22.02   3.61   3.61  17.49  21.63   9.43  80.31   8.60   6.32   3.16  \n",
       "14  43.93  25.50  23.02   6.08  43.28  22.14  68.95  22.47  27.80  23.60  \n",
       "15  42.01  23.60  21.47   3.16  41.04  21.38  71.78  21.59  26.08  21.95  \n",
       "16   5.83  20.25  23.71  40.31   2.24  28.46  99.25  27.51  18.79  22.83  \n",
       "17  22.02   3.61   3.61  17.49  21.63   9.43  80.31   8.60   6.32   3.16  \n",
       "18   6.40  19.72  23.26  39.60   1.41  28.16  99.18  27.20  18.38  22.36  \n",
       "19  39.12  21.02  19.65   2.24  37.54  21.02  76.54  21.00  23.77  19.92  \n",
       "20  93.34  81.22  77.23  74.00  97.05  71.11   2.24  72.11  81.06  78.23  \n",
       "21   0.00  18.44  21.26  39.41   6.40  25.06  94.53  24.19  16.28  20.52  \n",
       "22  18.44   0.00   4.00  21.10  18.36  10.20  82.10   9.22   3.00   3.00  \n",
       "23  21.26   4.00   0.00  19.31  21.93   6.32  78.10   5.39   5.00   1.00  \n",
       "24  39.41  21.10  19.31   0.00  38.18  20.02  74.33  20.10  23.71  19.70  \n",
       "25   6.40  18.36  21.93  38.18   0.00  26.93  98.13  25.96  17.09  21.02  \n",
       "26  25.06  10.20   6.32  20.02  26.93   0.00  72.03   1.00  10.05   7.28  \n",
       "27  94.53  82.10  78.10  74.33  98.13  72.03   0.00  73.03  82.01  79.10  \n",
       "28  24.19   9.22   5.39  20.10  25.96   1.00  73.03   0.00   9.06   6.32  \n",
       "29  16.28   3.00   5.00  23.71  17.09  10.05  82.01   9.06   0.00   4.24  \n",
       "30  20.52   3.00   1.00  19.70  21.02   7.28  79.10   6.32   4.24   0.00  \n",
       "\n",
       "[31 rows x 31 columns]"
      ]
     },
     "metadata": {},
     "output_type": "display_data"
    },
    {
     "data": {
      "image/png": "[encoded data removed]",
      "text/plain": [
       "<Figure size 2000x2000 with 1 Axes>"
      ]
     },
     "metadata": {},
     "output_type": "display_data"
    }
   ],
   "source": [
    "import math\n",
    "import pandas as pd\n",
    "import matplotlib.pyplot as plt\n",
    "import plotly.graph_objects as go\n",
    "\n",
    "# Coordenadas fornecidas\n",
    "coordinates = [\n",
    "    (17, 76), (24, 6), (96, 29), (14, 19), (14, 32), (0, 34),\n",
    "    (16, 22), (20, 26), (22, 28), (17, 23), (98, 30), (30, 8),\n",
    "    (23, 27), (19, 23), (34, 7), (31, 7), (0, 37), (19, 23),\n",
    "    (0, 36), (26, 7), (98, 32), (5, 40), (17, 26), (21, 26),\n",
    "    (28, 8), (1, 35), (27, 28), (99, 30), (26, 28), (17, 29), (20, 26)\n",
    "]\n",
    "\n",
    "# Tabela de demandas dos clientes\n",
    "demandas_data = {\n",
    "    'Cliente': list(range(0, 31)),\n",
    "    'Demanda (unidades)': [0, 25, 3, 13, 17, 16, 9, 22, 10, 16, 8, 3, 16, 16, 10, 24, 16, 15, 14, 5, 12, 2, 18, 20, 15, 8, 22, 15, 10, 13, 19]\n",
    "}\n",
    "demandas = pd.DataFrame(demandas_data)\n",
    "\n",
    "# Exibir a tabela de demandas\n",
    "print(\"Tabela de Demandas:\")\n",
    "display(demandas)\n",
    "\n",
    "# Criar lista de texto para tooltips\n",
    "text = [f\"Cliente: {i}<br>Demanda: {demandas.iloc[i, 1]}\" for i in range(len(coordinates))]\n",
    "\n",
    "# Criar figura interativa com Plotly\n",
    "fig = go.Figure()\n",
    "\n",
    "# Adicionar pontos como scatter plot\n",
    "fig.add_trace(go.Scatter(\n",
    "    x=[coord[0] for coord in coordinates],\n",
    "    y=[coord[1] for coord in coordinates],\n",
    "    mode=\"markers\",\n",
    "    marker=dict(\n",
    "        size=10,\n",
    "        color=['blue'] + ['red']*(len(coordinates)-1),  # Primeiro ponto em azul, restantes em vermelho\n",
    "    ),\n",
    "    text=text,  # Texto para tooltips\n",
    "    hoverinfo='text'  # Informação a ser exibida ao passar o mouse\n",
    "))\n",
    "\n",
    "# Parâmetros para controle dos eixos\n",
    "x_range = [-10, 100]  # Intervalo do eixo X\n",
    "y_range = [0, 80]  # Intervalo do eixo Y\n",
    "\n",
    "# Atualizar layout\n",
    "fig.update_layout(\n",
    "    title=\"Pontos de Entrega\",\n",
    "    xaxis_title=\"Coordenada X\",\n",
    "    yaxis_title=\"Coordenada Y\",\n",
    "    xaxis=dict(range=x_range, scaleratio=1),  # Fixar escala e proporção na horizontal\n",
    "    yaxis=dict(range=y_range, scaleanchor='x', scaleratio=1),  # Fixar escala e proporção na vertical\n",
    "    width=1200,  # Largura da figura\n",
    "    height=1200,  # Altura da figura\n",
    ")\n",
    "\n",
    "# Exibir figura interativa\n",
    "fig.show()\n",
    "\n",
    "# Função para calcular a distância euclidiana\n",
    "def euclidean_distance(p1, p2):\n",
    "    return math.sqrt((p1[0] - p2[0])**2 + (p1[1] - p2[1])**2)\n",
    "\n",
    "# Inicializando a lista de listas para armazenar as distâncias\n",
    "distances = []\n",
    "\n",
    "# Calculando as distâncias\n",
    "for i in range(len(coordinates)):\n",
    "    distances.append([round(euclidean_distance(coordinates[i], coordinates[j]), 2) for j in range(len(coordinates))])\n",
    "\n",
    "# Criando um DataFrame para a matriz de distâncias\n",
    "distances_df = pd.DataFrame(distances, columns=list(range(31)), index=list(range(31)))\n",
    "\n",
    "# Exibir a matriz de distâncias\n",
    "print(\"Matriz de Distâncias:\")\n",
    "display(distances_df)\n",
    "\n",
    "# Função para plotar as rotas dos veículos\n",
    "def plotting_routes(points, routes, x_range, y_range):\n",
    "    colors = ['b', 'g', 'c', 'm', 'y']  # Cores para as rotas dos veículos\n",
    "\n",
    "    plt.figure(figsize=(20, 20))  # Tamanho do gráfico\n",
    "\n",
    "    # Plotando os pontos e as rotas dos veículos\n",
    "    for vehicle, route in enumerate(routes):\n",
    "        route_points = [points[0]] + [points[idx] for idx in route] + [points[0]]  # Adicionar ponto inicial e final como depósito (índice 0)\n",
    "        \n",
    "        # Plotando os pontos como bolas (círculos)\n",
    "        for idx in route:\n",
    "            plt.scatter(points[idx][0], points[idx][1], color='r', s=100)  # s define o tamanho do ponto\n",
    "            plt.text(points[idx][0], points[idx][1], str(idx), fontsize=12, ha='center', va='center', color='white')\n",
    "\n",
    "        # Plotando as rotas\n",
    "        for i in range(len(route_points) - 1):\n",
    "            plt.plot([route_points[i][0], route_points[i + 1][0]], [route_points[i][1], route_points[i + 1][1]], color=colors[vehicle])\n",
    "    \n",
    "    # Plotar o ponto inicial/final (depósito)\n",
    "    plt.scatter(points[0][0], points[0][1], color='b', s=100)\n",
    "    plt.text(points[0][0], points[0][1], '0', fontsize=12, ha='center', va='center', color='white')\n",
    "\n",
    "    plt.title('Rotas dos Veículos')\n",
    "    plt.xlabel('Coordenada X')\n",
    "    plt.ylabel('Coordenada Y')\n",
    "    plt.xlim(x_range)\n",
    "    plt.ylim(y_range)\n",
    "    plt.grid(True)\n",
    "    plt.show()\n",
    "\n",
    "# Definindo as rotas dos veículos\n",
    "routes = [\n",
    "    [30, 23, 8, 12, 28, 26],\n",
    "    [21, 16, 18, 25, 5, 4, 29],\n",
    "    [7, 17, 13, 6, 9, 22],\n",
    "    [20, 27, 10, 2],\n",
    "    [14, 15, 11, 24, 19, 1, 3]\n",
    "]\n",
    "\n",
    "# Plotando as rotas dos veículos\n",
    "plotting_routes(coordinates, routes, x_range, y_range)\n"
   ]
  }
 ],
 "metadata": {
  "kernelspec": {
   "display_name": "Python 3",
   "language": "python",
   "name": "python3"
  },
  "language_info": {
   "codemirror_mode": {
    "name": "ipython",
    "version": 3
   },
   "file_extension": ".py",
   "mimetype": "text/x-python",
   "name": "python",
   "nbconvert_exporter": "python",
   "pygments_lexer": "ipython3",
   "version": "3.12.1"
  }
 },
 "nbformat": 4,
 "nbformat_minor": 2
}
