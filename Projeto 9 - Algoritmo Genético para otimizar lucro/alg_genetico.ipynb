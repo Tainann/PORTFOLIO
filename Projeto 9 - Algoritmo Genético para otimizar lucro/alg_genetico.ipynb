{
 "cells": [
  {
   "cell_type": "markdown",
   "metadata": {},
   "source": [
    "# ALGORITMO GENÉTICO OTIMIZANDO CROMOSSOMOS"
   ]
  },
  {
   "cell_type": "markdown",
   "metadata": {},
   "source": [
    "Os genes serão representados com 0 ou 1. O significado desejo pode ser qualquer um (agrupamentos de gene podem significar alguma coisa).\n",
    "\n",
    "### Este é um projeto simples em que o objetivo do algoritmo é gerar cromossomo que só tenham genes iguais a 1.\n",
    "\n",
    "O etilismo foi aplicado para selecionar o melhor indivíduo e gerar n clones dele.\n",
    "\n",
    "Nesta aplicação, o crossover é aplicado sorteando indivíduos entre toda a geração em análise."
   ]
  },
  {
   "cell_type": "code",
   "execution_count": null,
   "metadata": {},
   "outputs": [],
   "source": [
    "import random"
   ]
  },
  {
   "cell_type": "code",
   "execution_count": null,
   "metadata": {},
   "outputs": [],
   "source": [
    "# Criando um cromossomo com n genes.\n",
    "\n",
    "def criaCromossomo(nGenes):\n",
    "    cromossomo = \"\"\n",
    "\n",
    "    for i in range(nGenes):\n",
    "        gene = str(random.randint(0, 1))\n",
    "        cromossomo = str(cromossomo) + str(gene) # Garantindo que os operandos são strings\n",
    "\n",
    "    return cromossomo\n",
    "\n",
    "print(criaCromossomo(14))"
   ]
  },
  {
   "cell_type": "code",
   "execution_count": null,
   "metadata": {},
   "outputs": [],
   "source": [
    "# Criando população inicial de cromossomos\n",
    "\n",
    "def criaPopulacao(nCromossomos, nGenes):\n",
    "    populacao = []\n",
    "\n",
    "    for i in range(nCromossomos):\n",
    "        cromossomo = criaCromossomo(nGenes)\n",
    "        populacao.append(cromossomo)\n",
    "\n",
    "    return populacao"
   ]
  },
  {
   "cell_type": "code",
   "execution_count": null,
   "metadata": {},
   "outputs": [],
   "source": [
    "print(criaPopulacao(5,14))"
   ]
  },
  {
   "cell_type": "code",
   "execution_count": null,
   "metadata": {},
   "outputs": [],
   "source": [
    "# Definindo quantos dígitos vão haver dentro de cada subgrupo do cromossomo\n",
    "\n",
    "def leituraDeValores(cromossomo, tCadeia):\n",
    "    grupo = []\n",
    "\n",
    "    subgrupos = []\n",
    "    valor = \"\"\n",
    "    for i in range(1, len(cromossomo)+1):\n",
    "        valor = str(valor) + str(cromossomo[i-1]) # Garantindo que os operandos são strings\n",
    "        if i % tCadeia == 0:\n",
    "            subgrupos.append(valor)\n",
    "            valor = \"\"\n",
    "\n",
    "    return subgrupos"
   ]
  },
  {
   "cell_type": "markdown",
   "metadata": {},
   "source": [
    "CONVERTENDO BINÁRIO PARA DECIMAL"
   ]
  },
  {
   "cell_type": "code",
   "execution_count": null,
   "metadata": {},
   "outputs": [],
   "source": [
    "# Converte cada subgrupo de binário para decimal\n",
    "\n",
    "def getDecimal(lsBinaria):\n",
    "    valoresDecimais = []\n",
    "\n",
    "    for i in lsBinaria:\n",
    "        valoresDecimais.append(int(i, 2))\n",
    "\n",
    "    return valoresDecimais"
   ]
  },
  {
   "cell_type": "markdown",
   "metadata": {},
   "source": [
    "FUNÇÃO FITNESS"
   ]
  },
  {
   "cell_type": "code",
   "execution_count": null,
   "metadata": {},
   "outputs": [],
   "source": [
    "# Recebe um cromossomo e calcula a sua nota de aptidão;\n",
    "# A rotina devolve uma lista contendo dois elementos, sendo o primeiro deles\n",
    "# o próprio cromossomo avaliado e o segundo é a sua nota de aptidão.\n",
    "\n",
    "def fitness(cromossomo):\n",
    "    qtdUns = 0\n",
    "    for g in cromossomo:\n",
    "        if g == \"1\":\n",
    "            qtdUns +=1\n",
    "\n",
    "    return [cromossomo, qtdUns]\n",
    "\n",
    "\n",
    "# Recebe dois cromossomos e devolve aquele que possui maior nota de aptidão.\n",
    "# O cálculo da nota de aptidão é feito utilizando-se a função fitness.\n",
    "\n",
    "def selecionaIndividuo(cromossomo1, cromossomo2):\n",
    "    if (fitness(cromossomo1))[1] > (fitness(cromossomo2))[1]:\n",
    "        return cromossomo1\n",
    "    else:\n",
    "        return cromossomo2"
   ]
  },
  {
   "cell_type": "markdown",
   "metadata": {},
   "source": [
    "CROSSOVER"
   ]
  },
  {
   "cell_type": "code",
   "execution_count": null,
   "metadata": {},
   "outputs": [],
   "source": [
    "# Recebe dois cromossomos e retorna um novo gerado a partir da operação de\n",
    "# crossover realizada entre eles. O crossover é feito com divisão central.\n",
    "\n",
    "def crossover(cromossomo1, cromossomo2):\n",
    "    if len(cromossomo1) % 2 != 0: # Garantindo que o tamanho é par\n",
    "        cromossomo1 = \"0\" + cromossomo1\n",
    "    if len(cromossomo2) % 2 != 0: # Garantindo que o tamanho é par\n",
    "        cromossomo2 = \"0\" + cromossomo2\n",
    "    if len(cromossomo1) > len(cromossomo2): # Garantindo que têm o mesmo tamanho\n",
    "        digitosExtras = len(cromossomo1) - len(cromossomo2)\n",
    "        cromossomo2 = (\"0\" * digitosExtras) + cromossomo2 # Add 0 à esquerda não muda um número binário\n",
    "    if len(cromossomo2) > len(cromossomo1): # Garantindo que têm o mesmo tamanho\n",
    "        digitosExtras = len(cromossomo2) - len(cromossomo1)\n",
    "        cromossomo1 = (\"0\" * digitosExtras) + cromossomo1 # Add 0 à esquerda não muda um número binário\n",
    "\n",
    "    parte1 = cromossomo1[0:int(len(cromossomo1)/2)]\n",
    "    parte2 = cromossomo2[int(len(cromossomo2)/2):]\n",
    "    novoCromossomo = str(parte1) + str(parte2)\n",
    "\n",
    "    return novoCromossomo"
   ]
  },
  {
   "cell_type": "code",
   "execution_count": null,
   "metadata": {},
   "outputs": [],
   "source": [
    "crossover('10001000', '00010001')"
   ]
  },
  {
   "cell_type": "code",
   "execution_count": null,
   "metadata": {},
   "outputs": [],
   "source": [
    "crossover('1110', '00010001')"
   ]
  },
  {
   "cell_type": "code",
   "execution_count": null,
   "metadata": {},
   "outputs": [],
   "source": [
    "# Realiza a mutação de cada um dos genes do nosso cromossomo de acordo com\n",
    "# uma taxa específica.\n",
    "\n",
    "def mutation(cromossomo, tMutacao):\n",
    "    lgenes = list(cromossomo) # Convertendo de string para lista\n",
    "\n",
    "    for i in range(len(cromossomo)): # Mutação será analisada para cada gene do  cromossomo\n",
    "        sorteio = random.random()\n",
    "        if sorteio <= tMutacao: # A mutação ocorre se o valor sorteado é menor que a taxa de mutação\n",
    "            if lgenes[i] == \"0\": \n",
    "                lgenes[i] = \"1\"\n",
    "            else:\n",
    "                lgenes[i] = \"0\"\n",
    "\n",
    "    cromossomo = \"\".join(lgenes) # Atualizando o cromossomo\n",
    "\n",
    "    return cromossomo"
   ]
  },
  {
   "cell_type": "code",
   "execution_count": null,
   "metadata": {},
   "outputs": [],
   "source": [
    "x = criaCromossomo(14)\n",
    "print(x)\n",
    "\n",
    "print(mutation(x, 0.7))"
   ]
  },
  {
   "cell_type": "code",
   "execution_count": null,
   "metadata": {},
   "outputs": [],
   "source": [
    "x = criaCromossomo(14)\n",
    "print(x)\n",
    "\n",
    "print(mutation(x, 1))"
   ]
  },
  {
   "cell_type": "markdown",
   "metadata": {},
   "source": [
    "Melhor indivíduo"
   ]
  },
  {
   "cell_type": "code",
   "execution_count": null,
   "metadata": {},
   "outputs": [],
   "source": [
    "# Verifica dentro da população de cromossomos qual é o indivíduo que possui\n",
    "# a melhor nota de aptidão. Retorna o cromossomo com melhor aptidão.\n",
    "\n",
    "def obtemMelhorIndividuo(populacao):\n",
    "    # Escolhe um cromossomo aleatório como o melhor\n",
    "    melhorIndividuo = fitness(populacao[random.randint(0, len(populacao) - 1)])\n",
    "\n",
    "    for i in populacao:\n",
    "        individuo = fitness(i)\n",
    "\n",
    "        if individuo[1] > melhorIndividuo[1]:\n",
    "            melhorIndividuo = individuo\n",
    "\n",
    "    return melhorIndividuo"
   ]
  },
  {
   "cell_type": "markdown",
   "metadata": {},
   "source": [
    "Elitismo"
   ]
  },
  {
   "cell_type": "code",
   "execution_count": null,
   "metadata": {},
   "outputs": [],
   "source": [
    "# Serão gerados clones para a próxima do melhor indivíduo da geração atual\n",
    "\n",
    "def elitismo(populacao, telitismo):\n",
    "    novaPopulacao = []\n",
    "\n",
    "    melhorindividuo = obtemMelhorIndividuo(populacao)\n",
    "    numeroRepeticoes = int(len(populacao) * telitismo)\n",
    "    \n",
    "    for i in range(numeroRepeticoes):\n",
    "        novaPopulacao.append(melhorindividuo[0])\n",
    "\n",
    "    return novaPopulacao"
   ]
  },
  {
   "cell_type": "markdown",
   "metadata": {},
   "source": [
    "Gerando nova população"
   ]
  },
  {
   "cell_type": "code",
   "execution_count": null,
   "metadata": {},
   "outputs": [],
   "source": [
    "# Essa rotina recebe uma população de indivíduos, aplica as operações do\n",
    "# do algoritmo genético a cada um deles, gerando uma nova população de\n",
    "# indivíduos com a mesma quantidade de elementos da população inicial.\n",
    "\n",
    "def geraNovaPopulacao(populacaoInicial, tMutation, tElitismo):\n",
    "    # O elitismo é aplicado para selecionar o melhor indivíduo e gerar n clones dele\n",
    "    # O crossover é aplicado selecionando indivíduos entre toda a populaçao atual\n",
    "    # Uma outra forma de aplicar o crossover poderia ser ordenar a população de acordo com a nota de cada indivíduo,\n",
    "    # então fatiar a população para ficar com os y melhores para aplicar o crossover só nesses indivíduos que se tem certeza que são bem avaliados \n",
    "    novaPopulacao = elitismo(populacaoInicial, tElitismo)\n",
    "\n",
    "    while len(novaPopulacao) < len(populacaoInicial):\n",
    "        i1 = random.randint(0, len(populacaoInicial) - 1)\n",
    "        i2 = random.randint(0, len(populacaoInicial) - 1)\n",
    "        selecionado1 = populacaoInicial[i1]\n",
    "        selecionado2 = populacaoInicial[i2]\n",
    "        individuoMaisApto1 = selecionaIndividuo(selecionado1, selecionado2)\n",
    "\n",
    "        i1 = random.randint(0, len(populacaoInicial) - 1)\n",
    "        i2 = random.randint(0, len(populacaoInicial) - 1)\n",
    "        selecionado1 = populacaoInicial[i1]\n",
    "        selecionado2 = populacaoInicial[i2]\n",
    "        individuoMaisApto2 = selecionaIndividuo(selecionado1, selecionado2)\n",
    "\n",
    "        novoIndividuo = crossover(individuoMaisApto1, individuoMaisApto2)\n",
    "        filho = mutation(novoIndividuo, tMutation)\n",
    "\n",
    "        novaPopulacao.append(filho)\n",
    "\n",
    "    return novaPopulacao\n"
   ]
  },
  {
   "cell_type": "markdown",
   "metadata": {},
   "source": [
    "### EXECUÇÃO DO ALGORITMO GENÉTICO"
   ]
  },
  {
   "cell_type": "code",
   "execution_count": null,
   "metadata": {},
   "outputs": [],
   "source": [
    "def runAG(nGeracoes):\n",
    "    populacao = criaPopulacao(10,20) # Criando 10 cromossomos com 20 genes\n",
    "    melhorIndividuo = obtemMelhorIndividuo(populacao) \n",
    "    print(melhorIndividuo)\n",
    "\n",
    "    print(\"#######################\")\n",
    "\n",
    "    for i in range(nGeracoes):\n",
    "        melhorIndividuo = obtemMelhorIndividuo(populacao) \n",
    "        populacao = geraNovaPopulacao(populacao, 0.05, 0.2)\n",
    "    \n",
    "    return melhorIndividuo"
   ]
  },
  {
   "cell_type": "code",
   "execution_count": null,
   "metadata": {},
   "outputs": [],
   "source": [
    "print(runAG(50))"
   ]
  }
 ],
 "metadata": {
  "kernelspec": {
   "display_name": "Python 3",
   "language": "python",
   "name": "python3"
  },
  "language_info": {
   "codemirror_mode": {
    "name": "ipython",
    "version": 3
   },
   "file_extension": ".py",
   "mimetype": "text/x-python",
   "name": "python",
   "nbconvert_exporter": "python",
   "pygments_lexer": "ipython3",
   "version": "3.12.1"
  }
 },
 "nbformat": 4,
 "nbformat_minor": 2
}
