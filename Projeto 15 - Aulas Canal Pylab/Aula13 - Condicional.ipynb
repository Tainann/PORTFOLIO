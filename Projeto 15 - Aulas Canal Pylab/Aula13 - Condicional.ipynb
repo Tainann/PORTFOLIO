{
 "cells": [
  {
   "cell_type": "markdown",
   "metadata": {},
   "source": [
    "# Aula 13 - Estruturas Condicionais"
   ]
  },
  {
   "cell_type": "markdown",
   "metadata": {},
   "source": [
    "Em Python, a estrutura condicional permite que o código tome decisões e execute blocos de instruções de acordo com certas condições. \n",
    "\n",
    "A principal forma de estrutura condicional em Python é a instrução if, seguida por elif (else if) e else."
   ]
  },
  {
   "cell_type": "code",
   "execution_count": null,
   "metadata": {},
   "outputs": [],
   "source": [
    "'''\n",
    "if condição1:\n",
    "    # bloco de código executado se condição1 for verdadeira\n",
    "elif condição2:\n",
    "    # bloco de código executado se condição2 for verdadeira\n",
    "else:\n",
    "    # bloco de código executado se nenhuma das condições anteriores for verdadeira\n",
    "'''"
   ]
  },
  {
   "cell_type": "markdown",
   "metadata": {},
   "source": [
    "As condições das estruturas condicionais devem retornar um valor booleano.\n",
    "\n",
    "Nessas condições, usam-se bastantes os operadores:\n",
    "\n",
    "- De comparação:\n",
    "==, !=, >, <, >= e <=;\n",
    "\n",
    "- Lógicos:\n",
    "and, or e not;\n",
    "\n",
    "- De identidade:\n",
    "is e is not;\n",
    "\n",
    "- De associação:\n",
    "in e not in."
   ]
  },
  {
   "cell_type": "code",
   "execution_count": 4,
   "metadata": {},
   "outputs": [
    {
     "name": "stdout",
     "output_type": "stream",
     "text": [
      "O valor é diferente de 1.\n"
     ]
    }
   ],
   "source": [
    "# Exemplo 1 de operador de comparação\n",
    "valor = 10\n",
    "\n",
    "if valor != 1:\n",
    "    print('O valor é diferente de 1.')"
   ]
  },
  {
   "cell_type": "code",
   "execution_count": 5,
   "metadata": {},
   "outputs": [
    {
     "name": "stdout",
     "output_type": "stream",
     "text": [
      "Você tem acesso permitido.\n"
     ]
    }
   ],
   "source": [
    "# Exemplo 2 de operador de comparação\n",
    "idade = 18\n",
    "if idade >= 18:\n",
    "    print(\"Você tem acesso permitido.\")\n",
    "else:\n",
    "    print(\"Acesso negado. Menor de idade.\")\n"
   ]
  },
  {
   "cell_type": "code",
   "execution_count": 6,
   "metadata": {},
   "outputs": [
    {
     "name": "stdout",
     "output_type": "stream",
     "text": [
      "Conceito B\n"
     ]
    }
   ],
   "source": [
    "# Exemplo 3 de operador de comparação\n",
    "nota = 85\n",
    "if nota >= 90:\n",
    "    print(\"Conceito A\")\n",
    "elif nota >= 75:\n",
    "    print(\"Conceito B\")\n",
    "elif nota >= 60:\n",
    "    print(\"Conceito C\")\n",
    "else:\n",
    "    print(\"Reprovado\")\n"
   ]
  },
  {
   "cell_type": "code",
   "execution_count": 7,
   "metadata": {},
   "outputs": [
    {
     "name": "stdout",
     "output_type": "stream",
     "text": [
      "Login bem-sucedido.\n"
     ]
    }
   ],
   "source": [
    "# Exemplo operador and\n",
    "usuario = \"admin\"\n",
    "senha = \"12345\"\n",
    "if usuario == \"admin\" and senha == \"12345\":\n",
    "    print(\"Login bem-sucedido.\")\n",
    "else:\n",
    "    print(\"Usuário ou senha incorretos.\")\n"
   ]
  },
  {
   "cell_type": "code",
   "execution_count": 8,
   "metadata": {},
   "outputs": [
    {
     "name": "stdout",
     "output_type": "stream",
     "text": [
      "É fim de semana!\n"
     ]
    }
   ],
   "source": [
    "# Exemplo operador or\n",
    "dia = \"sábado\"\n",
    "\n",
    "if dia == \"sábado\" or dia == \"domingo\":\n",
    "    print(\"É fim de semana!\")\n",
    "else:\n",
    "    print(\"É dia útil.\")\n"
   ]
  },
  {
   "cell_type": "code",
   "execution_count": 9,
   "metadata": {},
   "outputs": [
    {
     "name": "stdout",
     "output_type": "stream",
     "text": [
      "Acesso negado. Você precisa de permissão.\n"
     ]
    }
   ],
   "source": [
    "# Exemplo operador not\n",
    "tem_acesso = False\n",
    "\n",
    "if not tem_acesso:\n",
    "    print(\"Acesso negado. Você precisa de permissão.\")\n",
    "else:\n",
    "    print(\"Acesso concedido.\")\n"
   ]
  },
  {
   "cell_type": "code",
   "execution_count": 10,
   "metadata": {},
   "outputs": [
    {
     "name": "stdout",
     "output_type": "stream",
     "text": [
      "O valor é um inteiro.\n"
     ]
    }
   ],
   "source": [
    "# Exemplo operador is\n",
    "valor = 42\n",
    "\n",
    "if type(valor) is int:\n",
    "    print(\"O valor é um inteiro.\")\n",
    "else:\n",
    "    print(\"O valor não é um inteiro.\")\n"
   ]
  },
  {
   "cell_type": "code",
   "execution_count": 11,
   "metadata": {},
   "outputs": [
    {
     "name": "stdout",
     "output_type": "stream",
     "text": [
      "A fruta está na cesta.\n"
     ]
    }
   ],
   "source": [
    "fruta = \"maçã\"\n",
    "cesta_de_frutas = [\"banana\", \"maçã\", \"laranja\"]\n",
    "\n",
    "if fruta in cesta_de_frutas:\n",
    "    print(\"A fruta está na cesta.\")\n",
    "else:\n",
    "    print(\"A fruta não está na cesta.\")\n"
   ]
  },
  {
   "cell_type": "code",
   "execution_count": 12,
   "metadata": {},
   "outputs": [
    {
     "name": "stdout",
     "output_type": "stream",
     "text": [
      "Este bloco sempre irá ser executado.\n"
     ]
    }
   ],
   "source": [
    "# Código que será sempre executado\n",
    "if True:\n",
    "    print(\"Este bloco sempre irá ser executado.\")"
   ]
  },
  {
   "cell_type": "code",
   "execution_count": 13,
   "metadata": {},
   "outputs": [
    {
     "name": "stdout",
     "output_type": "stream",
     "text": [
      "Entrada permitida.\n"
     ]
    }
   ],
   "source": [
    "# Exemplo if dentro de if\n",
    "idade = 20\n",
    "documento_valido = True\n",
    "\n",
    "if idade >= 18:\n",
    "    if documento_valido:\n",
    "        print(\"Entrada permitida.\")\n",
    "    else:\n",
    "        print(\"Entrada negada. Documento inválido.\")\n",
    "else:\n",
    "    print(\"Entrada negada. Menor de idade.\")\n"
   ]
  },
  {
   "cell_type": "code",
   "execution_count": 14,
   "metadata": {},
   "outputs": [
    {
     "name": "stdout",
     "output_type": "stream",
     "text": [
      "Multado\n"
     ]
    }
   ],
   "source": [
    "# Estrutura Condicional Ternária (if em uma linha)\n",
    "velocidade = 75\n",
    "\n",
    "resultado = 'Multado' if velocidade > 60 else 'Dentro do limite'\n",
    "\n",
    "print(resultado)"
   ]
  },
  {
   "cell_type": "markdown",
   "metadata": {},
   "source": [
    "# Estrutura Match"
   ]
  },
  {
   "cell_type": "code",
   "execution_count": 15,
   "metadata": {},
   "outputs": [
    {
     "name": "stdout",
     "output_type": "stream",
     "text": [
      "O sistema está sendo iniciado.\n"
     ]
    }
   ],
   "source": [
    "# Surgiu na versão Python 3.10, lançada em outubro de 2021.\n",
    "comando = \"iniciar\"\n",
    "\n",
    "match comando:\n",
    "    case \"iniciar\":\n",
    "        print(\"O sistema está sendo iniciado.\")\n",
    "    case \"parar\":\n",
    "        print(\"O sistema está parando.\")\n",
    "    case \"reiniciar\":\n",
    "        print(\"O sistema está reiniciando.\")\n",
    "    case _:\n",
    "        print(\"Comando não reconhecido.\")\n"
   ]
  },
  {
   "cell_type": "markdown",
   "metadata": {},
   "source": [
    "# SIGA, CURTA E COMPARTILHE!"
   ]
  }
 ],
 "metadata": {
  "kernelspec": {
   "display_name": "venv",
   "language": "python",
   "name": "python3"
  },
  "language_info": {
   "codemirror_mode": {
    "name": "ipython",
    "version": 3
   },
   "file_extension": ".py",
   "mimetype": "text/x-python",
   "name": "python",
   "nbconvert_exporter": "python",
   "pygments_lexer": "ipython3",
   "version": "3.12.6"
  }
 },
 "nbformat": 4,
 "nbformat_minor": 2
}
