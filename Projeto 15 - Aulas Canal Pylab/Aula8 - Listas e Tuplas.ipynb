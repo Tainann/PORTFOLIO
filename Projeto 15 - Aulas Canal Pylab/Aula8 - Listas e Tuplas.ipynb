{
 "cells": [
  {
   "cell_type": "markdown",
   "metadata": {
    "id": "AYOLizUdSQAL"
   },
   "source": [
    "# Aula 8 - Listas e Tuplas"
   ]
  },
  {
   "cell_type": "markdown",
   "metadata": {},
   "source": [
    "Listas são coleções ordenadas de itens."
   ]
  },
  {
   "cell_type": "code",
   "execution_count": 2,
   "metadata": {
    "colab": {
     "base_uri": "https://localhost:8080/"
    },
    "id": "Su9tQlX5STXR",
    "outputId": "f4e13434-8130-4615-b7ff-12acfa425b7d"
   },
   "outputs": [
    {
     "data": {
      "text/plain": [
       "[[1, 3, 5], ['Olá', 2, 3.1, False], []]"
      ]
     },
     "execution_count": 2,
     "metadata": {},
     "output_type": "execute_result"
    }
   ],
   "source": [
    "lista_inteiros = [1, 3, 5]\n",
    "lista = ['Olá', 2, 3.1, False]\n",
    "lista_de_listas = [lista_inteiros, lista, []]\n",
    "\n",
    "lista_de_listas"
   ]
  },
  {
   "cell_type": "code",
   "execution_count": 3,
   "metadata": {
    "colab": {
     "base_uri": "https://localhost:8080/"
    },
    "id": "r0bcYRuGTvo_",
    "outputId": "2939ca68-61fb-4511-c3e0-962b0262cadc"
   },
   "outputs": [
    {
     "data": {
      "text/plain": [
       "(4, 9, 5, 1)"
      ]
     },
     "execution_count": 3,
     "metadata": {},
     "output_type": "execute_result"
    }
   ],
   "source": [
    "tamanho = len(lista)\n",
    "soma_lista_inteiros = sum(lista_inteiros)\n",
    "maximo = max(lista_inteiros)\n",
    "minimo = min(lista_inteiros)\n",
    "\n",
    "tamanho, soma_lista_inteiros, maximo, minimo"
   ]
  },
  {
   "cell_type": "code",
   "execution_count": 4,
   "metadata": {},
   "outputs": [
    {
     "data": {
      "text/plain": [
       "3"
      ]
     },
     "execution_count": 4,
     "metadata": {},
     "output_type": "execute_result"
    }
   ],
   "source": [
    "len(lista_de_listas[0])"
   ]
  },
  {
   "cell_type": "code",
   "execution_count": 45,
   "metadata": {
    "colab": {
     "base_uri": "https://localhost:8080/"
    },
    "id": "GYmwAtbbUHCz",
    "outputId": "b07b6ee9-5105-49d9-e482-4823f2b1b855"
   },
   "outputs": [
    {
     "data": {
      "text/plain": [
       "[1, 2, -5, 4, 5]"
      ]
     },
     "execution_count": 45,
     "metadata": {},
     "output_type": "execute_result"
    }
   ],
   "source": [
    "x = [1, 2, 3, 4, 5]\n",
    "um = x[0] # coleta o valor do índice 0\n",
    "cinco = x[-1] # coleta o valor do último índice\n",
    "x[2] = -5 # Insere -5 no índice 2\n",
    "x"
   ]
  },
  {
   "cell_type": "code",
   "execution_count": 46,
   "metadata": {
    "colab": {
     "base_uri": "https://localhost:8080/"
    },
    "id": "RaiZJx6IUheX",
    "outputId": "f6f168e8-56dc-41ae-a970-edf28489c6ac"
   },
   "outputs": [
    {
     "data": {
      "text/plain": [
       "[40, 50]"
      ]
     },
     "execution_count": 46,
     "metadata": {},
     "output_type": "execute_result"
    }
   ],
   "source": [
    "x = [10, 20, 30, 40, 50]\n",
    "quarto_ao_ultimo = x[3:]\n",
    "quarto_ao_ultimo"
   ]
  },
  {
   "cell_type": "code",
   "execution_count": 47,
   "metadata": {
    "colab": {
     "base_uri": "https://localhost:8080/"
    },
    "id": "ON9ckzoKVKoV",
    "outputId": "ef4f15a1-5fdd-47fc-e31f-a4055bf1cbde"
   },
   "outputs": [
    {
     "data": {
      "text/plain": [
       "[20, 30, 40]"
      ]
     },
     "execution_count": 47,
     "metadata": {},
     "output_type": "execute_result"
    }
   ],
   "source": [
    "x[1:-1] # sem o primeiro e o último"
   ]
  },
  {
   "cell_type": "code",
   "execution_count": 48,
   "metadata": {
    "colab": {
     "base_uri": "https://localhost:8080/"
    },
    "id": "mvzrsyapVNjt",
    "outputId": "9595e2c1-c7a9-4d55-e5a1-1410f28d1309"
   },
   "outputs": [
    {
     "data": {
      "text/plain": [
       "([10, 20, 30, 40, 50], [10, 20, 30, 40, 50])"
      ]
     },
     "execution_count": 48,
     "metadata": {},
     "output_type": "execute_result"
    }
   ],
   "source": [
    "y = x # y é uma cópia de x\n",
    "y, x"
   ]
  },
  {
   "cell_type": "code",
   "execution_count": 49,
   "metadata": {
    "colab": {
     "base_uri": "https://localhost:8080/"
    },
    "id": "ragAXjVJVTq-",
    "outputId": "f8c6d8d3-5e0b-4003-95ef-9356b3b2eb52"
   },
   "outputs": [
    {
     "data": {
      "text/plain": [
       "[10, 30, 50]"
      ]
     },
     "execution_count": 49,
     "metadata": {},
     "output_type": "execute_result"
    }
   ],
   "source": [
    "x[::2]"
   ]
  },
  {
   "cell_type": "code",
   "execution_count": 50,
   "metadata": {
    "colab": {
     "base_uri": "https://localhost:8080/"
    },
    "id": "5teGycnQVeGj",
    "outputId": "f84fd773-e4af-41a4-abf5-9389932fb1a2"
   },
   "outputs": [
    {
     "data": {
      "text/plain": [
       "[50, 40]"
      ]
     },
     "execution_count": 50,
     "metadata": {},
     "output_type": "execute_result"
    }
   ],
   "source": [
    "x[5:2:-1]"
   ]
  },
  {
   "cell_type": "code",
   "execution_count": 51,
   "metadata": {
    "colab": {
     "base_uri": "https://localhost:8080/"
    },
    "id": "GP2u-AMkVy8n",
    "outputId": "5f255e28-90e7-4581-fe9b-8342a9555812"
   },
   "outputs": [
    {
     "data": {
      "text/plain": [
       "False"
      ]
     },
     "execution_count": 51,
     "metadata": {},
     "output_type": "execute_result"
    }
   ],
   "source": [
    "1 in x # Operador para verificar se 1 está dentro de x"
   ]
  },
  {
   "cell_type": "code",
   "execution_count": 52,
   "metadata": {
    "colab": {
     "base_uri": "https://localhost:8080/"
    },
    "id": "Yyq3G_MrV-YB",
    "outputId": "764fecc0-19c4-488e-b2f5-b86574196c98"
   },
   "outputs": [
    {
     "data": {
      "text/plain": [
       "True"
      ]
     },
     "execution_count": 52,
     "metadata": {},
     "output_type": "execute_result"
    }
   ],
   "source": [
    "15 not in x # Verifica se 15 não está em x"
   ]
  },
  {
   "cell_type": "code",
   "execution_count": 53,
   "metadata": {
    "colab": {
     "base_uri": "https://localhost:8080/"
    },
    "id": "Qf0sbm_LWEgt",
    "outputId": "a5b015d0-d49e-479f-b5fd-014eb7316d02"
   },
   "outputs": [
    {
     "data": {
      "text/plain": [
       "[10, 20, 30, 40, 50, 60, 70, 80]"
      ]
     },
     "execution_count": 53,
     "metadata": {},
     "output_type": "execute_result"
    }
   ],
   "source": [
    "x.extend([60, 70, 80]) # Adiciona 3 valores ao final de x\n",
    "x"
   ]
  },
  {
   "cell_type": "code",
   "execution_count": 54,
   "metadata": {
    "colab": {
     "base_uri": "https://localhost:8080/"
    },
    "id": "5F2BErPfWbBX",
    "outputId": "b0d798de-45b7-4c46-8120-5a7ed4d9718c"
   },
   "outputs": [
    {
     "data": {
      "text/plain": [
       "[10, 20, 30, 40, 50, 60, 70, 80, 90, 100, 110]"
      ]
     },
     "execution_count": 54,
     "metadata": {},
     "output_type": "execute_result"
    }
   ],
   "source": [
    "z = x + [90, 100, 110] # x não é modificado\n",
    "z"
   ]
  },
  {
   "cell_type": "code",
   "execution_count": 55,
   "metadata": {
    "colab": {
     "base_uri": "https://localhost:8080/"
    },
    "id": "41lMCZKcXBVl",
    "outputId": "8a755563-29c9-4fab-c613-6a8862978d30"
   },
   "outputs": [
    {
     "data": {
      "text/plain": [
       "[1, 2, 3, 10]"
      ]
     },
     "execution_count": 55,
     "metadata": {},
     "output_type": "execute_result"
    }
   ],
   "source": [
    "x = [1, 2, 3]\n",
    "x.append(10) # append add um único elemento\n",
    "x"
   ]
  },
  {
   "cell_type": "code",
   "execution_count": 56,
   "metadata": {
    "id": "YbSqTT4nXMxZ"
   },
   "outputs": [],
   "source": [
    "a, b = [3, 5] # Descompactando uma lista\n",
    "_, c = [4, 10] # _ indica uma variável descartável"
   ]
  },
  {
   "cell_type": "code",
   "execution_count": 57,
   "metadata": {
    "colab": {
     "base_uri": "https://localhost:8080/"
    },
    "id": "bmUZr99JYyxh",
    "outputId": "145785a5-363b-44e6-901d-e2db2f5d883f"
   },
   "outputs": [
    {
     "data": {
      "text/plain": [
       "[1, 4, 2, 3]"
      ]
     },
     "execution_count": 57,
     "metadata": {},
     "output_type": "execute_result"
    }
   ],
   "source": [
    "lista = [1, 2, 3]\n",
    "lista.insert(1, 4)  # Insere 4 na posição de índice 1\n",
    "lista"
   ]
  },
  {
   "cell_type": "code",
   "execution_count": 58,
   "metadata": {
    "colab": {
     "base_uri": "https://localhost:8080/"
    },
    "id": "yeT-xyQyZDZF",
    "outputId": "4c2112b6-6333-4359-f99b-a3ba7f93b1ba"
   },
   "outputs": [
    {
     "data": {
      "text/plain": [
       "[1, 4, 3]"
      ]
     },
     "execution_count": 58,
     "metadata": {},
     "output_type": "execute_result"
    }
   ],
   "source": [
    "lista.remove(2)  # Remove o primeiro 2 encontrado\n",
    "lista"
   ]
  },
  {
   "cell_type": "code",
   "execution_count": 59,
   "metadata": {
    "colab": {
     "base_uri": "https://localhost:8080/"
    },
    "id": "B_cYq81MZGKe",
    "outputId": "a83324d6-0e67-465c-841b-7ef9103dfd3f"
   },
   "outputs": [
    {
     "name": "stdout",
     "output_type": "stream",
     "text": [
      "[1, 3]\n",
      "2\n"
     ]
    }
   ],
   "source": [
    "lista = [1, 2, 3]\n",
    "item = lista.pop(1)  # Remove o item na posição 1 (valor 2)\n",
    "print(lista)  # Saída: [1, 3]\n",
    "print(item)  # Saída: 2"
   ]
  },
  {
   "cell_type": "code",
   "execution_count": 60,
   "metadata": {
    "colab": {
     "base_uri": "https://localhost:8080/"
    },
    "id": "bFv4y9j3ZWZD",
    "outputId": "d0c41d14-3659-43ef-81b5-cb6185c7fa2c"
   },
   "outputs": [
    {
     "data": {
      "text/plain": [
       "[]"
      ]
     },
     "execution_count": 60,
     "metadata": {},
     "output_type": "execute_result"
    }
   ],
   "source": [
    "lista = [1, 2, 3]\n",
    "lista.clear()  # Remove todos os elementos\n",
    "lista"
   ]
  },
  {
   "cell_type": "code",
   "execution_count": 61,
   "metadata": {
    "colab": {
     "base_uri": "https://localhost:8080/"
    },
    "id": "Yci4GdEkZeMl",
    "outputId": "a916b3c6-5e9b-4887-c349-fa1d5b72aa1e"
   },
   "outputs": [
    {
     "data": {
      "text/plain": [
       "1"
      ]
     },
     "execution_count": 61,
     "metadata": {},
     "output_type": "execute_result"
    }
   ],
   "source": [
    "lista = [1, 2, 3]\n",
    "indice = lista.index(2)  # Retorna o índice do valor 2\n",
    "indice"
   ]
  },
  {
   "cell_type": "code",
   "execution_count": 62,
   "metadata": {
    "colab": {
     "base_uri": "https://localhost:8080/"
    },
    "id": "qSf6qUB5ZjOF",
    "outputId": "90ad7fe1-1d81-4cd1-8eaa-19db09f3c073"
   },
   "outputs": [
    {
     "data": {
      "text/plain": [
       "3"
      ]
     },
     "execution_count": 62,
     "metadata": {},
     "output_type": "execute_result"
    }
   ],
   "source": [
    "lista = [1, 2, 3, 2, 2]\n",
    "contagem = lista.count(2)  # Conta quantos 2 estão na lista\n",
    "contagem"
   ]
  },
  {
   "cell_type": "code",
   "execution_count": 63,
   "metadata": {
    "colab": {
     "base_uri": "https://localhost:8080/"
    },
    "id": "ojmVV_ehZswc",
    "outputId": "09f031a2-40ac-4807-888b-e54957f71a6f"
   },
   "outputs": [
    {
     "data": {
      "text/plain": [
       "[1, 2, 3]"
      ]
     },
     "execution_count": 63,
     "metadata": {},
     "output_type": "execute_result"
    }
   ],
   "source": [
    "lista = [3, 1, 2]\n",
    "lista.sort()  # Ordena em ordem crescente\n",
    "lista"
   ]
  },
  {
   "cell_type": "code",
   "execution_count": 64,
   "metadata": {
    "colab": {
     "base_uri": "https://localhost:8080/"
    },
    "id": "Mj5nII3mZzTX",
    "outputId": "b66c9715-f5e9-4a0d-8dac-96550549f705"
   },
   "outputs": [
    {
     "data": {
      "text/plain": [
       "[3, 2, 1]"
      ]
     },
     "execution_count": 64,
     "metadata": {},
     "output_type": "execute_result"
    }
   ],
   "source": [
    "lista = [1, 2, 3]\n",
    "lista.reverse()  # Inverte a lista\n",
    "lista"
   ]
  },
  {
   "cell_type": "code",
   "execution_count": 65,
   "metadata": {
    "colab": {
     "base_uri": "https://localhost:8080/",
     "height": 55
    },
    "id": "e4FAjtHHaHrk",
    "outputId": "c330636b-01af-4f12-f822-28bd7827681a"
   },
   "outputs": [
    {
     "data": {
      "application/vnd.google.colaboratory.intrinsic+json": {
       "type": "string"
      },
      "text/plain": [
       "'Python é legal'"
      ]
     },
     "execution_count": 65,
     "metadata": {},
     "output_type": "execute_result"
    }
   ],
   "source": [
    "lista = ['Python', 'é', 'legal']\n",
    "resultado = ' '.join(lista)  # Junta as strings com um espaço\n",
    "resultado"
   ]
  },
  {
   "cell_type": "markdown",
   "metadata": {
    "id": "z9o3XYuiXpJi"
   },
   "source": [
    "TUPLAS: são muito parecidas com as listas, mas não podem ser modificadas."
   ]
  },
  {
   "cell_type": "code",
   "execution_count": 66,
   "metadata": {
    "colab": {
     "base_uri": "https://localhost:8080/"
    },
    "id": "ZAYptTZ8XyLZ",
    "outputId": "242d52dc-55c2-4bc3-b341-c82bef451ba4"
   },
   "outputs": [
    {
     "data": {
      "text/plain": [
       "(3, 5, 3, 5)"
      ]
     },
     "execution_count": 66,
     "metadata": {},
     "output_type": "execute_result"
    }
   ],
   "source": [
    "tupla = (3, 5) # se usa parêntese ou nada para representar uma tupla\n",
    "t = 3, 5\n",
    "\n",
    "2*tupla"
   ]
  },
  {
   "cell_type": "code",
   "execution_count": null,
   "metadata": {
    "colab": {
     "base_uri": "https://localhost:8080/",
     "height": 161
    },
    "id": "S2z-IG39YJQH",
    "outputId": "96b62241-5e08-4532-fe3c-d307b3d08616"
   },
   "outputs": [],
   "source": [
    "tupla[0] = -1"
   ]
  },
  {
   "cell_type": "markdown",
   "metadata": {},
   "source": [
    "# SIGA, CURTA E COMPARTILHE!"
   ]
  }
 ],
 "metadata": {
  "colab": {
   "provenance": []
  },
  "kernelspec": {
   "display_name": "Python 3",
   "name": "python3"
  },
  "language_info": {
   "codemirror_mode": {
    "name": "ipython",
    "version": 3
   },
   "file_extension": ".py",
   "mimetype": "text/x-python",
   "name": "python",
   "nbconvert_exporter": "python",
   "pygments_lexer": "ipython3",
   "version": "3.12.1"
  }
 },
 "nbformat": 4,
 "nbformat_minor": 0
}
