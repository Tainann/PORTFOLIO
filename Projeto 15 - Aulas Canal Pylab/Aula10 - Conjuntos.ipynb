{
 "cells": [
  {
   "cell_type": "markdown",
   "metadata": {
    "id": "PefBSr-32WdN"
   },
   "source": [
    "# Aula 10 - Conjuntos (Sets)"
   ]
  },
  {
   "cell_type": "markdown",
   "metadata": {},
   "source": [
    "Os conjuntos (ou sets) são coleções de elementos não ordenados, não indexados e sem elementos duplicados."
   ]
  },
  {
   "cell_type": "code",
   "execution_count": 1,
   "metadata": {
    "colab": {
     "base_uri": "https://localhost:8080/"
    },
    "id": "zED-gQg62d2W",
    "outputId": "11f7d1be-a8ec-49c8-c2f7-2f8a35903f9e"
   },
   "outputs": [
    {
     "data": {
      "text/plain": [
       "{1, 3, 5, 7}"
      ]
     },
     "execution_count": 1,
     "metadata": {},
     "output_type": "execute_result"
    }
   ],
   "source": [
    "set1 = {1, 3, 5, 7}\n",
    "set1"
   ]
  },
  {
   "cell_type": "code",
   "execution_count": 2,
   "metadata": {
    "colab": {
     "base_uri": "https://localhost:8080/"
    },
    "id": "exIyqfLf-LJF",
    "outputId": "0390a7e4-411f-4c68-a9c6-ebdc7e9a21a1"
   },
   "outputs": [
    {
     "data": {
      "text/plain": [
       "set()"
      ]
     },
     "execution_count": 2,
     "metadata": {},
     "output_type": "execute_result"
    }
   ],
   "source": [
    "s = set() # Criando um set vazio\n",
    "# s = {} é um dict, não um set\n",
    "s"
   ]
  },
  {
   "cell_type": "code",
   "execution_count": 3,
   "metadata": {
    "colab": {
     "base_uri": "https://localhost:8080/"
    },
    "id": "FIngekzl-Z55",
    "outputId": "ecada4f0-13a8-40f8-bb74-f3e2fb999d57"
   },
   "outputs": [
    {
     "data": {
      "text/plain": [
       "{4, 7}"
      ]
     },
     "execution_count": 3,
     "metadata": {},
     "output_type": "execute_result"
    }
   ],
   "source": [
    "s.add(4) # s agora é {4}\n",
    "s.add(7) # s agora é {4, 7}\n",
    "s.add(7) # s ainda é {4, 7}\n",
    "s"
   ]
  },
  {
   "cell_type": "code",
   "execution_count": 4,
   "metadata": {
    "colab": {
     "base_uri": "https://localhost:8080/"
    },
    "id": "YetjBpwf-5NG",
    "outputId": "28f26eb7-1a1a-4f8e-af9a-ee264a17d053"
   },
   "outputs": [
    {
     "data": {
      "text/plain": [
       "2"
      ]
     },
     "execution_count": 4,
     "metadata": {},
     "output_type": "execute_result"
    }
   ],
   "source": [
    "x = len(s)\n",
    "x"
   ]
  },
  {
   "cell_type": "markdown",
   "metadata": {
    "id": "Waxl41Sc_Mqo"
   },
   "source": [
    "Utilidades dos sets:\n",
    "\n",
    "1 - O in é uma operação muito rápida em conjuntos;\n",
    "\n",
    "2 - Transformar uma coleção em set irá apagar valores repetidos."
   ]
  },
  {
   "cell_type": "code",
   "execution_count": 5,
   "metadata": {
    "colab": {
     "base_uri": "https://localhost:8080/"
    },
    "id": "61lISkI_-9FZ",
    "outputId": "86b59975-eec8-4997-8ac9-5211116b10a5"
   },
   "outputs": [
    {
     "data": {
      "text/plain": [
       "(True, False)"
      ]
     },
     "execution_count": 5,
     "metadata": {},
     "output_type": "execute_result"
    }
   ],
   "source": [
    "y1 = 4 in s\n",
    "y2 = 5 in s\n",
    "y1, y2"
   ]
  },
  {
   "cell_type": "code",
   "execution_count": 6,
   "metadata": {
    "colab": {
     "base_uri": "https://localhost:8080/"
    },
    "id": "lbayhQD6_kHE",
    "outputId": "2573c346-9306-410e-b26f-92ef15bb2cbd"
   },
   "outputs": [
    {
     "data": {
      "text/plain": [
       "(5, 3)"
      ]
     },
     "execution_count": 6,
     "metadata": {},
     "output_type": "execute_result"
    }
   ],
   "source": [
    "lista = [1, 3, 3, 5, 5]\n",
    "tamanho_lista = len(lista)\n",
    "\n",
    "novo_set = set(lista)\n",
    "tamanho_set = len(novo_set)\n",
    "\n",
    "tamanho_lista, tamanho_set"
   ]
  },
  {
   "cell_type": "markdown",
   "metadata": {
    "id": "87ozVt1gATLP"
   },
   "source": [
    "Sets serem não ordenados significa que a ordem de inserção dos elementos não é garantida."
   ]
  },
  {
   "cell_type": "code",
   "execution_count": null,
   "metadata": {
    "id": "TFexNUvOASNk"
   },
   "outputs": [],
   "source": [
    "conjunto = {3, 1, 2}\n",
    "conjunto # A saída pode ser {3, 1, 2}, {1, 3, 2}..."
   ]
  },
  {
   "cell_type": "markdown",
   "metadata": {
    "id": "J6Gl0u6eAtEn"
   },
   "source": [
    "Não indexados significa que você não pode acessar os elementos de um set usando um índice como se faz em uma lista ou tupla,"
   ]
  },
  {
   "cell_type": "code",
   "execution_count": null,
   "metadata": {
    "id": "nE_JK8P-AtxA"
   },
   "outputs": [],
   "source": [
    "conjunto = {10, 20, 30}\n",
    "conjunto[0]  # Isso vai gerar um erro!"
   ]
  },
  {
   "cell_type": "markdown",
   "metadata": {
    "id": "dHClnKXXBWdR"
   },
   "source": [
    "Embora a ordem dos elementos no conjunto possa parecer aleatória, o foco dos sets é proporcionar eficiência em buscas e garantir elementos únicos. Por isso, eles são não ordenados e não indexados.\n",
    "\n",
    "Sets são implementados internamente utilizando uma estrutura de dados chamada tabela de hash (hash table). A principal vantagem dessa implementação é que ela permite a busca rápida de elementos, já que os sets podem verificar rapidamente se um valor já está presente ou não, sem precisar percorrer todos os elementos como uma lista faria."
   ]
  },
  {
   "cell_type": "markdown",
   "metadata": {
    "id": "im_Y8VZOA_ya"
   },
   "source": [
    "## SIGA, CURTA E COMPARTILHE!"
   ]
  }
 ],
 "metadata": {
  "colab": {
   "provenance": []
  },
  "kernelspec": {
   "display_name": "Python 3",
   "name": "python3"
  },
  "language_info": {
   "name": "python"
  }
 },
 "nbformat": 4,
 "nbformat_minor": 0
}
