{
 "cells": [
  {
   "cell_type": "markdown",
   "metadata": {},
   "source": [
    "# Aula 17 - Compreensões de Listas (List Comprehensions)"
   ]
  },
  {
   "cell_type": "markdown",
   "metadata": {},
   "source": [
    "List comprehension é uma forma concisa e eficiente de criar listas em Python. \n",
    "\n",
    "Com ela, você pode gerar novas listas de maneira compacta, escrevendo uma única linha de código em vez de usar um loop for tradicional.\n",
    "\n",
    "List comprehensions são a forma Pythonic de transformar uma lista em outra.\n",
    "\n",
    "Pythonic significa escrever um código que seja claro, legível, eficiente e que aproveite ao máximo os recursos e convenções oferecidos pela linguagem Python.\n",
    "- Por isso @pylabpythonic"
   ]
  },
  {
   "cell_type": "markdown",
   "metadata": {},
   "source": [
    "Estrutura básica:\n",
    "\n",
    "    [expressão for item in iterável if condição]\n",
    "\n",
    "- expressão: O que você deseja incluir na nova lista (pode ser uma operação ou modificação do item).\n",
    "- item: Cada elemento do iterável (lista, tupla, etc.).\n",
    "- condição (opcional): Filtro que permite incluir ou excluir elementos da lista com base em uma condição."
   ]
  },
  {
   "cell_type": "code",
   "execution_count": 2,
   "metadata": {},
   "outputs": [
    {
     "name": "stdout",
     "output_type": "stream",
     "text": [
      "[2, 4, 6]\n"
     ]
    }
   ],
   "source": [
    "# Filtrando elementos de uma lista\n",
    "\n",
    "numeros = [1, 2, 3, 4, 5, 6]\n",
    "pares = [x for x in numeros if x % 2 == 0]\n",
    "print(pares)  # Saída: [2, 4, 6]\n"
   ]
  },
  {
   "cell_type": "code",
   "execution_count": null,
   "metadata": {},
   "outputs": [],
   "source": [
    "# Exemplo sem condição\n",
    "quadrados = [x**2 for x in range(1, 6)]\n",
    "print(quadrados)  # Saída: [1, 4, 9, 16, 25]"
   ]
  },
  {
   "cell_type": "code",
   "execution_count": null,
   "metadata": {},
   "outputs": [
    {
     "data": {
      "text/plain": [
       "['PYTHON', 'LIST', 'COMPREHENSION']"
      ]
     },
     "execution_count": 3,
     "metadata": {},
     "output_type": "execute_result"
    }
   ],
   "source": [
    "# Convertendo todas as letras para maiúsculas\n",
    "palavras = [\"python\", \"list\", \"comprehension\"]\n",
    "maiusculas = [palavra.upper() for palavra in palavras]\n",
    "maiusculas "
   ]
  },
  {
   "cell_type": "code",
   "execution_count": 7,
   "metadata": {},
   "outputs": [
    {
     "data": {
      "text/plain": [
       "[3, 5, 6, 9, 10, 12, 15, 18, 20]"
      ]
     },
     "execution_count": 7,
     "metadata": {},
     "output_type": "execute_result"
    }
   ],
   "source": [
    "multiplos = [x for x in range(1, 21) if x % 3 == 0 or x % 5 == 0]\n",
    "multiplos"
   ]
  },
  {
   "cell_type": "code",
   "execution_count": 8,
   "metadata": {},
   "outputs": [
    {
     "data": {
      "text/plain": [
       "[0, 1, 4, 9, 16, 25, 36, 49, 64, 81]"
      ]
     },
     "execution_count": 8,
     "metadata": {},
     "output_type": "execute_result"
    }
   ],
   "source": [
    "# Exemplo não Pythonic\n",
    "result = []\n",
    "for x in range(10):\n",
    "    result.append(x**2)\n",
    "result"
   ]
  },
  {
   "cell_type": "code",
   "execution_count": 9,
   "metadata": {},
   "outputs": [
    {
     "name": "stdout",
     "output_type": "stream",
     "text": [
      "[0, 1, 4, 9, 16, 25, 36, 49, 64, 81]\n"
     ]
    }
   ],
   "source": [
    "result = [x**2 for x in range(10)]\n",
    "print(result)"
   ]
  },
  {
   "cell_type": "markdown",
   "metadata": {},
   "source": [
    "Casos em que é útil\n",
    "- Criar novas listas a partir de iteráveis existentes.\n",
    "- Aplicar transformações a elementos de uma lista.\n",
    "- Filtrar elementos que atendem a uma condição específica.\n",
    "\n",
    "Considerações\n",
    "- Legibilidade: Embora list comprehensions sejam concisas, usá-las de forma excessivamente complexa (com múltiplas condições ou transformações complicadas) pode reduzir a legibilidade do código.\n",
    "- Complexidade: Para operações simples, as list comprehensions são uma excelente escolha, mas, em casos mais complexos, um loop tradicional pode ser mais fácil de entender."
   ]
  },
  {
   "cell_type": "markdown",
   "metadata": {},
   "source": [
    "# SIGA, CURTA E COMPARTILHE!"
   ]
  }
 ],
 "metadata": {
  "kernelspec": {
   "display_name": "Python 3",
   "language": "python",
   "name": "python3"
  },
  "language_info": {
   "codemirror_mode": {
    "name": "ipython",
    "version": 3
   },
   "file_extension": ".py",
   "mimetype": "text/x-python",
   "name": "python",
   "nbconvert_exporter": "python",
   "pygments_lexer": "ipython3",
   "version": "3.12.1"
  }
 },
 "nbformat": 4,
 "nbformat_minor": 2
}
