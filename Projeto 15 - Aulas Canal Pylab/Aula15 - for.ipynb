{
 "cells": [
  {
   "cell_type": "markdown",
   "metadata": {},
   "source": [
    "# Aula 15 - for"
   ]
  },
  {
   "cell_type": "markdown",
   "metadata": {},
   "source": [
    "O loop for em Python é uma estrutura de controle que permite iterar sobre uma sequência (como uma lista, uma string ou uma faixa de números), executando um bloco de código repetidamente para cada item da sequência"
   ]
  },
  {
   "cell_type": "markdown",
   "metadata": {},
   "source": [
    "Iterando sobre faixa de números"
   ]
  },
  {
   "cell_type": "code",
   "execution_count": 11,
   "metadata": {},
   "outputs": [
    {
     "name": "stdout",
     "output_type": "stream",
     "text": [
      "0\n",
      "1\n",
      "2\n",
      "3\n",
      "4\n"
     ]
    }
   ],
   "source": [
    "# Assim como a indexação, a iteração sobre uma faixa de números começa do 0\n",
    "for i in range(5):\n",
    "    print(i)"
   ]
  },
  {
   "cell_type": "markdown",
   "metadata": {},
   "source": [
    "range possui 3 argumentos:\n",
    "- start: ponto de início do loop.\n",
    "- stop: ponto final do loop.\n",
    "- step: passo do loop.\n",
    "\n",
    "\n",
    "\n"
   ]
  },
  {
   "cell_type": "code",
   "execution_count": 12,
   "metadata": {},
   "outputs": [
    {
     "name": "stdout",
     "output_type": "stream",
     "text": [
      "2\n",
      "4\n",
      "6\n",
      "8\n"
     ]
    }
   ],
   "source": [
    "for i in range(2, 10, 2):  # De 2 a 8 com passo 2. O loop é interrompido antes do stop\n",
    "    print(i)"
   ]
  },
  {
   "cell_type": "markdown",
   "metadata": {},
   "source": [
    "Iterando sobre listas"
   ]
  },
  {
   "cell_type": "code",
   "execution_count": 13,
   "metadata": {},
   "outputs": [
    {
     "name": "stdout",
     "output_type": "stream",
     "text": [
      "Terra\n",
      "Marte\n",
      "Vênus\n"
     ]
    }
   ],
   "source": [
    "planetas = [\"Terra\", \"Marte\", \"Vênus\"]\n",
    "for planeta in planetas:\n",
    "    print(planeta)\n"
   ]
  },
  {
   "cell_type": "code",
   "execution_count": 17,
   "metadata": {},
   "outputs": [
    {
     "name": "stdout",
     "output_type": "stream",
     "text": [
      "0 Terra\n",
      "1 Marte\n",
      "2 Vênus\n"
     ]
    }
   ],
   "source": [
    "for indice, planeta in enumerate(planetas):\n",
    "    print(indice, planeta)"
   ]
  },
  {
   "cell_type": "markdown",
   "metadata": {},
   "source": [
    "Iterando sobre string"
   ]
  },
  {
   "cell_type": "code",
   "execution_count": 18,
   "metadata": {},
   "outputs": [
    {
     "name": "stdout",
     "output_type": "stream",
     "text": [
      "P\n",
      "y\n",
      "t\n",
      "h\n",
      "o\n",
      "n\n"
     ]
    }
   ],
   "source": [
    "palavra = 'Python'\n",
    "for i in palavra:\n",
    "    print(i)"
   ]
  },
  {
   "cell_type": "markdown",
   "metadata": {},
   "source": [
    "Iterando sobre conjuntos (sets) "
   ]
  },
  {
   "cell_type": "code",
   "execution_count": null,
   "metadata": {},
   "outputs": [],
   "source": [
    "# A saída é imprevisível\n",
    "numeros = {3, 1, 4, 1, 5, 9}\n",
    "for num in numeros:\n",
    "    print(num)"
   ]
  },
  {
   "cell_type": "markdown",
   "metadata": {},
   "source": [
    "Iterando sobre dicionários"
   ]
  },
  {
   "cell_type": "code",
   "execution_count": null,
   "metadata": {},
   "outputs": [
    {
     "name": "stdout",
     "output_type": "stream",
     "text": [
      "nome\n",
      "idade\n",
      "curso\n",
      "\n",
      "Ana\n",
      "20\n",
      "Engenharia\n",
      "\n",
      "nome: Ana\n",
      "idade: 20\n",
      "curso: Engenharia\n"
     ]
    }
   ],
   "source": [
    "aluno = {\"nome\": \"Ana\", \"idade\": 20, \"curso\": \"Engenharia\"}\n",
    "\n",
    "# Iterar por chaves\n",
    "for chave in aluno:\n",
    "    print(chave)\n",
    "    \n",
    "print()\n",
    "# Iterar por valores\n",
    "for valor in aluno.values():\n",
    "    print(valor)\n",
    "\n",
    "print()\n",
    "# Iterar por pares chave-valor\n",
    "for chave, valor in aluno.items():\n",
    "    print(f\"{chave}: {valor}\")\n"
   ]
  },
  {
   "cell_type": "markdown",
   "metadata": {},
   "source": [
    "Usando o else com for"
   ]
  },
  {
   "cell_type": "code",
   "execution_count": 22,
   "metadata": {},
   "outputs": [
    {
     "name": "stdout",
     "output_type": "stream",
     "text": [
      "0\n",
      "1\n",
      "2\n",
      "3\n",
      "4\n",
      "Loop terminou sem problemas.\n"
     ]
    }
   ],
   "source": [
    "for numero in range(5):\n",
    "    print(numero)\n",
    "else:\n",
    "    print(\"Loop terminou sem problemas.\")\n"
   ]
  },
  {
   "cell_type": "markdown",
   "metadata": {},
   "source": [
    "for dentro de for"
   ]
  },
  {
   "cell_type": "code",
   "execution_count": 4,
   "metadata": {},
   "outputs": [
    {
     "name": "stdout",
     "output_type": "stream",
     "text": [
      "1 x 1 = 1\n",
      "1 x 2 = 2\n",
      "1 x 3 = 3\n",
      "1 x 4 = 4\n",
      "1 x 5 = 5\n",
      "1 x 6 = 6\n",
      "1 x 7 = 7\n",
      "1 x 8 = 8\n",
      "1 x 9 = 9\n",
      "1 x 10 = 10\n",
      "---------------\n",
      "2 x 1 = 2\n",
      "2 x 2 = 4\n",
      "2 x 3 = 6\n",
      "2 x 4 = 8\n",
      "2 x 5 = 10\n",
      "2 x 6 = 12\n",
      "2 x 7 = 14\n",
      "2 x 8 = 16\n",
      "2 x 9 = 18\n",
      "2 x 10 = 20\n",
      "---------------\n"
     ]
    }
   ],
   "source": [
    "for i in range(1, 3):  # Loop externo: 1 a 5\n",
    "    for j in range(1, 11):  # Loop interno: 1 a 10\n",
    "        print(f\"{i} x {j} = {i * j}\")\n",
    "    print(\"-\" * 15)  # Separador entre as tabuadas"
   ]
  },
  {
   "cell_type": "code",
   "execution_count": null,
   "metadata": {},
   "outputs": [
    {
     "name": "stdout",
     "output_type": "stream",
     "text": [
      "vermelho - círculo\n",
      "vermelho - quadrado\n",
      "verde - círculo\n",
      "verde - quadrado\n",
      "azul - círculo\n",
      "azul - quadrado\n"
     ]
    }
   ],
   "source": [
    "# Duas listas de elementos\n",
    "cores = ['vermelho', 'verde', 'azul']\n",
    "formas = ['círculo', 'quadrado']\n",
    "\n",
    "# Loop externo para percorrer as cores\n",
    "for cor in cores:\n",
    "    # Loop interno para percorrer as formas\n",
    "    for forma in formas:\n",
    "        print(f\"{cor} - {forma}\")"
   ]
  },
  {
   "cell_type": "markdown",
   "metadata": {},
   "source": [
    "### continue e break"
   ]
  },
  {
   "cell_type": "code",
   "execution_count": 15,
   "metadata": {},
   "outputs": [
    {
     "name": "stdout",
     "output_type": "stream",
     "text": [
      "Cajú\n",
      "Maçã\n",
      "Goiaba\n"
     ]
    }
   ],
   "source": [
    "# continue interrompe apenas a iteração atual do loop\n",
    "frutas = ['Cajú', 'Maçã', 'Acerola', 'Goiaba']\n",
    "\n",
    "for i in frutas:\n",
    "    if i == 'Acerola':\n",
    "        continue\n",
    "    print(i)"
   ]
  },
  {
   "cell_type": "code",
   "execution_count": 16,
   "metadata": {},
   "outputs": [
    {
     "name": "stdout",
     "output_type": "stream",
     "text": [
      "Cajú\n",
      "Maçã\n"
     ]
    }
   ],
   "source": [
    "# break interrrompe o loop todo e o compilador irá passar para a próxima linha do código\n",
    "for _ in frutas:\n",
    "    if _ == 'Acerola':\n",
    "      break\n",
    "    print(_)"
   ]
  },
  {
   "cell_type": "markdown",
   "metadata": {},
   "source": [
    "# SIGA, CURTA E COMPARTILHE!"
   ]
  }
 ],
 "metadata": {
  "kernelspec": {
   "display_name": "Python 3",
   "language": "python",
   "name": "python3"
  },
  "language_info": {
   "codemirror_mode": {
    "name": "ipython",
    "version": 3
   },
   "file_extension": ".py",
   "mimetype": "text/x-python",
   "name": "python",
   "nbconvert_exporter": "python",
   "pygments_lexer": "ipython3",
   "version": "3.12.1"
  }
 },
 "nbformat": 4,
 "nbformat_minor": 2
}
