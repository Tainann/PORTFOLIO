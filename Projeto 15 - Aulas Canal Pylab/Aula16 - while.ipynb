{
 "cells": [
  {
   "cell_type": "markdown",
   "metadata": {},
   "source": [
    "# Aula 16 - loop while"
   ]
  },
  {
   "cell_type": "markdown",
   "metadata": {},
   "source": [
    "O operador while em Python (e em outras linguagens) é uma estrutura de repetição que executa um bloco de código enquanto uma condição lógica for verdadeira. \n",
    "\n",
    "É amplamente usado em situações onde não sabemos previamente quantas vezes o loop precisará ser executado."
   ]
  },
  {
   "cell_type": "markdown",
   "metadata": {},
   "source": [
    "    while condição:\n",
    "        # Código a ser executado\n",
    "\n",
    "condição: É uma expressão lógica avaliada antes de cada iteração. Se for True, o bloco dentro do while é executado; se for False, o loop termina.\n"
   ]
  },
  {
   "cell_type": "markdown",
   "metadata": {},
   "source": [
    "Funcionamento básico:\n",
    "- O while verifica a condição antes de cada iteração.\n",
    "- Se a condição for False desde o início, o bloco do while não será executado nenhuma vez.\n",
    "\n",
    "Loops infinitos:\n",
    "- Se a condição nunca se tornar False, o loop continuará para sempre, resultando em um loop infinito.\n",
    "- Para evitar isso, garanta que a condição dependa de algo que pode mudar dentro do loop."
   ]
  },
  {
   "cell_type": "code",
   "execution_count": 1,
   "metadata": {},
   "outputs": [
    {
     "name": "stdout",
     "output_type": "stream",
     "text": [
      "1\n",
      "2\n",
      "3\n",
      "4\n",
      "5\n"
     ]
    }
   ],
   "source": [
    "count = 1  # Inicia o contador com 1\n",
    "while count <= 5:  # Enquanto o contador for menor ou igual a 5\n",
    "    print(count)  # Imprime o valor do contador\n",
    "    count += 1  # Incrementa o contador\n"
   ]
  },
  {
   "cell_type": "code",
   "execution_count": 6,
   "metadata": {},
   "outputs": [
    {
     "name": "stdout",
     "output_type": "stream",
     "text": [
      "5\n",
      "4\n",
      "3\n",
      "2\n",
      "1\n",
      "Fogo!\n"
     ]
    }
   ],
   "source": [
    "n = 5\n",
    "while n > 0:\n",
    "    print(n)\n",
    "    n -= 1  # Decrementa o valor de n\n",
    "print(\"Fogo!\")"
   ]
  },
  {
   "cell_type": "code",
   "execution_count": 3,
   "metadata": {},
   "outputs": [
    {
     "name": "stdout",
     "output_type": "stream",
     "text": [
      "Valor inválido. Tente novamente!\n",
      "Valor inválido. Tente novamente!\n",
      "Você digitou o número 5\n"
     ]
    }
   ],
   "source": [
    "numero = -1  # Inicializa a variável com um valor inválido\n",
    "while numero <= 0:  # Enquanto o número for menor ou igual a 0\n",
    "    numero = int(input(\"Digite um número positivo: \"))  # Pede ao usuário para digitar um número\n",
    "    if numero <= 0:\n",
    "        print('Valor inválido. Tente novamente!')\n",
    "print(f\"Você digitou o número {numero}\")\n"
   ]
  },
  {
   "cell_type": "markdown",
   "metadata": {},
   "source": [
    "### continue e break também funcionam para o while."
   ]
  },
  {
   "cell_type": "code",
   "execution_count": 5,
   "metadata": {},
   "outputs": [
    {
     "name": "stdout",
     "output_type": "stream",
     "text": [
      "Saindo do loop.\n"
     ]
    }
   ],
   "source": [
    "while True:  # Loop infinito\n",
    "    resposta = input(\"Digite 'sair' para parar: \").lower()\n",
    "    if resposta == \"sair\":  # Se o usuário digitar 'sair'\n",
    "        print(\"Saindo do loop.\")\n",
    "        break  # Encerra o loop\n"
   ]
  },
  {
   "cell_type": "code",
   "execution_count": 10,
   "metadata": {},
   "outputs": [
    {
     "name": "stdout",
     "output_type": "stream",
     "text": [
      "A soma atingiu 15 ao somar 5 números.\n"
     ]
    }
   ],
   "source": [
    "soma = 0\n",
    "numero = 1\n",
    "while soma < 15:  # Enquanto a soma for menor que 50\n",
    "    soma += numero  # Adiciona o número atual à soma\n",
    "    numero += 1  # Incrementa o número\n",
    "print(f\"A soma atingiu {soma} ao somar {numero - 1} números.\")\n"
   ]
  },
  {
   "cell_type": "code",
   "execution_count": 12,
   "metadata": {},
   "outputs": [
    {
     "name": "stdout",
     "output_type": "stream",
     "text": [
      "1\n",
      "2\n",
      "3\n",
      "4\n",
      "6\n",
      "7\n"
     ]
    }
   ],
   "source": [
    "count = 0\n",
    "while count < 10:\n",
    "    count += 1\n",
    "    if count == 5:\n",
    "        continue  # Pula o número 5\n",
    "    if count == 8:\n",
    "        break  # Encerra o loop no número 8\n",
    "    print(count)"
   ]
  },
  {
   "cell_type": "markdown",
   "metadata": {},
   "source": [
    "# DICAS"
   ]
  },
  {
   "cell_type": "markdown",
   "metadata": {},
   "source": [
    "Use while quando:\n",
    "- Você não sabe o número exato de iterações: O while é ideal quando você não tem um número fixo de repetições, mas sim uma condição que precisa ser verificada a cada iteração.\n",
    "- A condição depende de algo que muda dinamicamente: Se a condição de término do loop depende de fatores que mudam durante a execução do loop, como a entrada do usuário ou um valor calculado, use while.\n",
    "- Loops baseados em condições: Se você precisa continuar o loop até que uma condição específica seja atendida (como o estado de uma variável), o while é a escolha correta."
   ]
  },
  {
   "cell_type": "markdown",
   "metadata": {},
   "source": [
    "Use for quando:\n",
    "- Você sabe o número de iterações de antemão: Se você sabe quantas vezes o loop precisa ser executado, como em um intervalo de números ou ao iterar sobre uma lista, o for é mais adequado. Ele é mais eficiente e claro quando o número de iterações é conhecido.\n",
    "- Você está iterando sobre uma sequência (lista, tupla, dicionário, intervalo, etc.): O for é perfeito para percorrer elementos de uma sequência ou iterável. Isso inclui iterar sobre uma lista, tupla, string ou qualquer objeto iterável.\n",
    "- A iteração é baseada em um intervalo fixo ou um conjunto de dados: Se você deseja percorrer uma lista de elementos ou uma faixa de números, use for."
   ]
  },
  {
   "cell_type": "markdown",
   "metadata": {},
   "source": [
    "Resumo:\n",
    "\n",
    "    while: Use quando não souber o número exato de iterações e a repetição for baseada em uma condição.\n",
    "    for: Use quando você tem um número fixo de iterações ou quando está percorrendo uma sequência de elementos conhecidos."
   ]
  },
  {
   "cell_type": "markdown",
   "metadata": {},
   "source": [
    "### Podem haver casos em que qualquer um dos dois loops pode ser usado, como a seguir:"
   ]
  },
  {
   "cell_type": "code",
   "execution_count": 13,
   "metadata": {},
   "outputs": [
    {
     "name": "stdout",
     "output_type": "stream",
     "text": [
      "0\n",
      "1\n",
      "2\n",
      "3\n",
      "4\n"
     ]
    }
   ],
   "source": [
    "for i in range(5):\n",
    "    print(i)"
   ]
  },
  {
   "cell_type": "code",
   "execution_count": 14,
   "metadata": {},
   "outputs": [
    {
     "name": "stdout",
     "output_type": "stream",
     "text": [
      "0\n",
      "1\n",
      "2\n",
      "3\n",
      "4\n"
     ]
    }
   ],
   "source": [
    "i = 0\n",
    "while i < 5:\n",
    "    print(i)\n",
    "    i += 1"
   ]
  },
  {
   "cell_type": "markdown",
   "metadata": {},
   "source": [
    "# SIGA, CURTA E COMPARTILHE!"
   ]
  }
 ],
 "metadata": {
  "kernelspec": {
   "display_name": "Python 3",
   "language": "python",
   "name": "python3"
  },
  "language_info": {
   "codemirror_mode": {
    "name": "ipython",
    "version": 3
   },
   "file_extension": ".py",
   "mimetype": "text/x-python",
   "name": "python",
   "nbconvert_exporter": "python",
   "pygments_lexer": "ipython3",
   "version": "3.12.1"
  }
 },
 "nbformat": 4,
 "nbformat_minor": 2
}
