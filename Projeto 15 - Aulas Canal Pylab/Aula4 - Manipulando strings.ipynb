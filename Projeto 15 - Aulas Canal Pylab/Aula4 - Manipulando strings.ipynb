{
 "cells": [
  {
   "cell_type": "markdown",
   "metadata": {
    "id": "K-uwcR3NGrt1"
   },
   "source": [
    "# Aula 4 - Manipulando Strings\n",
    "\n",
    "Existem vários métodos que podem ser aplicados para manipular strings. \n",
    "\n",
    "Os métodos aplicados não alteram a string original."
   ]
  },
  {
   "cell_type": "code",
   "execution_count": 15,
   "metadata": {
    "colab": {
     "base_uri": "https://localhost:8080/"
    },
    "id": "3G6I5oOuGsTH",
    "outputId": "280f0cc8-be88-4c60-d315-5e87a3ef09df"
   },
   "outputs": [
    {
     "name": "stdout",
     "output_type": "stream",
     "text": [
      "eixe\n",
      "te\n"
     ]
    }
   ],
   "source": [
    "frase = \"O peixe que voava em Marte\"\n",
    "print(frase[3:7])    # pega do índice 3 ao 6\n",
    "print(frase[-2:])    # pega do penúltimo em diante"
   ]
  },
  {
   "cell_type": "code",
   "execution_count": 9,
   "metadata": {
    "colab": {
     "base_uri": "https://localhost:8080/"
    },
    "id": "ChBZE7HrGHWo",
    "outputId": "aa513e6a-d127-4037-8828-89bf6aee6ab7"
   },
   "outputs": [
    {
     "name": "stdout",
     "output_type": "stream",
     "text": [
      "o peixe que voava em marte\n"
     ]
    }
   ],
   "source": [
    "frase = \"O PEIXE que voava em Marte\"\n",
    "print(frase.lower())"
   ]
  },
  {
   "cell_type": "code",
   "execution_count": 10,
   "metadata": {
    "colab": {
     "base_uri": "https://localhost:8080/"
    },
    "id": "19vKyttKGHjK",
    "outputId": "c7a029bc-fa6e-4b51-e981-0119ab800e91"
   },
   "outputs": [
    {
     "name": "stdout",
     "output_type": "stream",
     "text": [
      "etraM me avaov euq EXIEP O\n"
     ]
    }
   ],
   "source": [
    "print(frase[::-1])"
   ]
  },
  {
   "cell_type": "code",
   "execution_count": 11,
   "metadata": {
    "colab": {
     "base_uri": "https://localhost:8080/"
    },
    "id": "HwctIAmaGHsZ",
    "outputId": "2f605b2d-7097-4059-d302-b3bcb1908c5b"
   },
   "outputs": [
    {
     "name": "stdout",
     "output_type": "stream",
     "text": [
      "O PEIXE QUE VOAVA EM MARTE\n"
     ]
    }
   ],
   "source": [
    "print(frase.upper())"
   ]
  },
  {
   "cell_type": "code",
   "execution_count": 16,
   "metadata": {
    "colab": {
     "base_uri": "https://localhost:8080/"
    },
    "id": "xWQRbMcOGH3i",
    "outputId": "c3e4d908-8d6f-4b83-bac7-9275aa08e360"
   },
   "outputs": [
    {
     "name": "stdout",
     "output_type": "stream",
     "text": [
      "O peixe não sabe nadar\n"
     ]
    }
   ],
   "source": [
    "frase = \"o peixe não sabe nadar\"\n",
    "print(frase.capitalize())"
   ]
  },
  {
   "cell_type": "code",
   "execution_count": 12,
   "metadata": {
    "colab": {
     "base_uri": "https://localhost:8080/"
    },
    "id": "bBjgNkKxGIB9",
    "outputId": "4a85097b-2ed9-4f38-f261-e1c499defc58"
   },
   "outputs": [
    {
     "name": "stdout",
     "output_type": "stream",
     "text": [
      "O Peixe Não Sabe Nadar\n"
     ]
    }
   ],
   "source": [
    "print(frase.title())"
   ]
  },
  {
   "cell_type": "code",
   "execution_count": 17,
   "metadata": {
    "colab": {
     "base_uri": "https://localhost:8080/"
    },
    "id": "Us1T0IRBHvyJ",
    "outputId": "2073ccf4-65b9-40e7-c177-f8d440436bf2"
   },
   "outputs": [
    {
     "name": "stdout",
     "output_type": "stream",
     "text": [
      "O PEIXE não SABE NADAR\n"
     ]
    }
   ],
   "source": [
    "frase = \"o peixe NÃO sabe nadar\"\n",
    "print(frase.swapcase())  # inverte maiúsculas e minúsculas"
   ]
  },
  {
   "cell_type": "code",
   "execution_count": 18,
   "metadata": {
    "colab": {
     "base_uri": "https://localhost:8080/"
    },
    "id": "lVc3mIr4H3rU",
    "outputId": "347ecd9d-8182-4d89-b40a-b98b3dda3e9b"
   },
   "outputs": [
    {
     "name": "stdout",
     "output_type": "stream",
     "text": [
      "o peixe não sabe nadar\n",
      "o peixe não sabe nadar  \n",
      "  o peixe não sabe nadar\n"
     ]
    }
   ],
   "source": [
    "frase = \"  o peixe não sabe nadar  \"\n",
    "print(frase.strip())   # Saída: \"o peixe não sabe nadar\"\n",
    "print(frase.lstrip())  # Saída: \"o peixe não sabe nadar  \"\n",
    "print(frase.rstrip())  # Saída: \"  o peixe não sabe nadar\""
   ]
  },
  {
   "cell_type": "code",
   "execution_count": 19,
   "metadata": {
    "colab": {
     "base_uri": "https://localhost:8080/"
    },
    "id": "1TikGmkBH87r",
    "outputId": "22705af2-6efb-4123-b546-b89b1fb67b3c"
   },
   "outputs": [
    {
     "name": "stdout",
     "output_type": "stream",
     "text": [
      "o cachorro não sabe nadar\n"
     ]
    }
   ],
   "source": [
    "frase = \"o peixe não sabe nadar\"\n",
    "print(frase.replace(\"peixe\", \"cachorro\")) # troca uma palavra por outra"
   ]
  },
  {
   "cell_type": "code",
   "execution_count": 13,
   "metadata": {
    "colab": {
     "base_uri": "https://localhost:8080/"
    },
    "id": "pDR_Obf2IBzv",
    "outputId": "f860e8fc-eb75-4ffa-f5b1-2658a455ed12"
   },
   "outputs": [
    {
     "name": "stdout",
     "output_type": "stream",
     "text": [
      "2\n",
      "-1\n"
     ]
    }
   ],
   "source": [
    "frase = \"o peixe não sabe nadar\"\n",
    "print(frase.find(\"peixe\"))        # Saída: 2 (posição da palavra \"peixe\")\n",
    "print(frase.find(\"gato\"))         # Saída: -1 (não encontrado)"
   ]
  },
  {
   "cell_type": "code",
   "execution_count": 14,
   "metadata": {
    "colab": {
     "base_uri": "https://localhost:8080/"
    },
    "id": "B84IgvEhIbak",
    "outputId": "363d9100-3f52-48d5-edbf-661ff1ec250c"
   },
   "outputs": [
    {
     "name": "stdout",
     "output_type": "stream",
     "text": [
      "['o', 'peixe', 'não', 'sabe', 'nadar']\n",
      "['o peixe ', ' sabe nadar']\n"
     ]
    }
   ],
   "source": [
    "frase = \"o peixe não sabe nadar\"\n",
    "print(frase.split())           # Usa os espaços como critério de corte\n",
    "print(frase.split(\"não\"))      # Usa 'não' como critério de corte\n"
   ]
  },
  {
   "cell_type": "markdown",
   "metadata": {
    "id": "unKWOYDRIp0j"
   },
   "source": [
    "# CURTA, SIGA E COMPARTILHE!"
   ]
  }
 ],
 "metadata": {
  "colab": {
   "provenance": []
  },
  "kernelspec": {
   "display_name": "Python 3",
   "name": "python3"
  },
  "language_info": {
   "name": "python"
  }
 },
 "nbformat": 4,
 "nbformat_minor": 0
}
