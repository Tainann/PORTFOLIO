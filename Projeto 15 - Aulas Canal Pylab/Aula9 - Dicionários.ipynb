{
 "cells": [
  {
   "cell_type": "markdown",
   "metadata": {
    "id": "CeS6uTKq3Yvy"
   },
   "source": [
    "# Aula 9 - Dicionários"
   ]
  },
  {
   "cell_type": "markdown",
   "metadata": {},
   "source": [
    "Um dicionário associa valores a chaves e permite rápida recuperação do valor correspondente a uma determinada chave.\n",
    "\n",
    "São definidos usando {}.\n",
    "\n",
    "Os dicionários são ótimos para armazenar dados estruturados e, com suas operações rápidas de busca e atualização, são ideais para cenários em que é preciso acessar dados através de identificadores ou nomes específicos."
   ]
  },
  {
   "cell_type": "code",
   "execution_count": 1,
   "metadata": {
    "colab": {
     "base_uri": "https://localhost:8080/"
    },
    "id": "bMFNV2Ym4WHE",
    "outputId": "d790dccd-82dd-4f9f-b11a-b532589c8876"
   },
   "outputs": [
    {
     "data": {
      "text/plain": [
       "{'Levi': 83, 'Asta': 69}"
      ]
     },
     "execution_count": 1,
     "metadata": {},
     "output_type": "execute_result"
    }
   ],
   "source": [
    "dict_vazio = {} # Criando dicionário vazio\n",
    "outro_dict = dict()\n",
    "\n",
    "notas = {'Levi': 83, 'Asta': 69}\n",
    "notas"
   ]
  },
  {
   "cell_type": "code",
   "execution_count": 13,
   "metadata": {
    "colab": {
     "base_uri": "https://localhost:8080/"
    },
    "id": "0hwDCiyD5c9y",
    "outputId": "637ebe44-dc0d-4053-9e14-617fbecf10ce"
   },
   "outputs": [
    {
     "data": {
      "text/plain": [
       "{'nome': 'Carlos',\n",
       " 'idade': 21,\n",
       " 'curso': 'Engenharia',\n",
       " 'notas': [8.5, 9.0, 7.5]}"
      ]
     },
     "execution_count": 13,
     "metadata": {},
     "output_type": "execute_result"
    }
   ],
   "source": [
    "# Definindo um dicionário\n",
    "aluno = {\n",
    "    \"nome\": \"Carlos\",\n",
    "    \"idade\": 21,\n",
    "    \"curso\": \"Engenharia\",\n",
    "    \"notas\": [8.5, 9.0, 7.5]\n",
    "}\n",
    "\n",
    "aluno"
   ]
  },
  {
   "cell_type": "code",
   "execution_count": 8,
   "metadata": {
    "colab": {
     "base_uri": "https://localhost:8080/"
    },
    "id": "LA6z42Fl54us",
    "outputId": "1c196f29-b424-4f57-cd90-82ca4cb26bfd"
   },
   "outputs": [
    {
     "data": {
      "text/plain": [
       "[8.5, 9.0, 7.5]"
      ]
     },
     "execution_count": 8,
     "metadata": {},
     "output_type": "execute_result"
    }
   ],
   "source": [
    "# Acessando valores através das chaves\n",
    "aluno[\"nome\"]\n",
    "aluno[\"notas\"]"
   ]
  },
  {
   "cell_type": "code",
   "execution_count": 9,
   "metadata": {
    "colab": {
     "base_uri": "https://localhost:8080/"
    },
    "id": "kp01qziI5qex",
    "outputId": "ee6dc50b-708e-457d-e101-98f1aed56221"
   },
   "outputs": [
    {
     "data": {
      "text/plain": [
       "{'nome': 'Carlos',\n",
       " 'idade': 21,\n",
       " 'curso': 'Cinema',\n",
       " 'notas': [8.5, 9.0, 7.5],\n",
       " 'cidade': 'São Paulo'}"
      ]
     },
     "execution_count": 9,
     "metadata": {},
     "output_type": "execute_result"
    }
   ],
   "source": [
    "aluno[\"cidade\"] = \"São Paulo\"  # Adiciona uma nova chave\n",
    "aluno[\"curso\"] = \"Cinema\"  # Atualiza o valor de uma chave existente\n",
    "aluno"
   ]
  },
  {
   "cell_type": "code",
   "execution_count": 10,
   "metadata": {
    "colab": {
     "base_uri": "https://localhost:8080/"
    },
    "id": "7DsD7EHc5qrw",
    "outputId": "3d57e5ad-457b-4a5d-aca7-f9183e316ce3"
   },
   "outputs": [
    {
     "data": {
      "text/plain": [
       "{'nome': 'Carlos',\n",
       " 'curso': 'Cinema',\n",
       " 'notas': [8.5, 9.0, 7.5],\n",
       " 'cidade': 'São Paulo'}"
      ]
     },
     "execution_count": 10,
     "metadata": {},
     "output_type": "execute_result"
    }
   ],
   "source": [
    "aluno.pop(\"idade\")          # Remove a chave 'idade'\n",
    "aluno"
   ]
  },
  {
   "cell_type": "code",
   "execution_count": 11,
   "metadata": {
    "colab": {
     "base_uri": "https://localhost:8080/"
    },
    "id": "guUhNudI6HQm",
    "outputId": "779c6350-9c32-4002-a424-9ac8c8e803cc"
   },
   "outputs": [
    {
     "data": {
      "text/plain": [
       "{'nome': 'Carlos', 'curso': 'Cinema', 'notas': [8.5, 9.0, 7.5]}"
      ]
     },
     "execution_count": 11,
     "metadata": {},
     "output_type": "execute_result"
    }
   ],
   "source": [
    "del aluno[\"cidade\"]         # Remove a chave 'cidade'\n",
    "aluno"
   ]
  },
  {
   "cell_type": "code",
   "execution_count": 12,
   "metadata": {
    "colab": {
     "base_uri": "https://localhost:8080/"
    },
    "id": "punVMWY76HTn",
    "outputId": "bb0faea9-8427-41b3-be15-a1fe3612df97"
   },
   "outputs": [
    {
     "data": {
      "text/plain": [
       "{}"
      ]
     },
     "execution_count": 12,
     "metadata": {},
     "output_type": "execute_result"
    }
   ],
   "source": [
    "aluno.clear()               # Limpa todo o dicionário\n",
    "aluno"
   ]
  },
  {
   "cell_type": "code",
   "execution_count": 25,
   "metadata": {
    "colab": {
     "base_uri": "https://localhost:8080/"
    },
    "id": "uJYPlOYR6Fq5",
    "outputId": "11d0d9f1-e66f-46db-966b-214dfbc974d1"
   },
   "outputs": [
    {
     "data": {
      "text/plain": [
       "4"
      ]
     },
     "execution_count": 25,
     "metadata": {},
     "output_type": "execute_result"
    }
   ],
   "source": [
    "# Definindo um dicionário\n",
    "aluno = {\n",
    "    \"nome\": \"Carlos\",\n",
    "    \"idade\": 21,\n",
    "    \"curso\": \"Engenharia\",\n",
    "    \"notas\": [8.5, 9.0, 7.5]\n",
    "}\n",
    "len(aluno)"
   ]
  },
  {
   "cell_type": "code",
   "execution_count": 15,
   "metadata": {
    "colab": {
     "base_uri": "https://localhost:8080/"
    },
    "id": "uMyA6RoX648O",
    "outputId": "3409d9dc-7c0a-4b1f-ea07-d2431f233342"
   },
   "outputs": [
    {
     "data": {
      "text/plain": [
       "True"
      ]
     },
     "execution_count": 15,
     "metadata": {},
     "output_type": "execute_result"
    }
   ],
   "source": [
    "chave_buscada = 'curso' in aluno\n",
    "chave_buscada\n",
    "# Essa verificação não funciona diretamente para os valores"
   ]
  },
  {
   "cell_type": "code",
   "execution_count": 21,
   "metadata": {
    "colab": {
     "base_uri": "https://localhost:8080/"
    },
    "id": "-a_SIuho76FK",
    "outputId": "e4c8434d-1fec-4408-87ac-8e27549491f5"
   },
   "outputs": [
    {
     "data": {
      "text/plain": [
       "dict_keys(['nome', 'idade', 'curso', 'notas'])"
      ]
     },
     "execution_count": 21,
     "metadata": {},
     "output_type": "execute_result"
    }
   ],
   "source": [
    "chaves_aluno = aluno.keys() # Iterável para as chaves\n",
    "valores_aluno = aluno.values() # Iterável para os valores\n",
    "items_aluno = aluno.items() # Iterável para as tuplas (chave, valores)\n",
    "\n",
    "chaves_aluno"
   ]
  },
  {
   "cell_type": "code",
   "execution_count": 19,
   "metadata": {
    "colab": {
     "base_uri": "https://localhost:8080/"
    },
    "id": "1Yl2eoQx8d2w",
    "outputId": "9f3f0e84-fe7d-4d05-f74f-ad001c5a7292"
   },
   "outputs": [
    {
     "data": {
      "text/plain": [
       "dict_values(['Carlos', 21, 'Engenharia', [8.5, 9.0, 7.5]])"
      ]
     },
     "execution_count": 19,
     "metadata": {},
     "output_type": "execute_result"
    }
   ],
   "source": [
    "valores_aluno"
   ]
  },
  {
   "cell_type": "code",
   "execution_count": 27,
   "metadata": {
    "colab": {
     "base_uri": "https://localhost:8080/"
    },
    "id": "zvTF3eGF8tje",
    "outputId": "de45c359-1cd5-4a36-b004-c31c0b379d62"
   },
   "outputs": [
    {
     "data": {
      "text/plain": [
       "True"
      ]
     },
     "execution_count": 27,
     "metadata": {},
     "output_type": "execute_result"
    }
   ],
   "source": [
    "valor_buscado = 21 in valores_aluno\n",
    "valor_buscado"
   ]
  },
  {
   "cell_type": "code",
   "execution_count": 22,
   "metadata": {
    "colab": {
     "base_uri": "https://localhost:8080/"
    },
    "id": "JjRLm_Mw8d90",
    "outputId": "a5bff4ca-6e57-4a7c-cef5-cb0ee45b92d2"
   },
   "outputs": [
    {
     "data": {
      "text/plain": [
       "dict_items([('nome', 'Carlos'), ('idade', 21), ('curso', 'Engenharia'), ('notas', [8.5, 9.0, 7.5])])"
      ]
     },
     "execution_count": 22,
     "metadata": {},
     "output_type": "execute_result"
    }
   ],
   "source": [
    "items_aluno"
   ]
  },
  {
   "cell_type": "code",
   "execution_count": 16,
   "metadata": {
    "colab": {
     "base_uri": "https://localhost:8080/"
    },
    "id": "tyR_qtDq7o2x",
    "outputId": "bd0e0983-2657-47a4-fe8b-ca134eb72526"
   },
   "outputs": [
    {
     "data": {
      "text/plain": [
       "9"
      ]
     },
     "execution_count": 16,
     "metadata": {},
     "output_type": "execute_result"
    }
   ],
   "source": [
    "# Podem existir dicts dentro de um dict\n",
    "turma = {\n",
    "    \"aluno1\": {\"nome\": \"Carlos\", \"nota\": 9},\n",
    "    \"aluno2\": {\"nome\": \"Ana\", \"nota\": 8}\n",
    "}\n",
    "turma[\"aluno1\"][\"nota\"]  # Saída: 9"
   ]
  },
  {
   "cell_type": "code",
   "execution_count": 17,
   "metadata": {
    "colab": {
     "base_uri": "https://localhost:8080/"
    },
    "id": "VgJ6M3E_7y1g",
    "outputId": "d8101714-e51a-4a1c-9024-82723b771486"
   },
   "outputs": [
    {
     "data": {
      "text/plain": [
       "{'aluno1': {'nome': 'Carlos', 'nota': 9}, 'aluno2': {'nome': 'Ana', 'nota': 8}}"
      ]
     },
     "execution_count": 17,
     "metadata": {},
     "output_type": "execute_result"
    }
   ],
   "source": [
    "turma"
   ]
  },
  {
   "cell_type": "markdown",
   "metadata": {
    "id": "4mtsv-R39Gxi"
   },
   "source": [
    "# SIGA, CURTA E COMPARTILHE!"
   ]
  }
 ],
 "metadata": {
  "colab": {
   "provenance": []
  },
  "kernelspec": {
   "display_name": "Python 3",
   "name": "python3"
  },
  "language_info": {
   "name": "python"
  }
 },
 "nbformat": 4,
 "nbformat_minor": 0
}
