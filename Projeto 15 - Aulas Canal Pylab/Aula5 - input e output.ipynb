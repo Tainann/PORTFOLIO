{
 "cells": [
  {
   "cell_type": "markdown",
   "metadata": {
    "id": "jD4nCeM8-W7c"
   },
   "source": [
    "# Aula 5 - input e output\n",
    "\n",
    "input: dado ou informação que o programa recebe do usuário. \n",
    "\n",
    "output: dado ou informação que o programa mostra ao usuário."
   ]
  },
  {
   "cell_type": "code",
   "execution_count": 4,
   "metadata": {},
   "outputs": [
    {
     "name": "stdout",
     "output_type": "stream",
     "text": [
      "Olá, mundo!\n"
     ]
    }
   ],
   "source": [
    "print('Olá, mundo!')"
   ]
  },
  {
   "cell_type": "code",
   "execution_count": 3,
   "metadata": {},
   "outputs": [
    {
     "name": "stdout",
     "output_type": "stream",
     "text": [
      "Olá, mundo!\n"
     ]
    }
   ],
   "source": [
    "print(\"Olá,\", end=\" \")\n",
    "print(\"mundo!\")"
   ]
  },
  {
   "cell_type": "code",
   "execution_count": 4,
   "metadata": {
    "colab": {
     "base_uri": "https://localhost:8080/"
    },
    "id": "xdgrIvA0-w4Q",
    "outputId": "59daf478-e318-4cf1-f747-3b8f220f30a2"
   },
   "outputs": [
    {
     "name": "stdout",
     "output_type": "stream",
     "text": [
      "Olá, CR7\n"
     ]
    }
   ],
   "source": [
    "nome = input('Digite seu nome: ')\n",
    "print(f'Olá, {nome}')\n",
    "# f'' é chamada de f-string (ou formatted string literal)\n",
    "# Python entende tanto '' quanto \"\""
   ]
  },
  {
   "cell_type": "code",
   "execution_count": 5,
   "metadata": {},
   "outputs": [
    {
     "name": "stdout",
     "output_type": "stream",
     "text": [
      "<class 'str'>\n",
      "<class 'float'>\n"
     ]
    }
   ],
   "source": [
    "# input retorna sempre uma string, então é preciso converter os dados inseridos\n",
    "# caso seja preciso usá-los em operações matemáticas\n",
    "numero = (input('Digite um número: '))\n",
    "print(type(numero))\n",
    "numero = float(numero)\n",
    "print(type(numero))"
   ]
  },
  {
   "cell_type": "code",
   "execution_count": 11,
   "metadata": {},
   "outputs": [
    {
     "name": "stdout",
     "output_type": "stream",
     "text": [
      "5.0 5\n"
     ]
    }
   ],
   "source": [
    "numero2 = float(input('Digite um número: '))\n",
    "numero3 = int(input('Digite um número: '))\n",
    "print(numero2, numero3)"
   ]
  },
  {
   "cell_type": "code",
   "execution_count": 6,
   "metadata": {
    "colab": {
     "base_uri": "https://localhost:8080/"
    },
    "id": "u0P873SV_lBE",
    "outputId": "e67f16c7-4f62-4964-9a78-4d596ea7bdda"
   },
   "outputs": [
    {
     "name": "stdout",
     "output_type": "stream",
     "text": [
      "O valor de c é 3\n"
     ]
    }
   ],
   "source": [
    "c = 3\n",
    "print('O valor de c é', c)"
   ]
  },
  {
   "cell_type": "code",
   "execution_count": 7,
   "metadata": {
    "colab": {
     "base_uri": "https://localhost:8080/"
    },
    "id": "W_nFPyOPAUQY",
    "outputId": "8eba9538-548d-44cd-b2dc-0b41f1151803"
   },
   "outputs": [
    {
     "name": "stdout",
     "output_type": "stream",
     "text": [
      "O valor 4 é maior 3\n"
     ]
    }
   ],
   "source": [
    "b = 4\n",
    "print('O valor', b, 'é maior', c)"
   ]
  },
  {
   "cell_type": "code",
   "execution_count": 8,
   "metadata": {
    "colab": {
     "base_uri": "https://localhost:8080/"
    },
    "id": "5ueI4SwLAkkA",
    "outputId": "f2087a0f-e7f2-4ee0-f552-c6454071e918"
   },
   "outputs": [
    {
     "name": "stdout",
     "output_type": "stream",
     "text": [
      "O sobrenome do Cadu é Gomes\n"
     ]
    }
   ],
   "source": [
    "nome = 'Cadu'\n",
    "sobrenome = 'Gomes'\n",
    "texto = 'O sobrenome do ' + nome + ' é ' + sobrenome\n",
    "print(texto)"
   ]
  },
  {
   "cell_type": "code",
   "execution_count": 9,
   "metadata": {
    "colab": {
     "base_uri": "https://localhost:8080/"
    },
    "id": "rH_Khwb2Do6I",
    "outputId": "8a53bef8-1de7-4d8c-9020-f7afff00f621"
   },
   "outputs": [
    {
     "name": "stdout",
     "output_type": "stream",
     "text": [
      "Valor arredondado: 15.254\n"
     ]
    }
   ],
   "source": [
    "d = 15.253938\n",
    "print(f'Valor arredondado: {d:.3f}')"
   ]
  },
  {
   "cell_type": "markdown",
   "metadata": {
    "id": "5_wxkgnzBqi6"
   },
   "source": [
    "# SIGA, CURTA E COMPARTILHE!"
   ]
  }
 ],
 "metadata": {
  "colab": {
   "provenance": []
  },
  "kernelspec": {
   "display_name": "Python 3",
   "name": "python3"
  },
  "language_info": {
   "codemirror_mode": {
    "name": "ipython",
    "version": 3
   },
   "file_extension": ".py",
   "mimetype": "text/x-python",
   "name": "python",
   "nbconvert_exporter": "python",
   "pygments_lexer": "ipython3",
   "version": "3.12.1"
  }
 },
 "nbformat": 4,
 "nbformat_minor": 0
}
