{
 "cells": [
  {
   "cell_type": "markdown",
   "metadata": {
    "id": "hZTRuxjcjFAu"
   },
   "source": [
    "# AULA 12 - Exercícios de Estruturas Sequenciais\n",
    "\n",
    "Se a questão não informar, exiba sempre os valores com duas casas decimais."
   ]
  },
  {
   "cell_type": "markdown",
   "metadata": {
    "id": "3-tUt_SKnJux"
   },
   "source": [
    "#### 1 - Faça um programa que peça um número e então mostre a mensagem \"O número informado foi [número]\"."
   ]
  },
  {
   "cell_type": "code",
   "execution_count": 2,
   "metadata": {
    "colab": {
     "base_uri": "https://localhost:8080/"
    },
    "id": "Axb2fJBLjICi",
    "outputId": "0b472148-a016-4eae-877c-a9d964703927"
   },
   "outputs": [
    {
     "name": "stdout",
     "output_type": "stream",
     "text": [
      "Informe um número: 2.7\n",
      "O número informado foi 2.7.\n"
     ]
    }
   ],
   "source": [
    "# Questão 1\n",
    "x = float(input('Informe um número: '))\n",
    "print(f'O número informado foi {x}.')"
   ]
  },
  {
   "cell_type": "markdown",
   "metadata": {
    "id": "yo60DhtQnAhM"
   },
   "source": [
    "#### 2 - Faça um programa que converta metros para centímetros e informe o resultado da conversão."
   ]
  },
  {
   "cell_type": "code",
   "execution_count": 5,
   "metadata": {
    "colab": {
     "base_uri": "https://localhost:8080/"
    },
    "id": "yKmJJIzDlaV2",
    "outputId": "c7f65e4f-3c68-4e1d-bdd7-12eeba2f7db2"
   },
   "outputs": [
    {
     "name": "stdout",
     "output_type": "stream",
     "text": [
      "Informe a quantidade em metros: 0.57\n",
      "0.57 metros é igual a 57.00 centímetros\n"
     ]
    }
   ],
   "source": [
    "# Questão 2\n",
    "m = float(input('Informe a quantidade em metros: '))\n",
    "c = m*100\n",
    "print(f'{m} metros é igual a {c:.2f} centímetros')"
   ]
  },
  {
   "cell_type": "markdown",
   "metadata": {
    "id": "UgrUao7bnm9G"
   },
   "source": [
    "#### 3 - Faça um programa que peça a temperatura em graus Fahrenheit, transforme e mostre a temperatura em graus Celsius. Use a seguinte fórmula:\n",
    "\n",
    "    C = 5 * ((F-32) / 9)"
   ]
  },
  {
   "cell_type": "code",
   "execution_count": 9,
   "metadata": {
    "colab": {
     "base_uri": "https://localhost:8080/"
    },
    "id": "VJgvbCzOmKs1",
    "outputId": "872cfff7-a042-4a47-9480-365828283495"
   },
   "outputs": [
    {
     "name": "stdout",
     "output_type": "stream",
     "text": [
      "Informe a temperatura em Fahrenheit: 30\n",
      "30.0 °F é igual a -1.11 °C\n"
     ]
    }
   ],
   "source": [
    "# Questão 3\n",
    "fah = float(input('Informe a temperatura em Fahrenheit: '))\n",
    "cel = 5 * ((fah - 32) / 9)\n",
    "print(f'{fah} °F é igual a {cel:.2f} °C')"
   ]
  },
  {
   "cell_type": "markdown",
   "metadata": {
    "id": "ukbZzogUnpqa"
   },
   "source": [
    "#### 4 - Escreva um programa que leia o valor de um produto em R$ e aplique um desconto de 10%. Exiba o valor original, o desconto e o valor final com o desconto aplicado."
   ]
  },
  {
   "cell_type": "code",
   "execution_count": 11,
   "metadata": {
    "colab": {
     "base_uri": "https://localhost:8080/"
    },
    "id": "nLRndwfWnrlT",
    "outputId": "f56af2e0-2308-4000-f971-7eaa697ce9c5"
   },
   "outputs": [
    {
     "name": "stdout",
     "output_type": "stream",
     "text": [
      "Informe o valor do produto: 10\n",
      "\n",
      "Valor original: R$ 10.00\n",
      "Desconto: R$ 1.00\n",
      "Valor final: R$ 9.00\n"
     ]
    }
   ],
   "source": [
    "produto = float(input('Informe o valor do produto: '))\n",
    "desconto = 0.1*produto\n",
    "novo_valor = produto - desconto\n",
    "print()\n",
    "print(f'Valor original: R$ {produto:.2f}\\nDesconto: R$ {desconto:.2f}\\nValor final: R$ {novo_valor:.2f}')"
   ]
  },
  {
   "cell_type": "markdown",
   "metadata": {
    "id": "aipKS0dEnsbd"
   },
   "source": [
    "#### 5 - Faça um programa que calcule a área de um círculo com base no valor do raio fornecido pelo usuário. Use a fórmula:\n",
    "\n",
    "    A = π * raio^2"
   ]
  },
  {
   "cell_type": "code",
   "execution_count": 13,
   "metadata": {
    "colab": {
     "base_uri": "https://localhost:8080/"
    },
    "id": "hB6eC-ePns4i",
    "outputId": "993cfa5e-0fbb-4d89-b921-e3f441b3d6e5"
   },
   "outputs": [
    {
     "name": "stdout",
     "output_type": "stream",
     "text": [
      "Informe o valor do raio: 1\n",
      "Área: 3.14 m^2\n"
     ]
    }
   ],
   "source": [
    "import math\n",
    "r = float(input('Informe o valor do raio: '))\n",
    "area = math.pi * (r**2)\n",
    "print(f'Área: {area:.2f} m^2')"
   ]
  },
  {
   "cell_type": "markdown",
   "metadata": {
    "id": "bhLvmKpuntI0"
   },
   "source": [
    "#### 6 - Escreva um programa que leia um número inteiro e exiba o dobro, o triplo e a raiz quadrada desse número."
   ]
  },
  {
   "cell_type": "code",
   "execution_count": 14,
   "metadata": {
    "colab": {
     "base_uri": "https://localhost:8080/"
    },
    "id": "_SAgKDeuntag",
    "outputId": "aa95d109-5921-467a-cd4c-985f39781e56"
   },
   "outputs": [
    {
     "name": "stdout",
     "output_type": "stream",
     "text": [
      "Diga um número: 5\n",
      "\n",
      "Dobro de 5.00: 10.00\n",
      "Triplo de 5.00: 15.00\n",
      "Raiz de 5.00: 2.24\n"
     ]
    }
   ],
   "source": [
    "x = float(input('Diga um número: '))\n",
    "dobro = x*2\n",
    "triplo = x*3\n",
    "raiz = math.sqrt(x)\n",
    "print()\n",
    "print(f'Dobro de {x:.2f}: {dobro:.2f}')\n",
    "print(f'Triplo de {x:.2f}: {triplo:.2f}')\n",
    "print(f'Raiz de {x:.2f}: {raiz:.2f}')"
   ]
  },
  {
   "cell_type": "markdown",
   "metadata": {
    "id": "EF-FgS78ntq3"
   },
   "source": [
    "#### 7 - Escreva um programa que leia o valor em reais de um produto e o valor do dólar americano, e exiba o valor do produto em dólares."
   ]
  },
  {
   "cell_type": "code",
   "execution_count": 16,
   "metadata": {
    "colab": {
     "base_uri": "https://localhost:8080/"
    },
    "id": "nY4E6ut8nt88",
    "outputId": "86b6fa04-9450-4ac3-a6cc-ff24b2314e25"
   },
   "outputs": [
    {
     "name": "stdout",
     "output_type": "stream",
     "text": [
      "Qual o valor do produto em R$? 10\n",
      "Qual a taxa de câmbio do dólar? 5\n",
      "\n",
      "O valor do é US$ 2.00\n"
     ]
    }
   ],
   "source": [
    "vp = float(input('Qual o valor do produto em R$? '))\n",
    "dolar = float(input('Qual a taxa de câmbio do dólar? '))\n",
    "\n",
    "novo_vp = vp / dolar\n",
    "print()\n",
    "\n",
    "print(f'O valor do produto é US$ {novo_vp:.2f}')"
   ]
  },
  {
   "cell_type": "markdown",
   "metadata": {
    "id": "vAew8EsLnuMa"
   },
   "source": [
    "#### 8 - Leia quatro valores correspondentes aos eixos x e y de dois pontos de um plano, p1 (x1, y1) e p2 (x2, y2) e calcule a distância entre eles, mostrando quatro casas decimais após a vírgula, de acordo com a fórmula a seguir:\n",
    "\n",
    "    d = sqrt((x2 - x1)^2 + (y2 - y1)^2)"
   ]
  },
  {
   "cell_type": "code",
   "execution_count": 17,
   "metadata": {
    "colab": {
     "base_uri": "https://localhost:8080/"
    },
    "id": "W1y7f9lpnudZ",
    "outputId": "23bfc199-86dc-4ed9-bb28-e8173454b3ce"
   },
   "outputs": [
    {
     "name": "stdout",
     "output_type": "stream",
     "text": [
      "Valor de x1: 0\n",
      "Valor de y1: 0\n",
      "Valor de x2: 1\n",
      "Valor de y2: 1\n",
      "Distância: 1.4142 unidades de medida\n"
     ]
    }
   ],
   "source": [
    "x1 = float(input('Valor de x1: '))\n",
    "y1 = float(input('Valor de y1: '))\n",
    "x2 = float(input('Valor de x2: '))\n",
    "y2 = float(input('Valor de y2: '))\n",
    "\n",
    "d = math.sqrt((x2 - x1)**2 + (y2 - y1)**2)\n",
    "print()\n",
    "print(f'Distância: {d:.4f} unidades de medida')"
   ]
  },
  {
   "cell_type": "markdown",
   "metadata": {
    "id": "UKTImYfDnusZ"
   },
   "source": [
    "#### 9 - Faça um programa para uma loja de tintas. O programa deverá pedir o tamanho em metros quadrados da área a ser pintada. Considere que a cobertura da tinta é de 1 litro para cada 3 metros quadrados e que a tinta é vendida em latas de 18 litros, que custam R$ 80,00. Informe ao usuário a quantidades de latas de tinta a serem compradas e o preço total.\n",
    "\n",
    "DICA: math.ceil() arredonda sempre para o valor mais alto."
   ]
  },
  {
   "cell_type": "code",
   "execution_count": 20,
   "metadata": {
    "colab": {
     "base_uri": "https://localhost:8080/"
    },
    "id": "tT0Fgv8fnu8r",
    "outputId": "8d44fe34-1b75-415d-b30a-2a06fab5952c"
   },
   "outputs": [
    {
     "name": "stdout",
     "output_type": "stream",
     "text": [
      "Área em metros quadrados: 100\n",
      "\n",
      "Quantidade de latas: 2.00\n",
      "Custo total: R$ 160.00\n"
     ]
    }
   ],
   "source": [
    "area = float(input('Área em metros quadrados: '))\n",
    "\n",
    "quant_tinta = area / 3\n",
    "quant_latas = math.ceil(quant_tinta / 18)\n",
    "custo = quant_latas * 80\n",
    "print()\n",
    "print(f'Quantidade de latas: {quant_latas:.2f}\\nCusto total: R$ {custo:.2f}')"
   ]
  },
  {
   "cell_type": "markdown",
   "metadata": {
    "id": "HSdOUjKrnvLU"
   },
   "source": [
    "#### 10 - Joãozinho quer calcular e mostrar a quantidade de litros de combustível gastos em uma viagem ao utilizar um automóvel que faz 12 km/L. Para isso, ele gostaria que você o auxiliasse através de um simples algoritmo. Para efetuar o cálculo, deve-se fornecer como entrada o tempo gasto na viagem (em minutos) e a velocidade média durante a mesma (em km/h). Assim, pode-se obter distância percorrida e, em seguida, calcular quantos litros seriam necessários."
   ]
  },
  {
   "cell_type": "code",
   "execution_count": 21,
   "metadata": {
    "colab": {
     "base_uri": "https://localhost:8080/"
    },
    "id": "u2fxxzU1nvdr",
    "outputId": "32e41aa9-40fe-48dc-da01-28c25bcd40a2"
   },
   "outputs": [
    {
     "name": "stdout",
     "output_type": "stream",
     "text": [
      "Tempo da viagem (em minutos): 100\n",
      "Velocidade média (km/h): 50\n",
      "\n",
      "Serão gastos 6.94 litros de combustível.\n"
     ]
    }
   ],
   "source": [
    "tempo = float(input('Tempo da viagem (em minutos): '))\n",
    "vel = float(input('Velocidade média (km/h): '))\n",
    "\n",
    "tempo = tempo / 60\n",
    "dist = tempo * vel\n",
    "\n",
    "litros = dist / 12\n",
    "print()\n",
    "print(f'Serão gastos {litros:.2f} litros de combustível.')"
   ]
  },
  {
   "cell_type": "markdown",
   "metadata": {
    "id": "i6hqaGenzUwO"
   },
   "source": [
    "# SIGA, CURTA E COMPARTILHE!"
   ]
  }
 ],
 "metadata": {
  "colab": {
   "provenance": []
  },
  "kernelspec": {
   "display_name": "Python 3",
   "name": "python3"
  },
  "language_info": {
   "name": "python"
  }
 },
 "nbformat": 4,
 "nbformat_minor": 0
}
