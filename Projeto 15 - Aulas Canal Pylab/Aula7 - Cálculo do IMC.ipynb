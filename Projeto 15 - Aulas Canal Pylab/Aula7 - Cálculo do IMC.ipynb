{
 "cells": [
  {
   "cell_type": "markdown",
   "metadata": {
    "id": "C1wChQ2YNUOK"
   },
   "source": [
    "# Aula 7 - Cálculo de IMC"
   ]
  },
  {
   "cell_type": "markdown",
   "metadata": {},
   "source": [
    "EXERCÍCIO: faça um código que calcule o Índice de Massa Corporal de uma pessoa. Use input. \\\\\n",
    "A fórmula é IMC = peso / altura^2\n",
    "DICA: input retorna sempre uma string."
   ]
  },
  {
   "cell_type": "code",
   "execution_count": null,
   "metadata": {
    "colab": {
     "base_uri": "https://localhost:8080/"
    },
    "id": "otinA-NVNbyJ",
    "outputId": "085416b3-492d-4a36-f5c2-b0637541de8f"
   },
   "outputs": [
    {
     "name": "stdout",
     "output_type": "stream",
     "text": [
      "Valor da altura em m(casa decimal é .): 1.80\n",
      "Valor do peso em kg: 80\n",
      "Valor do IMC: 24.69\n"
     ]
    }
   ],
   "source": [
    "altura = float(input('Valor da altura em m (casa decimal é .): '))\n",
    "peso = float(input('Valor do peso em kg: '))\n",
    "\n",
    "IMC = peso / altura ** 2\n",
    "print(f'Valor do IMC: {IMC:.2f}')"
   ]
  },
  {
   "cell_type": "markdown",
   "metadata": {},
   "source": [
    "# SIGA, CURTA E COMPARTILHE!"
   ]
  }
 ],
 "metadata": {
  "colab": {
   "provenance": []
  },
  "kernelspec": {
   "display_name": "Python 3",
   "name": "python3"
  },
  "language_info": {
   "name": "python",
   "version": "3.12.1"
  }
 },
 "nbformat": 4,
 "nbformat_minor": 0
}
