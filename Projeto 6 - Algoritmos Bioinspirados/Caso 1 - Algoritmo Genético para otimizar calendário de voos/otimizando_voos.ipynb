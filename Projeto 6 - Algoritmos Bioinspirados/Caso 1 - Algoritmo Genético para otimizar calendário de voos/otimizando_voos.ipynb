{
 "cells": [
  {
   "cell_type": "markdown",
   "metadata": {},
   "source": [
    "## APLICAÇÃO DE ALGORITMO GENÉTICO PARA OTIMIZAR A COMPRA DE PASSAGENS AÉREAS\n",
    "\n",
    "O problema se trata de 6 amigos que irão se encontrar em Roma. \n",
    "\n",
    "Essas pessoas irão andar juntas pela cidade sempre. Após o fim do passeio, todas vão voltar juntas ao aeroporto para cada uma ir para o seu país.\n",
    "\n",
    "O código precisa definir quais passagens devem ser compradas para diminuir ao máximo 3 coisas:\n",
    "\n",
    " 1 - O tempo de espera da primeira pessoa até a última pessoa a chegar em Roma.\n",
    "\n",
    " 2 - O tempo de espera da primeira pessoa até a última pessoa a ir embora de Roma.\n",
    "\n",
    " 3 - O valor total de todas as passagens compradas."
   ]
  },
  {
   "cell_type": "code",
   "execution_count": 667,
   "metadata": {},
   "outputs": [],
   "source": [
    "import time\n",
    "import random\n",
    "import math\n",
    "import sys"
   ]
  },
  {
   "cell_type": "code",
   "execution_count": 668,
   "metadata": {},
   "outputs": [],
   "source": [
    "pessoas = [('Lisbon', 'LIS'),\n",
    "           ('Madrid', 'MAD'),\n",
    "           ('Paris', 'CDG'),\n",
    "           ('Dublin', 'DUB'),\n",
    "           ('Brussels', 'BRU'),\n",
    "           ('London', 'LHR')]"
   ]
  },
  {
   "cell_type": "code",
   "execution_count": 669,
   "metadata": {},
   "outputs": [],
   "source": [
    "destino = 'FCO' # Roma"
   ]
  },
  {
   "cell_type": "code",
   "execution_count": 670,
   "metadata": {},
   "outputs": [],
   "source": [
    "# ORIGEM - DESTINO - HORA DE SAÍDA - HORA DE CHEGADA - PREÇO DA PASSAGEM\n",
    "voos = {('BRU', 'FCO'): ['15:44', '18:55', 382]}"
   ]
  },
  {
   "cell_type": "code",
   "execution_count": 671,
   "metadata": {},
   "outputs": [
    {
     "data": {
      "text/plain": [
       "{('BRU', 'FCO'): ['15:44', '18:55', 382]}"
      ]
     },
     "execution_count": 671,
     "metadata": {},
     "output_type": "execute_result"
    }
   ],
   "source": [
    "voos"
   ]
  },
  {
   "cell_type": "code",
   "execution_count": 672,
   "metadata": {},
   "outputs": [],
   "source": [
    "voos = {}\n",
    "for linha in open('flights.txt'):\n",
    "    #print(linha)\n",
    "    #print(linha.split(','))\n",
    "    origem, destino, partida, chegada, preco = linha.split(',')\n",
    "    #print(origem, destino, partida, chegada, preco)\n",
    "    voos.setdefault((origem, destino), [])\n",
    "    voos[(origem, destino)].append((partida, chegada, int(preco)))"
   ]
  },
  {
   "cell_type": "code",
   "execution_count": 673,
   "metadata": {},
   "outputs": [
    {
     "data": {
      "text/plain": [
       "dict_keys([('FCO', 'LIS'), ('LIS', 'FCO'), ('FCO', 'MAD'), ('MAD', 'FCO'), ('FCO', 'CDG'), ('CDG', 'FCO'), ('FCO', 'DUB'), ('DUB', 'FCO'), ('FCO', 'BRU'), ('BRU', 'FCO'), ('FCO', 'LHR'), ('LHR', 'FCO')])"
      ]
     },
     "execution_count": 673,
     "metadata": {},
     "output_type": "execute_result"
    }
   ],
   "source": [
    "voos.keys()\n"
   ]
  },
  {
   "cell_type": "code",
   "execution_count": 674,
   "metadata": {},
   "outputs": [
    {
     "data": {
      "text/plain": [
       "{('FCO', 'LIS'): [('6:19', '8:13', 239),\n",
       "  ('8:04', '10:59', 136),\n",
       "  ('9:31', '11:43', 210),\n",
       "  ('11:07', '13:24', 171),\n",
       "  ('12:31', '14:02', 234),\n",
       "  ('14:05', '15:47', 226),\n",
       "  ('15:07', '17:21', 129),\n",
       "  ('16:35', '18:56', 144),\n",
       "  ('18:25', '20:34', 205),\n",
       "  ('20:05', '21:44', 172)],\n",
       " ('LIS', 'FCO'): [('6:11', '8:31', 249),\n",
       "  ('7:39', '10:24', 219),\n",
       "  ('9:15', '12:03', 99),\n",
       "  ('11:08', '13:07', 175),\n",
       "  ('12:18', '14:56', 172),\n",
       "  ('13:37', '15:08', 250),\n",
       "  ('15:03', '16:42', 135),\n",
       "  ('16:51', '19:09', 147),\n",
       "  ('18:12', '20:17', 242),\n",
       "  ('20:05', '22:06', 261)],\n",
       " ('FCO', 'MAD'): [('6:03', '8:43', 219),\n",
       "  ('7:50', '10:08', 164),\n",
       "  ('9:11', '10:42', 172),\n",
       "  ('10:33', '13:11', 132),\n",
       "  ('12:08', '14:47', 231),\n",
       "  ('14:19', '17:09', 190),\n",
       "  ('15:04', '17:23', 189),\n",
       "  ('17:06', '20:00', 95),\n",
       "  ('18:33', '20:22', 143),\n",
       "  ('19:32', '21:25', 160)],\n",
       " ('MAD', 'FCO'): [('6:05', '8:32', 174),\n",
       "  ('8:25', '10:34', 157),\n",
       "  ('9:42', '11:32', 169),\n",
       "  ('11:01', '12:39', 260),\n",
       "  ('12:44', '14:17', 134),\n",
       "  ('14:22', '16:32', 126),\n",
       "  ('15:58', '18:40', 173),\n",
       "  ('16:43', '19:00', 246),\n",
       "  ('18:48', '21:45', 246),\n",
       "  ('19:50', '22:24', 269)],\n",
       " ('FCO', 'CDG'): [('6:33', '9:14', 172),\n",
       "  ('8:23', '11:07', 143),\n",
       "  ('9:25', '12:46', 295),\n",
       "  ('11:08', '14:38', 262),\n",
       "  ('12:37', '15:05', 170),\n",
       "  ('14:08', '16:09', 232),\n",
       "  ('15:23', '18:49', 150),\n",
       "  ('16:50', '19:26', 304),\n",
       "  ('18:07', '21:30', 355),\n",
       "  ('20:27', '23:42', 169)],\n",
       " ('CDG', 'FCO'): [('6:25', '9:30', 335),\n",
       "  ('7:34', '9:40', 324),\n",
       "  ('9:15', '12:29', 225),\n",
       "  ('11:28', '14:40', 248),\n",
       "  ('12:05', '15:30', 330),\n",
       "  ('14:01', '17:24', 338),\n",
       "  ('15:34', '18:11', 326),\n",
       "  ('17:07', '20:04', 291),\n",
       "  ('18:23', '21:35', 134),\n",
       "  ('19:53', '22:21', 173)],\n",
       " ('FCO', 'DUB'): [('6:39', '8:09', 86),\n",
       "  ('8:23', '10:28', 149),\n",
       "  ('9:58', '11:18', 130),\n",
       "  ('10:33', '12:03', 74),\n",
       "  ('12:08', '14:05', 142),\n",
       "  ('13:39', '15:30', 74),\n",
       "  ('15:25', '16:58', 62),\n",
       "  ('17:03', '18:03', 103),\n",
       "  ('18:24', '20:49', 124),\n",
       "  ('19:58', '21:23', 142)],\n",
       " ('DUB', 'FCO'): [('6:17', '8:26', 89),\n",
       "  ('8:04', '10:11', 95),\n",
       "  ('9:45', '11:50', 172),\n",
       "  ('11:16', '13:29', 83),\n",
       "  ('12:34', '15:02', 109),\n",
       "  ('13:40', '15:37', 138),\n",
       "  ('15:27', '17:18', 151),\n",
       "  ('17:11', '18:30', 108),\n",
       "  ('18:34', '19:36', 136),\n",
       "  ('20:17', '22:22', 102)],\n",
       " ('FCO', 'BRU'): [('6:09', '9:49', 414),\n",
       "  ('7:57', '11:15', 347),\n",
       "  ('9:49', '13:51', 229),\n",
       "  ('10:51', '14:16', 256),\n",
       "  ('12:20', '16:34', 500),\n",
       "  ('14:20', '17:32', 332),\n",
       "  ('15:49', '20:10', 497),\n",
       "  ('17:14', '20:59', 277),\n",
       "  ('18:44', '22:42', 351),\n",
       "  ('19:57', '23:15', 512)],\n",
       " ('BRU', 'FCO'): [('6:12', '10:22', 230),\n",
       "  ('7:53', '11:37', 433),\n",
       "  ('9:08', '12:12', 364),\n",
       "  ('10:30', '14:57', 290),\n",
       "  ('12:19', '15:25', 342),\n",
       "  ('13:54', '18:02', 294),\n",
       "  ('15:44', '18:55', 382),\n",
       "  ('16:52', '20:48', 448),\n",
       "  ('18:26', '21:29', 464),\n",
       "  ('20:07', '23:27', 473)],\n",
       " ('FCO', 'LHR'): [('6:58', '9:01', 238),\n",
       "  ('8:19', '11:16', 122),\n",
       "  ('9:58', '12:56', 249),\n",
       "  ('10:32', '13:16', 139),\n",
       "  ('12:01', '13:41', 267),\n",
       "  ('13:37', '15:33', 142),\n",
       "  ('15:50', '18:45', 243),\n",
       "  ('16:33', '18:15', 253),\n",
       "  ('18:17', '21:04', 259),\n",
       "  ('19:46', '21:45', 214)],\n",
       " ('LHR', 'FCO'): [('6:08', '8:06', 224),\n",
       "  ('8:27', '10:45', 139),\n",
       "  ('9:15', '12:14', 247),\n",
       "  ('10:53', '13:36', 189),\n",
       "  ('12:08', '14:59', 149),\n",
       "  ('13:40', '15:38', 137),\n",
       "  ('15:23', '17:25', 232),\n",
       "  ('17:08', '19:08', 262),\n",
       "  ('18:35', '20:28', 204),\n",
       "  ('20:30', '23:11', 114)]}"
      ]
     },
     "execution_count": 674,
     "metadata": {},
     "output_type": "execute_result"
    }
   ],
   "source": [
    "voos"
   ]
  },
  {
   "cell_type": "code",
   "execution_count": 675,
   "metadata": {},
   "outputs": [],
   "source": [
    "# [1,4, 3,2, 7,3, 6,3, 2,4, 5,3]\n",
    "# Indica que LIS - FCO será voo 1 para ida e 4 para volta"
   ]
  },
  {
   "cell_type": "code",
   "execution_count": 676,
   "metadata": {},
   "outputs": [],
   "source": [
    "def imprime_calendario(calendario):\n",
    "  voo_id = -1\n",
    "  preco_total = 0\n",
    "  sep = '-----'\n",
    "  for i in range(len(calendario) // 2): # Cada cidade terá 2 voos\n",
    "    nome = pessoas[i][0] # Nome da cidade\n",
    "    #print(nome)\n",
    "    origem = pessoas[i][1] # Sigla do aeroporto\n",
    "    #print(origem)\n",
    "    voo_id += 1\n",
    "    voo_ida = voos[(origem, destino)][calendario[voo_id]]\n",
    "    #print(voo_ida)\n",
    "    preco_total += voo_ida[2]\n",
    "    voo_id += 1\n",
    "    voo_volta = voos[(destino, origem)][calendario[voo_id]]\n",
    "    preco_total += voo_volta[2]\n",
    "    print('%10s%10s %5s-%5s U$%3s %3s %5s-%5s U$%3s' % (nome, origem, voo_ida[0], voo_ida[1], voo_ida[2], sep,\n",
    "                                                    voo_volta[0], voo_volta[1], voo_volta[2]))\n",
    "  \n",
    "  print('Preço total: ', preco_total)"
   ]
  },
  {
   "cell_type": "code",
   "execution_count": 677,
   "metadata": {},
   "outputs": [
    {
     "name": "stdout",
     "output_type": "stream",
     "text": [
      "    Lisbon       LIS  7:39-10:24 U$219 ----- 12:31-14:02 U$234\n",
      "    Madrid       MAD 11:01-12:39 U$260 -----  9:11-10:42 U$172\n",
      "     Paris       CDG 17:07-20:04 U$291 ----- 11:08-14:38 U$262\n",
      "    Dublin       DUB 15:27-17:18 U$151 ----- 10:33-12:03 U$ 74\n",
      "  Brussels       BRU  9:08-12:12 U$364 ----- 12:20-16:34 U$500\n",
      "    London       LHR 13:40-15:38 U$137 ----- 10:32-13:16 U$139\n",
      "Preço total:  2803\n"
     ]
    }
   ],
   "source": [
    "imprime_calendario([1,4, 3,2, 7,3, 6,3, 2,4, 5,3])"
   ]
  },
  {
   "cell_type": "code",
   "execution_count": 678,
   "metadata": {},
   "outputs": [],
   "source": [
    "t = time.strptime('7:39', '%H:%M')"
   ]
  },
  {
   "cell_type": "code",
   "execution_count": 679,
   "metadata": {},
   "outputs": [
    {
     "data": {
      "text/plain": [
       "time.struct_time(tm_year=1900, tm_mon=1, tm_mday=1, tm_hour=7, tm_min=39, tm_sec=0, tm_wday=0, tm_yday=1, tm_isdst=-1)"
      ]
     },
     "execution_count": 679,
     "metadata": {},
     "output_type": "execute_result"
    }
   ],
   "source": [
    "t"
   ]
  },
  {
   "cell_type": "code",
   "execution_count": 680,
   "metadata": {},
   "outputs": [
    {
     "data": {
      "text/plain": [
       "(7, 39, 459)"
      ]
     },
     "execution_count": 680,
     "metadata": {},
     "output_type": "execute_result"
    }
   ],
   "source": [
    "t[3], t[4], t[3]*60 + t[4]"
   ]
  },
  {
   "cell_type": "code",
   "execution_count": 681,
   "metadata": {},
   "outputs": [],
   "source": [
    "def get_minutos(hora):\n",
    "    t = time.strptime(hora, '%H:%M')\n",
    "    minutos = t[3] * 60 + t[4]\n",
    "    return minutos"
   ]
  },
  {
   "cell_type": "markdown",
   "metadata": {},
   "source": [
    "* CRIANDO FUNÇÃO FITNESS (AVALIAÇÃO)"
   ]
  },
  {
   "cell_type": "code",
   "execution_count": 682,
   "metadata": {},
   "outputs": [],
   "source": [
    "def funcao_avaliacao(calendario):\n",
    "    preco_total = 0\n",
    "    ultima_chegada = 0\n",
    "    primeira_partida = 1439 # Horário que todos devem estar no aeroporto para o primeiro ir embora\n",
    "    # 23:59 é o pior horário possivel. Vale 1439 minutos.\n",
    "\n",
    "    voo_id = -1\n",
    "    for i in range(len(calendario) // 2):\n",
    "        origem = pessoas[i][1]\n",
    "        voo_id += 1\n",
    "        voo_ida = voos[(origem, destino)][calendario[voo_id]]\n",
    "        voo_id += 1\n",
    "        voo_volta = voos[(destino, origem)][calendario[voo_id]]\n",
    "\n",
    "        preco_total += voo_ida[2]\n",
    "        preco_total += voo_volta[2]\n",
    "\n",
    "        if ultima_chegada < get_minutos(voo_ida[1]):\n",
    "            ultima_chegada = get_minutos(voo_ida[1])\n",
    "        if primeira_partida > get_minutos(voo_volta[0]):\n",
    "            primeira_partida = get_minutos(voo_volta[0])\n",
    "\n",
    "    #print(preco_total)\n",
    "    #print(ultima_chegada)\n",
    "    #print(primeira_partida)\n",
    "\n",
    "    espera_total = 0\n",
    "    voo_id = -1\n",
    "    for i in range(len(calendario) // 2):\n",
    "        origem = pessoas[i][1]\n",
    "        voo_id += 1\n",
    "        voo_ida = voos[(origem, destino)][calendario[voo_id]]\n",
    "        voo_id += 1\n",
    "        voo_volta = voos[(destino, origem)][calendario[voo_id]]\n",
    "\n",
    "        espera_total += ultima_chegada - get_minutos(voo_ida[1])\n",
    "    #print()\n",
    "    #print(ultima_chegada - get_minutos(voo_ida[1])) # Mostra o tempo de espera da primeira até a última chegada\n",
    "    espera_total += get_minutos(voo_volta[0]) - primeira_partida\n",
    "    # espera_total leva em conta o tempo de espera do primeiro ao chegar em Roma e o do último a ir embora de Roma\n",
    "    #print()\n",
    "    #print(get_minutos(voo_volta[0]) - primeira_partida) # Mostra o tempo de espera da primeira até a última saída\n",
    "\n",
    "    return espera_total + preco_total # O que quero minimizar\n",
    "    "
   ]
  },
  {
   "cell_type": "code",
   "execution_count": 683,
   "metadata": {},
   "outputs": [
    {
     "data": {
      "text/plain": [
       "4813"
      ]
     },
     "execution_count": 683,
     "metadata": {},
     "output_type": "execute_result"
    }
   ],
   "source": [
    "funcao_avaliacao([1,4, 3,2, 7,3, 6,3, 2,4, 5,3])"
   ]
  },
  {
   "cell_type": "markdown",
   "metadata": {},
   "source": [
    "# RESUMO ALGORITMO GENÉTICO"
   ]
  },
  {
   "cell_type": "markdown",
   "metadata": {},
   "source": [
    "1 - Criar população inicial com soluções aleatórias. \n",
    "\n",
    "2 - Cada numeração do voo é um gene de um cromossomo.\n",
    "\n",
    "3 - Avaliar a população.\n",
    "\n",
    "4 - Se não chegar no critério de parada, continuar a execução do algoritmo.\n",
    "\n",
    "5 - Definir uma forma de escolher os melhores indivíduos. Roleta viciada ou porcentagem do total de indivíduos.\n",
    "\n",
    "6 - Aplicar mutação e crossover.\n",
    "\n",
    "7 - Avaliar a população.\n",
    "\n",
    "8 - Definir população sobrevivente.\n",
    "\n",
    "9 - Executar de novo até chegar no critério de parada (normalmente um valor x de gerações)\n",
    "\n",
    "10 - Ao chegar no critério de parada, exibir os melhores indivíduos das gerações."
   ]
  },
  {
   "cell_type": "markdown",
   "metadata": {},
   "source": [
    "### Mutação"
   ]
  },
  {
   "cell_type": "code",
   "execution_count": 684,
   "metadata": {},
   "outputs": [
    {
     "data": {
      "text/plain": [
       "([(0, 9),\n",
       "  (0, 9),\n",
       "  (0, 9),\n",
       "  (0, 9),\n",
       "  (0, 9),\n",
       "  (0, 9),\n",
       "  (0, 9),\n",
       "  (0, 9),\n",
       "  (0, 9),\n",
       "  (0, 9),\n",
       "  (0, 9),\n",
       "  (0, 9)],\n",
       " 12)"
      ]
     },
     "execution_count": 684,
     "metadata": {},
     "output_type": "execute_result"
    }
   ],
   "source": [
    "dominio = [(0, 9)] * (len(pessoas) * 2)\n",
    "dominio, len(dominio)"
   ]
  },
  {
   "cell_type": "code",
   "execution_count": 685,
   "metadata": {},
   "outputs": [
    {
     "data": {
      "text/plain": [
       "0.9565880045736557"
      ]
     },
     "execution_count": 685,
     "metadata": {},
     "output_type": "execute_result"
    }
   ],
   "source": [
    "random.random()"
   ]
  },
  {
   "cell_type": "code",
   "execution_count": 686,
   "metadata": {},
   "outputs": [],
   "source": [
    "def mutacao(dominio, passo, calendario, probabilidade):\n",
    "  gene = random.randint(0, len(dominio) - 1)\n",
    "  #print(gene)\n",
    "  mutante = calendario\n",
    "  if random.random() < probabilidade: # 0.02, 0.05\n",
    "    if calendario[gene] != dominio[gene][0]:\n",
    "      mutante = calendario[0:gene] + [calendario[gene] - passo] + calendario[gene + 1:]\n",
    "      #print(mutante)\n",
    "    else:\n",
    "      if calendario[gene] != dominio[gene][1]:\n",
    "        mutante = calendario[0:gene] + [calendario[gene] + passo] + calendario[gene + 1:]\n",
    "  return mutante"
   ]
  },
  {
   "cell_type": "code",
   "execution_count": 687,
   "metadata": {},
   "outputs": [
    {
     "data": {
      "text/plain": [
       "[6, 7, 6, 7, 3, 9, 7, 7, 0, 7, 6, 7]"
      ]
     },
     "execution_count": 687,
     "metadata": {},
     "output_type": "execute_result"
    }
   ],
   "source": [
    "mutacao(dominio, 1, [6, 7, 6, 7, 3, 9, 7, 7, 0, 7, 6, 7], 0.05)"
   ]
  },
  {
   "cell_type": "code",
   "execution_count": 688,
   "metadata": {},
   "outputs": [],
   "source": [
    "def crossover(dominio, individuo1, individuo2):\n",
    "  gene = random.randint(1, len(dominio) - 2)\n",
    "  #print(gene)\n",
    "  return individuo1[0:gene] + individuo2[gene:]"
   ]
  },
  {
   "cell_type": "markdown",
   "metadata": {},
   "source": [
    "### ALGORITMO GENETICO COMPLETO"
   ]
  },
  {
   "cell_type": "code",
   "execution_count": 689,
   "metadata": {},
   "outputs": [],
   "source": [
    "def algoritmo_genetico(dominio, funcao_avaliacao, tamanho_populacao = 100, passo = 1,\n",
    "                       elitismo = 0.2, numero_geracoes = 500, probabilidade_mutacao = 0.05):\n",
    "  populacao = []\n",
    "  for i in range(tamanho_populacao): # Criando 100 indivíduos aleatórios\n",
    "    individuo = [random.randint(dominio[i][0], dominio[i][1]) for i in range(len(dominio))]\n",
    "    populacao.append(individuo)\n",
    "  #print(populacao)\n",
    "  #print(len(populacao))\n",
    "  # O método da escolha dos pais será o elitismo\n",
    "  numero_elitismo = int(elitismo * tamanho_populacao) # Selecionando 20% dos indivíduos\n",
    "  #print(numero_elitismo)\n",
    "  #print('Tamanho da população: ', len(populacao))\n",
    "\n",
    "  melhores_valores_das_geracoes = []\n",
    "  for i in range(numero_geracoes): # 500 é o critério de parada\n",
    "    custos = [(funcao_avaliacao(individuo), individuo) for individuo in populacao] # Criando tuplas\n",
    "    #print(custos)\n",
    "    custos.sort() # Ordenando em ordem crescente\n",
    "    melhores_valores_das_geracoes.append(custos[0][0])\n",
    "    #print(custos)\n",
    "    individuos_ordenados = [individuo for (custo, individuo) in custos]\n",
    "    #print(individuos_ordenados)\n",
    "    populacao = individuos_ordenados[0:numero_elitismo] # 0:2\n",
    "    while len(populacao) < tamanho_populacao:\n",
    "      i1 = random.randint(0, numero_elitismo)\n",
    "      i2 = random.randint(0, numero_elitismo)\n",
    "      #print(i1, i2, individuos_ordenados[i1], individuos_ordenados[i2])\n",
    "      novo_individuo = crossover(dominio, individuos_ordenados[i1], individuos_ordenados[i2])\n",
    "      #print(novo_individuo)\n",
    "      mutacao_novo_individuo = mutacao(dominio, passo, novo_individuo, probabilidade_mutacao)\n",
    "      #print(novo_individuo)\n",
    "      #print(mutacao_novo_individuo)\n",
    "      #print()\n",
    "      populacao.append(mutacao_novo_individuo)\n",
    "\n",
    "    #print('Tamanho da população: ', len(populacao))\n",
    "  #print(custos)\n",
    "  return custos[0][1], melhores_valores_das_geracoes"
   ]
  },
  {
   "cell_type": "code",
   "execution_count": 690,
   "metadata": {},
   "outputs": [],
   "source": [
    "solucao, melhores_geracoes = algoritmo_genetico(dominio, funcao_avaliacao, numero_geracoes = 200, tamanho_populacao=200, \n",
    "                             elitismo = 0.2, probabilidade_mutacao = 0.05)"
   ]
  },
  {
   "cell_type": "code",
   "execution_count": 691,
   "metadata": {},
   "outputs": [
    {
     "data": {
      "text/plain": [
       "[6, 6, 6, 3, 6, 1, 7, 6, 5, 2, 6, 1]"
      ]
     },
     "execution_count": 691,
     "metadata": {},
     "output_type": "execute_result"
    }
   ],
   "source": [
    "solucao"
   ]
  },
  {
   "cell_type": "code",
   "execution_count": 692,
   "metadata": {},
   "outputs": [
    {
     "data": {
      "text/plain": [
       "2355"
      ]
     },
     "execution_count": 692,
     "metadata": {},
     "output_type": "execute_result"
    }
   ],
   "source": [
    "funcao_avaliacao(solucao)"
   ]
  },
  {
   "cell_type": "code",
   "execution_count": 693,
   "metadata": {},
   "outputs": [
    {
     "name": "stdout",
     "output_type": "stream",
     "text": [
      "    Lisbon       LIS 15:03-16:42 U$135 ----- 15:07-17:21 U$129\n",
      "    Madrid       MAD 15:58-18:40 U$173 ----- 10:33-13:11 U$132\n",
      "     Paris       CDG 15:34-18:11 U$326 -----  8:23-11:07 U$143\n",
      "    Dublin       DUB 17:11-18:30 U$108 ----- 15:25-16:58 U$ 62\n",
      "  Brussels       BRU 13:54-18:02 U$294 -----  9:49-13:51 U$229\n",
      "    London       LHR 15:23-17:25 U$232 -----  8:19-11:16 U$122\n",
      "Preço total:  2085\n"
     ]
    }
   ],
   "source": [
    "imprime_calendario(solucao)"
   ]
  },
  {
   "cell_type": "code",
   "execution_count": 694,
   "metadata": {},
   "outputs": [
    {
     "data": {
      "text/plain": [
       "Text(0, 0.5, 'Acumulado de tempo de espera + passagens')"
      ]
     },
     "execution_count": 694,
     "metadata": {},
     "output_type": "execute_result"
    },
    {
     "data": {
      "image/png": "[encoded data removed]",
      "text/plain": [
       "<Figure size 640x480 with 1 Axes>"
      ]
     },
     "metadata": {},
     "output_type": "display_data"
    }
   ],
   "source": [
    "import matplotlib.pyplot as plt\n",
    "\n",
    "plt.plot(melhores_geracoes)\n",
    "plt.title('Melhores indivíduos de cada geração')\n",
    "plt.xlabel('Gerações')\n",
    "plt.ylabel('Acumulado de tempo de espera + passagens')"
   ]
  }
 ],
 "metadata": {
  "kernelspec": {
   "display_name": "Python 3",
   "language": "python",
   "name": "python3"
  },
  "language_info": {
   "codemirror_mode": {
    "name": "ipython",
    "version": 3
   },
   "file_extension": ".py",
   "mimetype": "text/x-python",
   "name": "python",
   "nbconvert_exporter": "python",
   "pygments_lexer": "ipython3",
   "version": "3.12.1"
  }
 },
 "nbformat": 4,
 "nbformat_minor": 2
}
