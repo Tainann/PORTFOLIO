{
 "cells": [
  {
   "cell_type": "markdown",
   "metadata": {},
   "source": [
    "# OTIMIZAÇÃO POR COLÔNIA DE FORMIGAS - ENCONTRANDO O MELHOR CAMINHO\n",
    "\n",
    "O problema será achar o caminho mais curto."
   ]
  },
  {
   "cell_type": "markdown",
   "metadata": {},
   "source": [
    "Na natureza, as formigas tendem a seguir caminhos com mais feromônios.\n",
    "\n",
    "Os feromônios evaporam com o tempo.\n",
    "\n",
    "Aplicações: roteamento de internet, sistemas de GPS e detecção de bordas de imagens."
   ]
  },
  {
   "cell_type": "markdown",
   "metadata": {},
   "source": [
    "Quando uma formiga se move, ela libera feromônios que tendem a atrair mais formigas, fenômeno chamado de estigmergia.\n",
    "\n",
    "Uma formiga que achou comida num caminho mais curto produzirá uma concentração maior de feromônio no caminho que ela percorreu. Isso irá atrair mais formigas.\n",
    "\n",
    "Quanto mais formigas seguirem o caminho, maior a concentração de feromônios, fortalecendo ainda mais esse caminho."
   ]
  },
  {
   "cell_type": "markdown",
   "metadata": {},
   "source": [
    "![](formigas.jpg)"
   ]
  },
  {
   "cell_type": "markdown",
   "metadata": {},
   "source": [
    "![](caminho.jpg)"
   ]
  },
  {
   "cell_type": "markdown",
   "metadata": {},
   "source": [
    "![](ev.jpg)"
   ]
  },
  {
   "cell_type": "markdown",
   "metadata": {},
   "source": [
    "![](calc.jpg)"
   ]
  },
  {
   "cell_type": "markdown",
   "metadata": {},
   "source": [
    "### Importante: O cálculo da atualização do valor do feromônio em uma aresta é diferente do cálculo da probabilidade da formiga escolher tal aresta.\n",
    "\n",
    "1 - De início, é avaliada a probabilidade de escolha de cada aresta.\n",
    "\n",
    "2 - Ao criar as formigas, é escolhida a aresta inicial e depois as próximas usando as probabilidades calculadas.\n",
    "\n",
    "3 - É feita a atualização dos feromônios em cada aresta para a população de formigas em análise.\n",
    "\n",
    "4 - É feita nova avaliação das probabilidades com os feromônios atualizados. \n",
    "\n",
    "5 - Eliminação da população de formigas.\n",
    "\n",
    "6 - Ao criar novas formigas/caminhos, elas serão diferentes da geração anterior, pois a criação de formigas leva em conta o tamanho da aresta (que não muda) e os feromônios presentes (que mudaram).\n",
    "\n",
    "7 - O ciclo vai se repetindo com o algoritmo escolhendo cada vez mais as arestas mais curtas que são as mais bem avaliadas. Com o tempo, os feromônios nas arestas mais curtas vão aumentar muito, fazendo essas arestas serem cada vez mais escolhidas."
   ]
  },
  {
   "cell_type": "markdown",
   "metadata": {},
   "source": [
    "![](f.jpg)"
   ]
  },
  {
   "cell_type": "markdown",
   "metadata": {},
   "source": [
    "![](prob.jpg)"
   ]
  },
  {
   "cell_type": "markdown",
   "metadata": {},
   "source": [
    "É preciso tomar cuidado para não considerar como um novo caminho possível (aresta adjacente) uma aresta que volta ao início do caminho ou que irá retroceder o percurso."
   ]
  },
  {
   "cell_type": "markdown",
   "metadata": {},
   "source": [
    "![](arestas.jpg)"
   ]
  },
  {
   "cell_type": "markdown",
   "metadata": {},
   "source": [
    "### O algoritmo irá ler as probabilidades de cada aresta (que dependem do feromônio ali presente) e irá construir o melhor caminho."
   ]
  },
  {
   "cell_type": "code",
   "execution_count": 353,
   "metadata": {},
   "outputs": [],
   "source": [
    "import random\n",
    "\n",
    "ab = ['AB',['BC','BD'],8,1]\n",
    "ac = ['AC',['BC','BD'],14,1]\n",
    "ad = ['AD',[],22,1]\n",
    "bc = ['BC',['CD'],9,1]\n",
    "cb = ['CB',['BD'],9,1]\n",
    "bd = ['BD',[],8,1]\n",
    "cd = ['CD',[],10,1]\n",
    "\n",
    "arests = [ab,ac,ad,bc,cb,bd,cd]"
   ]
  },
  {
   "cell_type": "code",
   "execution_count": 354,
   "metadata": {},
   "outputs": [
    {
     "data": {
      "text/plain": [
       "10"
      ]
     },
     "execution_count": 354,
     "metadata": {},
     "output_type": "execute_result"
    }
   ],
   "source": [
    "cd[2]"
   ]
  },
  {
   "cell_type": "code",
   "execution_count": 355,
   "metadata": {},
   "outputs": [
    {
     "data": {
      "text/plain": [
       "['BC', 'BD']"
      ]
     },
     "execution_count": 355,
     "metadata": {},
     "output_type": "execute_result"
    }
   ],
   "source": [
    "ac[1]"
   ]
  },
  {
   "cell_type": "markdown",
   "metadata": {},
   "source": [
    "Função de probabilidade de escolha de aresta adjacente"
   ]
  },
  {
   "cell_type": "code",
   "execution_count": 356,
   "metadata": {},
   "outputs": [],
   "source": [
    "def probabs(adja):\n",
    "  dists = []\n",
    "  fer = []\n",
    "  for i in adja:\n",
    "    for j in arests:\n",
    "      if j[0] == i:\n",
    "        dists.append(j[2]) # Adicionando a distância\n",
    "        fer.append(j[3]) # Adicionando o valor do feromônio\n",
    "\n",
    "  atratividades = []\n",
    "  cont = 0\n",
    "  while cont < len(adja):\n",
    "    atract = fer[cont]*(1/dists[cont]) # Cálculo de feromônio * qualidade do caminho\n",
    "    atratividades.append(atract)\n",
    "    cont += 1\n",
    "\n",
    "  soma = sum(atratividades)\n",
    "  probs = []\n",
    "  for i in atratividades:\n",
    "    prob = (i/soma)\n",
    "    probs.append(prob)\n",
    "  return probs\n"
   ]
  },
  {
   "cell_type": "code",
   "execution_count": 357,
   "metadata": {},
   "outputs": [
    {
     "data": {
      "text/plain": [
       "[0.47058823529411764, 0.5294117647058824]"
      ]
     },
     "execution_count": 357,
     "metadata": {},
     "output_type": "execute_result"
    }
   ],
   "source": [
    "probabs(['BC', 'BD'])"
   ]
  },
  {
   "cell_type": "code",
   "execution_count": 358,
   "metadata": {},
   "outputs": [
    {
     "data": {
      "text/plain": [
       "[0.5167785234899329, 0.2953020134228188, 0.18791946308724833]"
      ]
     },
     "execution_count": 358,
     "metadata": {},
     "output_type": "execute_result"
    }
   ],
   "source": [
    "probabs(['AB', 'AC', 'AD']) # Arestas do início"
   ]
  },
  {
   "cell_type": "markdown",
   "metadata": {},
   "source": [
    "Escolha da aresta adjacente"
   ]
  },
  {
   "cell_type": "markdown",
   "metadata": {},
   "source": [
    "![](selec.jpg)"
   ]
  },
  {
   "cell_type": "code",
   "execution_count": 359,
   "metadata": {},
   "outputs": [],
   "source": [
    "def escolhaAresta(adjs):\n",
    "  probab = probabs(adjs) # Recebendo as probabilidades de escolha de cada caminho\n",
    "  limiares = []\n",
    "  soma = 0\n",
    "  for i in probab:\n",
    "    soma += i\n",
    "    limiares.append(soma) # Criando os intervalos que a roleta irá cair\n",
    "  r = random.random() # A roleta em si\n",
    "  cont = 0\n",
    "  for i in limiares:\n",
    "    if r > i:\n",
    "      cont += 1 # Analisando em qual intervalo a roleta parou\n",
    "  return adjs[cont]"
   ]
  },
  {
   "cell_type": "code",
   "execution_count": 360,
   "metadata": {},
   "outputs": [
    {
     "data": {
      "text/plain": [
       "[0.5167785234899329, 0.2953020134228188, 0.18791946308724833]"
      ]
     },
     "execution_count": 360,
     "metadata": {},
     "output_type": "execute_result"
    }
   ],
   "source": [
    "probabs(['AB', 'AC', 'AD'])"
   ]
  },
  {
   "cell_type": "code",
   "execution_count": 361,
   "metadata": {},
   "outputs": [
    {
     "data": {
      "text/plain": [
       "'AB'"
      ]
     },
     "execution_count": 361,
     "metadata": {},
     "output_type": "execute_result"
    }
   ],
   "source": [
    "escolhaAresta(['AB', 'AC', 'AD'])"
   ]
  },
  {
   "cell_type": "markdown",
   "metadata": {},
   "source": [
    "Função formiga/caminho/solução"
   ]
  },
  {
   "cell_type": "markdown",
   "metadata": {},
   "source": [
    "![](arestas.jpg)"
   ]
  },
  {
   "cell_type": "code",
   "execution_count": 362,
   "metadata": {},
   "outputs": [],
   "source": [
    "def formiga(): # Gera um caminho possível.\n",
    "  caminho = []\n",
    "  iniciais = [ab,ac,ad]\n",
    "  # arests = [ab,ac,ad,bc,cb,bd,cd]\n",
    "\n",
    "  # Escolhendo a aresta inicial.\n",
    "  inicial = escolhaAresta(['AB','AC','AD']) # No ponto inicial, AB, AC e AD são as adjacentes.\n",
    "  caminho.append(inicial)\n",
    "\n",
    "  if 'D' in caminho[-1]: # Aresta 'AD' vai do início ao fim sem precisar de adjacentes.\n",
    "    return caminho\n",
    "  else:\n",
    "    while True: # Esse while é importante para projetos maiores. \n",
    "                # A forma que arests está organizada já garante que a formiga será gerada corretamente com as atualizações de caminho.\n",
    "                # Se ac for escolhida no início, e depois cd for escolhida, essas duas operações irão acontecer dentro do for.\n",
    "                # Se a ordem das arestas em arests fosse diferente, o while seria fundamental.\n",
    "      for i in arests:\n",
    "        if caminho[-1] == i[0]:\n",
    "          adj = i[1] # Carregando adjacentes da aresta escolhida.\n",
    "          if len(adj)==0: # Encerra o for se tiver chegado no fim do caminho com alguma combinação de arestas.\n",
    "            break\n",
    "          else:\n",
    "            adj_random = escolhaAresta(adj) # Escolhendo a próxima aresta a ser percorrida\n",
    "            caminho.append(adj_random) # Add a aresta escolhida no caminho\n",
    "      return caminho\n",
    "      break # Encerrando o while"
   ]
  },
  {
   "cell_type": "code",
   "execution_count": 363,
   "metadata": {},
   "outputs": [
    {
     "data": {
      "text/plain": [
       "['AC', 'BD']"
      ]
     },
     "execution_count": 363,
     "metadata": {},
     "output_type": "execute_result"
    }
   ],
   "source": [
    "formiga()"
   ]
  },
  {
   "cell_type": "markdown",
   "metadata": {},
   "source": [
    "Comprimento de cada caminho/solução"
   ]
  },
  {
   "cell_type": "code",
   "execution_count": 364,
   "metadata": {},
   "outputs": [],
   "source": [
    "def comprimento(form):\n",
    "  soma = 0\n",
    "  for i in form:\n",
    "    for j in arests:\n",
    "      if i == j[0]:\n",
    "        soma += j[2]\n",
    "  return soma\n"
   ]
  },
  {
   "cell_type": "code",
   "execution_count": 365,
   "metadata": {},
   "outputs": [
    {
     "data": {
      "text/plain": [
       "24"
      ]
     },
     "execution_count": 365,
     "metadata": {},
     "output_type": "execute_result"
    }
   ],
   "source": [
    "comprimento(['AC','CD'])"
   ]
  },
  {
   "cell_type": "markdown",
   "metadata": {},
   "source": [
    "Atualização dos níveis de feromônio: evaporação e adição"
   ]
  },
  {
   "cell_type": "markdown",
   "metadata": {},
   "source": [
    "![](calc.jpg)"
   ]
  },
  {
   "cell_type": "code",
   "execution_count": 366,
   "metadata": {},
   "outputs": [],
   "source": [
    "# Evaporação do feromônio\n",
    "def evaporacao(evap):\n",
    "  for i in arests:\n",
    "    i[3] = i[3]*(1-evap)\n",
    "\n",
    "# Adição do feromônio\n",
    "def atualiza_ferom(formigas): # Para várias formigas (combinações de arestas) criadas \n",
    "  for i in formigas: # Varrendo cada formiga criada para o problema\n",
    "    ferom = 1/(comprimento(i))\n",
    "    for j in i: # Varrendo cada aresta de cada formiga\n",
    "      for k in arests: # Varrendo todas as arestas que existem em arests\n",
    "        if k[0] == j: # Comparando arestas em arests com cada aresta de cada formiga\n",
    "          k[3] = k[3] + ferom # Atualizando o feromônio de uma aresta em arests se essa aresta for percorrida por alguma formiga do problema"
   ]
  },
  {
   "cell_type": "code",
   "execution_count": 367,
   "metadata": {},
   "outputs": [
    {
     "name": "stdout",
     "output_type": "stream",
     "text": [
      "['AB', ['BC', 'BD'], 8, 1]\n",
      "['AC', ['BC', 'BD'], 14, 1]\n",
      "['AD', [], 22, 1]\n",
      "['BC', ['CD'], 9, 1]\n",
      "['CB', ['BD'], 9, 1]\n",
      "['BD', [], 8, 1]\n",
      "['CD', [], 10, 1]\n"
     ]
    }
   ],
   "source": [
    "for i in arests:\n",
    "    print(i)"
   ]
  },
  {
   "cell_type": "code",
   "execution_count": 368,
   "metadata": {},
   "outputs": [],
   "source": [
    "evaporacao(0.3)"
   ]
  },
  {
   "cell_type": "code",
   "execution_count": 369,
   "metadata": {},
   "outputs": [
    {
     "name": "stdout",
     "output_type": "stream",
     "text": [
      "['AB', ['BC', 'BD'], 8, 0.7]\n",
      "['AC', ['BC', 'BD'], 14, 0.7]\n",
      "['AD', [], 22, 0.7]\n",
      "['BC', ['CD'], 9, 0.7]\n",
      "['CB', ['BD'], 9, 0.7]\n",
      "['BD', [], 8, 0.7]\n",
      "['CD', [], 10, 0.7]\n"
     ]
    }
   ],
   "source": [
    "for i in arests:\n",
    "    print(i)"
   ]
  },
  {
   "cell_type": "code",
   "execution_count": 370,
   "metadata": {},
   "outputs": [
    {
     "name": "stdout",
     "output_type": "stream",
     "text": [
      "['AB', ['BC', 'BD'], 8, 0.7625]\n",
      "['AC', ['BC', 'BD'], 14, 0.7]\n",
      "['AD', [], 22, 0.7454545454545454]\n",
      "['BC', ['CD'], 9, 0.7]\n",
      "['CB', ['BD'], 9, 0.7]\n",
      "['BD', [], 8, 0.7625]\n",
      "['CD', [], 10, 0.7]\n"
     ]
    }
   ],
   "source": [
    "formigas = [['AB','BD'],['AD']]\n",
    "atualiza_ferom(formigas)\n",
    "\n",
    "for i in arests:\n",
    "  print(i)"
   ]
  },
  {
   "cell_type": "markdown",
   "metadata": {},
   "source": [
    "### EXECUÇÃO DO ALGORITMO"
   ]
  },
  {
   "cell_type": "code",
   "execution_count": 371,
   "metadata": {},
   "outputs": [],
   "source": [
    "ab = ['AB',['BC','BD'],8,1]\n",
    "ac = ['AC',['BC','BD'],14,1]\n",
    "ad = ['AD',[],22,1]\n",
    "bc = ['BC',['CD'],9,1]\n",
    "cb = ['CB',['BD'],9,1]\n",
    "bd = ['BD',[],8,1]\n",
    "cd = ['CD',[],10,1]\n",
    "\n",
    "arests = [ab,ac,ad,bc,cb,bd,cd]"
   ]
  },
  {
   "cell_type": "code",
   "execution_count": 372,
   "metadata": {},
   "outputs": [
    {
     "name": "stdout",
     "output_type": "stream",
     "text": [
      "AB 1.0404944004153815\n",
      "AC 0.0006650309395689149\n",
      "AD 0.00011105160648376636\n",
      "BC 0.00026428013604783997\n",
      "CB 2.2539340290692216e-05\n",
      "BD 1.0408951512189026\n",
      "CD 0.00026428013604783997\n",
      "['AB', 'BD']\n",
      "['AB', 'BD']\n",
      "['AB', 'BD']\n",
      "['AB', 'BD']\n",
      "['AB', 'BD']\n"
     ]
    }
   ],
   "source": [
    "# Quando mais bem avaliada for uma aresta, mais ela será selecionada em escolhaAresta().\n",
    "# Assim, haverá mais feromônio nas melhores arestas por causa de atualiza_ferom(), o que aumenta a probabilidade\n",
    "# da aresta, então será selecionada mais em escolhaAresta() nos próximos ciclos.\n",
    "# Esse procedimento vai continuar no loop até que quando chamar formiga(), as formigas serão a maior parte das arestas com mais feromônios.\n",
    "\n",
    "for i in range(30):\n",
    "  evaporacao(0.3) # Atualiza o feromônio. Já houve atualização acima\n",
    "  formigas = [] # Matando formigas do ciclo 1(2) até o 9(10).\n",
    "  for j in range(5): # Cria 5 formigas/caminhos 10 vezes. Em cada ciclo, avalia como cada aresta foi avaliada e selecionada. \n",
    "                     # Isso vai valorizar as melhores arestas.\n",
    "    formigas.append(formiga()) # Criando as formigas/soluções/caminhos\n",
    "  atualiza_ferom(formigas) # Atualiza o feromônio com as formigas que passam em cada aresta\n",
    "\n",
    "for i in arests: # Exibe como as arestas foram modificadas\n",
    "  print(i[0],i[3])\n",
    "\n",
    "for k in formigas: # Exibindo as formigas/caminhos criadas \n",
    "  print(k)"
   ]
  }
 ],
 "metadata": {
  "kernelspec": {
   "display_name": "Python 3",
   "language": "python",
   "name": "python3"
  },
  "language_info": {
   "codemirror_mode": {
    "name": "ipython",
    "version": 3
   },
   "file_extension": ".py",
   "mimetype": "text/x-python",
   "name": "python",
   "nbconvert_exporter": "python",
   "pygments_lexer": "ipython3",
   "version": "3.12.1"
  }
 },
 "nbformat": 4,
 "nbformat_minor": 2
}
